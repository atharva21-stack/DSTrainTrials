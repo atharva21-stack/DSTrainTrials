{
 "cells": [
  {
   "cell_type": "markdown",
   "id": "5d7ae5ca",
   "metadata": {},
   "source": [
    "### RF - Cost/Impurity = log loss (cross entropy) + wCE + cost = class weights = IR, 1.5\n",
    "<br>\n",
    "<b><font color = 'blue' > Exp: A3 ---- Easy to Hard - Full, High, Low, Only One agreements - Top G% </font></b>\n",
    "<br> cost = IR = min count /maj count -- provided as class weights\n",
    "\n",
    "### NOTE: Selected Features only"
   ]
  },
  {
   "cell_type": "markdown",
   "id": "559e0a1d",
   "metadata": {},
   "source": [
    "<b>Note: </b> <br> \n",
    "Tabular data stored        - data <br>\n",
    "Image data, not normalized - all_images <br>\n",
    "All nodule IDs             - all_noduleId <br>\n",
    "Image data normalized      - all_normalized_image <br>"
   ]
  },
  {
   "cell_type": "code",
   "execution_count": 541,
   "id": "c36216dd",
   "metadata": {},
   "outputs": [],
   "source": [
    "# Import Libaries\n",
    "import numpy as np\n",
    "import pandas as pd\n",
    "import os\n",
    "import statistics\n",
    "from matplotlib import pyplot as plt\n",
    "import os\n",
    "from os import path\n",
    "from matplotlib.ticker import MultipleLocator\n",
    "import seaborn as sns\n",
    "from scipy.stats import f_oneway\n",
    "from scipy.stats import ttest_ind\n",
    "import scipy.stats as stats\n",
    "import matplotlib.ticker as ticker\n",
    "from scipy.stats import levene\n",
    "import math \n",
    "import scipy.stats as st\n",
    "import psutil\n",
    "import time\n",
    "import subprocess\n",
    "\n",
    "import warnings\n",
    "\n",
    "warnings.filterwarnings('ignore')\n"
   ]
  },
  {
   "cell_type": "code",
   "execution_count": 542,
   "id": "9ff3f5f8",
   "metadata": {},
   "outputs": [
    {
     "data": {
      "text/html": [
       "<div>\n",
       "<style scoped>\n",
       "    .dataframe tbody tr th:only-of-type {\n",
       "        vertical-align: middle;\n",
       "    }\n",
       "\n",
       "    .dataframe tbody tr th {\n",
       "        vertical-align: top;\n",
       "    }\n",
       "\n",
       "    .dataframe thead th {\n",
       "        text-align: right;\n",
       "    }\n",
       "</style>\n",
       "<table border=\"1\" class=\"dataframe\">\n",
       "  <thead>\n",
       "    <tr style=\"text-align: right;\">\n",
       "      <th></th>\n",
       "      <th>Subtlety</th>\n",
       "      <th>InternalStructure</th>\n",
       "      <th>Calcification</th>\n",
       "      <th>Sphericity</th>\n",
       "      <th>Margin</th>\n",
       "      <th>Lobulation</th>\n",
       "      <th>Spiculation</th>\n",
       "      <th>Texture</th>\n",
       "      <th>Malignancy</th>\n",
       "      <th>noduleID</th>\n",
       "      <th>...</th>\n",
       "      <th>My_MaxIntensity_bNormalize</th>\n",
       "      <th>My_MinIntensity_aGlobalNormalize</th>\n",
       "      <th>My_MaxIntensity_aGlobalNormalize</th>\n",
       "      <th>My_MinIntensity_aLocalNormalize</th>\n",
       "      <th>My_MaxIntensity_aLocalNormalize</th>\n",
       "      <th>d_MalignancyDesc</th>\n",
       "      <th>d_Malignancy</th>\n",
       "      <th>noduleID_</th>\n",
       "      <th>Agreement_Score</th>\n",
       "      <th>Agreement_Desc</th>\n",
       "    </tr>\n",
       "    <tr>\n",
       "      <th>MY_ID</th>\n",
       "      <th></th>\n",
       "      <th></th>\n",
       "      <th></th>\n",
       "      <th></th>\n",
       "      <th></th>\n",
       "      <th></th>\n",
       "      <th></th>\n",
       "      <th></th>\n",
       "      <th></th>\n",
       "      <th></th>\n",
       "      <th></th>\n",
       "      <th></th>\n",
       "      <th></th>\n",
       "      <th></th>\n",
       "      <th></th>\n",
       "      <th></th>\n",
       "      <th></th>\n",
       "      <th></th>\n",
       "      <th></th>\n",
       "      <th></th>\n",
       "      <th></th>\n",
       "    </tr>\n",
       "  </thead>\n",
       "  <tbody>\n",
       "    <tr>\n",
       "      <th>1</th>\n",
       "      <td>5</td>\n",
       "      <td>1.0</td>\n",
       "      <td>6.0</td>\n",
       "      <td>3</td>\n",
       "      <td>4</td>\n",
       "      <td>3</td>\n",
       "      <td>5</td>\n",
       "      <td>5</td>\n",
       "      <td>5</td>\n",
       "      <td>1</td>\n",
       "      <td>...</td>\n",
       "      <td>1707.0</td>\n",
       "      <td>86.0</td>\n",
       "      <td>155.0</td>\n",
       "      <td>0.0</td>\n",
       "      <td>255.0</td>\n",
       "      <td>Malignant</td>\n",
       "      <td>1.0</td>\n",
       "      <td>1.0</td>\n",
       "      <td>3 out of 4</td>\n",
       "      <td>High</td>\n",
       "    </tr>\n",
       "    <tr>\n",
       "      <th>2</th>\n",
       "      <td>2</td>\n",
       "      <td>1.0</td>\n",
       "      <td>6.0</td>\n",
       "      <td>4</td>\n",
       "      <td>2</td>\n",
       "      <td>1</td>\n",
       "      <td>1</td>\n",
       "      <td>2</td>\n",
       "      <td>5</td>\n",
       "      <td>2</td>\n",
       "      <td>...</td>\n",
       "      <td>2211.0</td>\n",
       "      <td>86.0</td>\n",
       "      <td>176.0</td>\n",
       "      <td>0.0</td>\n",
       "      <td>255.0</td>\n",
       "      <td>Malignant</td>\n",
       "      <td>1.0</td>\n",
       "      <td>2.0</td>\n",
       "      <td>1 out of 1</td>\n",
       "      <td>Only One</td>\n",
       "    </tr>\n",
       "    <tr>\n",
       "      <th>3</th>\n",
       "      <td>5</td>\n",
       "      <td>1.0</td>\n",
       "      <td>6.0</td>\n",
       "      <td>4</td>\n",
       "      <td>3</td>\n",
       "      <td>2</td>\n",
       "      <td>2</td>\n",
       "      <td>4</td>\n",
       "      <td>5</td>\n",
       "      <td>3</td>\n",
       "      <td>...</td>\n",
       "      <td>1852.0</td>\n",
       "      <td>88.0</td>\n",
       "      <td>161.0</td>\n",
       "      <td>0.0</td>\n",
       "      <td>254.0</td>\n",
       "      <td>Malignant</td>\n",
       "      <td>1.0</td>\n",
       "      <td>3.0</td>\n",
       "      <td>2 out of 4</td>\n",
       "      <td>Low</td>\n",
       "    </tr>\n",
       "    <tr>\n",
       "      <th>4</th>\n",
       "      <td>4</td>\n",
       "      <td>1.0</td>\n",
       "      <td>6.0</td>\n",
       "      <td>4</td>\n",
       "      <td>4</td>\n",
       "      <td>1</td>\n",
       "      <td>2</td>\n",
       "      <td>5</td>\n",
       "      <td>4</td>\n",
       "      <td>4</td>\n",
       "      <td>...</td>\n",
       "      <td>1703.0</td>\n",
       "      <td>86.0</td>\n",
       "      <td>155.0</td>\n",
       "      <td>0.0</td>\n",
       "      <td>254.0</td>\n",
       "      <td>Malignant</td>\n",
       "      <td>1.0</td>\n",
       "      <td>4.0</td>\n",
       "      <td>2 out of 4</td>\n",
       "      <td>Low</td>\n",
       "    </tr>\n",
       "    <tr>\n",
       "      <th>5</th>\n",
       "      <td>4</td>\n",
       "      <td>1.0</td>\n",
       "      <td>6.0</td>\n",
       "      <td>5</td>\n",
       "      <td>5</td>\n",
       "      <td>1</td>\n",
       "      <td>1</td>\n",
       "      <td>5</td>\n",
       "      <td>4</td>\n",
       "      <td>5</td>\n",
       "      <td>...</td>\n",
       "      <td>1577.0</td>\n",
       "      <td>87.0</td>\n",
       "      <td>150.0</td>\n",
       "      <td>0.0</td>\n",
       "      <td>254.0</td>\n",
       "      <td>Malignant</td>\n",
       "      <td>1.0</td>\n",
       "      <td>5.0</td>\n",
       "      <td>0 out of 4</td>\n",
       "      <td>No Rating</td>\n",
       "    </tr>\n",
       "  </tbody>\n",
       "</table>\n",
       "<p>5 rows × 136 columns</p>\n",
       "</div>"
      ],
      "text/plain": [
       "       Subtlety  InternalStructure  Calcification  Sphericity  Margin  \\\n",
       "MY_ID                                                                   \n",
       "1             5                1.0            6.0           3       4   \n",
       "2             2                1.0            6.0           4       2   \n",
       "3             5                1.0            6.0           4       3   \n",
       "4             4                1.0            6.0           4       4   \n",
       "5             4                1.0            6.0           5       5   \n",
       "\n",
       "       Lobulation  Spiculation  Texture  Malignancy  noduleID  ...  \\\n",
       "MY_ID                                                          ...   \n",
       "1               3            5        5           5         1  ...   \n",
       "2               1            1        2           5         2  ...   \n",
       "3               2            2        4           5         3  ...   \n",
       "4               1            2        5           4         4  ...   \n",
       "5               1            1        5           4         5  ...   \n",
       "\n",
       "       My_MaxIntensity_bNormalize My_MinIntensity_aGlobalNormalize  \\\n",
       "MY_ID                                                                \n",
       "1                          1707.0                             86.0   \n",
       "2                          2211.0                             86.0   \n",
       "3                          1852.0                             88.0   \n",
       "4                          1703.0                             86.0   \n",
       "5                          1577.0                             87.0   \n",
       "\n",
       "      My_MaxIntensity_aGlobalNormalize  My_MinIntensity_aLocalNormalize  \\\n",
       "MY_ID                                                                     \n",
       "1                                155.0                              0.0   \n",
       "2                                176.0                              0.0   \n",
       "3                                161.0                              0.0   \n",
       "4                                155.0                              0.0   \n",
       "5                                150.0                              0.0   \n",
       "\n",
       "      My_MaxIntensity_aLocalNormalize d_MalignancyDesc d_Malignancy noduleID_  \\\n",
       "MY_ID                                                                           \n",
       "1                               255.0        Malignant          1.0       1.0   \n",
       "2                               255.0        Malignant          1.0       2.0   \n",
       "3                               254.0        Malignant          1.0       3.0   \n",
       "4                               254.0        Malignant          1.0       4.0   \n",
       "5                               254.0        Malignant          1.0       5.0   \n",
       "\n",
       "       Agreement_Score Agreement_Desc  \n",
       "MY_ID                                  \n",
       "1           3 out of 4           High  \n",
       "2           1 out of 1       Only One  \n",
       "3           2 out of 4            Low  \n",
       "4           2 out of 4            Low  \n",
       "5           0 out of 4      No Rating  \n",
       "\n",
       "[5 rows x 136 columns]"
      ]
     },
     "execution_count": 542,
     "metadata": {},
     "output_type": "execute_result"
    }
   ],
   "source": [
    "# Read CSV data\n",
    "data = pd.read_csv(\"MaxSlices_newMode_Manuf_Int.csv\", index_col = 0)\n",
    "\n",
    "# Print data\n",
    "data.head(5)"
   ]
  },
  {
   "cell_type": "code",
   "execution_count": 543,
   "id": "9cd27515-2318-45ae-be46-11a5d2280c13",
   "metadata": {},
   "outputs": [],
   "source": [
    "# Function to simulate CPU-intensive task\n",
    "def simulate_cpu_task():\n",
    "    for _ in range(1000000):\n",
    "        _ = np.random.normal()\n",
    "\n",
    "# Function to simulate GPU-intensive task\n",
    "def simulate_gpu_task():\n",
    "    _ = np.random.rand(10000, 10000) @ np.random.rand(10000, 10000)\n"
   ]
  },
  {
   "cell_type": "code",
   "execution_count": 544,
   "id": "949e2a4f-8737-4666-852c-6571214b6125",
   "metadata": {},
   "outputs": [],
   "source": [
    "# Function to measure memory usage\n",
    "total_training_time = 0\n",
    "def measure_memory_usage():\n",
    "    process = psutil.Process(os.getpid())\n",
    "    memory_usage = process.memory_info().rss\n",
    "    return memory_usage\n",
    "\n",
    "# Function to measure execution time\n",
    "def measure_execution_time(func):\n",
    "    start_time = time.time()\n",
    "    func()\n",
    "    end_time = time.time()\n",
    "    execution_time = end_time - start_time\n",
    "    return execution_time"
   ]
  },
  {
   "cell_type": "code",
   "execution_count": 545,
   "id": "4b30bbba-c562-4c5a-93b8-5abf65e8ca59",
   "metadata": {},
   "outputs": [],
   "source": [
    "import numpy as np\n",
    "from sklearn.ensemble import RandomForestClassifier\n",
    "from sklearn.datasets import make_classification\n",
    "import time\n",
    "import psutil  # For CPU usage monitoring\n",
    "import subprocess  # For running shell commands\n",
    "\n",
    "\n",
    "def measure_performance(model_fit_function, *args, **kwargs):\n",
    "    # Measure CPU and memory usage before training\n",
    "    start_cpu_usage = psutil.cpu_percent()\n",
    "    start_memory_usage = psutil.virtual_memory().used\n",
    "    \n",
    "    # Measure GPU usage before training\n",
    "    start_gpu_usage = measure_gpu_usage()\n",
    "    \n",
    "    # Measure time before training\n",
    "    start_time = time.time()\n",
    "    \n",
    "    # Train the model\n",
    "    trained_model = model_fit_function(*args, **kwargs)\n",
    "    \n",
    "    # Measure time after training\n",
    "    end_time = time.time()\n",
    "    training_time = end_time - start_time\n",
    "    \n",
    "    # Measure CPU and memory usage after training\n",
    "    end_cpu_usage = psutil.cpu_percent()\n",
    "    end_memory_usage = psutil.virtual_memory().used\n",
    "    \n",
    "    # Measure GPU usage after training\n",
    "    end_gpu_usage = measure_gpu_usage()\n",
    "    \n",
    "    # Calculate performance metrics\n",
    "    cpu_usage = end_cpu_usage - start_cpu_usage\n",
    "    memory_usage = end_memory_usage - start_memory_usage\n",
    "    gpu_usage = end_gpu_usage - start_gpu_usage\n",
    "    \n",
    "    # Return trained model and performance metrics\n",
    "    return trained_model, training_time, cpu_usage, memory_usage, gpu_usage\n",
    "\n",
    "def measure_gpu_usage():\n",
    "    # Run nvidia-smi command to get GPU usage\n",
    "    result = subprocess.run(['nvidia-smi', '--query-gpu=utilization.gpu', '--format=csv,nounits,noheader'], stdout=subprocess.PIPE)\n",
    "    gpu_usage_str = result.stdout.decode('utf-8').strip()\n",
    "    gpu_usage = int(gpu_usage_str)\n",
    "    return gpu_usage\n"
   ]
  },
  {
   "cell_type": "code",
   "execution_count": 546,
   "id": "b1522ae8",
   "metadata": {},
   "outputs": [
    {
     "name": "stdout",
     "output_type": "stream",
     "text": [
      "Before\n",
      "2687\n",
      "(2687, 136)\n",
      "\n",
      "After\n",
      "1488\n",
      "(1488, 136)\n",
      "\n",
      "Counts\n",
      "335\n",
      "562\n",
      "356\n",
      "235\n",
      "----------\n",
      "897\n",
      "591\n"
     ]
    }
   ],
   "source": [
    "# remove observations for which text version of the images do not exist\n",
    "# nodules : 309, 1212, 1281, 1459, 1712, 2507, 2596\n",
    "\n",
    "print(\"Before\")\n",
    "print(len(data))\n",
    "print(data.shape)\n",
    "\n",
    "# before removal\n",
    "dfx = data.loc[(data[\"noduleID\"] != 309) & (data[\"noduleID\"] != 1212) & (data[\"noduleID\"] != 1281) & (data[\"noduleID\"] != 1459) & (data[\"noduleID\"] != 1712) & (data[\"noduleID\"] != 2507) & (data[\"noduleID\"] != 2596)]\n",
    "data = dfx\n",
    "\n",
    "# remove extreme outliers\n",
    "data_io = data.loc[(data[\"noduleID\"] != 67) & (data[\"noduleID\"] != 426)]\n",
    "\n",
    "# remove Indeterminant\n",
    "dmx = data.loc[(data[\"d_MalignancyDesc\"] != 'Indeterminant')]\n",
    "data = dmx\n",
    "\n",
    "print(\"\\nAfter\")\n",
    "print(len(data))\n",
    "print(data.shape)\n",
    "\n",
    "\n",
    "# Counts\n",
    "print(\"\\nCounts\")\n",
    "print(data['Malignancy'].value_counts()[1])\n",
    "print(data['Malignancy'].value_counts()[2])\n",
    "print(data['Malignancy'].value_counts()[4])\n",
    "print(data['Malignancy'].value_counts()[5])\n",
    "\n",
    "print(\"----------\")\n",
    "print(data['d_MalignancyDesc'].value_counts()['Benign'])\n",
    "print(data['d_MalignancyDesc'].value_counts()['Malignant'])\n",
    "#print(data['d_MalignancyDesc'].value_counts()['Indeterminant'])"
   ]
  },
  {
   "cell_type": "markdown",
   "id": "15836663",
   "metadata": {},
   "source": [
    "### Recoding and Create Dummy Variables"
   ]
  },
  {
   "cell_type": "code",
   "execution_count": 547,
   "id": "67e1d4ce",
   "metadata": {},
   "outputs": [
    {
     "name": "stdout",
     "output_type": "stream",
     "text": [
      "(934, 136)\n",
      "(321, 136)\n",
      "(100, 136)\n",
      "(133, 136)\n"
     ]
    }
   ],
   "source": [
    "# Recoding\n",
    "# Manufacture types = GE MEDICAL SYSTEMS (1623), SIEMENS (586), TOSHIBA (191), Philips (287) - before removing\n",
    "# Manufacture types = GE MEDICAL SYSTEMS (1623), SIEMENS (580), TOSHIBA (191), Philips (286) - after removing\n",
    "Manuf_GE = data[data['Manufacturer']== \"GE Medical Systems\"]\n",
    "Manuf_S = data[data['Manufacturer']== \"Siemens\"]\n",
    "Manuf_T = data[data['Manufacturer']== \"Toshiba\"]\n",
    "Manuf_P = data[data['Manufacturer']== \"Philips\"]\n",
    "\n",
    "# Print data counts\n",
    "print(Manuf_GE.shape)\n",
    "print(Manuf_S.shape)\n",
    "print(Manuf_T.shape)\n",
    "print(Manuf_P.shape)\n",
    "\n",
    "\n",
    "# ALL Agreements - 'Full', 'High', 'Low', 'Only One'\n",
    "data_io = data_io.loc[(data_io[\"Agreement_Desc\"] == 'Full') | (data_io[\"Agreement_Desc\"] ==  'High') | (data_io[\"Agreement_Desc\"] == 'Low') | (data_io[\"Agreement_Desc\"] ==  'Only One')]\n",
    "data_io.shape\n",
    "\n",
    "# Dummy Variables\n",
    "# Calcification (has balnk obs) = 1Popcorn, 2Laminated, 3Solid, 4Non-central, 5Central, 6Absent (set as base) | null gets zero\n",
    "# new mode field for calcification did not include 1,2\n",
    "data[\"dCal1\"] = 0\n",
    "data[\"dCal2\"] = 0\n",
    "data[\"dCal3\"] = 0\n",
    "data[\"dCal4\"] = 0\n",
    "data[\"dCal5\"] = 0\n",
    "data.loc[data[\"Calcification\"] == 1, \"dCal1\"] = 1\n",
    "data.loc[data[\"Calcification\"] == 2, \"dCal2\"] = 1\n",
    "data.loc[data[\"Calcification\"] == 3, \"dCal3\"] = 1\n",
    "data.loc[data[\"Calcification\"] == 4, \"dCal4\"] = 1\n",
    "data.loc[data[\"Calcification\"] == 5, \"dCal5\"] = 1\n",
    "\n",
    "# Internal (has balnk obs) = 1Soft tissue, 2Fluid, 3Fat, 4Air (set as base) | null also gets zero\n",
    "data[\"dIstru1\"] = 0\n",
    "data[\"dIstru2\"] = 0\n",
    "data[\"dIstru3\"] = 0\n",
    "data.loc[data[\"InternalStructure\"] == 1, \"dIstru1\"] = 1\n",
    "data.loc[data[\"InternalStructure\"] == 2, \"dIstru2\"] = 1\n",
    "data.loc[data[\"InternalStructure\"] == 3, \"dIstru3\"] = 1\n",
    "\n",
    "# Lobulation = 1None (set as base), 2,3,4, 5Marked --> 1None (set as base), 2-5 (lobulation)\n",
    "# Using Amal's convension --> from Spiculation field for lobulation --> 1-noLob, 2-5 lobulated \n",
    "data[\"dLob2_5\"] = 0\n",
    "data.loc[data[\"Lobulation\"] == 2, \"dLob2_5\"] = 1\n",
    "data.loc[data[\"Lobulation\"] == 3, \"dLob2_5\"] = 1\n",
    "data.loc[data[\"Lobulation\"] == 4, \"dLob2_5\"] = 1\n",
    "data.loc[data[\"Lobulation\"] == 5, \"dLob2_5\"] = 1\n",
    "\n",
    "# Spiculation = 1None (set as base), 2,3,4, 5Marked --> 1None (set as base), 2-5 (spiculated)\n",
    "# Using Amal's convension --> for Spiculation field --> 1-noSpic, 2-5 spiculated\n",
    "data[\"dSpic2_5\"] = 0\n",
    "data.loc[data[\"Spiculation\"] == 2, \"dSpic2_5\"] = 1\n",
    "data.loc[data[\"Spiculation\"] == 3, \"dSpic2_5\"] = 1\n",
    "data.loc[data[\"Spiculation\"] == 4, \"dSpic2_5\"] = 1\n",
    "data.loc[data[\"Spiculation\"] == 5, \"dSpic2_5\"] = 1\n",
    "\n",
    "# Margin = 1Poorly defined (set as base), 2,3,4, 5Sharp --> 1Poorly defined (set as base), 2-5 (sparp)\n",
    "data[\"dMargin2_5\"] = 0\n",
    "data.loc[data[\"Margin\"] == 2, \"dMargin2_5\"] = 1\n",
    "data.loc[data[\"Margin\"] == 3, \"dMargin2_5\"] = 1\n",
    "data.loc[data[\"Margin\"] == 4, \"dMargin2_5\"] = 1\n",
    "data.loc[data[\"Margin\"] == 5, \"dMargin2_5\"] = 1\n",
    "\n",
    "#Sphericity = 1Linear, 3Ovoid,5Round --> 1Linear, 2-4Oviod, 5round (set as base)\n",
    "data[\"dSpher1\"] = 0\n",
    "data[\"dSpher2_4\"] = 0\n",
    "data.loc[data[\"Sphericity\"] == 1, \"dSpher1\"] = 1\n",
    "data.loc[data[\"Sphericity\"] == 2, \"dSpher2_4\"] = 1\n",
    "data.loc[data[\"Sphericity\"] == 3, \"dSpher2_4\"] = 1\n",
    "data.loc[data[\"Sphericity\"] == 4, \"dSpher2_4\"] = 1\n",
    "\n",
    "# Subtlety = 1Extremely subtle, 2Moderately subtle, 3Fairly subtle, 4Moderately Obvious, 5Obvious (set as base) \n",
    "#                --> 1-3Subtle, 4-5Obvious(base)\n",
    "data[\"dSubtl1_3\"] = 0\n",
    "data.loc[data[\"Subtlety\"] == 1, \"dSubtl1_3\"] = 1\n",
    "data.loc[data[\"Subtlety\"] == 2, \"dSubtl1_3\"] = 1\n",
    "data.loc[data[\"Subtlety\"] == 3, \"dSubtl1_3\"] = 1\n",
    "\n",
    "# Texture= 1Non-solid, 3Part solid (mixed), 5Solid --> 1-4Notsolid(set as base), 5Solid\n",
    "data[\"dTexture5\"] = 0\n",
    "data.loc[data[\"Texture\"] == 5, \"dTexture5\"] = 1\n",
    "\n",
    "# Manufacturer Name:  GE Medical Systems, Siemens, Toshiba, Philips --> GE, Siemens, Philips, Toshiba (coded as 0)\n",
    "data[\"dManuf_GE\"] = 0\n",
    "data[\"dManuf_S\"] = 0\n",
    "data[\"dManuf_P\"] = 0\n",
    "data.loc[data[\"Manufacturer\"] == \"GE Medical Systems\", \"dManuf_GE\"] = 1\n",
    "data.loc[data[\"Manufacturer\"] == \"Siemens\", \"dManuf_S\"] = 1\n",
    "data.loc[data[\"Manufacturer\"] == \"Philips\", \"dManuf_P\"] = 1\n",
    "\n",
    "data_io = data"
   ]
  },
  {
   "cell_type": "code",
   "execution_count": 548,
   "id": "b4f1abb4",
   "metadata": {},
   "outputs": [
    {
     "name": "stdout",
     "output_type": "stream",
     "text": [
      "1488\n",
      "1434\n"
     ]
    }
   ],
   "source": [
    "print(len(data_io))\n",
    "data_io = data_io[~ (data_io.isnull().any(axis=1))]\n",
    "print(len(data_io))"
   ]
  },
  {
   "cell_type": "code",
   "execution_count": 549,
   "id": "f7fe4348",
   "metadata": {},
   "outputs": [
    {
     "name": "stdout",
     "output_type": "stream",
     "text": [
      "Benign =  849\n",
      "Malignant =  585\n",
      "% Benign =  59.21\n",
      "% Malignant =  40.79\n"
     ]
    }
   ],
   "source": [
    "benign = data_io['d_Malignancy'].value_counts()[0]\n",
    "malignant = data_io['d_Malignancy'].value_counts()[1]\n",
    "total = benign + malignant\n",
    "\n",
    "pct_b = round((benign/total)*100,2)\n",
    "pct_m = round((malignant/total)*100,2)\n",
    "\n",
    "print(\"Benign = \", str(benign))\n",
    "print(\"Malignant = \", str(malignant))\n",
    "print(\"% Benign = \", str(pct_b))\n",
    "print(\"% Malignant = \", str(pct_m))"
   ]
  },
  {
   "cell_type": "markdown",
   "id": "fec26cc9",
   "metadata": {},
   "source": [
    "## Functions"
   ]
  },
  {
   "cell_type": "code",
   "execution_count": 550,
   "id": "b7983aed",
   "metadata": {},
   "outputs": [],
   "source": [
    "def compute_mu_std(var_passed):\n",
    "\n",
    "    mean_1 = np.round_(np.mean(var_passed), decimals = 4)\n",
    "    SD_1 = np.round_(np.std(var_passed), decimals = 4)\n",
    "    #mean_std = \"Mu = \" + str(mean_1) + \", Std = \" + str(SD_1)\n",
    "    return mean_1, SD_1"
   ]
  },
  {
   "cell_type": "code",
   "execution_count": 551,
   "id": "4c648945",
   "metadata": {},
   "outputs": [],
   "source": [
    "# Global Normalization -- Normalize all images using global values for max = 4095 and min = -2048\n",
    "def NormImg(orig_array, new_min = 0, new_max = 255, orig_max = 4095, orig_min = -2048, set_to_int = True):\n",
    "    new_var = orig_array.copy()\n",
    "    #print(new_var)\n",
    "    nu = new_var - orig_min\n",
    "    de = orig_max - orig_min\n",
    "    mul= new_max - new_min\n",
    "    new_var = (nu/de) * mul\n",
    "    \n",
    "    if set_to_int:\n",
    "        return new_var.astype('uint8')\n",
    "    return new_var"
   ]
  },
  {
   "cell_type": "code",
   "execution_count": 552,
   "id": "bd2b6570",
   "metadata": {},
   "outputs": [],
   "source": [
    "# Local Normalization -- Normalize all images using each image's max and min\n",
    "def getNormed(this_array, this_min = 0, this_max = 255, set_to_int = True):\n",
    "    new_var = this_array.copy()\n",
    "    rat = (this_max - this_min)/(new_var.max() - new_var.min())\n",
    "    new_var = new_var * rat\n",
    "    new_var -= new_var.min()\n",
    "    new_var += this_min\n",
    "    \n",
    "    if set_to_int:\n",
    "        return new_var.astype('uint8')\n",
    "    return new_var"
   ]
  },
  {
   "cell_type": "code",
   "execution_count": 553,
   "id": "85bfc98f",
   "metadata": {},
   "outputs": [],
   "source": [
    "def int_byManuf(manuf_array):\n",
    "\n",
    "    for i in range(0, len(manuf_array)):\n",
    "        nodule = manuf_array.iloc[i, 9]\n",
    "        noduleS = str(nodule)\n",
    "        indexPos = all_noduleId.index(noduleS)\n",
    "        intensity_manuf = all_images[indexPos]\n",
    "\n",
    "    return intensity_manuf"
   ]
  },
  {
   "cell_type": "code",
   "execution_count": 554,
   "id": "8007a4a6",
   "metadata": {},
   "outputs": [],
   "source": [
    "# T-TEST - decision\n",
    "\n",
    "def sigPval(p_value):\n",
    "\n",
    "    if (p_value > 0.05):\n",
    "        resultDesc = 'Same'\n",
    "    else:\n",
    "        resultDesc = 'Different'\n",
    "\n",
    "    return resultDesc"
   ]
  },
  {
   "cell_type": "code",
   "execution_count": 555,
   "id": "d5502a80",
   "metadata": {},
   "outputs": [],
   "source": [
    "# Fisher-TEST - decision\n",
    "\n",
    "# Null (H0): There is no association between gender and voting. They are independent.\n",
    "# Alternative (HA): A relationship between gender and voting exists in the population\n",
    "    \n",
    "def sigFisherPval(p_value):\n",
    "\n",
    "    if (p_value > 0.05):\n",
    "        resultDesc = 'No Association'\n",
    "    else:\n",
    "        resultDesc = 'Association'\n",
    "\n",
    "    return resultDesc"
   ]
  },
  {
   "cell_type": "code",
   "execution_count": 556,
   "id": "46bcba6d",
   "metadata": {},
   "outputs": [],
   "source": [
    "def tetrachoricCorr(data_new):\n",
    "\n",
    "    a = data_new[0][0]\n",
    "    b = data_new[1][0]\n",
    "    c = data_new[0][1]\n",
    "    d = data_new[1][1]\n",
    "\n",
    "    a1 = math.sqrt(a*d/b/c)\n",
    "    a2 = 1 + a1\n",
    "    a3 = math.pi / a2\n",
    "    tCorr = math.cos(a3)\n",
    "    return tCorr"
   ]
  },
  {
   "cell_type": "code",
   "execution_count": 557,
   "id": "e0340f80",
   "metadata": {},
   "outputs": [],
   "source": [
    "def computeCorr_binaryToBinary (x, y):\n",
    "    \n",
    "    data_new = pd.crosstab(x, y).round(0)\n",
    "\n",
    "    # Fisher Test\n",
    "    # stat1 is the odd's ratio\n",
    "    stat1, p_value1 = stats.fisher_exact(data_new)\n",
    "    sigDesc1 = sigFisherPval(p_value1)\n",
    "\n",
    "    #tetrachoric Correlation\n",
    "    tCorr = tetrachoricCorr(data_new)\n",
    "\n",
    "    return tCorr"
   ]
  },
  {
   "cell_type": "code",
   "execution_count": 558,
   "id": "0c5c5b0f",
   "metadata": {},
   "outputs": [],
   "source": [
    "# CROSS ENTROPY LOSS\n",
    "\n",
    "# https://towardsdatascience.com/intuition-behind-log-loss-score-4e0c9979680a\n",
    "def logLoss(act, predProb):\n",
    "\n",
    "    act_lnProb     = act * np.log(predProb)\n",
    "    act_lnDiffProb = (1-act) * (np.log(1 - (predProb)))\n",
    "    log_loss  = -(act_lnProb  + act_lnDiffProb)\n",
    "    return log_loss"
   ]
  },
  {
   "cell_type": "code",
   "execution_count": 559,
   "id": "d29a458f",
   "metadata": {},
   "outputs": [],
   "source": [
    "# WEIGHTED CROSS ENTROPY LOSS\n",
    "\n",
    "def wighted_logLoss(act, predProb, w0, w1):\n",
    "\n",
    "    wtact_lnProb     = w0 * (act * np.log(predProb))                  # first part\n",
    "    wtact_lnDiffProb = w1 * ((1-act) * (np.log(1 - (predProb))))      # second part\n",
    "    wtlog_loss       = -(wtact_lnProb  + wtact_lnDiffProb)\n",
    "    return wtlog_loss"
   ]
  },
  {
   "cell_type": "code",
   "execution_count": 560,
   "id": "3ab332e3",
   "metadata": {},
   "outputs": [],
   "source": [
    "import numpy as np\n",
    "import scipy.stats as st\n",
    "\n",
    "def compute_avg_CI(input_df):\n",
    "    avg = round(np.mean(input_df), 1)\n",
    "    ci = st.t.interval(0.95,                  # Confidence level\n",
    "                       df=len(input_df) - 1,\n",
    "                       loc=np.mean(input_df),\n",
    "                       scale=st.sem(input_df))\n",
    "    lcl = round(ci[0], 1)\n",
    "    ucl = round(ci[1], 1)\n",
    "    ci_range = f\"({lcl}, {ucl})\"\n",
    "    return avg, ci_range\n"
   ]
  },
  {
   "cell_type": "code",
   "execution_count": 561,
   "id": "2e8cd798",
   "metadata": {},
   "outputs": [],
   "source": [
    "# Generate confusion matrix and compute Sen, Spe, Acc, Pre, F1S\n",
    "# pass observed/actual y and predicted y\n",
    "\n",
    "def confMatrixResults (yTrain, yPred):\n",
    "    \n",
    "    cmat = confusion_matrix(yTrain, yPred)\n",
    "    TN = (cmat[0][0])\n",
    "    FN = (cmat[1][0])\n",
    "    FP = (cmat[0][1])\n",
    "    TP = (cmat[1][1])\n",
    "    \n",
    "    Sen = (TP/(TP+FN))\n",
    "    Spe = TN / (TN + FP)\n",
    "    Acc = (TP + TN) / (TP + TN + FP + FN)\n",
    "    Pre = TP / (TP + FP)\n",
    "    F1S = (2 * Pre * Sen)/(Pre + Sen)\n",
    "           \n",
    "    Sen = round((Sen*100),2)\n",
    "    Spe = round((Spe*100),2)\n",
    "    Acc = round((Acc*100),2)\n",
    "    \n",
    "    Pre = round((Pre*100),2)\n",
    "    F1S =  round((F1S*100),2)\n",
    "    \n",
    "    return Sen, Spe, Acc, Pre, F1S, TN, FN, FP, TP"
   ]
  },
  {
   "cell_type": "code",
   "execution_count": 562,
   "id": "bdd193fc",
   "metadata": {},
   "outputs": [],
   "source": [
    "# COUNTS: Print counts for training, reserve, test sets\n",
    "def getCounts(df_Counts, experimentID): \n",
    "    nOOD_trainD  = df_Counts.where((df_Counts.Method== experimentID)).dropna()['trainSet_nOOD']\n",
    "    OOD_trainD   = df_Counts.where((df_Counts.Method== experimentID)).dropna()['trainSet_OOD']\n",
    "    nOOD_reserveD  = df_Counts.where((df_Counts.Method== experimentID)).dropna()['reserveSet_nOOD']\n",
    "    nOOD_testD     = df_Counts.where((df_Counts.Method== experimentID)).dropna()['testSet_nOOD']\n",
    "    OOD_reserveD   = df_Counts.where((df_Counts.Method== experimentID)).dropna()['reserveSet_OOD']\n",
    "    OOD_testD      = df_Counts.where((df_Counts.Method== experimentID)).dropna()['testSet_OOD']\n",
    "    nOODRetrainD   = df_Counts.where((df_Counts.Method== experimentID)).dropna()['retrainSet_nOOD']\n",
    "    OOD_RetrainD   = df_Counts.where((df_Counts.Method== experimentID)).dropna()['retrainSet_OOD']\n",
    "\n",
    "    nOOD_trainD_Avg, nOOD_trainD_CI   = compute_avg_CI (nOOD_trainD)\n",
    "    OOD_trainD_Avg, OOD_trainD_CI     = compute_avg_CI (OOD_trainD)\n",
    "    nOOD_reserveD_Avg, nOOD_reserveD_CI = compute_avg_CI (nOOD_reserveD)\n",
    "    nOOD_testD_Avg, nOOD_testD_CI       = compute_avg_CI (nOOD_testD)\n",
    "    OOD_reserveD_Avg, OOD_reserveD_CI   = compute_avg_CI (OOD_reserveD)\n",
    "    OOD_testD_Avg, OOD_testD_CI        = compute_avg_CI (OOD_testD)\n",
    "    nOODRetrainD_Avg, nOODRetrainDl_CI = compute_avg_CI (nOODRetrainD)\n",
    "    OOD_RetrainD_Avg, OOD_RetrainD_CI  = compute_avg_CI (OOD_RetrainD)\n",
    "\n",
    "    print('COUNTS: ', str(experimentID))\n",
    "    print('Train   - ID   =%f' % (nOOD_trainD_Avg))\n",
    "    print('Train   - OoD  =%f' % (OOD_trainD_Avg))\n",
    "    print('reserve - ID   =%f' % (nOOD_reserveD_Avg)) \n",
    "    print('reserve - OoD  =%f' % (OOD_reserveD_Avg)) \n",
    "    print('Test    - ID   =%f' % (nOOD_testD_Avg))\n",
    "    print('Test    - OoD  =%f' % (OOD_testD_Avg)) \n",
    "    print('Retrain - ID   =%f' % (nOODRetrainD_Avg)) \n",
    "    print('Retrain - OoD  =%f' % (OOD_RetrainD_Avg))"
   ]
  },
  {
   "cell_type": "code",
   "execution_count": 563,
   "id": "725fd4a8",
   "metadata": {},
   "outputs": [],
   "source": [
    "# COMPUTE PERFORMANCES: create subsets to compute avg and CI\n",
    "\n",
    "def getPerformance(df_CM, experimentID):\n",
    "\n",
    "    Sen_trainD = df_CM.where((df_CM.Method== experimentID)).dropna()['Sen_train']\n",
    "    Spe_trainD = df_CM.where((df_CM.Method== experimentID)).dropna()['Spe_train']\n",
    "    Acc_trainD = df_CM.where((df_CM.Method== experimentID)).dropna()['Acc_train']\n",
    "    Pre_trainD = df_CM.where((df_CM.Method== experimentID)).dropna()['Pre_train']\n",
    "    F1_trainD  = df_CM.where((df_CM.Method== experimentID)).dropna()['F1_train']\n",
    "\n",
    "    Sen_retrainD = df_CM.where((df_CM.Method== experimentID)).dropna()['Sen_retrain']\n",
    "    Spe_retrainD = df_CM.where((df_CM.Method== experimentID)).dropna()['Spe_retrain']\n",
    "    Acc_retrainD = df_CM.where((df_CM.Method== experimentID)).dropna()['Acc_retrain']\n",
    "    Pre_retrainD = df_CM.where((df_CM.Method== experimentID)).dropna()['Pre_retrain']\n",
    "    F1_retrainD  = df_CM.where((df_CM.Method== experimentID)).dropna()['F1_retrain']\n",
    "\n",
    "    Sen_testD = df_CM.where((df_CM.Method== experimentID)).dropna()['Sen_test']\n",
    "    Spe_testD = df_CM.where((df_CM.Method== experimentID)).dropna()['Spe_test']\n",
    "    Acc_testD = df_CM.where((df_CM.Method== experimentID)).dropna()['Acc_test']\n",
    "    Pre_testD = df_CM.where((df_CM.Method== experimentID)).dropna()['Pre_test']\n",
    "    F1_testD  = df_CM.where((df_CM.Method== experimentID)).dropna()['F1_test']\n",
    "    \n",
    "    \n",
    "    TP_trainD = df_CM.where((df_CM.Method== experimentID)).dropna()['train_TP']\n",
    "    TN_trainD = df_CM.where((df_CM.Method== experimentID)).dropna()['train_TN']\n",
    "    FP_trainD = df_CM.where((df_CM.Method== experimentID)).dropna()['train_FP']\n",
    "    FN_trainD = df_CM.where((df_CM.Method== experimentID)).dropna()['train_FN']    \n",
    "    TP_retrainD = df_CM.where((df_CM.Method== experimentID)).dropna()['retrain_TP']\n",
    "    TN_retrainD = df_CM.where((df_CM.Method== experimentID)).dropna()['retrain_TN']\n",
    "    FP_retrainD = df_CM.where((df_CM.Method== experimentID)).dropna()['retrain_FP']\n",
    "    FN_retrainD = df_CM.where((df_CM.Method== experimentID)).dropna()['retrain_FN']     \n",
    "    TP_testD = df_CM.where((df_CM.Method== experimentID)).dropna()['test_TP']\n",
    "    TN_testD = df_CM.where((df_CM.Method== experimentID)).dropna()['test_TN']\n",
    "    FP_testD = df_CM.where((df_CM.Method== experimentID)).dropna()['test_FP']\n",
    "    FN_testD = df_CM.where((df_CM.Method== experimentID)).dropna()['test_FN']      \n",
    "    \n",
    "    \n",
    "\n",
    "    # Step-3: compute avg and CI\n",
    "    Sen_Train_Avg, Sen_Train_CI = compute_avg_CI (Sen_trainD)\n",
    "    Spe_Train_Avg, Spe_Train_CI = compute_avg_CI (Spe_trainD)\n",
    "    Acc_Train_Avg, Acc_Train_CI = compute_avg_CI (Acc_trainD)\n",
    "    Pre_Train_Avg, Pre_Train_CI = compute_avg_CI (Pre_trainD)\n",
    "    F1_Train_Avg, F1_Train_CI   = compute_avg_CI (F1_trainD)\n",
    "\n",
    "    Sen_retrain_Avg, Sen_retrain_CI = compute_avg_CI (Sen_retrainD)\n",
    "    Spe_retrain_Avg, Spe_retrain_CI = compute_avg_CI (Spe_retrainD)\n",
    "    Acc_retrain_Avg, Acc_retrain_CI = compute_avg_CI (Acc_retrainD)\n",
    "    Pre_retrain_Avg, Pre_retrain_CI = compute_avg_CI (Pre_retrainD)\n",
    "    F1_retrain_Avg, F1_retrain_CI   = compute_avg_CI (F1_retrainD)\n",
    "\n",
    "    Sen_test_Avg, Sen_test_CI = compute_avg_CI (Sen_testD)\n",
    "    Spe_test_Avg, Spe_test_CI = compute_avg_CI (Spe_testD)\n",
    "    Acc_test_Avg, Acc_test_CI = compute_avg_CI (Acc_testD)\n",
    "    Pre_test_Avg, Pre_test_CI = compute_avg_CI (Pre_testD)\n",
    "    F1_test_Avg, F1_test_CI   = compute_avg_CI (F1_testD)\n",
    "    \n",
    "    \n",
    "    train_TP,  train_TP_ci = compute_avg_CI (TP_trainD)\n",
    "    train_TN,  train_TN_ci = compute_avg_CI (TN_trainD)\n",
    "    train_FP,  train_FP_ci = compute_avg_CI (FP_trainD)\n",
    "    train_FN,  train_FN_ci = compute_avg_CI (FN_trainD)\n",
    "    retrain_TP,  retrain_TP_ci = compute_avg_CI (TP_retrainD)\n",
    "    retrain_TN,  retrain_TN_ci = compute_avg_CI (TN_retrainD)\n",
    "    retrain_FP,  retrain_FP_ci = compute_avg_CI (FP_retrainD)\n",
    "    retrain_FN,  retrain_FN_ci = compute_avg_CI (FN_retrainD)     \n",
    "    test_TP,  test_TP_ci = compute_avg_CI (TP_testD)\n",
    "    test_TN,  test_TN_ci = compute_avg_CI (TN_testD)\n",
    "    test_FP,  test_FP_ci = compute_avg_CI (FP_testD)\n",
    "    test_FN,  test_FN_ci = compute_avg_CI (FN_testD)\n",
    "    \n",
    "    \n",
    "\n",
    "\n",
    "    # Step-4: print avg and CI\n",
    "    print('-------------------------------')\n",
    "    print('PERFORMANCE:', str(experimentID))\n",
    "    print('Training')\n",
    "    print('Sen = ', str(Sen_Train_Avg), str(Sen_Train_CI))\n",
    "    print('Spe = ', str(Spe_Train_Avg), str(Spe_Train_CI))\n",
    "    print('Acc = ', str(Acc_Train_Avg), str(Acc_Train_CI))\n",
    "    # print('P = ', str(Pre_Train_Avg), str(Pre_Train_CI))\n",
    "    # print('F1 = ', str(F1_Train_Avg), str(F1_Train_CI))\n",
    "    print('--------------------------')\n",
    "\n",
    "    print('Retraining')\n",
    "    print('Sen = ', str(Sen_retrain_Avg), str(Sen_retrain_CI))\n",
    "    print('Spe = ', str(Spe_retrain_Avg), str(Spe_retrain_CI)) \n",
    "    print('Acc = ', str(Acc_retrain_Avg), str(Acc_retrain_CI)) \n",
    "    # print('P = ', str(Pre_retrain_Avg), str(Pre_retrain_CI)) \n",
    "    # print('F1 = ', str(F1_retrain_Avg), str(F1_retrain_CI)) \n",
    "    print('--------------------------')\n",
    "\n",
    "    print('Test')\n",
    "    print('Sen = ', str(Sen_test_Avg), str(Sen_test_CI)) \n",
    "    print('Spe = ', str(Spe_test_Avg), str(Spe_test_CI)) \n",
    "    print('Acc = ', str(Acc_test_Avg), str(Acc_test_CI)) \n",
    "    # print('P = ', str(Pre_test_Avg), str(Pre_test_CI)) \n",
    "    # print('F1 = ', str(F1_test_Avg), str(F1_test_CI)) \n",
    "    \n",
    "    \n",
    "    print('--------------------------')\n",
    "    print('Classification Results')\n",
    "    print('Train : TP , TN, FP, FN = ', str(train_TP), str(train_TN), str(train_FP), str(train_FN))\n",
    "    print('Retrain : TP , TN, FP, FN = ', str(retrain_TP), str(retrain_TN), str(retrain_FP), str(retrain_FN))\n",
    "    print('Test : TP , TN, FP, FN = ', str(test_TP), str(test_TN), str(test_FP), str(test_FN))"
   ]
  },
  {
   "cell_type": "code",
   "execution_count": 564,
   "id": "f23ebab6",
   "metadata": {},
   "outputs": [],
   "source": [
    "# OoD Score Range for ID and OoD Samples\n",
    "def getOoDScoreRange(df_OodRange, experimentID): \n",
    "    Train_ID    = df_OodRange.loc[(df_OodRange[\"Method\"] == experimentID) & (df_OodRange[\"TType\"] == \"Train\") & (df_OodRange[\"SampleType\"] == \"ID\")]\n",
    "    Retrain_ID  = df_OodRange.loc[(df_OodRange[\"Method\"] == experimentID) & (df_OodRange[\"TType\"] == \"Retrain\") & (df_OodRange[\"SampleType\"] == \"ID\")]\n",
    "    Retrain_OOD = df_OodRange.loc[(df_OodRange[\"Method\"] == experimentID) & (df_OodRange[\"TType\"] == \"Retrain\") & (df_OodRange[\"SampleType\"] == \"OOD\")]\n",
    "    Test_ID     = df_OodRange.loc[(df_OodRange[\"Method\"] == experimentID) & (df_OodRange[\"TType\"] == \"Test\") & (df_OodRange[\"SampleType\"] == \"ID\")]\n",
    "    Test_OOD    = df_OodRange.loc[(df_OodRange[\"Method\"] == experimentID) & (df_OodRange[\"TType\"] == \"Test\") & (df_OodRange[\"SampleType\"] == \"OOD\")]\n",
    "\n",
    "       \n",
    "    print(\"------------------------------\")\n",
    "    print(\"OoD Score Range\")\n",
    "    print(experimentID)\n",
    "    print(\"Train ID   : \", Train_ID['MinOodScore'].min(), Train_ID['MaxOodScore'].max())\n",
    "    print(\"Retrain ID : \", Retrain_ID['MinOodScore'].min(), Retrain_ID['MaxOodScore'].max())\n",
    "    print(\"Retrain OOD: \", Retrain_OOD['MinOodScore'].min(), Retrain_OOD['MaxOodScore'].max())\n",
    "    print(\"Test ID    : \", Test_ID['MinOodScore'].min(), Test_ID['MaxOodScore'].max())\n",
    "    print(\"Test OOD   : \", Test_OOD['MinOodScore'].min(), Test_OOD['MaxOodScore'].max())\n",
    "\n"
   ]
  },
  {
   "cell_type": "code",
   "execution_count": 565,
   "id": "495543e2",
   "metadata": {},
   "outputs": [],
   "source": [
    "def getKLDRange(experimentID, C):\n",
    "    \n",
    "    expKLD_sumByFeatureTT = []\n",
    "    expKLD_sumByFeatureRT = []\n",
    "\n",
    "    maxLength = (df_KLD[\"Iter_ID\"]).max()\n",
    "\n",
    "    for j in range (1, maxLength+1):\n",
    "        \n",
    "        expKLD_sumTT = df_KLD.loc[((df_KLD[\"Iter_ID\"] == j) & (df_KLD[\"Method\"] == experimentID) & (df_KLD[\"Types\"] == C)), 'KLD_t_t'].sum()\n",
    "        expKLD_sumByFeatureTT.append(expKLD_sumTT)\n",
    "\n",
    "        expKLD_sumRT = df_KLD.loc[((df_KLD[\"Iter_ID\"] == j) & (df_KLD[\"Method\"] == experimentID) & (df_KLD[\"Types\"] == C)), 'KLD_rt_t'].sum()\n",
    "        expKLD_sumByFeatureRT.append(expKLD_sumRT)\n",
    "\n",
    "\n",
    "    expKLD_avgTT,  expKLD_ciTT = compute_avg_CI (expKLD_sumByFeatureTT)    \n",
    "    expKLD_avgRT,  expKLD_ciRT = compute_avg_CI (expKLD_sumByFeatureRT)\n",
    "    print('---------------------------')\n",
    "    print('KLD - ', C , '-----------------------')\n",
    "    print(\"Train-Test\", str(expKLD_avgTT), str(expKLD_ciTT))\n",
    "    print(\"Retrain-Test\", str(expKLD_avgRT), str(expKLD_ciRT))  "
   ]
  },
  {
   "cell_type": "code",
   "execution_count": 566,
   "id": "feead22b",
   "metadata": {},
   "outputs": [],
   "source": [
    "# KLD Functions\n",
    "\n",
    "def KL_Continious(data_1, data_2):\n",
    "    # Epsilon is used here to avoid conditional code for checking that neither P nor Q is equal to 0. \"\"\"\n",
    "    epsilon = 0.00001\n",
    "\n",
    "    # binn the continious value to be able to compute probabilities\n",
    "    # https://www.geeksforgeeks.org/how-to-calculate-and-plot-a-cumulative-distribution-function-with-matplotlib-in-python/\n",
    "    count1, bins_count1 = np.histogram(data_1, bins=50)\n",
    "    count2, bins_count2 = np.histogram(data_2, bins=50)\n",
    "\n",
    "    # compute probability - number of itemts in the bin/total\n",
    "    P = count1/np.sum(count1)\n",
    "    Q = count2/np.sum(count2)\n",
    "\n",
    "    # You may want to instead make copies to avoid changing the np arrays.\n",
    "    P = P+epsilon\n",
    "    Q = Q+epsilon\n",
    "    \n",
    "    divergence = round(np.sum(P*np.log(P/Q)),4)\n",
    "    return divergence\n",
    "\n",
    "\n",
    "# for discrete and categorical\n",
    "def KL_binary(data_1, data_2):\n",
    "    # Epsilon is used here to avoid conditional code for checking that neither P nor Q is equal to 0. \"\"\"\n",
    "    epsilon = 0.00001\n",
    "\n",
    "    # bin the binary varibale to 2 bins value to be able to compute probabilities\n",
    "    # https://www.geeksforgeeks.org/how-to-calculate-and-plot-a-cumulative-distribution-function-with-matplotlib-in-python/\n",
    "    count1, bins_count1 = np.histogram(data_1, bins=2)\n",
    "    count2, bins_count2 = np.histogram(data_2, bins=2)\n",
    "\n",
    "    # compute probability - number of itemts in the bin/total\n",
    "    P = count1/np.sum(count1)\n",
    "    Q = count2/np.sum(count2)\n",
    "\n",
    "    # You may want to instead make copies to avoid changing the np arrays.\n",
    "    P = P+epsilon\n",
    "    Q = Q+epsilon\n",
    "    \n",
    "    divergence = round(np.sum(P*np.log(P/Q)),4)\n",
    "    return divergence\n",
    "\n",
    "\n",
    "# to create sns.count plots for binary variables\n",
    "def createDF(f1, f2, f3, f4, ds1, ds2, ds3, ds4, var):\n",
    "\n",
    "    df1 = pd.DataFrame(columns=['MainType', 'Type', var])\n",
    "    df2 = pd.DataFrame(columns=['MainType', 'Type', var])\n",
    "    df3 = pd.DataFrame(columns=['MainType', 'Type', var])\n",
    "    df4 = pd.DataFrame(columns=['MainType', 'Type', var])\n",
    "\n",
    "    for i in range (0, len(ds1)):\n",
    "        df1['MainType'] = 'Train and Test'\n",
    "        df1['Type'] = 'Train'\n",
    "        df1[var] = f1\n",
    "\n",
    "    for i in range (0, len(ds2)):\n",
    "        df2['MainType'] = 'Train and Test'\n",
    "        df2['Type'] = 'Test'\n",
    "        df2[var] = f2\n",
    "\n",
    "    frames = [df1, df2]\n",
    "    df1 = pd.concat(frames)\n",
    "\n",
    "    for i in range (0, len(ds3)):\n",
    "        df3['MainType'] = 'Retrain and Test'\n",
    "        df3['Type'] = 'Retrain'\n",
    "        df3[var] = f3\n",
    "\n",
    "    for i in range (0, len(ds4)):\n",
    "        df4['MainType'] = 'Retrain and Test'\n",
    "        df4['Type'] = 'Test'\n",
    "        df4[var] = f4\n",
    "\n",
    "    frames = [df3, df4]\n",
    "    df2 = pd.concat(frames)\n",
    "    \n",
    "    return df1, df2\n",
    "\n",
    "\n",
    "# KLD - computation for cumulative graphs\n",
    "# continious\n",
    "def create_KLD_datasetC(T, T1, RT, T2, feature, numIter, experimentID, C ):\n",
    "\n",
    "    global df_KLD\n",
    "    \n",
    "    result_KL12 = KL_Continious(T, T1)\n",
    "    result_KL34 = KL_Continious(RT, T2) \n",
    "    diff = round(result_KL12 - result_KL34,4)\n",
    "\n",
    "    df_KLD = df_KLD.append({'Iter_ID': numIter , 'Method': experimentID, \n",
    "                            'Features': feature , 'KLD_t_t': result_KL12 , 'KLD_rt_t': result_KL34,\n",
    "                            'Types': C}, ignore_index=True)  \n",
    "\n",
    "    return result_KL12, result_KL34\n",
    "\n",
    "\n",
    "# binary\n",
    "def create_KLD_datasetB(T, T1, RT, T2, feature, numIter, experimentID, C ):\n",
    "\n",
    "    global df_KLD\n",
    "    \n",
    "    result_KL12 = KL_binary(T, T1)\n",
    "    result_KL34 = KL_binary(RT, T2) \n",
    "    diff = round(result_KL12 - result_KL34,4)\n",
    "\n",
    "    df_KLD = df_KLD.append({'Iter_ID': numIter , 'Method': experimentID, \n",
    "                            'Features': feature , 'KLD_t_t': result_KL12 , 'KLD_rt_t': result_KL34,\n",
    "                            'Types': C}, ignore_index=True)  \n",
    "        \n",
    "\n",
    "    #return result_KL12, result_KL34\n",
    "\n",
    "\n",
    "\n",
    "\n",
    "def KLD_cummValues(numIter, experimentID, gf1Smm_train_dataF, gf1Smm_reserve_dataF, gf1Smm_retrain_dataF, gf1Smm_test_dataF, C):\n",
    "    # KLD Cumulative graph\n",
    "    \n",
    "    create_KLD_datasetC(gf1Smm_train_dataF.Area, gf1Smm_reserve_dataF.Area, \n",
    "       gf1Smm_retrain_dataF.Area, gf1Smm_test_dataF.Area, 'Area', numIter, experimentID, C)\n",
    "\n",
    "    create_KLD_datasetC(gf1Smm_train_dataF.ConvexArea, gf1Smm_reserve_dataF.ConvexArea, \n",
    "       gf1Smm_retrain_dataF.ConvexArea, gf1Smm_test_dataF.ConvexArea, 'ConvexArea', numIter, experimentID, C)\n",
    "\n",
    "    create_KLD_datasetC(gf1Smm_train_dataF.Perimeter, gf1Smm_reserve_dataF.Perimeter, \n",
    "       gf1Smm_retrain_dataF.Perimeter, gf1Smm_test_dataF.Perimeter, 'Perimeter', numIter, experimentID, C)\n",
    "    \n",
    "    create_KLD_datasetC(gf1Smm_train_dataF.ConvexPerimeter, gf1Smm_reserve_dataF.ConvexPerimeter, \n",
    "       gf1Smm_retrain_dataF.ConvexPerimeter, gf1Smm_test_dataF.ConvexPerimeter, 'ConvexPerimeter', numIter, experimentID, C)    \n",
    "    \n",
    "    create_KLD_datasetC(gf1Smm_train_dataF.EquivDiameter, gf1Smm_reserve_dataF.EquivDiameter, \n",
    "       gf1Smm_retrain_dataF.EquivDiameter, gf1Smm_test_dataF.EquivDiameter, 'EquivDiameter', numIter, experimentID, C)\n",
    "\n",
    "    create_KLD_datasetC(gf1Smm_train_dataF.MajorAxisLength, gf1Smm_reserve_dataF.MajorAxisLength, \n",
    "       gf1Smm_retrain_dataF.MajorAxisLength, gf1Smm_test_dataF.MajorAxisLength, 'MajorAxisLength', numIter, experimentID, C)\n",
    "    \n",
    "    create_KLD_datasetC(gf1Smm_train_dataF.MinorAxisLength, gf1Smm_reserve_dataF.MinorAxisLength, \n",
    "       gf1Smm_retrain_dataF.MinorAxisLength, gf1Smm_test_dataF.MinorAxisLength, 'MinorAxisLength', numIter, experimentID, C)\n",
    "\n",
    "    create_KLD_datasetC(gf1Smm_train_dataF.Elongation, gf1Smm_reserve_dataF.Elongation, \n",
    "       gf1Smm_retrain_dataF.Elongation, gf1Smm_test_dataF.Elongation, 'Elongation', numIter, experimentID, C)\n",
    "    \n",
    "    create_KLD_datasetC(gf1Smm_train_dataF.Compactness, gf1Smm_reserve_dataF.Compactness, \n",
    "       gf1Smm_retrain_dataF.Compactness, gf1Smm_test_dataF.Compactness, 'Compactness', numIter, experimentID, C)\n",
    "\n",
    "    create_KLD_datasetC(gf1Smm_train_dataF.Eccentricity, gf1Smm_reserve_dataF.Eccentricity, \n",
    "       gf1Smm_retrain_dataF.Eccentricity, gf1Smm_test_dataF.Eccentricity, 'Eccentricity', numIter, experimentID, C)\n",
    "\n",
    "    create_KLD_datasetC(gf1Smm_train_dataF.Solidity, gf1Smm_reserve_dataF.Solidity, \n",
    "       gf1Smm_retrain_dataF.Solidity, gf1Smm_test_dataF.Solidity, 'Solidity', numIter, experimentID, C)\n",
    "    \n",
    "    create_KLD_datasetC(gf1Smm_train_dataF.Extent, gf1Smm_reserve_dataF.Extent, \n",
    "       gf1Smm_retrain_dataF.Extent, gf1Smm_test_dataF.Extent, 'Extent', numIter, experimentID, C)\n",
    "    \n",
    "    create_KLD_datasetC(gf1Smm_train_dataF.Circularity, gf1Smm_reserve_dataF.Circularity, \n",
    "       gf1Smm_retrain_dataF.Circularity, gf1Smm_test_dataF.Circularity, 'Circularity', numIter, experimentID, C)\n",
    "    \n",
    "    create_KLD_datasetC(gf1Smm_train_dataF.RadialDistanceSD, gf1Smm_reserve_dataF.RadialDistanceSD, \n",
    "       gf1Smm_retrain_dataF.RadialDistanceSD, gf1Smm_test_dataF.RadialDistanceSD, 'RadialDistanceSD', numIter, experimentID, C)    \n",
    "    \n",
    "    create_KLD_datasetC(gf1Smm_train_dataF.SecondMoment, gf1Smm_reserve_dataF.SecondMoment, \n",
    "       gf1Smm_retrain_dataF.SecondMoment, gf1Smm_test_dataF.SecondMoment, 'SecondMoment', numIter, experimentID, C)\n",
    "        \n",
    "    create_KLD_datasetC(gf1Smm_train_dataF.Energy, gf1Smm_reserve_dataF.Roughness, \n",
    "       gf1Smm_retrain_dataF.Roughness, gf1Smm_test_dataF.Roughness, 'Roughness', numIter, experimentID, C)        \n",
    "        \n",
    "    create_KLD_datasetC(gf1Smm_train_dataF.MinIntensity, gf1Smm_reserve_dataF.MinIntensity, \n",
    "       gf1Smm_retrain_dataF.MinIntensity, gf1Smm_test_dataF.MinIntensity, 'MinIntensity', numIter, experimentID, C)        \n",
    "        \n",
    "    create_KLD_datasetC(gf1Smm_train_dataF.MaxIntensity, gf1Smm_reserve_dataF.MaxIntensity, \n",
    "       gf1Smm_retrain_dataF.MaxIntensity, gf1Smm_test_dataF.MaxIntensity, 'MaxIntensity', numIter, experimentID, C)        \n",
    "        \n",
    "    create_KLD_datasetC(gf1Smm_train_dataF.MeanIntensity, gf1Smm_reserve_dataF.MeanIntensity, \n",
    "       gf1Smm_retrain_dataF.MeanIntensity, gf1Smm_test_dataF.MeanIntensity, 'MeanIntensity', numIter, experimentID, C)\n",
    "    \n",
    "    create_KLD_datasetC(gf1Smm_train_dataF.SDIntensity, gf1Smm_reserve_dataF.SDIntensity, \n",
    "       gf1Smm_retrain_dataF.SDIntensity, gf1Smm_test_dataF.SDIntensity, 'SDIntensity', numIter, experimentID, C)\n",
    "    \n",
    "    create_KLD_datasetC(gf1Smm_train_dataF.MinIntensityBG, gf1Smm_reserve_dataF.MinIntensityBG, \n",
    "       gf1Smm_retrain_dataF.MinIntensityBG, gf1Smm_test_dataF.MinIntensityBG, 'MinIntensityBG', numIter, experimentID, C)\n",
    "    \n",
    "    create_KLD_datasetC(gf1Smm_train_dataF.MaxIntensityBG, gf1Smm_reserve_dataF.MaxIntensityBG, \n",
    "       gf1Smm_retrain_dataF.MaxIntensityBG, gf1Smm_test_dataF.MaxIntensityBG, 'MaxIntensityBG', numIter, experimentID, C)    \n",
    "    \n",
    "    create_KLD_datasetC(gf1Smm_train_dataF.MeanIntensityBG, gf1Smm_reserve_dataF.MeanIntensityBG, \n",
    "       gf1Smm_retrain_dataF.MeanIntensityBG, gf1Smm_test_dataF.MeanIntensityBG, 'MeanIntensityBG', numIter, experimentID, C)\n",
    "    \n",
    "    create_KLD_datasetC(gf1Smm_train_dataF.SDIntensityBG, gf1Smm_reserve_dataF.SDIntensityBG, \n",
    "       gf1Smm_retrain_dataF.SDIntensityBG, gf1Smm_test_dataF.SDIntensityBG, 'SDIntensityBG', numIter, experimentID, C)\n",
    "    \n",
    "    create_KLD_datasetC(gf1Smm_train_dataF.IntensityDifference, gf1Smm_reserve_dataF.IntensityDifference, \n",
    "       gf1Smm_retrain_dataF.IntensityDifference, gf1Smm_test_dataF.IntensityDifference, 'IntensityDifference', numIter, experimentID, C)    \n",
    "    \n",
    "    create_KLD_datasetC(gf1Smm_train_dataF.markov1, gf1Smm_reserve_dataF.markov1, \n",
    "       gf1Smm_retrain_dataF.markov1, gf1Smm_test_dataF.markov1, 'markov1', numIter, experimentID, C)\n",
    "    \n",
    "    create_KLD_datasetC(gf1Smm_train_dataF.markov1, gf1Smm_reserve_dataF.markov1, \n",
    "       gf1Smm_retrain_dataF.markov1, gf1Smm_test_dataF.markov1, 'markov1', numIter, experimentID, C)\n",
    "    \n",
    "    create_KLD_datasetC(gf1Smm_train_dataF.markov2, gf1Smm_reserve_dataF.markov2, \n",
    "       gf1Smm_retrain_dataF.markov2, gf1Smm_test_dataF.markov2, 'markov2', numIter, experimentID, C)    \n",
    "    \n",
    "    create_KLD_datasetC(gf1Smm_train_dataF.markov3, gf1Smm_reserve_dataF.markov3, \n",
    "       gf1Smm_retrain_dataF.markov3, gf1Smm_test_dataF.markov3, 'markov3', numIter, experimentID, C)    \n",
    "    \n",
    "    create_KLD_datasetC(gf1Smm_train_dataF.markov4, gf1Smm_reserve_dataF.markov4, \n",
    "       gf1Smm_retrain_dataF.markov4, gf1Smm_test_dataF.markov4, 'markov4', numIter, experimentID, C)\n",
    "    \n",
    "    create_KLD_datasetC(gf1Smm_train_dataF.markov5, gf1Smm_reserve_dataF.markov5, \n",
    "       gf1Smm_retrain_dataF.markov5, gf1Smm_test_dataF.markov5, 'markov5', numIter, experimentID, C) \n",
    "    \n",
    "    create_KLD_datasetC(gf1Smm_train_dataF.gabormean_0_0, gf1Smm_reserve_dataF.gabormean_0_0, \n",
    "       gf1Smm_retrain_dataF.gabormean_0_0, gf1Smm_test_dataF.gabormean_0_0, 'gabormean_0_0', numIter, experimentID, C)\n",
    "\n",
    "    create_KLD_datasetC(gf1Smm_train_dataF.gaborSD_0_0, gf1Smm_reserve_dataF.gaborSD_0_0, \n",
    "       gf1Smm_retrain_dataF.gaborSD_0_0, gf1Smm_test_dataF.gaborSD_0_0, 'gaborSD_0_0', numIter, experimentID, C)    \n",
    "    \n",
    "    create_KLD_datasetC(gf1Smm_train_dataF.gabormean_0_1, gf1Smm_reserve_dataF.gabormean_0_1, \n",
    "       gf1Smm_retrain_dataF.gabormean_0_1, gf1Smm_test_dataF.gabormean_0_1, 'gabormean_0_1', numIter, experimentID, C)\n",
    "\n",
    "    create_KLD_datasetC(gf1Smm_train_dataF.gaborSD_0_1, gf1Smm_reserve_dataF.gaborSD_0_1, \n",
    "       gf1Smm_retrain_dataF.gaborSD_0_1, gf1Smm_test_dataF.gaborSD_0_1, 'gaborSD_0_1', numIter, experimentID, C)\n",
    "    \n",
    "    create_KLD_datasetC(gf1Smm_train_dataF.gabormean_0_2, gf1Smm_reserve_dataF.gabormean_0_2, \n",
    "       gf1Smm_retrain_dataF.gabormean_0_2, gf1Smm_test_dataF.gabormean_0_2, 'gabormean_0_2', numIter, experimentID, C)\n",
    "    \n",
    "    create_KLD_datasetC(gf1Smm_train_dataF.gaborSD_0_2, gf1Smm_reserve_dataF.gaborSD_0_2, \n",
    "       gf1Smm_retrain_dataF.gaborSD_0_2, gf1Smm_test_dataF.gaborSD_0_2, 'gaborSD_0_2', numIter, experimentID, C)    \n",
    "\n",
    "    create_KLD_datasetC(gf1Smm_train_dataF.gabormean_1_0, gf1Smm_reserve_dataF.gabormean_1_0, \n",
    "       gf1Smm_retrain_dataF.gabormean_1_0, gf1Smm_test_dataF.gabormean_1_0, 'gabormean_1_0', numIter, experimentID, C)\n",
    "    \n",
    "    create_KLD_datasetC(gf1Smm_train_dataF.gaborSD_1_0, gf1Smm_reserve_dataF.gaborSD_1_0, \n",
    "       gf1Smm_retrain_dataF.gaborSD_1_0, gf1Smm_test_dataF.gaborSD_1_0, 'gaborSD_1_0', numIter, experimentID, C)\n",
    "    \n",
    "    create_KLD_datasetC(gf1Smm_train_dataF.gabormean_1_1, gf1Smm_reserve_dataF.gabormean_1_1, \n",
    "       gf1Smm_retrain_dataF.gabormean_1_1, gf1Smm_test_dataF.gabormean_1_1, 'gabormean_1_1', numIter, experimentID, C)\n",
    "    \n",
    "    create_KLD_datasetC(gf1Smm_train_dataF.gaborSD_1_1, gf1Smm_reserve_dataF.gaborSD_1_1, \n",
    "       gf1Smm_retrain_dataF.gaborSD_1_1, gf1Smm_test_dataF.gaborSD_1_1, 'gaborSD_1_1', numIter, experimentID, C)\n",
    "\n",
    "    create_KLD_datasetC(gf1Smm_train_dataF.gabormean_1_2, gf1Smm_reserve_dataF.gabormean_1_2, \n",
    "       gf1Smm_retrain_dataF.gabormean_1_2, gf1Smm_test_dataF.gabormean_1_2, 'gabormean_1_2', numIter, experimentID, C)    \n",
    "    \n",
    "    create_KLD_datasetC(gf1Smm_train_dataF.gaborSD_1_2, gf1Smm_reserve_dataF.gaborSD_1_2, \n",
    "       gf1Smm_retrain_dataF.gaborSD_1_2, gf1Smm_test_dataF.gaborSD_1_2, 'gaborSD_1_2', numIter, experimentID, C)    \n",
    "   \n",
    "    create_KLD_datasetC(gf1Smm_train_dataF.gabormean_2_0, gf1Smm_reserve_dataF.gabormean_2_0, \n",
    "       gf1Smm_retrain_dataF.gabormean_2_0, gf1Smm_test_dataF.gabormean_2_0, 'gabormean_2_0', numIter, experimentID, C)\n",
    "    \n",
    "    create_KLD_datasetC(gf1Smm_train_dataF.gaborSD_2_0, gf1Smm_reserve_dataF.gaborSD_2_0, \n",
    "       gf1Smm_retrain_dataF.gaborSD_2_0, gf1Smm_test_dataF.gaborSD_2_0, 'gaborSD_2_0', numIter, experimentID, C)\n",
    "\n",
    "    create_KLD_datasetC(gf1Smm_train_dataF.gabormean_2_1, gf1Smm_reserve_dataF.gabormean_2_1, \n",
    "       gf1Smm_retrain_dataF.gabormean_2_1, gf1Smm_test_dataF.gabormean_2_1, 'gabormean_2_1', numIter, experimentID, C)\n",
    "    \n",
    "    create_KLD_datasetC(gf1Smm_train_dataF.gaborSD_2_1, gf1Smm_reserve_dataF.gaborSD_2_1, \n",
    "       gf1Smm_retrain_dataF.gaborSD_2_1, gf1Smm_test_dataF.gaborSD_2_1, 'gaborSD_2_1', numIter, experimentID, C)\n",
    "    \n",
    "    create_KLD_datasetC(gf1Smm_train_dataF.gabormean_2_2, gf1Smm_reserve_dataF.gabormean_2_2, \n",
    "       gf1Smm_retrain_dataF.gabormean_2_2, gf1Smm_test_dataF.gabormean_2_2, 'gabormean_2_2', numIter, experimentID, C)\n",
    "    \n",
    "    create_KLD_datasetC(gf1Smm_train_dataF.gaborSD_2_2, gf1Smm_reserve_dataF.gaborSD_2_2, \n",
    "       gf1Smm_retrain_dataF.gaborSD_2_2, gf1Smm_test_dataF.gaborSD_2_2, 'gaborSD_2_2', numIter, experimentID, C)\n",
    "        \n",
    "    create_KLD_datasetC(gf1Smm_train_dataF.gabormean_3_0, gf1Smm_reserve_dataF.gabormean_3_0, \n",
    "       gf1Smm_retrain_dataF.gabormean_3_0, gf1Smm_test_dataF.gabormean_3_0, 'gabormean_3_0', numIter, experimentID, C)\n",
    "    \n",
    "    create_KLD_datasetC(gf1Smm_train_dataF.gaborSD_3_0, gf1Smm_reserve_dataF.gaborSD_3_0, \n",
    "       gf1Smm_retrain_dataF.gaborSD_3_0, gf1Smm_test_dataF.gaborSD_3_0, 'gaborSD_3_0', numIter, experimentID, C)\n",
    "\n",
    "    create_KLD_datasetC(gf1Smm_train_dataF.gabormean_3_1, gf1Smm_reserve_dataF.gabormean_3_1, \n",
    "       gf1Smm_retrain_dataF.gabormean_3_1, gf1Smm_test_dataF.gabormean_3_1, 'gabormean_3_1', numIter, experimentID, C)\n",
    "    \n",
    "    create_KLD_datasetC(gf1Smm_train_dataF.gaborSD_3_1, gf1Smm_reserve_dataF.gaborSD_3_1, \n",
    "       gf1Smm_retrain_dataF.gaborSD_3_1, gf1Smm_test_dataF.gaborSD_3_1, 'gaborSD_3_1', numIter, experimentID, C)\n",
    "\n",
    "    create_KLD_datasetC(gf1Smm_train_dataF.gabormean_3_2, gf1Smm_reserve_dataF.gabormean_3_2, \n",
    "       gf1Smm_retrain_dataF.gabormean_3_2, gf1Smm_test_dataF.gabormean_3_2, 'gabormean_3_2', numIter, experimentID, C)\n",
    "\n",
    "    create_KLD_datasetC(gf1Smm_train_dataF.gaborSD_3_2, gf1Smm_reserve_dataF.gaborSD_3_2, \n",
    "       gf1Smm_retrain_dataF.gaborSD_3_2, gf1Smm_test_dataF.gaborSD_3_2, 'gaborSD_3_2', numIter, experimentID, C)   \n",
    "\n",
    "    create_KLD_datasetC(gf1Smm_train_dataF.Contrast, gf1Smm_reserve_dataF.Contrast, \n",
    "       gf1Smm_retrain_dataF.Contrast, gf1Smm_test_dataF.Contrast, 'Contrast', numIter, experimentID, C)\n",
    "\n",
    "    create_KLD_datasetC(gf1Smm_train_dataF.Correlation, gf1Smm_reserve_dataF.Correlation, \n",
    "       gf1Smm_retrain_dataF.Correlation, gf1Smm_test_dataF.Correlation, 'Correlation', numIter, experimentID, C)    \n",
    "    \n",
    "    create_KLD_datasetC(gf1Smm_train_dataF.Energy, gf1Smm_reserve_dataF.Energy, \n",
    "       gf1Smm_retrain_dataF.Energy, gf1Smm_test_dataF.Energy, 'Energy', numIter, experimentID, C)\n",
    "    \n",
    "    create_KLD_datasetC(gf1Smm_train_dataF.Homogeneity, gf1Smm_reserve_dataF.Homogeneity, \n",
    "       gf1Smm_retrain_dataF.Homogeneity, gf1Smm_test_dataF.Homogeneity, 'Homogeneity', numIter, experimentID, C)\n",
    "    \n",
    "    create_KLD_datasetC(gf1Smm_train_dataF.Entropy, gf1Smm_reserve_dataF.Entropy, \n",
    "       gf1Smm_retrain_dataF.Entropy, gf1Smm_test_dataF.Entropy, 'Entropy', numIter, experimentID, C)    \n",
    "    \n",
    "    create_KLD_datasetC(gf1Smm_train_dataF.x_3rdordermoment, gf1Smm_reserve_dataF.x_3rdordermoment, \n",
    "       gf1Smm_retrain_dataF.x_3rdordermoment, gf1Smm_test_dataF.x_3rdordermoment, 'x_3rdordermoment', numIter, experimentID, C)\n",
    "    \n",
    "    create_KLD_datasetC(gf1Smm_train_dataF.Inversevariance, gf1Smm_reserve_dataF.Inversevariance, \n",
    "       gf1Smm_retrain_dataF.Inversevariance, gf1Smm_test_dataF.Inversevariance, 'Inversevariance', numIter, experimentID, C)    \n",
    "    \n",
    "    create_KLD_datasetC(gf1Smm_train_dataF.Sumaverage, gf1Smm_reserve_dataF.Sumaverage, \n",
    "       gf1Smm_retrain_dataF.Sumaverage, gf1Smm_test_dataF.Sumaverage, 'Sumaverage', numIter, experimentID, C)\n",
    "    \n",
    "    create_KLD_datasetC(gf1Smm_train_dataF.Variance, gf1Smm_reserve_dataF.Variance, \n",
    "       gf1Smm_retrain_dataF.Variance, gf1Smm_test_dataF.Variance, 'Variance', numIter, experimentID, C)    \n",
    "    \n",
    "    create_KLD_datasetC(gf1Smm_train_dataF.Clustertendency, gf1Smm_reserve_dataF.Clustertendency, \n",
    "       gf1Smm_retrain_dataF.Clustertendency, gf1Smm_test_dataF.Clustertendency, 'Clustertendency', numIter, experimentID, C)\n",
    "    \n",
    "    create_KLD_datasetC(gf1Smm_train_dataF.MaxProbability, gf1Smm_reserve_dataF.MaxProbability, \n",
    "       gf1Smm_retrain_dataF.MaxProbability, gf1Smm_test_dataF.MaxProbability, 'MaxProbability', numIter, experimentID, C)  \n",
    "    \n",
    "    create_KLD_datasetB(gf1Smm_train_dataF.dSpic2_5, gf1Smm_reserve_dataF.dSpic2_5, \n",
    "       gf1Smm_retrain_dataF.dSpic2_5, gf1Smm_test_dataF.dSpic2_5, 'dSpic2_5', numIter, experimentID, C)\n",
    "\n",
    "    create_KLD_datasetB(gf1Smm_train_dataF.dLob2_5, gf1Smm_reserve_dataF.dLob2_5, \n",
    "       gf1Smm_retrain_dataF.dLob2_5, gf1Smm_test_dataF.dLob2_5, 'dLob2_5', numIter, experimentID, C)\n",
    "\n",
    "    create_KLD_datasetB(gf1Smm_train_dataF.dCal1, gf1Smm_reserve_dataF.dCal1, \n",
    "       gf1Smm_retrain_dataF.dCal1, gf1Smm_test_dataF.dCal1, 'dCal1', numIter, experimentID, C)\n",
    "\n",
    "    create_KLD_datasetB(gf1Smm_train_dataF.dCal2, gf1Smm_reserve_dataF.dCal2, \n",
    "       gf1Smm_retrain_dataF.dCal2, gf1Smm_test_dataF.dCal2, 'dCal2', numIter, experimentID, C)\n",
    "\n",
    "    create_KLD_datasetB(gf1Smm_train_dataF.dCal3, gf1Smm_reserve_dataF.dCal3, \n",
    "       gf1Smm_retrain_dataF.dCal3, gf1Smm_test_dataF.dCal3, 'dCal3', numIter, experimentID, C)\n",
    "\n",
    "    create_KLD_datasetB(gf1Smm_train_dataF.dCal4, gf1Smm_reserve_dataF.dCal4, \n",
    "       gf1Smm_retrain_dataF.dCal4, gf1Smm_test_dataF.dCal4, 'dCal4', numIter, experimentID, C)\n",
    "\n",
    "    create_KLD_datasetB(gf1Smm_train_dataF.dCal5, gf1Smm_reserve_dataF.dCal5, \n",
    "       gf1Smm_retrain_dataF.dCal5, gf1Smm_test_dataF.dCal5, 'dCal5', numIter, experimentID, C)\n",
    "\n",
    "    create_KLD_datasetB(gf1Smm_train_dataF.dSubtl1_3, gf1Smm_reserve_dataF.dSubtl1_3, \n",
    "       gf1Smm_retrain_dataF.dSubtl1_3, gf1Smm_test_dataF.dSubtl1_3, 'dSubtl1_3', numIter, experimentID, C)\n",
    "\n",
    "    create_KLD_datasetB(gf1Smm_train_dataF.dIstru2, gf1Smm_reserve_dataF.dIstru2, \n",
    "       gf1Smm_retrain_dataF.dIstru2, gf1Smm_test_dataF.dIstru2, 'dIstru2', numIter, experimentID, C)\n",
    "\n",
    "    create_KLD_datasetB(gf1Smm_train_dataF.dIstru3, gf1Smm_reserve_dataF.dIstru3, \n",
    "       gf1Smm_retrain_dataF.dIstru3, gf1Smm_test_dataF.dIstru3, 'dIstru3', numIter, experimentID, C)\n",
    "\n",
    "    create_KLD_datasetB(gf1Smm_train_dataF.dSpher2_4, gf1Smm_reserve_dataF.dSpher2_4, \n",
    "       gf1Smm_retrain_dataF.dSpher2_4, gf1Smm_test_dataF.dSpher2_4, 'dSpher2_4', numIter, experimentID, C)\n",
    "\n",
    "    create_KLD_datasetB(gf1Smm_train_dataF.dMargin2_5, gf1Smm_reserve_dataF.dMargin2_5, \n",
    "       gf1Smm_retrain_dataF.dMargin2_5, gf1Smm_test_dataF.dMargin2_5, 'dMargin2_5', numIter, experimentID, C)\n",
    "\n",
    "    create_KLD_datasetB(gf1Smm_train_dataF.dTexture5, gf1Smm_reserve_dataF.dTexture5, \n",
    "       gf1Smm_retrain_dataF.dTexture5, gf1Smm_test_dataF.dTexture5, 'dTexture5', numIter, experimentID, C)\n",
    "\n",
    "    create_KLD_datasetB(gf1Smm_train_dataF.dManuf_GE, gf1Smm_reserve_dataF.dManuf_GE, \n",
    "       gf1Smm_retrain_dataF.dManuf_GE, gf1Smm_test_dataF.dManuf_GE, 'dManuf_GE', numIter, experimentID, C)\n",
    "\n",
    "    create_KLD_datasetB(gf1Smm_train_dataF.dManuf_S, gf1Smm_reserve_dataF.dManuf_S, \n",
    "       gf1Smm_retrain_dataF.dManuf_S, gf1Smm_test_dataF.dManuf_S, 'dManuf_S', numIter, experimentID, C)\n",
    "\n",
    "    create_KLD_datasetB(gf1Smm_train_dataF.dManuf_P, gf1Smm_reserve_dataF.dManuf_P, \n",
    "       gf1Smm_retrain_dataF.dManuf_P, gf1Smm_test_dataF.dManuf_P, 'dManuf_P', numIter, experimentID, C)\n",
    "\n",
    "\n",
    "\n",
    "def avgKLDbyFeature(experimentID_orig, experimentID, C):\n",
    "    \n",
    "    feature = ['Area', 'ConvexArea', 'Perimeter', 'ConvexPerimeter', 'EquivDiameter', 'MajorAxisLength', \n",
    "            'MinorAxisLength', 'Elongation', 'Compactness', 'Eccentricity', 'Solidity', 'Extent', \n",
    "            'Circularity', 'RadialDistanceSD', 'SecondMoment', 'Roughness', 'MinIntensity', \n",
    "            'MaxIntensity', 'MeanIntensity', 'SDIntensity', 'MinIntensityBG', 'MaxIntensityBG', \n",
    "            'MeanIntensityBG', 'SDIntensityBG', 'IntensityDifference', 'markov1', 'markov2', \n",
    "            'markov3', 'markov4', 'markov5', 'gabormean_0_0', 'gaborSD_0_0', 'gabormean_0_1', \n",
    "            'gaborSD_0_1', 'gabormean_0_2', 'gaborSD_0_2', 'gabormean_1_0', 'gaborSD_1_0', \n",
    "            'gabormean_1_1', 'gaborSD_1_1', 'gabormean_1_2', 'gaborSD_1_2', 'gabormean_2_0', \n",
    "            'gaborSD_2_0', 'gabormean_2_1', 'gaborSD_2_1', 'gabormean_2_2', 'gaborSD_2_2', \n",
    "            'gabormean_3_0', 'gaborSD_3_0', 'gabormean_3_1', 'gaborSD_3_1', 'gabormean_3_2', \n",
    "            'gaborSD_3_2', 'Contrast', 'Correlation', 'Energy', 'Homogeneity', 'Entropy', \n",
    "            'x_3rdordermoment', 'Inversevariance', 'Sumaverage', 'Variance', 'Clustertendency', \n",
    "            'MaxProbability', 'dSpic2_5', 'dLob2_5', 'dCal1', 'dCal2', 'dCal3', 'dCal4', 'dCal5', \n",
    "            'dSubtl1_3', 'dIstru2', 'dIstru3','dSpher2_4','dMargin2_5', 'dTexture5', 'dManuf_GE', \n",
    "            'dManuf_S', 'dManuf_P']\n",
    "    \n",
    "    for i in range (len(feature)):\n",
    "\n",
    "        KLD_tt = df_KLD.where((df_KLD.Method== experimentID_orig) & (df_KLD.Features == feature[i]) & (df_KLD.Types == C)).dropna()['KLD_t_t']\n",
    "        KLD_rtt  = df_KLD.where((df_KLD.Method== experimentID) & (df_KLD.Features == feature[i]) & (df_KLD.Types == C)).dropna()['KLD_rt_t']\n",
    "\n",
    "        avg_tt = round(np.mean(KLD_tt),4)\n",
    "        avg2_rtt = round(np.mean(KLD_rtt),4)\n",
    "\n",
    "        kl_divergenceALL_T_T1.append(avg_tt)\n",
    "        kl_divergenceALL_RT_T2.append(avg2_rtt)\n",
    "        kl_featuresALL_T_T1.append(feature[i])\n",
    "        kl_featuresALL_RT_T2.append(feature[i])\n",
    "\n",
    "    return (kl_divergenceALL_T_T1, kl_divergenceALL_RT_T2, kl_featuresALL_T_T1, kl_featuresALL_RT_T2)\n",
    "\n",
    "\n",
    "# only for KLD All\n",
    "def KLD_cummulativeGraph(kl_divergenceALL_T_T1, kl_divergenceALL_RT_T2, kl_featuresALL_T_T1, kl_featuresALL_RT_T2):\n",
    "\n",
    "    tot_kl_divergence_T_T1 = round(np.sum(kl_divergenceALL_T_T1),1)\n",
    "    tot_kl_divergence_RT_T2 = round(np.sum(kl_divergenceALL_RT_T2),1)\n",
    "    klTitle = 'KL Divergence -  Train/Test= ' + str(tot_kl_divergence_T_T1) + ' vs. Retrain/Test= ' + str(tot_kl_divergence_RT_T2)\n",
    "\n",
    "\n",
    "    plt.figure(figsize=(16, 5))\n",
    "    plt.scatter(kl_featuresALL_T_T1, kl_divergenceALL_T_T1, s=35, c='red', label ='Train/Test')\n",
    "    plt.scatter(kl_featuresALL_RT_T2, kl_divergenceALL_RT_T2, s=35, c='blue', label ='Retrain/Test')\n",
    "    plt.xlabel(\"Features\", fontsize = 13, fontweight='bold')\n",
    "    plt.ylabel(\"KL Divergence\", fontsize = 13, fontweight='bold' )\n",
    "    plt.xticks(kl_featuresALL_T_T1,rotation=90)\n",
    "    plt.tick_params(axis='both', which='major', labelsize=12)\n",
    "    plt.title(klTitle, fontsize = 16, fontweight='bold')\n",
    "    plt.ylim(-1, 10)\n",
    "    plt.legend(fontsize=\"14\")\n",
    "    plt.grid()\n",
    "    plt.show()\n",
    "    "
   ]
  },
  {
   "cell_type": "code",
   "execution_count": 567,
   "id": "ecec64e7",
   "metadata": {},
   "outputs": [],
   "source": [
    "def vizHist(x1, x2, l1, l2):\n",
    "    fig, axes = plt.subplots(1, 2, figsize=(12,2.5), sharey=True, sharex=True, dpi=100)\n",
    "    sns.distplot(x1, bins=100, color=\"blue\", ax=axes[0],  axlabel=l1)\n",
    "    sns.distplot(x2, bins=100, color=\"red\", ax=axes[1],  axlabel=l2)\n",
    "    plt.xlim(0, 5)\n",
    "    plt.ylim(0, 5)\n",
    "\n",
    "def vizHist2(x1, x2, l1, l2):\n",
    "    fig, axes = plt.subplots(1, 2, figsize=(12,2.5), sharey=True, sharex=True, dpi=100)\n",
    "    sns.distplot(x1, bins=100, color=\"blue\", ax=axes[0],  axlabel=l1, kde = False)\n",
    "    sns.distplot(x2, bins=100, color=\"red\", ax=axes[1],  axlabel=l2, kde = False)\n",
    "    plt.xlim(0, 5)\n",
    "    plt.ylim(0, 180)"
   ]
  },
  {
   "cell_type": "code",
   "execution_count": 568,
   "id": "0491794b",
   "metadata": {},
   "outputs": [],
   "source": [
    "# Get terminal node (leaf) count\n",
    "\n",
    "def getLeafCount(rf_classifier, outfile):\n",
    "    estimator = rf_classifier.estimators_[3]\n",
    "    y_label = data_io['d_Malignancy'].astype(str) \n",
    "    y_labelF = y_label.values.tolist()\n",
    "\n",
    "    export_graphviz(estimator, out_file= outfile, \n",
    "                    feature_names = cols,\n",
    "                    class_names = y_labelF,\n",
    "                    rounded = True, proportion = False, \n",
    "                    precision = 2, filled = True)\n",
    "\n",
    "    # Convert to png using system command (requires Graphviz)\n",
    "    #dot_path = 'C:/Users/mgulasin/Anaconda3/Lib/site-packages/graphviz/dot.py'\n",
    "    check_call(['dot', '-Tpng', 'tree0.dot', '-o', 'tree0.png', '-Gdpi=600'])"
   ]
  },
  {
   "cell_type": "markdown",
   "id": "83e2a5e5",
   "metadata": {},
   "source": [
    "# Correlation"
   ]
  },
  {
   "cell_type": "markdown",
   "id": "339ee50a",
   "metadata": {},
   "source": [
    "### (1) Point-biserial Correlation - Binary vs Continious features "
   ]
  },
  {
   "cell_type": "code",
   "execution_count": 569,
   "id": "a274f75c",
   "metadata": {},
   "outputs": [
    {
     "data": {
      "text/plain": [
       "SignificanceResult(statistic=0.5877135629123086, pvalue=6.159368567350395e-134)"
      ]
     },
     "execution_count": 569,
     "metadata": {},
     "output_type": "execute_result"
    }
   ],
   "source": [
    "stats.pointbiserialr(data_io.ConvexArea, data_io.d_Malignancy)"
   ]
  },
  {
   "cell_type": "code",
   "execution_count": 570,
   "id": "84872ca8",
   "metadata": {},
   "outputs": [
    {
     "data": {
      "text/plain": [
       "SignificanceResult(statistic=0.6424561228996403, pvalue=9.83953476331702e-168)"
      ]
     },
     "execution_count": 570,
     "metadata": {},
     "output_type": "execute_result"
    }
   ],
   "source": [
    "stats.pointbiserialr(data_io.Perimeter, data_io.d_Malignancy)"
   ]
  },
  {
   "cell_type": "code",
   "execution_count": 571,
   "id": "87ebef6e",
   "metadata": {},
   "outputs": [
    {
     "data": {
      "text/plain": [
       "SignificanceResult(statistic=0.6907552781504034, pvalue=7.022624823982816e-204)"
      ]
     },
     "execution_count": 571,
     "metadata": {},
     "output_type": "execute_result"
    }
   ],
   "source": [
    "stats.pointbiserialr(data_io.EquivDiameter, data_io.d_Malignancy)"
   ]
  },
  {
   "cell_type": "code",
   "execution_count": 572,
   "id": "b999d8f9",
   "metadata": {},
   "outputs": [
    {
     "data": {
      "text/plain": [
       "SignificanceResult(statistic=0.673749204869255, pvalue=2.292324319850225e-190)"
      ]
     },
     "execution_count": 572,
     "metadata": {},
     "output_type": "execute_result"
    }
   ],
   "source": [
    "stats.pointbiserialr(data_io.MajorAxisLength, data_io.d_Malignancy)"
   ]
  },
  {
   "cell_type": "code",
   "execution_count": 573,
   "id": "46a6b6c8",
   "metadata": {},
   "outputs": [
    {
     "data": {
      "text/plain": [
       "SignificanceResult(statistic=0.6736102944926192, pvalue=2.9303975677673636e-190)"
      ]
     },
     "execution_count": 573,
     "metadata": {},
     "output_type": "execute_result"
    }
   ],
   "source": [
    "stats.pointbiserialr(data_io.MinorAxisLength, data_io.d_Malignancy)"
   ]
  },
  {
   "cell_type": "code",
   "execution_count": 574,
   "id": "b9c90812",
   "metadata": {},
   "outputs": [
    {
     "data": {
      "text/plain": [
       "SignificanceResult(statistic=0.13844892850780965, pvalue=1.4125697144346464e-07)"
      ]
     },
     "execution_count": 574,
     "metadata": {},
     "output_type": "execute_result"
    }
   ],
   "source": [
    "stats.pointbiserialr(data_io.Elongation, data_io.d_Malignancy)"
   ]
  },
  {
   "cell_type": "code",
   "execution_count": 575,
   "id": "bf64d09b",
   "metadata": {},
   "outputs": [
    {
     "data": {
      "text/plain": [
       "SignificanceResult(statistic=0.3255581677719555, pvalue=9.344183986031953e-37)"
      ]
     },
     "execution_count": 575,
     "metadata": {},
     "output_type": "execute_result"
    }
   ],
   "source": [
    "stats.pointbiserialr(data_io.Compactness, data_io.d_Malignancy)"
   ]
  },
  {
   "cell_type": "code",
   "execution_count": 576,
   "id": "6f8707d9",
   "metadata": {},
   "outputs": [
    {
     "data": {
      "text/plain": [
       "SignificanceResult(statistic=0.11909650581356912, pvalue=6.121760178620496e-06)"
      ]
     },
     "execution_count": 576,
     "metadata": {},
     "output_type": "execute_result"
    }
   ],
   "source": [
    "stats.pointbiserialr(data_io.Eccentricity, data_io.d_Malignancy)"
   ]
  },
  {
   "cell_type": "code",
   "execution_count": 577,
   "id": "f04385c6",
   "metadata": {},
   "outputs": [
    {
     "data": {
      "text/plain": [
       "SignificanceResult(statistic=-0.39651909525433354, pvalue=3.409373007040407e-55)"
      ]
     },
     "execution_count": 577,
     "metadata": {},
     "output_type": "execute_result"
    }
   ],
   "source": [
    "stats.pointbiserialr(data_io.Solidity, data_io.d_Malignancy)"
   ]
  },
  {
   "cell_type": "code",
   "execution_count": 578,
   "id": "bfec94cb",
   "metadata": {},
   "outputs": [
    {
     "data": {
      "text/plain": [
       "SignificanceResult(statistic=-0.2813888860789158, pvalue=1.660918153024796e-27)"
      ]
     },
     "execution_count": 578,
     "metadata": {},
     "output_type": "execute_result"
    }
   ],
   "source": [
    "stats.pointbiserialr(data_io.Extent, data_io.d_Malignancy)"
   ]
  },
  {
   "cell_type": "code",
   "execution_count": 579,
   "id": "5d541e9a",
   "metadata": {},
   "outputs": [
    {
     "data": {
      "text/plain": [
       "SignificanceResult(statistic=-0.323991086405517, pvalue=2.1205716422531978e-36)"
      ]
     },
     "execution_count": 579,
     "metadata": {},
     "output_type": "execute_result"
    }
   ],
   "source": [
    "stats.pointbiserialr(data_io.Circularity, data_io.d_Malignancy)"
   ]
  },
  {
   "cell_type": "code",
   "execution_count": 580,
   "id": "64ecee9a",
   "metadata": {},
   "outputs": [
    {
     "data": {
      "text/plain": [
       "SignificanceResult(statistic=-0.17717202150246952, pvalue=1.4101943814540807e-11)"
      ]
     },
     "execution_count": 580,
     "metadata": {},
     "output_type": "execute_result"
    }
   ],
   "source": [
    "stats.pointbiserialr(data_io.x_3rdordermoment, data_io.d_Malignancy)"
   ]
  },
  {
   "cell_type": "code",
   "execution_count": 581,
   "id": "7dcaed5e",
   "metadata": {},
   "outputs": [
    {
     "data": {
      "text/plain": [
       "SignificanceResult(statistic=-0.1581385343126504, pvalue=1.7321149901915374e-09)"
      ]
     },
     "execution_count": 581,
     "metadata": {},
     "output_type": "execute_result"
    }
   ],
   "source": [
    "stats.pointbiserialr(data_io.Clustertendency, data_io.d_Malignancy)"
   ]
  },
  {
   "cell_type": "code",
   "execution_count": 582,
   "id": "bc731fb6",
   "metadata": {},
   "outputs": [
    {
     "data": {
      "text/plain": [
       "SignificanceResult(statistic=-0.5176379942162603, pvalue=4.174473526969172e-99)"
      ]
     },
     "execution_count": 582,
     "metadata": {},
     "output_type": "execute_result"
    }
   ],
   "source": [
    "stats.pointbiserialr(data_io.MaxProbability, data_io.d_Malignancy)"
   ]
  },
  {
   "cell_type": "code",
   "execution_count": 583,
   "id": "fcc52ffe",
   "metadata": {},
   "outputs": [
    {
     "data": {
      "text/plain": [
       "SignificanceResult(statistic=0.7290328595044473, pvalue=4.969465812348956e-238)"
      ]
     },
     "execution_count": 583,
     "metadata": {},
     "output_type": "execute_result"
    }
   ],
   "source": [
    "stats.pointbiserialr(data_io.Entropy, data_io.d_Malignancy)"
   ]
  },
  {
   "cell_type": "code",
   "execution_count": 584,
   "id": "dabe15fe",
   "metadata": {},
   "outputs": [
    {
     "data": {
      "text/plain": [
       "SignificanceResult(statistic=0.680063592903406, pvalue=2.8170264697142028e-195)"
      ]
     },
     "execution_count": 584,
     "metadata": {},
     "output_type": "execute_result"
    }
   ],
   "source": [
    "stats.pointbiserialr(data_io.ConvexPerimeter, data_io.d_Malignancy)"
   ]
  },
  {
   "cell_type": "code",
   "execution_count": 585,
   "id": "e00e4467",
   "metadata": {},
   "outputs": [
    {
     "data": {
      "text/plain": [
       "SignificanceResult(statistic=-0.5701611689349703, pvalue=2.042594506858496e-124)"
      ]
     },
     "execution_count": 585,
     "metadata": {},
     "output_type": "execute_result"
    }
   ],
   "source": [
    "stats.pointbiserialr(data_io.Energy, data_io.d_Malignancy)"
   ]
  },
  {
   "cell_type": "code",
   "execution_count": 586,
   "id": "932e3773",
   "metadata": {},
   "outputs": [
    {
     "data": {
      "text/plain": [
       "SignificanceResult(statistic=0.5108957745876211, pvalue=3.6143222606916696e-96)"
      ]
     },
     "execution_count": 586,
     "metadata": {},
     "output_type": "execute_result"
    }
   ],
   "source": [
    "stats.pointbiserialr(data_io.RadialDistanceSD, data_io.d_Malignancy)"
   ]
  },
  {
   "cell_type": "code",
   "execution_count": 587,
   "id": "12419f8f",
   "metadata": {},
   "outputs": [
    {
     "data": {
      "text/plain": [
       "SignificanceResult(statistic=-0.5081102169318308, pvalue=5.655903378789574e-95)"
      ]
     },
     "execution_count": 587,
     "metadata": {},
     "output_type": "execute_result"
    }
   ],
   "source": [
    "stats.pointbiserialr(data_io.gabormean_2_0, data_io.d_Malignancy)"
   ]
  },
  {
   "cell_type": "code",
   "execution_count": 588,
   "id": "25c45a57",
   "metadata": {},
   "outputs": [
    {
     "data": {
      "text/plain": [
       "SignificanceResult(statistic=-0.5089796544406551, pvalue=2.4036244494107542e-95)"
      ]
     },
     "execution_count": 588,
     "metadata": {},
     "output_type": "execute_result"
    }
   ],
   "source": [
    "stats.pointbiserialr(data_io.gabormean_2_1, data_io.d_Malignancy)"
   ]
  },
  {
   "cell_type": "code",
   "execution_count": 589,
   "id": "f61625d7",
   "metadata": {},
   "outputs": [
    {
     "data": {
      "text/plain": [
       "SignificanceResult(statistic=-0.49662094311604815, pvalue=3.663798229057588e-90)"
      ]
     },
     "execution_count": 589,
     "metadata": {},
     "output_type": "execute_result"
    }
   ],
   "source": [
    "stats.pointbiserialr(data_io.gabormean_0_0, data_io.d_Malignancy)"
   ]
  },
  {
   "cell_type": "code",
   "execution_count": 590,
   "id": "43508158",
   "metadata": {},
   "outputs": [
    {
     "data": {
      "text/plain": [
       "SignificanceResult(statistic=-0.4956702585047497, pvalue=8.992668851339733e-90)"
      ]
     },
     "execution_count": 590,
     "metadata": {},
     "output_type": "execute_result"
    }
   ],
   "source": [
    "stats.pointbiserialr(data_io.gabormean_3_2, data_io.d_Malignancy)"
   ]
  },
  {
   "cell_type": "code",
   "execution_count": 591,
   "id": "7c19af99",
   "metadata": {},
   "outputs": [
    {
     "data": {
      "text/plain": [
       "SignificanceResult(statistic=-0.4918774192363833, pvalue=3.143860785283139e-88)"
      ]
     },
     "execution_count": 591,
     "metadata": {},
     "output_type": "execute_result"
    }
   ],
   "source": [
    "stats.pointbiserialr(data_io.gabormean_3_0, data_io.d_Malignancy)"
   ]
  },
  {
   "cell_type": "markdown",
   "id": "29cf5361",
   "metadata": {},
   "source": [
    "### (2) Tetrachoric Correlation - Binary vs Binary Features"
   ]
  },
  {
   "cell_type": "code",
   "execution_count": 592,
   "id": "e68c5332",
   "metadata": {},
   "outputs": [
    {
     "data": {
      "text/plain": [
       "0.7774041887297788"
      ]
     },
     "execution_count": 592,
     "metadata": {},
     "output_type": "execute_result"
    }
   ],
   "source": [
    "dSpic2_5 = computeCorr_binaryToBinary(data_io.d_Malignancy, data_io.dSpic2_5)\n",
    "dSpic2_5"
   ]
  },
  {
   "cell_type": "code",
   "execution_count": 593,
   "id": "17e046db",
   "metadata": {},
   "outputs": [
    {
     "data": {
      "text/plain": [
       "0.7519778394239477"
      ]
     },
     "execution_count": 593,
     "metadata": {},
     "output_type": "execute_result"
    }
   ],
   "source": [
    "dLob2_5 = computeCorr_binaryToBinary(data_io.d_Malignancy, data_io.dLob2_5)\n",
    "dLob2_5"
   ]
  },
  {
   "cell_type": "code",
   "execution_count": 594,
   "id": "11b67ca7",
   "metadata": {},
   "outputs": [
    {
     "data": {
      "text/plain": [
       "-0.9820761072274785"
      ]
     },
     "execution_count": 594,
     "metadata": {},
     "output_type": "execute_result"
    }
   ],
   "source": [
    "dCal3 = computeCorr_binaryToBinary(data_io.d_Malignancy, data_io.dCal3)\n",
    "dCal3"
   ]
  },
  {
   "cell_type": "code",
   "execution_count": 595,
   "id": "36458ec2",
   "metadata": {},
   "outputs": [
    {
     "data": {
      "text/plain": [
       "-0.7229246514229706"
      ]
     },
     "execution_count": 595,
     "metadata": {},
     "output_type": "execute_result"
    }
   ],
   "source": [
    "dSubtl1_3 = computeCorr_binaryToBinary(data_io.d_Malignancy, data_io.dSubtl1_3)\n",
    "dSubtl1_3"
   ]
  },
  {
   "cell_type": "code",
   "execution_count": 596,
   "id": "dff914a2",
   "metadata": {},
   "outputs": [
    {
     "data": {
      "text/plain": [
       "-0.3982922108990772"
      ]
     },
     "execution_count": 596,
     "metadata": {},
     "output_type": "execute_result"
    }
   ],
   "source": [
    "dIstru1 = computeCorr_binaryToBinary(data_io.d_Malignancy, data_io.dIstru1)\n",
    "dIstru1"
   ]
  },
  {
   "cell_type": "code",
   "execution_count": 597,
   "id": "a3035989",
   "metadata": {},
   "outputs": [
    {
     "data": {
      "text/plain": [
       "0.11165592449247792"
      ]
     },
     "execution_count": 597,
     "metadata": {},
     "output_type": "execute_result"
    }
   ],
   "source": [
    "dManuf_GE = computeCorr_binaryToBinary(data_io.d_Malignancy, data_io.dManuf_GE)\n",
    "dManuf_GE"
   ]
  },
  {
   "cell_type": "code",
   "execution_count": 598,
   "id": "60db46fb",
   "metadata": {},
   "outputs": [
    {
     "data": {
      "text/plain": [
       "-0.18343632122615844"
      ]
     },
     "execution_count": 598,
     "metadata": {},
     "output_type": "execute_result"
    }
   ],
   "source": [
    "dManuf_S = computeCorr_binaryToBinary(data_io.d_Malignancy, data_io.dManuf_S)\n",
    "dManuf_S"
   ]
  },
  {
   "cell_type": "code",
   "execution_count": 599,
   "id": "ed3c1fc5",
   "metadata": {},
   "outputs": [
    {
     "data": {
      "text/plain": [
       "0.10543648078025003"
      ]
     },
     "execution_count": 599,
     "metadata": {},
     "output_type": "execute_result"
    }
   ],
   "source": [
    "dManuf_P = computeCorr_binaryToBinary(data_io.d_Malignancy, data_io.dManuf_P)\n",
    "dManuf_P"
   ]
  },
  {
   "cell_type": "markdown",
   "id": "4aa18ffe",
   "metadata": {},
   "source": [
    "# Random Forest - Bagging (Bootstrap)"
   ]
  },
  {
   "cell_type": "markdown",
   "id": "9bfb3bdd",
   "metadata": {},
   "source": [
    "Uses Weighted Cross Entropy"
   ]
  },
  {
   "cell_type": "code",
   "execution_count": 600,
   "id": "c66ca45a",
   "metadata": {},
   "outputs": [],
   "source": [
    "# Libraries\n",
    "from sklearn.ensemble import RandomForestClassifier\n",
    "from sklearn.model_selection import GridSearchCV\n",
    "from sklearn.tree import plot_tree\n",
    "\n",
    "from sklearn.metrics import precision_recall_curve \n",
    "\n",
    "from sklearn.utils import shuffle\n",
    "from sklearn.metrics import confusion_matrix\n",
    "import scipy.stats as st\n",
    "\n",
    "from sklearn.model_selection import train_test_split\n",
    "\n",
    "#!pip install jenkspy\n",
    "import jenkspy\n",
    "\n",
    "# viz\n",
    "import seaborn as sns"
   ]
  },
  {
   "cell_type": "code",
   "execution_count": 601,
   "id": "ae0e26b9",
   "metadata": {},
   "outputs": [],
   "source": [
    "#---------------------------------------------------------------------------------------\n",
    "# PART-1: Create Variable List\n",
    "#---------------------------------------------------------------------------------------\n",
    "\n",
    "# DV: Malignancy (Ratings 4,5) vs Benign (Ratings 1,2) \n",
    "\n",
    "#IV: \n",
    "#   Design Features: (#15)\n",
    "#      Size: Area, ConvexArea, Perimeter, ConvexPerimeter, EquivDiameter, MajorAxisLength, MinorAxisLength \n",
    "#      Shape: Elongation, Eccentricity, Extent, Circularity, Compactness, Solidity, RadialDistanceSD, Roughness \n",
    "\n",
    "#   Semantic Feature: (#1)\n",
    "#      Spiculation: 1 = None (coded as 0), 2-5 = Spiculated (coded as 1)\n",
    "#      [dummy variable]\n",
    "\n",
    "#   Imaging Modality related Feature: (#3)\n",
    "#      Manufacturer name: GE, Siemens, Philips, Toshiba (coded as 0)\n",
    "#      [dummy variables]\n",
    "\n",
    "# Area, ConvexArea, Perimeter, ConvexPerimeter, EquivDiameter, MajorAxisLength, MinorAxisLength, Elongation, \n",
    "# Eccentricity, Extent, Circularity, Compactness, Solidity, RadialDistanceSD, Roughness\n",
    "\n",
    "\n",
    "cols = ['Area', 'ConvexArea', 'Perimeter', 'ConvexPerimeter', 'EquivDiameter', 'MajorAxisLength', \n",
    "        'MinorAxisLength', 'Elongation', 'Compactness', 'Eccentricity', 'Solidity', 'Extent', \n",
    "        'Circularity', 'RadialDistanceSD', 'SecondMoment', 'Roughness', 'MinIntensity', \n",
    "        'MaxIntensity', 'MeanIntensity', 'SDIntensity', 'MinIntensityBG', 'MaxIntensityBG', \n",
    "        'MeanIntensityBG', 'SDIntensityBG', 'IntensityDifference', 'markov1', 'markov2', \n",
    "        'markov3', 'markov4', 'markov5', 'gabormean_0_0', 'gaborSD_0_0', 'gabormean_0_1', \n",
    "        'gaborSD_0_1', 'gabormean_0_2', 'gaborSD_0_2', 'gabormean_1_0', 'gaborSD_1_0', \n",
    "        'gabormean_1_1', 'gaborSD_1_1', 'gabormean_1_2', 'gaborSD_1_2', 'gabormean_2_0', \n",
    "        'gaborSD_2_0', 'gabormean_2_1', 'gaborSD_2_1', 'gabormean_2_2', 'gaborSD_2_2', \n",
    "        'gabormean_3_0', 'gaborSD_3_0', 'gabormean_3_1', 'gaborSD_3_1', 'gabormean_3_2', \n",
    "        'gaborSD_3_2', 'Contrast', 'Correlation', 'Energy', 'Homogeneity', 'Entropy', \n",
    "        'x_3rdordermoment', 'Inversevariance', 'Sumaverage', 'Variance', 'Clustertendency', \n",
    "        'MaxProbability', 'dSpic2_5', 'dLob2_5', 'dCal1', 'dCal2', 'dCal3', 'dCal4', 'dCal5', \n",
    "        'dSubtl1_3', 'dIstru2', 'dIstru3','dSpher2_4','dMargin2_5', 'dTexture5', 'dManuf_GE', \n",
    "        'dManuf_S', 'dManuf_P']\n",
    "\n",
    "\n",
    "X=data_io[cols]\n",
    "y=data_io['d_Malignancy']"
   ]
  },
  {
   "cell_type": "code",
   "execution_count": 602,
   "id": "9f4f41ad",
   "metadata": {},
   "outputs": [],
   "source": [
    "# #---------------------------------------------------------------------------------------\n",
    "# # PART-2: Tunable Parameters\n",
    "# #---------------------------------------------------------------------------------------\n",
    "# # https://scikit-learn.org/stable/modules/generated/sklearn.ensemble.RandomForestClassifier.html\n",
    "\n",
    "# # max_depth: The number of splits that each decision tree is allowed to make. default: max_depth=None\n",
    "# # n_estimators: Number of trees the algorithm builds before averaging the predictions. default: n_estimators=100\n",
    "# # mini_sample_leaf: Determines the minimum number of leaves required to split an internal node. min_sample_split = 2 (this means every node has 2 subnodes)\n",
    "# # criterion: How to split the node in each tree? (Entropy/Gini impurity (default gini)/Log Loss)  \n",
    "# # max_features: Maximum number of features RF considers splitting a node. max_features=\"sqrt\" [available: [\"sqrt\", \"log2\", None}]\n",
    "# # max_leaf_nodes: Maximum leaf nodes in each tree. default: max_leaf_nodes = None\n",
    "# # max_sample: determines how much of the dataset is given to each individual tree. default: max_sample = None; (this means data.shape[0] is taken)\n",
    "# # cv : cross-validation\n",
    "\n",
    "# # cost: for class weights \n",
    "# mCountA = len(data_io[data_io['d_Malignancy']== 1])\n",
    "# bCountA = len(data_io[data_io['d_Malignancy']== 0])\n",
    "# IR      = mCountA/bCountA\n",
    "    \n",
    "    \n",
    "# rf = RandomForestClassifier(random_state=42, n_jobs=-1,  class_weight = {0: IR, 1: 2}, bootstrap=True)\n",
    "# params = {\n",
    "#            'max_depth': [2,3,5,10,20],\n",
    "#            'n_estimators': [10,25,30,50,100,200],\n",
    "#            'min_samples_leaf': [5,10,20,50,100,200],\n",
    "#            'criterion' : ['log_loss'],\n",
    "#            #'criterion' : ['gini', 'log_loss', 'entropy'],\n",
    "#            'max_features': ['sqrt', 'log2', None],\n",
    "#            'max_leaf_nodes': [2,3,5,6,8,10]\n",
    "#           }\n",
    "\n",
    "        \n",
    "# # Instantiate the grid search model\n",
    "# grid_search = GridSearchCV(estimator=rf,\n",
    "#                            param_grid=params,\n",
    "#                            cv = 4,\n",
    "#                            n_jobs=-1, verbose=1, scoring=\"accuracy\")\n",
    "\n",
    "# grid_search.fit(X, y)\n",
    "\n",
    "# best_score_ = grid_search.best_score_\n",
    "# best_score_ \n",
    "# rf_best = grid_search.best_estimator_\n",
    "# rf_best\n",
    "\n",
    "                                                     "
   ]
  },
  {
   "cell_type": "code",
   "execution_count": 603,
   "id": "f5e63450",
   "metadata": {},
   "outputs": [],
   "source": [
    "# best_score_ "
   ]
  },
  {
   "cell_type": "code",
   "execution_count": 604,
   "id": "573d5411",
   "metadata": {},
   "outputs": [],
   "source": [
    "# # Visualize\n",
    "# plt.figure(figsize=(80,40))\n",
    "# plot_tree(rf_best.estimators_[5], feature_names = X.columns,class_names=['Malignant', \"Benign\"],filled=True);"
   ]
  },
  {
   "cell_type": "code",
   "execution_count": 605,
   "id": "3909a9b7",
   "metadata": {},
   "outputs": [],
   "source": [
    "# # Feature importance\n",
    "# rf_best.feature_importances_\n",
    "\n",
    "# imp_df = pd.DataFrame({ \"Varname\": X.columns,\n",
    "#                         \"Imp\": rf_best.feature_importances_\n",
    "#                        })\n",
    "# imp_df.sort_values(by=\"Imp\", ascending=False)\n",
    "\n",
    "# imp_df.to_csv('./_SubsetsCreated/RF/RF_New_FHLOne_Agr/FeatureImportance_SelectedFeatures_logloss.csv')"
   ]
  },
  {
   "cell_type": "code",
   "execution_count": null,
   "id": "9637bb54",
   "metadata": {},
   "outputs": [],
   "source": []
  },
  {
   "cell_type": "code",
   "execution_count": 606,
   "id": "aa595c4a",
   "metadata": {},
   "outputs": [
    {
     "name": "stdout",
     "output_type": "stream",
     "text": [
      "0.7137\n"
     ]
    }
   ],
   "source": [
    "#-------------------------------------------------------------------------------------------------------\n",
    "# PART-3: Preprocessing : Compute OoD Score and Initial Threshold - Will be used for all experiments\n",
    "#-------------------------------------------------------------------------------------------------------\n",
    "\n",
    "df_f1thresh = pd.DataFrame(columns = ['f1_threshold']) \n",
    "\n",
    "    \n",
    "# cost: https://fraud-detection-handbook.github.io/fraud-detection-handbook/Chapter_6_ImbalancedLearning/CostSensitive.html\n",
    "mCountA = len(data_io[data_io['d_Malignancy']== 1])\n",
    "bCountA = len(data_io[data_io['d_Malignancy']== 0])\n",
    "IR      = mCountA/bCountA\n",
    "\n",
    "rf_classifier = RandomForestClassifier(criterion='log_loss', max_depth=10, max_features=None,\n",
    "                                       class_weight = {0:0.5, 1: 2},\n",
    "                                       max_leaf_nodes=3, min_samples_leaf=5, n_estimators=100,\n",
    "                                       n_jobs=-1, random_state=42)\n",
    "\n",
    "\n",
    "rf_classifier.fit(X, y)\n",
    "\n",
    "# Compute predicted probability for each sample\n",
    "data_io['Pred_prob_ALL'] = rf_classifier.predict_proba(data_io[X.columns])[:,1]\n",
    "\n",
    "\n",
    "# Compute log loss for each sample - Whole dataset - TO IDENTIFY ID vs OoD Samples\n",
    "data_io[\"Log_Loss_ALL\"] = 0\n",
    "\n",
    "for i in range(0, len(data_io)):\n",
    "    mCount = len(data_io[data_io['d_Malignancy']== 1])\n",
    "    bCount = len(data_io[data_io['d_Malignancy']== 0])\n",
    "    w0     = (mCount + bCount)/ (2 * bCount)      # benign\n",
    "    w1     = (mCount + bCount)/ (2 * mCount)      # malignant\n",
    "\n",
    "    act = data_io.d_Malignancy\n",
    "    predProb = data_io.Pred_prob_ALL\n",
    "    wtLogLoss = wighted_logLoss(act, predProb, w0, w1) \n",
    "    wtLogLoss = round(wtLogLoss, 6)\n",
    "    data_io['Log_Loss_ALL'] = wtLogLoss\n",
    "\n",
    "\n",
    "# Create the Precision-Recall curve\n",
    "precision, recall, thresholds_pr = precision_recall_curve(y, rf_classifier.predict_proba(data_io[X.columns])[:,1])\n",
    "# Calculate the f-score\n",
    "fscore = (2 * precision * recall) / (precision + recall)\n",
    "\n",
    "# Find the optimal threshold\n",
    "index_pr = np.argmax(fscore)\n",
    "thresholdOpt_pr = round(thresholds_pr[index_pr], ndigits = 4)\n",
    "\n",
    "#print(thresholdOpt_pr)\n",
    "df_f1thresh.loc[len(df_f1thresh)] = thresholdOpt_pr\n",
    "    \n",
    "avgf1 = df_f1thresh[\"f1_threshold\"].mean()\n",
    "print(avgf1)\n",
    "\n",
    "data_io.to_csv(\"RF_2K.csv\")"
   ]
  },
  {
   "cell_type": "code",
   "execution_count": 607,
   "id": "e55b2037",
   "metadata": {},
   "outputs": [],
   "source": [
    "# Initial threshold for splitting OOD instances for all experiments\n",
    "gf1_Threshold = avgf1"
   ]
  },
  {
   "cell_type": "markdown",
   "id": "fbc11753",
   "metadata": {},
   "source": [
    "#### Visualize by OoD Score"
   ]
  },
  {
   "cell_type": "code",
   "execution_count": 608,
   "id": "b7f83cdd",
   "metadata": {},
   "outputs": [
    {
     "data": {
      "text/plain": [
       "<matplotlib.legend.Legend at 0x34bccc950>"
      ]
     },
     "execution_count": 608,
     "metadata": {},
     "output_type": "execute_result"
    },
    {
     "data": {
      "image/png": "[encoded data removed]",
      "text/plain": [
       "<Figure size 800x500 with 1 Axes>"
      ]
     },
     "metadata": {},
     "output_type": "display_data"
    }
   ],
   "source": [
    "x1 = data_io.loc[(data_io[\"Log_Loss_ALL\"] < gf1_Threshold).dropna(), ['Log_Loss_ALL']]    # ID\n",
    "x2 = data_io.loc[(data_io[\"Log_Loss_ALL\"] >= gf1_Threshold).dropna(), ['Log_Loss_ALL']]   # OoD\n",
    "\n",
    "\n",
    "# set range\n",
    "minRange = np.floor(data_io['Log_Loss_ALL'].min())   # min height - round down\n",
    "maxRange = np.ceil(data_io['Log_Loss_ALL'].max())    # max height - round up\n",
    "HRANGE = (minRange-10, maxRange+10)                  # to cover the whole data + padd 10 on either side for display\n",
    "    \n",
    "BINS = 100\n",
    "\n",
    "# plot\n",
    "plt.figure(figsize=(8,5))\n",
    "plt.hist(x1, bins=BINS,  range=HRANGE, color='blue', edgecolor='k', alpha = 0.55, label='ID', density=True)\n",
    "plt.hist(x2, bins=BINS, range=HRANGE, color='red', edgecolor='k', alpha = 0.55, label='OoD', density=True)\n",
    "plt.grid(lw=.5, ls='--')\n",
    "plt.title('ID vs OoD', y=1.05, size=11, fontweight='bold')\n",
    "plt.ylabel('Density', fontsize=9, fontweight='bold')\n",
    "plt.xlabel('OoD Score', fontsize=9, fontweight='bold')\n",
    "plt.legend(fontsize=8)    "
   ]
  },
  {
   "cell_type": "code",
   "execution_count": 609,
   "id": "c8c279b4",
   "metadata": {},
   "outputs": [
    {
     "data": {
      "image/png": "[encoded data removed]",
      "text/plain": [
       "<Figure size 1200x250 with 2 Axes>"
      ]
     },
     "metadata": {},
     "output_type": "display_data"
    }
   ],
   "source": [
    "x1 = data_io.loc[(data_io[\"Log_Loss_ALL\"] < gf1_Threshold), ['Log_Loss_ALL']]    # ID\n",
    "x2 = data_io.loc[(data_io[\"Log_Loss_ALL\"] >= gf1_Threshold), ['Log_Loss_ALL']]   # OoD\n",
    "vizHist(x1, x2, \"ID\", \"OoD\")"
   ]
  },
  {
   "cell_type": "markdown",
   "id": "149d5e24",
   "metadata": {},
   "source": [
    "## Experiments"
   ]
  },
  {
   "cell_type": "code",
   "execution_count": 610,
   "id": "1554be9d",
   "metadata": {},
   "outputs": [],
   "source": [
    "# confusion matrics results for 30 iterations for all experiments\n",
    "df_CM = pd.DataFrame(columns=['Iter_ID', 'Method', 'Sen_train', 'Spe_train', 'Acc_train', 'Pre_train', 'F1_train', \n",
    "                              'Sen_retrain', 'Spe_retrain', 'Acc_retrain', 'Pre_retrain', 'F1_retrain', \n",
    "                              'Sen_test', 'Spe_test', 'Acc_test', 'Pre_test', 'F1_test',\n",
    "                              'train_TN', 'train_FN', 'train_FP', 'train_TP', \n",
    "                              'retrain_TN', 'retrain_FN', 'retrain_FP', 'retrain_TP',  \n",
    "                              'test_TN', 'test_FN', 'test_FP', 'test_TP'])\n",
    "\n",
    "# sampel counts for training, test1idation, test2 and retrain for 30 iterations\n",
    "df_Counts = pd.DataFrame(columns=['Iter_ID', 'Method', 'trainSet_nOOD', 'trainSet_OOD', 'reserveSet_nOOD', 'reserveSet_OOD', \n",
    "                                   'retrainSet_nOOD', 'retrainSet_OOD', 'testSet_nOOD', 'testSet_OOD'])\n",
    "\n",
    "df_KLD = pd.DataFrame(columns=['Iter_ID', 'Method', 'Features', 'KLD_t_t', 'KLD_rt_t', 'Types'])\n",
    "\n",
    "\n",
    "# to identify ood score ranges for ID/OoD samples. ALso capture correctly classified and misclassified\n",
    "# SampleType - ID or OoD.    TType - training, retraining, testing\n",
    "df_OodRange = pd.DataFrame(columns=['Iter_ID', 'Method', 'TType', 'SampleType', 'MinOodScore','MaxOodScore'])\n",
    "\n",
    "# To identify correctly classified and misclassified\n",
    "#df_CMresults = pd.DataFrame(columns=['Iter_ID', 'Method', 'TType', 'TP','TN', 'FP', 'FN'])"
   ]
  },
  {
   "cell_type": "markdown",
   "id": "281b3f61",
   "metadata": {},
   "source": [
    "### Baseline - Train - 70% ID, 0% OoD | Test - 30% ID, 30% OoD"
   ]
  },
  {
   "cell_type": "code",
   "execution_count": 611,
   "id": "ce7711ff",
   "metadata": {},
   "outputs": [
    {
     "name": "stdout",
     "output_type": "stream",
     "text": [
      "data_io - max =  4.02317\n",
      "Total N =  1434\n",
      "ID Count =  1277\n",
      "OoD Count =  157\n",
      "\n",
      "4.02317\n",
      "3.000315\n",
      "1.710696\n",
      "0.719664\n",
      "   \n",
      "4.02317\n",
      "0.719664\n"
     ]
    }
   ],
   "source": [
    "# This code is for experimenting\n",
    "print(\"data_io - max = \", str(data_io['Log_Loss_ALL'].max()))\n",
    "\n",
    "ID_set = data_io.loc[(data_io[\"Log_Loss_ALL\"] < gf1_Threshold)] # ID samples\n",
    "OoD_set = data_io.loc[(data_io[\"Log_Loss_ALL\"] >= gf1_Threshold)] # OoD samples\n",
    "bins_plt = jenkspy.jenks_breaks(OoD_set['Log_Loss_ALL'], n_classes=3) \n",
    "\n",
    "#topGroup5 = bins_plt[0]  #  lowest value\n",
    "topGroup4 = bins_plt[0] \n",
    "topGroup3 = bins_plt[1] \n",
    "topGroup2 = bins_plt[2]  # Highest value\n",
    "topGroup1 = bins_plt[3]\n",
    "\n",
    "print(\"Total N = \", len(data_io))\n",
    "print(\"ID Count = \", len(ID_set))\n",
    "print(\"OoD Count = \", len(OoD_set))\n",
    "\n",
    "print(\"\")\n",
    "print(topGroup1)\n",
    "print(topGroup2)\n",
    "print(topGroup3)\n",
    "print(topGroup4)\n",
    "#print(topGroup5)\n",
    "\n",
    "print(\"   \")\n",
    "print(OoD_set[\"Log_Loss_ALL\"].max())\n",
    "print(OoD_set[\"Log_Loss_ALL\"].min())"
   ]
  },
  {
   "cell_type": "code",
   "execution_count": 612,
   "id": "9ee87f84",
   "metadata": {},
   "outputs": [],
   "source": [
    "# experimentID \n",
    "# total_IDpct - ID samples - split 70 train and 30 test\n",
    "# total_OoDpct - OoD samples - split 70 reserve and 30 test\n",
    "# lcl     - top N% to extract from Reserve to add to retraining based on Ood Score grouping\n",
    "\n",
    "#def assignSample_trainClassifier(experimentID, total_IDpct, total_OoDpct, numIter):\n",
    "\n",
    "def assignSample_trainClassifier(numIter):\n",
    "    \n",
    "    #global gf1Smm_train_dataF, gf1Smm_reserve_dataF, gf1Smm_test_dataF, gf1Smm_retrain_dataF\n",
    "    \n",
    "    #print(numIter)\n",
    "    #-------------------------------------------------------------------------------------------------------------\n",
    "    # PART-1: CREATE TRAINING, RESERVE and TEST Sets\n",
    "    #-------------------------------------------------------------------------------------------------------------\n",
    "\n",
    "    # STEP-1: Seperate ID and OoD Samples\n",
    "    # Create training and test sets based on thresholded value\n",
    "    \n",
    "    data_io['LogLoss_Group'] = ''  # create a grouping field\n",
    "    \n",
    "    gf1Smm_ID_set = data_io.loc[(data_io[\"Log_Loss_ALL\"] < gf1_Threshold)] # ID samples\n",
    "    gf1Smm_OoD_set = data_io.loc[(data_io[\"Log_Loss_ALL\"] >= gf1_Threshold)] # OoD samples\n",
    "\n",
    "    # get counts\n",
    "    gf1Smm_ID_set.shape  # -- ID samples\n",
    "    gf1Smm_OoD_set.shape  # -- OoD Samles\n",
    "\n",
    "\n",
    "    # STEP-2: ID Sample allocation for for Training and Testing\n",
    "    # ID Samples: stratify ID samples by malignancy and manufacturer. Train 70% test 30%\n",
    "    gf1Smm_ID_set = shuffle(gf1Smm_ID_set) # shuffle ID samples\n",
    "    #gf1Smm_train_ID, gf1Smm_test_ID = train_test_split(gf1Smm_ID_set, test_size=0.3, stratify=gf1Smm_ID_set[[\"d_MalignancyDesc\", \"Manufacturer\"]])\n",
    "    gf1Smm_train_ID, gf1Smm_test_ID = train_test_split(gf1Smm_ID_set, test_size=0.3, stratify=gf1Smm_ID_set[[\"d_MalignancyDesc\"]])\n",
    "        \n",
    "\n",
    "    \n",
    "    # STEP-3: OoD Sample allocation for Reserve and Test - gf1Smm_OoD_set is OoD samples\n",
    "    # OoD Samples: Group log loss value to groups for stratification add top G%\n",
    "\n",
    "    #n_plt, bins_plt, patches = plt.hist(gf1Smm_OoD_set.Log_Loss_ALL, bins=4) # BASED ON HISTOGRAM\n",
    "    bins_plt = jenkspy.jenks_breaks(gf1Smm_OoD_set['Log_Loss_ALL'], n_classes=3) # based on natural breaks\n",
    "\n",
    "    topGroup4 = bins_plt[0]  # top group 4 - lowest value\n",
    "    topGroup3 = bins_plt[1]  # top group 3\n",
    "    topGroup2 = bins_plt[2]  # top group 2\n",
    "    topGroup1 = bins_plt[3]  # top group 1 - Highest value\n",
    "\n",
    "    # update group based on lower bound\n",
    "    gf1Smm_OoD_set.loc[((gf1Smm_OoD_set[\"Log_Loss_ALL\"] <= bins_plt[1])) , \"LogLoss_Group\"] = bins_plt[0]\n",
    "    gf1Smm_OoD_set.loc[((gf1Smm_OoD_set[\"Log_Loss_ALL\"] >bins_plt[1]) & (gf1Smm_OoD_set[\"Log_Loss_ALL\"] <= bins_plt[2])) , \"LogLoss_Group\"] = bins_plt[1]\n",
    "    gf1Smm_OoD_set.loc[((gf1Smm_OoD_set[\"Log_Loss_ALL\"] >bins_plt[2]) & (gf1Smm_OoD_set[\"Log_Loss_ALL\"] <= bins_plt[3])) , \"LogLoss_Group\"] = bins_plt[2]\n",
    "    gf1Smm_OoD_set.loc[((gf1Smm_OoD_set[\"Log_Loss_ALL\"] >bins_plt[3])) , \"LogLoss_Group\"] = bins_plt[3]\n",
    "\n",
    "    # OoD Samples: stratify OoD samples by malignancy ood score grouping and manufacturer. Train 70% test 30%\n",
    "    gf1Smm_OoD_set = shuffle(gf1Smm_OoD_set) # shuffle ID samples\n",
    "    gf1Smm_reserve_OOD, gf1Smm_test_OOD = train_test_split(gf1Smm_OoD_set, test_size=0.3, stratify=gf1Smm_OoD_set[[\"d_MalignancyDesc\", \"LogLoss_Group\"]])\n",
    "\n",
    "    \n",
    "    gf1Smm_train_dataF = gf1Smm_train_ID\n",
    "    gf1Smm_reserve_dataF = gf1Smm_reserve_OOD\n",
    "    gf1Smm_test_dataF = pd.concat([gf1Smm_test_ID, gf1Smm_test_OOD])\n",
    "    \n",
    "    \n",
    "    \n",
    "    #-------------------------------------------------------------------------------------------------------------\n",
    "    # PART-2: TRAIN RF CLASSIFIER\n",
    "    #-------------------------------------------------------------------------------------------------------------\n",
    "\n",
    "    # STEP-1: # Select fields to use based on training set - IMPORTANT\n",
    "\n",
    "    # I/P features: Design Features and SF, Manufacturer - added based on correlation values\n",
    "    cols=['ConvexArea', 'Perimeter', 'EquivDiameter', 'MajorAxisLength', 'MinorAxisLength', 'Elongation', 'Compactness', \n",
    "          'Eccentricity', 'Solidity', 'Extent', 'Circularity', 'x_3rdordermoment', 'Clustertendency', 'MaxProbability', \n",
    "          'Entropy', 'ConvexPerimeter', 'Energy', 'RadialDistanceSD', 'gabormean_2_0', 'gabormean_2_1', \n",
    "          'gabormean_0_0', 'gabormean_3_2', 'gabormean_3_0', 'dSpic2_5', 'dLob2_5', 'dCal3', 'dSubtl1_3', 'dIstru1', \n",
    "          'dManuf_GE', 'dManuf_S', 'dManuf_P'] \n",
    "\n",
    "\n",
    "    gf1SmmX_train = gf1Smm_train_dataF[cols]\n",
    "    gf1Smmy_train = gf1Smm_train_dataF['d_Malignancy']\n",
    "\n",
    "    gf1SmmX_reserve = gf1Smm_reserve_dataF[cols]\n",
    "    gf1Smmy_reserve = gf1Smm_reserve_dataF['d_Malignancy']  \n",
    "\n",
    "    gf1SmmX_test = gf1Smm_test_dataF[cols]\n",
    "    gf1Smmy_test = gf1Smm_test_dataF['d_Malignancy'] \n",
    "\n",
    "\n",
    "    # STEP-2: Train Classifier and fit the classifier\n",
    "    \n",
    "    # cost: \n",
    "    mCountA = len(data_io[data_io['d_Malignancy']== 1])\n",
    "    bCountA = len(data_io[data_io['d_Malignancy']== 0])\n",
    "    IR      = mCountA/bCountA\n",
    "    \n",
    "    rfExp_classifier = RandomForestClassifier(criterion='log_loss', max_depth=10, max_features=None,\n",
    "                                              class_weight = {0: IR, 1: 1.5},\n",
    "                                               max_leaf_nodes=3, min_samples_leaf=5, n_estimators=100,\n",
    "                                               n_jobs=-1, random_state=42)\n",
    "\n",
    "\n",
    "    # Assuming you have already defined and imported the measure_performance function\n",
    "\n",
    "# Measure the performance of rfExp_classifier.fit()\n",
    "    trained_model, training_time, cpu_usage, memory_usage, gpu_usage = measure_performance(rfExp_classifier.fit, gf1SmmX_train, gf1Smmy_train)\n",
    "\n",
    "    print(\"Training time:\", training_time, \"seconds\")\n",
    "    print(\"CPU usage:\", cpu_usage, \"%\")\n",
    "    print(\"Memory usage:\", memory_usage, \"bytes\")\n",
    "    print(\"GPU usage:\", gpu_usage, \"%\")\n",
    "\n",
    "\n",
    "    # get terminal node\n",
    "    #getLeafCount(rfExp_classifier, 'tree_2kA1_10_0.dot')\n",
    "    \n",
    "\n",
    "    \n",
    "    #-------------------------------------------------------------------------------------------------------------\n",
    "    # PART-3: EVALUATE TRAINING, TEST PERFORMANCE\n",
    "    #-------------------------------------------------------------------------------------------------------------\n",
    "\n",
    "    # STEP-1: Obtain Threshold using Training set for GMeans method\n",
    "\n",
    "    # calculate roc curves - Thresold based on Training\n",
    "    precision_f1Smm, recall_f1Smm, thresholds_pr_f1Smm = precision_recall_curve(gf1Smmy_train, rfExp_classifier.predict_proba(gf1Smm_train_dataF[gf1SmmX_train.columns])[:,1])\n",
    "    \n",
    "    # Calculate the f-score\n",
    "    fscore_f1Smm = (2 * precision_f1Smm * recall_f1Smm) / (precision_f1Smm + recall_f1Smm)\n",
    "\n",
    "    # Find the optimal threshold\n",
    "    index_pr_f1Smm = np.argmax(fscore_f1Smm)\n",
    "    gf1Smm_trainThreshold = round(thresholds_pr_f1Smm[index_pr_f1Smm], ndigits = 4)\n",
    "    \n",
    "    \n",
    "\n",
    "    # STEP-2: Compute predicted Probabilities - first round (based on training)\n",
    "    gf1Smm_train_dataF['Pred_prob1']   = rfExp_classifier.predict_proba(gf1Smm_train_dataF[gf1SmmX_train.columns])[:,1]\n",
    "    gf1Smm_reserve_dataF['Pred_prob1'] = rfExp_classifier.predict_proba(gf1Smm_reserve_dataF[gf1SmmX_reserve.columns])[:,1]\n",
    "    gf1Smm_test_dataF['Pred_prob1']    = rfExp_classifier.predict_proba(gf1Smm_test_dataF[gf1SmmX_test.columns])[:,1] \n",
    "    \n",
    "\n",
    "    # STEP-3: Compute Pred_Y based on the predicted probability and threshold\n",
    "    #         if pred Pred_prob >= threshold, then Pred_Y = 1, else 0\n",
    "\n",
    "    T = gf1Smm_trainThreshold\n",
    "    #print(\"Train Threshold = \", str(T))\n",
    "\n",
    "    # Train - compute Pred_Y\n",
    "    gf1Smm_train_dataF[\"Pred_Y1\"] = 0\n",
    "    gf1Smm_train_dataF.loc[gf1Smm_train_dataF[\"Pred_prob1\"] > T, \"Pred_Y1\"] = 1\n",
    "\n",
    "    # Reserve - compute Pred_Y\n",
    "    gf1Smm_reserve_dataF[\"Pred_Y1\"] = 0\n",
    "    gf1Smm_reserve_dataF.loc[gf1Smm_reserve_dataF[\"Pred_prob1\"] > T, \"Pred_Y1\"] = 1\n",
    "\n",
    "    # Tests - compute Pred_Y\n",
    "    gf1Smm_test_dataF[\"Pred_Y1\"] = 0\n",
    "    gf1Smm_test_dataF.loc[gf1Smm_test_dataF[\"Pred_prob1\"] > T, \"Pred_Y1\"] = 1\n",
    "\n",
    "\n",
    "    # check if the variables were created and populated correctly\n",
    "    gf1Smm_train_dataF[['noduleID', 'd_Malignancy','Pred_prob1', 'Pred_Y1']].head(10)\n",
    "    gf1Smm_reserve_dataF[['noduleID', 'd_Malignancy','Pred_prob1', 'Pred_Y1']].head(10)\n",
    "    gf1Smm_test_dataF[['noduleID', 'd_Malignancy','Pred_prob1', 'Pred_Y1']].head(10)\n",
    "\n",
    "\n",
    "    # Step-4: Confusion matrix for training and test set\n",
    "    # funcation to compute and return values for - training and test performance\n",
    "    Sen_gf1Smm_train, Spe_gf1Smm_train, Acc_gf1Smm_train, Pre_gf1Smm_train, F1_gf1Smm_train, train_TN, train_FN, train_FP, train_TP = confMatrixResults(gf1Smm_train_dataF.d_Malignancy, gf1Smm_train_dataF.Pred_Y1)\n",
    "    Sen_gf1Smm_test, Spe_gf1Smm_test, Acc_gf1Smm_test, Pre_gf1Smm_test, F1_gf1Smm_test, test_TN, test_FN, test_FP, test_TP = confMatrixResults(gf1Smm_test_dataF.d_Malignancy, gf1Smm_test_dataF.Pred_Y1)  \n",
    "    \n",
    "    \n",
    "    \n",
    "    # train, reserve, test samples, last 2 for counts\n",
    "    return gf1Smm_train_dataF, gf1Smm_reserve_dataF, gf1Smm_test_dataF, gf1Smm_test_ID, gf1Smm_test_OOD, topGroup1, topGroup2, topGroup3, topGroup4, gf1SmmX_reserve, gf1Smmy_reserve, gf1SmmX_test, gf1Smmy_test, Sen_gf1Smm_train, Spe_gf1Smm_train, Acc_gf1Smm_train, Pre_gf1Smm_train, F1_gf1Smm_train, train_TN, train_FN, train_FP, train_TP, test_TN, test_FN, test_FP, test_TP"
   ]
  },
  {
   "cell_type": "code",
   "execution_count": 613,
   "id": "ebd2644b",
   "metadata": {},
   "outputs": [],
   "source": [
    "\n",
    "def createRetrainSet(gf1Smm_train_dataF, gf1Smm_reserve_dataF, gf1Smm_test_dataF, gf1Smm_test_ID, gf1Smm_test_OOD, \n",
    "                      topGroup1, topGroup2, topGroup3, topGroup4, gf1SmmX_reserve, gf1Smmy_reserve, gf1SmmX_test, \n",
    "                      gf1Smmy_test, Sen_gf1Smm_train, Spe_gf1Smm_train, Acc_gf1Smm_train, Pre_gf1Smm_train, \n",
    "                      F1_gf1Smm_train, train_TN, train_FN, train_FP, train_TP, test_TN, test_FN, test_FP, test_TP, \n",
    "                      numIter):\n",
    "\n",
    "    #print(topGroup1, topGroup2, topGroup3, topGroup4)\n",
    "    #print(\"itemID --- createRetrainSet = \", str(numIter))\n",
    "    \n",
    "    #-------------------------------------------------------------------------------------------------------------\n",
    "    # PART-4: Create retraining sample and retrain classifier based on OoD Score group\n",
    "    #-------------------------------------------------------------------------------------------------------------\n",
    "\n",
    "    # SETP-1: Extract the OOD Samples from test1 Set Added to Training\n",
    "    \n",
    "    # TOP GROUP 0 \n",
    "    # Add top group first topGroup1\n",
    "    experimentID = 'Experiment1_0'\n",
    "    \n",
    "    gf1Smm_oodSamples_toAdd = gf1Smm_reserve_dataF.loc[gf1Smm_reserve_dataF['Log_Loss_ALL'] < topGroup4] # on OODs\n",
    "    gf1Smm_oodSamples_toAdd.shape\n",
    "    #gf1Smm_reserve_dataF.to_csv(\"reserve.csv\")\n",
    "\n",
    "    # create retraining set\n",
    "    gf1Smm_retrain_dataF = pd.concat([gf1Smm_train_dataF, gf1Smm_oodSamples_toAdd])\n",
    "\n",
    "    # call retrainClassifier\n",
    "    retrainClassifier(gf1Smm_train_dataF, gf1Smm_reserve_dataF, gf1Smm_retrain_dataF, gf1Smm_test_dataF, gf1Smm_test_ID, \n",
    "                      gf1Smm_test_OOD, topGroup1, topGroup2, topGroup3, topGroup4, gf1SmmX_reserve, gf1Smmy_reserve, \n",
    "                      gf1SmmX_test, gf1Smmy_test, Sen_gf1Smm_train, Spe_gf1Smm_train, Acc_gf1Smm_train, Pre_gf1Smm_train, \n",
    "                      F1_gf1Smm_train, train_TN, train_FN, train_FP, train_TP, test_TN, test_FN, test_FP, test_TP,\n",
    "                      experimentID, numIter, gf1Smm_oodSamples_toAdd, 'tree_2kA1_10_x.dot')\n",
    "\n",
    "    # KLD Values\n",
    "    KLD_cummValues(numIter, experimentID, gf1Smm_train_dataF, gf1Smm_reserve_dataF, gf1Smm_retrain_dataF, gf1Smm_test_dataF, \"All\")\n",
    "    KLD_cummValues(numIter, experimentID, gf1Smm_oodSamples_toAdd, gf1Smm_oodSamples_toAdd, gf1Smm_oodSamples_toAdd, gf1Smm_test_OOD, \"OOD\")\n",
    "    \n",
    "    # Distribution\n",
    "    x1 = gf1Smm_train_dataF.loc[(gf1Smm_train_dataF[\"Log_Loss_ALL\"] >=0 ), ['Log_Loss_ALL']]    # Train\n",
    "    x2 = gf1Smm_test_dataF.loc[(gf1Smm_test_dataF[\"Log_Loss_ALL\"] >=0 ), ['Log_Loss_ALL']]      # Test\n",
    "    vizHist(x1, x2, \"Train\", \"Test\")\n",
    "    vizHist2(x1, x2, \"Train\", \"Test\")\n",
    "    \n",
    "    \n",
    "\n",
    "    # TOP GROUP 1 \n",
    "    # Add top group first topGroup1\n",
    "    experimentID = 'Experiment1_1'\n",
    "    \n",
    "    gf1Smm_oodSamples_toAdd = gf1Smm_reserve_dataF.loc[gf1Smm_reserve_dataF['Log_Loss_ALL'] <= topGroup3]\n",
    "    gf1Smm_oodSamples_toAdd.shape\n",
    "\n",
    "    # create retraining set\n",
    "    gf1Smm_retrain_dataF = pd.concat([gf1Smm_train_dataF, gf1Smm_oodSamples_toAdd])\n",
    "\n",
    "    # call retrainClassifier\n",
    "    retrainClassifier(gf1Smm_train_dataF, gf1Smm_reserve_dataF, gf1Smm_retrain_dataF, gf1Smm_test_dataF, gf1Smm_test_ID, \n",
    "                      gf1Smm_test_OOD, topGroup1, topGroup2, topGroup3, topGroup4, gf1SmmX_reserve, gf1Smmy_reserve, \n",
    "                      gf1SmmX_test, gf1Smmy_test, Sen_gf1Smm_train, Spe_gf1Smm_train, Acc_gf1Smm_train, Pre_gf1Smm_train, \n",
    "                      F1_gf1Smm_train, train_TN, train_FN, train_FP, train_TP, test_TN, test_FN, test_FP, test_TP,\n",
    "                      experimentID, numIter, gf1Smm_oodSamples_toAdd, 'tree_2kA1_10_1.dot')\n",
    "    \n",
    "    # KLD Values\n",
    "    KLD_cummValues(numIter, experimentID, gf1Smm_train_dataF, gf1Smm_reserve_dataF, gf1Smm_retrain_dataF, gf1Smm_test_dataF, \"All\")\n",
    "    KLD_cummValues(numIter, experimentID, gf1Smm_oodSamples_toAdd, gf1Smm_oodSamples_toAdd, gf1Smm_oodSamples_toAdd, gf1Smm_test_OOD, \"OOD\")\n",
    "\n",
    "    # Distribution\n",
    "    x1 = gf1Smm_retrain_dataF.loc[(gf1Smm_retrain_dataF[\"Log_Loss_ALL\"] >=0 ), ['Log_Loss_ALL']]    # Retrain\n",
    "    x2 = gf1Smm_test_dataF.loc[(gf1Smm_test_dataF[\"Log_Loss_ALL\"] >=0 ), ['Log_Loss_ALL']]          # Test\n",
    "    vizHist(x1, x2, \"Retrain-1\", \"Test\")\n",
    "    vizHist2(x1, x2, \"Retrain-1\", \"Test\")\n",
    "    \n",
    "    \n",
    "\n",
    "    # TOP GROUP 2 \n",
    "    # Add top group first topGroup2\n",
    "    experimentID = 'Experiment1_2'\n",
    "    \n",
    "    gf1Smm_oodSamples_toAdd = gf1Smm_reserve_dataF.loc[gf1Smm_reserve_dataF['Log_Loss_ALL'] <= topGroup2]\n",
    "    gf1Smm_oodSamples_toAdd.shape\n",
    "\n",
    "    # create retraining set\n",
    "    gf1Smm_retrain_dataF = pd.concat([gf1Smm_train_dataF, gf1Smm_oodSamples_toAdd])\n",
    "\n",
    "    # call retrainClassifier\n",
    "    retrainClassifier(gf1Smm_train_dataF, gf1Smm_reserve_dataF, gf1Smm_retrain_dataF, gf1Smm_test_dataF, gf1Smm_test_ID, \n",
    "                      gf1Smm_test_OOD, topGroup1, topGroup2, topGroup3, topGroup4, gf1SmmX_reserve, gf1Smmy_reserve, \n",
    "                      gf1SmmX_test, gf1Smmy_test, Sen_gf1Smm_train, Spe_gf1Smm_train, Acc_gf1Smm_train, Pre_gf1Smm_train, \n",
    "                      F1_gf1Smm_train, train_TN, train_FN, train_FP, train_TP, test_TN, test_FN, test_FP, test_TP,\n",
    "                      experimentID, numIter, gf1Smm_oodSamples_toAdd, 'tree_2kA1_10_2.dot')\n",
    "\n",
    "    # KLD Values\n",
    "    KLD_cummValues(numIter, experimentID, gf1Smm_train_dataF, gf1Smm_reserve_dataF, gf1Smm_retrain_dataF, gf1Smm_test_dataF, \"All\")\n",
    "    KLD_cummValues(numIter, experimentID, gf1Smm_oodSamples_toAdd, gf1Smm_oodSamples_toAdd, gf1Smm_oodSamples_toAdd, gf1Smm_test_OOD, \"OOD\")\n",
    "\n",
    "\n",
    "    # Distribution\n",
    "    x1 = gf1Smm_retrain_dataF.loc[(gf1Smm_retrain_dataF[\"Log_Loss_ALL\"] >=0 ), ['Log_Loss_ALL']]    # Retrain\n",
    "    x2 = gf1Smm_test_dataF.loc[(gf1Smm_test_dataF[\"Log_Loss_ALL\"] >=0 ), ['Log_Loss_ALL']]          # Test\n",
    "    vizHist(x1, x2, \"Retrain-2\", \"Test\")\n",
    "    vizHist2(x1, x2, \"Retrain-2\", \"Test\")\n",
    "    \n",
    "    \n",
    "    \n",
    "    # TOP GROUP 3 \n",
    "    # Add top group first topGroup3\n",
    "    experimentID = 'Experiment1_3'\n",
    "    \n",
    "    gf1Smm_oodSamples_toAdd = gf1Smm_reserve_dataF.loc[gf1Smm_reserve_dataF['Log_Loss_ALL'] <= topGroup1]\n",
    "    gf1Smm_oodSamples_toAdd.shape\n",
    "\n",
    "    # create retraining set\n",
    "    gf1Smm_retrain_dataF = pd.concat([gf1Smm_train_dataF, gf1Smm_oodSamples_toAdd])\n",
    "\n",
    "    # call retrainClassifier\n",
    "    retrainClassifier(gf1Smm_train_dataF, gf1Smm_reserve_dataF, gf1Smm_retrain_dataF, gf1Smm_test_dataF, gf1Smm_test_ID, \n",
    "                      gf1Smm_test_OOD, topGroup1, topGroup2, topGroup3, topGroup4, gf1SmmX_reserve, gf1Smmy_reserve, \n",
    "                      gf1SmmX_test, gf1Smmy_test, Sen_gf1Smm_train, Spe_gf1Smm_train, Acc_gf1Smm_train, Pre_gf1Smm_train, \n",
    "                      F1_gf1Smm_train, train_TN, train_FN, train_FP, train_TP, test_TN, test_FN, test_FP, test_TP,\n",
    "                      experimentID, numIter, gf1Smm_oodSamples_toAdd, 'tree_2kA1_10_3.dot')\n",
    "\n",
    "    # KLD Values\n",
    "    KLD_cummValues(numIter, experimentID, gf1Smm_train_dataF, gf1Smm_reserve_dataF, gf1Smm_retrain_dataF, gf1Smm_test_dataF, \"All\")\n",
    "    KLD_cummValues(numIter, experimentID, gf1Smm_oodSamples_toAdd, gf1Smm_oodSamples_toAdd, gf1Smm_oodSamples_toAdd, gf1Smm_test_OOD, \"OOD\")\n",
    "\n",
    "\n",
    "    # Distribution\n",
    "    x1 = gf1Smm_retrain_dataF.loc[(gf1Smm_retrain_dataF[\"Log_Loss_ALL\"] >=0 ), ['Log_Loss_ALL']]    # Retrain\n",
    "    x2 = gf1Smm_test_dataF.loc[(gf1Smm_test_dataF[\"Log_Loss_ALL\"] >=0 ), ['Log_Loss_ALL']]          # Test\n",
    "    vizHist(x1, x2, \"Retrain-3\", \"Test\")   \n",
    "    vizHist2(x1, x2, \"Retrain-3\", \"Test\") \n",
    "           "
   ]
  },
  {
   "cell_type": "code",
   "execution_count": 614,
   "id": "b1bf3d01",
   "metadata": {},
   "outputs": [],
   "source": [
    "\n",
    "def retrainClassifier(gf1Smm_train_dataF, gf1Smm_reserve_dataF, gf1Smm_retrain_dataF, gf1Smm_test_dataF, gf1Smm_test_ID, \n",
    "                      gf1Smm_test_OOD, topGroup1, topGroup2, topGroup3, topGroup4, gf1SmmX_reserve, gf1Smmy_reserve, \n",
    "                      gf1SmmX_test, gf1Smmy_test, Sen_gf1Smm_train, Spe_gf1Smm_train, Acc_gf1Smm_train, Pre_gf1Smm_train, \n",
    "                      F1_gf1Smm_train, train_TN, train_FN, train_FP, train_TP, test_TN, test_FN, test_FP, test_TP,\n",
    "                      experimentID, numIter, gf1Smm_oodSamples_toAdd, tree_fileName):\n",
    "    \n",
    "    global df_CM, df_Counts, df_KLD, df_OodRange, df_RetrainOoD\n",
    "\n",
    " \n",
    "    #-------------------------------------------------------------------------------------------------------------\n",
    "    # PART-5: Retraining Classifier \n",
    "    #-------------------------------------------------------------------------------------------------------------\n",
    "    \n",
    "    # STEP-1: Fit the model\n",
    "    # set columns for retraining model. Feature list is same as original/full training model\n",
    "    \n",
    "    cols=['ConvexArea', 'Perimeter', 'EquivDiameter', 'MajorAxisLength', 'MinorAxisLength', 'Elongation', 'Compactness', \n",
    "          'Eccentricity', 'Solidity', 'Extent', 'Circularity', 'x_3rdordermoment', 'Clustertendency', 'MaxProbability', \n",
    "          'Entropy', 'ConvexPerimeter', 'Energy', 'RadialDistanceSD', 'gabormean_2_0', 'gabormean_2_1', \n",
    "          'gabormean_0_0', 'gabormean_3_2', 'gabormean_3_0', 'dSpic2_5', 'dLob2_5', 'dCal3', 'dSubtl1_3', 'dIstru1', \n",
    "          'dManuf_GE', 'dManuf_S', 'dManuf_P'] \n",
    "        \n",
    "        \n",
    "    gf1SmmX_retrain = gf1Smm_retrain_dataF[cols]\n",
    "    gf1Smmy_retrain = gf1Smm_retrain_dataF['d_Malignancy']\n",
    "    \n",
    "       \n",
    "\n",
    "    # retrain classifier and fit the classifier\n",
    "  \n",
    "    # cost: \n",
    "    mCountA = len(data_io[data_io['d_Malignancy']== 1])\n",
    "    bCountA = len(data_io[data_io['d_Malignancy']== 0])\n",
    "    IR      = mCountA/bCountA\n",
    "    \n",
    "    rfExp_reTrain_classifier = RandomForestClassifier(criterion='log_loss', max_depth=10, max_features=None,\n",
    "                                                      class_weight = {0: IR, 1: 1.5},\n",
    "                                                       max_leaf_nodes=3, min_samples_leaf=5, n_estimators=100,\n",
    "                                                       n_jobs=-1, random_state=42)\n",
    "\n",
    "    # Assuming you have already defined and imported the measure_performance function\n",
    "\n",
    "    # Measure the performance of rfExp_reTrain_classifier.fit()\n",
    "    trained_model, training_time, cpu_usage, memory_usage, gpu_usage = measure_performance(rfExp_reTrain_classifier.fit, gf1SmmX_retrain, gf1Smmy_retrain)\n",
    "\n",
    "    print(\"Retraining time:\", training_time, \"seconds\")\n",
    "    print(\"Re-CPU usage:\", cpu_usage, \"%\")\n",
    "    print(\"Re-Memory usage:\", memory_usage, \"bytes\")\n",
    "    print(\"Re-GPU usage:\", gpu_usage, \"%\")\n",
    "\n",
    "\n",
    "    # get terminal node\n",
    "    #getLeafCount(rfExp_reTrain_classifier, tree_fileName)\n",
    "\n",
    "    \n",
    "    # STEP-2: Write Counts for Training, reserve, test Set Counts to dataframe\n",
    "    nOOD_Train  = len(gf1Smm_train_dataF)\n",
    "    OOD_Train   = 0\n",
    "    nOOD_reserve  = 0\n",
    "    OOD_reserve   = len(gf1Smm_reserve_dataF)\n",
    "    nOOD_test  = len(gf1Smm_test_ID)\n",
    "    OOD_test   = len(gf1Smm_test_OOD)\n",
    "    nOODRetrain = nOOD_Train \n",
    "    OOD_Retrain = len(gf1Smm_oodSamples_toAdd)\n",
    "\n",
    "\n",
    "    df_Counts = df_Counts.append({'Iter_ID': numIter , 'Method': experimentID, \n",
    "                                   'trainSet_nOOD': nOOD_Train ,  'trainSet_OOD': OOD_Train, \n",
    "                                   'reserveSet_nOOD': nOOD_reserve , 'reserveSet_OOD': OOD_reserve , \n",
    "                                   'retrainSet_nOOD': nOODRetrain , 'retrainSet_OOD': OOD_Retrain , \n",
    "                                   'testSet_nOOD': nOOD_test , 'testSet_OOD': OOD_test }, ignore_index=True)\n",
    "\n",
    "    \n",
    "    # Step-3: Get OoD Score ranges for ID and OoD Samples for each experiment\n",
    "    df_OodRange = df_OodRange.append({'Iter_ID': numIter, 'Method': experimentID, \n",
    "                                      'TType': 'Train', 'SampleType': 'ID', \n",
    "                                      'MinOodScore': gf1Smm_train_dataF['Log_Loss_ALL'].min() ,\n",
    "                                      'MaxOodScore': gf1Smm_train_dataF['Log_Loss_ALL'].max() }, ignore_index=True)\n",
    "\n",
    "    df_OodRange = df_OodRange.append({'Iter_ID': numIter, 'Method': experimentID, \n",
    "                                      'TType': 'Retrain', 'SampleType': 'ID', \n",
    "                                      'MinOodScore': gf1Smm_train_dataF['Log_Loss_ALL'].min() ,\n",
    "                                      'MaxOodScore': gf1Smm_train_dataF['Log_Loss_ALL'].max() }, ignore_index=True)\n",
    "    \n",
    "    df_OodRange = df_OodRange.append({'Iter_ID': numIter, 'Method': experimentID, \n",
    "                                      'TType': 'Retrain', 'SampleType': 'OOD', \n",
    "                                      'MinOodScore': gf1Smm_oodSamples_toAdd['Log_Loss_ALL'].min() ,\n",
    "                                      'MaxOodScore': gf1Smm_oodSamples_toAdd['Log_Loss_ALL'].max() }, ignore_index=True) \n",
    "    \n",
    "    df_OodRange = df_OodRange.append({'Iter_ID': numIter, 'Method': experimentID, \n",
    "                                      'TType': 'Test', 'SampleType': 'ID', \n",
    "                                      'MinOodScore': gf1Smm_test_ID['Log_Loss_ALL'].min() ,\n",
    "                                      'MaxOodScore': gf1Smm_test_ID['Log_Loss_ALL'].max() }, ignore_index=True)\n",
    "    \n",
    "    df_OodRange = df_OodRange.append({'Iter_ID': numIter, 'Method': experimentID, \n",
    "                                      'TType': 'Test', 'SampleType': 'OOD', \n",
    "                                      'MinOodScore': gf1Smm_test_OOD['Log_Loss_ALL'].min() ,\n",
    "                                      'MaxOodScore': gf1Smm_test_OOD['Log_Loss_ALL'].max() }, ignore_index=True)  \n",
    " \n",
    "    \n",
    "    #-------------------------------------------------------------------------------------------------------------\n",
    "    # PART-6: Retraining Classifier - Compute performance on retraining and test sets\n",
    "    #-------------------------------------------------------------------------------------------------------------\n",
    "\n",
    "    # STEP-1: Compute predicted probabilities\n",
    "\n",
    "    gf1Smm_retrain_dataF['Pred_prob2'] = rfExp_reTrain_classifier.predict_proba(gf1Smm_retrain_dataF[gf1SmmX_retrain.columns])[:,1]\n",
    "    gf1Smm_reserve_dataF['Pred_prob2'] = rfExp_reTrain_classifier.predict_proba(gf1Smm_reserve_dataF[gf1SmmX_reserve.columns])[:,1]\n",
    "    gf1Smm_test_dataF['Pred_prob2'] = rfExp_reTrain_classifier.predict_proba(gf1Smm_test_dataF[gf1SmmX_test.columns])[:,1]\n",
    "\n",
    "    # calculate roc curves - Thresold based on Training\n",
    "    precision_retrainf1Smm, recall_retrainf1Smm, thresholds_pr_retrainf1Smm = precision_recall_curve(gf1Smmy_retrain, rfExp_reTrain_classifier.predict_proba(gf1Smm_retrain_dataF[gf1SmmX_retrain.columns])[:,1])\n",
    "\n",
    "    # Calculate the f-score\n",
    "    fscore_retrainf1Smm = (2 * precision_retrainf1Smm * recall_retrainf1Smm) / (precision_retrainf1Smm + recall_retrainf1Smm)\n",
    "\n",
    "    # Find the optimal threshold\n",
    "    index_pr_retrainf1Smm = np.argmax(fscore_retrainf1Smm)\n",
    "    gf1Smm_retrainThreshold = round(thresholds_pr_retrainf1Smm[index_pr_retrainf1Smm], ndigits = 4)\n",
    "    \n",
    "    \n",
    "    \n",
    "    T_new = gf1Smm_retrainThreshold\n",
    "    #print(\"Retrain Threshold = \", str(T_new), \" for \", str(experimentID))\n",
    "\n",
    "\n",
    "    # Step-2: Retrain - compute Pred_Y\n",
    "    gf1Smm_retrain_dataF[\"Pred_Y2\"] = 0\n",
    "    gf1Smm_retrain_dataF.loc[gf1Smm_retrain_dataF[\"Pred_prob2\"] > T_new, \"Pred_Y2\"] = 1\n",
    "\n",
    "    # test - compute Pred_Y\n",
    "    gf1Smm_test_dataF[\"Pred_Y2\"] = 0\n",
    "    gf1Smm_test_dataF.loc[gf1Smm_test_dataF[\"Pred_prob2\"] > T_new, \"Pred_Y2\"] = 1\n",
    "\n",
    "\n",
    "    # Reserve - compute Pred_Y --- DONE FOR Reserve SO THAT COLUMNS ARE IN THE SAME ORDER FOR ALL 3 SETS\n",
    "    gf1Smm_reserve_dataF[\"Pred_Y2\"] = 0\n",
    "    gf1Smm_reserve_dataF.loc[gf1Smm_reserve_dataF[\"Pred_prob2\"] > T_new, \"Pred_Y2\"] = 1\n",
    "    \n",
    "    \n",
    "    # Export to excel for checking misclassifications\n",
    "#     myPath = \"./_SubsetsCreated/RF/RF_New_FHLOne_Agr/Train_\" + str(experimentID) + \"_logloss.csv\"\n",
    "#     gf1Smm_train_dataF.to_csv(myPath)\n",
    "#     myPath = \"./_SubsetsCreated/RF/RF_New_FHLOne_Agr/Retrain_\" + str(experimentID) + \"_logloss.csv\"\n",
    "#     gf1Smm_retrain_dataF.to_csv(myPath)\n",
    "#     myPath = \"./_SubsetsCreated/RF/RF_New_FHLOne_Agr/Test_\" + str(experimentID) + \"_logloss.csv\"\n",
    "#     gf1Smm_test_dataF.to_csv(myPath)\n",
    "\n",
    "\n",
    "    # Step-3: Confusion matrix for retraining and test2 set\n",
    "    # funcation to compute and return test1ues  retrain and test2 \n",
    "    Sen_gf1Smm_retrain, Spe_gf1Smm_retrain, Acc_gf1Smm_retrain, Pre_gf1Smm_retrain, F1_gf1Smm_retrain,  retrain_TN, retrain_FN, retrain_FP, retrain_TP  = confMatrixResults(gf1Smm_retrain_dataF.d_Malignancy, gf1Smm_retrain_dataF.Pred_Y2)\n",
    "    Sen_gf1Smm_test, Spe_gf1Smm_test, Acc_gf1Smm_test, Pre_gf1Smm_test, F1_gf1Smm_test, test_TN, test_FN, test_FP, test_TP  = confMatrixResults(gf1Smm_test_dataF.d_Malignancy, gf1Smm_test_dataF.Pred_Y2)\n",
    "\n",
    "\n",
    "    #-------------------------------------------------------------------------------------------------------------\n",
    "    # PART-7: Write all performance indicators to dataframe. Compute Average and CI\n",
    "    #         Note: only step-1 variable list needs to be changed\n",
    "    #-------------------------------------------------------------------------------------------------------------\n",
    "\n",
    "    # Step-1: write results to dataframe\n",
    "    df_CM = df_CM.append({'Iter_ID': numIter , 'Method': experimentID, \n",
    "                              'Sen_train': Sen_gf1Smm_train , 'Spe_train': Spe_gf1Smm_train , 'Acc_train': Acc_gf1Smm_train , \n",
    "                              'Pre_train': Pre_gf1Smm_train , 'F1_train': F1_gf1Smm_train,\n",
    "                              'Sen_retrain': Sen_gf1Smm_retrain , 'Spe_retrain': Spe_gf1Smm_retrain , 'Acc_retrain': Acc_gf1Smm_retrain , \n",
    "                              'Pre_retrain': Pre_gf1Smm_retrain , 'F1_retrain' : F1_gf1Smm_retrain,\n",
    "                              'Sen_test': Sen_gf1Smm_test , 'Spe_test': Spe_gf1Smm_test , 'Acc_test': Acc_gf1Smm_test , \n",
    "                              'Pre_test': Pre_gf1Smm_test , 'F1_test': F1_gf1Smm_test,\n",
    "                              'train_TN' : train_TN, 'train_FN': train_FN, 'train_FP': train_FP, 'train_TP': train_TP, \n",
    "                              'retrain_TN': retrain_TN, 'retrain_FN':retrain_FN, 'retrain_FP':retrain_FP, 'retrain_TP': retrain_TP,  \n",
    "                              'test_TN': test_TN, 'test_FN': test_FN, 'test_FP': test_FP, 'test_TP': test_TP }, ignore_index=True)\n",
    "\n",
    "\n",
    "    #return gf1Smm_retrain_dataF"
   ]
  },
  {
   "cell_type": "code",
   "execution_count": 615,
   "id": "5f8730b3",
   "metadata": {},
   "outputs": [
    {
     "ename": "FileNotFoundError",
     "evalue": "[Errno 2] No such file or directory: 'nvidia-smi'",
     "output_type": "error",
     "traceback": [
      "\u001b[0;31m---------------------------------------------------------------------------\u001b[0m",
      "\u001b[0;31mFileNotFoundError\u001b[0m                         Traceback (most recent call last)",
      "Cell \u001b[0;32mIn[615], line 10\u001b[0m\n\u001b[1;32m      8\u001b[0m numIter \u001b[38;5;241m=\u001b[39m i\n\u001b[1;32m      9\u001b[0m \u001b[38;5;66;03m# tran classifier\u001b[39;00m\n\u001b[0;32m---> 10\u001b[0m gf1Smm_train_dataF, gf1Smm_reserve_dataF, gf1Smm_test_dataF, gf1Smm_test_ID, gf1Smm_test_OOD, topGroup1, topGroup2, topGroup3, topGroup4, gf1SmmX_reserve, gf1Smmy_reserve, gf1SmmX_test, gf1Smmy_test, Sen_gf1Smm_train, Spe_gf1Smm_train, Acc_gf1Smm_train, Pre_gf1Smm_train, F1_gf1Smm_train, train_TN, train_FN, train_FP, train_TP, test_TN, test_FN, test_FP, test_TP \u001b[38;5;241m=\u001b[39m \u001b[43massignSample_trainClassifier\u001b[49m\u001b[43m(\u001b[49m\u001b[43mnumIter\u001b[49m\u001b[43m)\u001b[49m\n\u001b[1;32m     12\u001b[0m \u001b[38;5;66;03m#print(\"itemID --- FUNCTION = \", str(numIter))\u001b[39;00m\n\u001b[1;32m     13\u001b[0m \u001b[38;5;66;03m# create retrain set and retrain classifier\u001b[39;00m\n\u001b[1;32m     14\u001b[0m createRetrainSet(gf1Smm_train_dataF, gf1Smm_reserve_dataF, gf1Smm_test_dataF, gf1Smm_test_ID, gf1Smm_test_OOD, topGroup1, topGroup2, topGroup3, topGroup4, gf1SmmX_reserve, gf1Smmy_reserve, gf1SmmX_test, gf1Smmy_test, Sen_gf1Smm_train, Spe_gf1Smm_train, Acc_gf1Smm_train, Pre_gf1Smm_train, F1_gf1Smm_train, train_TN, train_FN, train_FP, train_TP, test_TN, test_FN, test_FP, test_TP, numIter)\n",
      "Cell \u001b[0;32mIn[612], line 106\u001b[0m, in \u001b[0;36massignSample_trainClassifier\u001b[0;34m(numIter)\u001b[0m\n\u001b[1;32m     97\u001b[0m     rfExp_classifier \u001b[38;5;241m=\u001b[39m RandomForestClassifier(criterion\u001b[38;5;241m=\u001b[39m\u001b[38;5;124m'\u001b[39m\u001b[38;5;124mlog_loss\u001b[39m\u001b[38;5;124m'\u001b[39m, max_depth\u001b[38;5;241m=\u001b[39m\u001b[38;5;241m10\u001b[39m, max_features\u001b[38;5;241m=\u001b[39m\u001b[38;5;28;01mNone\u001b[39;00m,\n\u001b[1;32m     98\u001b[0m                                               class_weight \u001b[38;5;241m=\u001b[39m {\u001b[38;5;241m0\u001b[39m: IR, \u001b[38;5;241m1\u001b[39m: \u001b[38;5;241m1.5\u001b[39m},\n\u001b[1;32m     99\u001b[0m                                                max_leaf_nodes\u001b[38;5;241m=\u001b[39m\u001b[38;5;241m3\u001b[39m, min_samples_leaf\u001b[38;5;241m=\u001b[39m\u001b[38;5;241m5\u001b[39m, n_estimators\u001b[38;5;241m=\u001b[39m\u001b[38;5;241m100\u001b[39m,\n\u001b[1;32m    100\u001b[0m                                                n_jobs\u001b[38;5;241m=\u001b[39m\u001b[38;5;241m-\u001b[39m\u001b[38;5;241m1\u001b[39m, random_state\u001b[38;5;241m=\u001b[39m\u001b[38;5;241m42\u001b[39m)\n\u001b[1;32m    103\u001b[0m     \u001b[38;5;66;03m# Assuming you have already defined and imported the measure_performance function\u001b[39;00m\n\u001b[1;32m    104\u001b[0m \n\u001b[1;32m    105\u001b[0m \u001b[38;5;66;03m# Measure the performance of rfExp_classifier.fit()\u001b[39;00m\n\u001b[0;32m--> 106\u001b[0m     trained_model, training_time, cpu_usage, memory_usage, gpu_usage \u001b[38;5;241m=\u001b[39m \u001b[43mmeasure_performance\u001b[49m\u001b[43m(\u001b[49m\u001b[43mrfExp_classifier\u001b[49m\u001b[38;5;241;43m.\u001b[39;49m\u001b[43mfit\u001b[49m\u001b[43m,\u001b[49m\u001b[43m \u001b[49m\u001b[43mgf1SmmX_train\u001b[49m\u001b[43m,\u001b[49m\u001b[43m \u001b[49m\u001b[43mgf1Smmy_train\u001b[49m\u001b[43m)\u001b[49m\n\u001b[1;32m    108\u001b[0m     \u001b[38;5;28mprint\u001b[39m(\u001b[38;5;124m\"\u001b[39m\u001b[38;5;124mTraining time:\u001b[39m\u001b[38;5;124m\"\u001b[39m, training_time, \u001b[38;5;124m\"\u001b[39m\u001b[38;5;124mseconds\u001b[39m\u001b[38;5;124m\"\u001b[39m)\n\u001b[1;32m    109\u001b[0m     \u001b[38;5;28mprint\u001b[39m(\u001b[38;5;124m\"\u001b[39m\u001b[38;5;124mCPU usage:\u001b[39m\u001b[38;5;124m\"\u001b[39m, cpu_usage, \u001b[38;5;124m\"\u001b[39m\u001b[38;5;124m%\u001b[39m\u001b[38;5;124m\"\u001b[39m)\n",
      "Cell \u001b[0;32mIn[545], line 15\u001b[0m, in \u001b[0;36mmeasure_performance\u001b[0;34m(model_fit_function, *args, **kwargs)\u001b[0m\n\u001b[1;32m     12\u001b[0m start_memory_usage \u001b[38;5;241m=\u001b[39m psutil\u001b[38;5;241m.\u001b[39mvirtual_memory()\u001b[38;5;241m.\u001b[39mused\n\u001b[1;32m     14\u001b[0m \u001b[38;5;66;03m# Measure GPU usage before training\u001b[39;00m\n\u001b[0;32m---> 15\u001b[0m start_gpu_usage \u001b[38;5;241m=\u001b[39m \u001b[43mmeasure_gpu_usage\u001b[49m\u001b[43m(\u001b[49m\u001b[43m)\u001b[49m\n\u001b[1;32m     17\u001b[0m \u001b[38;5;66;03m# Measure time before training\u001b[39;00m\n\u001b[1;32m     18\u001b[0m start_time \u001b[38;5;241m=\u001b[39m time\u001b[38;5;241m.\u001b[39mtime()\n",
      "Cell \u001b[0;32mIn[545], line 44\u001b[0m, in \u001b[0;36mmeasure_gpu_usage\u001b[0;34m()\u001b[0m\n\u001b[1;32m     42\u001b[0m \u001b[38;5;28;01mdef\u001b[39;00m \u001b[38;5;21mmeasure_gpu_usage\u001b[39m():\n\u001b[1;32m     43\u001b[0m     \u001b[38;5;66;03m# Run nvidia-smi command to get GPU usage\u001b[39;00m\n\u001b[0;32m---> 44\u001b[0m     result \u001b[38;5;241m=\u001b[39m \u001b[43msubprocess\u001b[49m\u001b[38;5;241;43m.\u001b[39;49m\u001b[43mrun\u001b[49m\u001b[43m(\u001b[49m\u001b[43m[\u001b[49m\u001b[38;5;124;43m'\u001b[39;49m\u001b[38;5;124;43mnvidia-smi\u001b[39;49m\u001b[38;5;124;43m'\u001b[39;49m\u001b[43m,\u001b[49m\u001b[43m \u001b[49m\u001b[38;5;124;43m'\u001b[39;49m\u001b[38;5;124;43m--query-gpu=utilization.gpu\u001b[39;49m\u001b[38;5;124;43m'\u001b[39;49m\u001b[43m,\u001b[49m\u001b[43m \u001b[49m\u001b[38;5;124;43m'\u001b[39;49m\u001b[38;5;124;43m--format=csv,nounits,noheader\u001b[39;49m\u001b[38;5;124;43m'\u001b[39;49m\u001b[43m]\u001b[49m\u001b[43m,\u001b[49m\u001b[43m \u001b[49m\u001b[43mstdout\u001b[49m\u001b[38;5;241;43m=\u001b[39;49m\u001b[43msubprocess\u001b[49m\u001b[38;5;241;43m.\u001b[39;49m\u001b[43mPIPE\u001b[49m\u001b[43m)\u001b[49m\n\u001b[1;32m     45\u001b[0m     gpu_usage_str \u001b[38;5;241m=\u001b[39m result\u001b[38;5;241m.\u001b[39mstdout\u001b[38;5;241m.\u001b[39mdecode(\u001b[38;5;124m'\u001b[39m\u001b[38;5;124mutf-8\u001b[39m\u001b[38;5;124m'\u001b[39m)\u001b[38;5;241m.\u001b[39mstrip()\n\u001b[1;32m     46\u001b[0m     gpu_usage \u001b[38;5;241m=\u001b[39m \u001b[38;5;28mint\u001b[39m(gpu_usage_str)\n",
      "File \u001b[0;32m/Library/Frameworks/Python.framework/Versions/3.12/lib/python3.12/subprocess.py:548\u001b[0m, in \u001b[0;36mrun\u001b[0;34m(input, capture_output, timeout, check, *popenargs, **kwargs)\u001b[0m\n\u001b[1;32m    545\u001b[0m     kwargs[\u001b[38;5;124m'\u001b[39m\u001b[38;5;124mstdout\u001b[39m\u001b[38;5;124m'\u001b[39m] \u001b[38;5;241m=\u001b[39m PIPE\n\u001b[1;32m    546\u001b[0m     kwargs[\u001b[38;5;124m'\u001b[39m\u001b[38;5;124mstderr\u001b[39m\u001b[38;5;124m'\u001b[39m] \u001b[38;5;241m=\u001b[39m PIPE\n\u001b[0;32m--> 548\u001b[0m \u001b[38;5;28;01mwith\u001b[39;00m \u001b[43mPopen\u001b[49m\u001b[43m(\u001b[49m\u001b[38;5;241;43m*\u001b[39;49m\u001b[43mpopenargs\u001b[49m\u001b[43m,\u001b[49m\u001b[43m \u001b[49m\u001b[38;5;241;43m*\u001b[39;49m\u001b[38;5;241;43m*\u001b[39;49m\u001b[43mkwargs\u001b[49m\u001b[43m)\u001b[49m \u001b[38;5;28;01mas\u001b[39;00m process:\n\u001b[1;32m    549\u001b[0m     \u001b[38;5;28;01mtry\u001b[39;00m:\n\u001b[1;32m    550\u001b[0m         stdout, stderr \u001b[38;5;241m=\u001b[39m process\u001b[38;5;241m.\u001b[39mcommunicate(\u001b[38;5;28minput\u001b[39m, timeout\u001b[38;5;241m=\u001b[39mtimeout)\n",
      "File \u001b[0;32m/Library/Frameworks/Python.framework/Versions/3.12/lib/python3.12/subprocess.py:1026\u001b[0m, in \u001b[0;36mPopen.__init__\u001b[0;34m(self, args, bufsize, executable, stdin, stdout, stderr, preexec_fn, close_fds, shell, cwd, env, universal_newlines, startupinfo, creationflags, restore_signals, start_new_session, pass_fds, user, group, extra_groups, encoding, errors, text, umask, pipesize, process_group)\u001b[0m\n\u001b[1;32m   1022\u001b[0m         \u001b[38;5;28;01mif\u001b[39;00m \u001b[38;5;28mself\u001b[39m\u001b[38;5;241m.\u001b[39mtext_mode:\n\u001b[1;32m   1023\u001b[0m             \u001b[38;5;28mself\u001b[39m\u001b[38;5;241m.\u001b[39mstderr \u001b[38;5;241m=\u001b[39m io\u001b[38;5;241m.\u001b[39mTextIOWrapper(\u001b[38;5;28mself\u001b[39m\u001b[38;5;241m.\u001b[39mstderr,\n\u001b[1;32m   1024\u001b[0m                     encoding\u001b[38;5;241m=\u001b[39mencoding, errors\u001b[38;5;241m=\u001b[39merrors)\n\u001b[0;32m-> 1026\u001b[0m     \u001b[38;5;28;43mself\u001b[39;49m\u001b[38;5;241;43m.\u001b[39;49m\u001b[43m_execute_child\u001b[49m\u001b[43m(\u001b[49m\u001b[43margs\u001b[49m\u001b[43m,\u001b[49m\u001b[43m \u001b[49m\u001b[43mexecutable\u001b[49m\u001b[43m,\u001b[49m\u001b[43m \u001b[49m\u001b[43mpreexec_fn\u001b[49m\u001b[43m,\u001b[49m\u001b[43m \u001b[49m\u001b[43mclose_fds\u001b[49m\u001b[43m,\u001b[49m\n\u001b[1;32m   1027\u001b[0m \u001b[43m                        \u001b[49m\u001b[43mpass_fds\u001b[49m\u001b[43m,\u001b[49m\u001b[43m \u001b[49m\u001b[43mcwd\u001b[49m\u001b[43m,\u001b[49m\u001b[43m \u001b[49m\u001b[43menv\u001b[49m\u001b[43m,\u001b[49m\n\u001b[1;32m   1028\u001b[0m \u001b[43m                        \u001b[49m\u001b[43mstartupinfo\u001b[49m\u001b[43m,\u001b[49m\u001b[43m \u001b[49m\u001b[43mcreationflags\u001b[49m\u001b[43m,\u001b[49m\u001b[43m \u001b[49m\u001b[43mshell\u001b[49m\u001b[43m,\u001b[49m\n\u001b[1;32m   1029\u001b[0m \u001b[43m                        \u001b[49m\u001b[43mp2cread\u001b[49m\u001b[43m,\u001b[49m\u001b[43m \u001b[49m\u001b[43mp2cwrite\u001b[49m\u001b[43m,\u001b[49m\n\u001b[1;32m   1030\u001b[0m \u001b[43m                        \u001b[49m\u001b[43mc2pread\u001b[49m\u001b[43m,\u001b[49m\u001b[43m \u001b[49m\u001b[43mc2pwrite\u001b[49m\u001b[43m,\u001b[49m\n\u001b[1;32m   1031\u001b[0m \u001b[43m                        \u001b[49m\u001b[43merrread\u001b[49m\u001b[43m,\u001b[49m\u001b[43m \u001b[49m\u001b[43merrwrite\u001b[49m\u001b[43m,\u001b[49m\n\u001b[1;32m   1032\u001b[0m \u001b[43m                        \u001b[49m\u001b[43mrestore_signals\u001b[49m\u001b[43m,\u001b[49m\n\u001b[1;32m   1033\u001b[0m \u001b[43m                        \u001b[49m\u001b[43mgid\u001b[49m\u001b[43m,\u001b[49m\u001b[43m \u001b[49m\u001b[43mgids\u001b[49m\u001b[43m,\u001b[49m\u001b[43m \u001b[49m\u001b[43muid\u001b[49m\u001b[43m,\u001b[49m\u001b[43m \u001b[49m\u001b[43mumask\u001b[49m\u001b[43m,\u001b[49m\n\u001b[1;32m   1034\u001b[0m \u001b[43m                        \u001b[49m\u001b[43mstart_new_session\u001b[49m\u001b[43m,\u001b[49m\u001b[43m \u001b[49m\u001b[43mprocess_group\u001b[49m\u001b[43m)\u001b[49m\n\u001b[1;32m   1035\u001b[0m \u001b[38;5;28;01mexcept\u001b[39;00m:\n\u001b[1;32m   1036\u001b[0m     \u001b[38;5;66;03m# Cleanup if the child failed starting.\u001b[39;00m\n\u001b[1;32m   1037\u001b[0m     \u001b[38;5;28;01mfor\u001b[39;00m f \u001b[38;5;129;01min\u001b[39;00m \u001b[38;5;28mfilter\u001b[39m(\u001b[38;5;28;01mNone\u001b[39;00m, (\u001b[38;5;28mself\u001b[39m\u001b[38;5;241m.\u001b[39mstdin, \u001b[38;5;28mself\u001b[39m\u001b[38;5;241m.\u001b[39mstdout, \u001b[38;5;28mself\u001b[39m\u001b[38;5;241m.\u001b[39mstderr)):\n",
      "File \u001b[0;32m/Library/Frameworks/Python.framework/Versions/3.12/lib/python3.12/subprocess.py:1953\u001b[0m, in \u001b[0;36mPopen._execute_child\u001b[0;34m(self, args, executable, preexec_fn, close_fds, pass_fds, cwd, env, startupinfo, creationflags, shell, p2cread, p2cwrite, c2pread, c2pwrite, errread, errwrite, restore_signals, gid, gids, uid, umask, start_new_session, process_group)\u001b[0m\n\u001b[1;32m   1951\u001b[0m     err_msg \u001b[38;5;241m=\u001b[39m os\u001b[38;5;241m.\u001b[39mstrerror(errno_num)\n\u001b[1;32m   1952\u001b[0m \u001b[38;5;28;01mif\u001b[39;00m err_filename \u001b[38;5;129;01mis\u001b[39;00m \u001b[38;5;129;01mnot\u001b[39;00m \u001b[38;5;28;01mNone\u001b[39;00m:\n\u001b[0;32m-> 1953\u001b[0m     \u001b[38;5;28;01mraise\u001b[39;00m child_exception_type(errno_num, err_msg, err_filename)\n\u001b[1;32m   1954\u001b[0m \u001b[38;5;28;01melse\u001b[39;00m:\n\u001b[1;32m   1955\u001b[0m     \u001b[38;5;28;01mraise\u001b[39;00m child_exception_type(errno_num, err_msg)\n",
      "\u001b[0;31mFileNotFoundError\u001b[0m: [Errno 2] No such file or directory: 'nvidia-smi'"
     ]
    }
   ],
   "source": [
    "# Initialize KLD arrays\n",
    "kl_divergenceALL_T_T1 = []\n",
    "kl_divergenceALL_RT_T2 = []\n",
    "kl_featuresALL_T_T1 = []\n",
    "kl_featuresALL_RT_T2 = []\n",
    "\n",
    "for i in range(1, 31):\n",
    "    numIter = i\n",
    "    # tran classifier\n",
    "    gf1Smm_train_dataF, gf1Smm_reserve_dataF, gf1Smm_test_dataF, gf1Smm_test_ID, gf1Smm_test_OOD, topGroup1, topGroup2, topGroup3, topGroup4, gf1SmmX_reserve, gf1Smmy_reserve, gf1SmmX_test, gf1Smmy_test, Sen_gf1Smm_train, Spe_gf1Smm_train, Acc_gf1Smm_train, Pre_gf1Smm_train, F1_gf1Smm_train, train_TN, train_FN, train_FP, train_TP, test_TN, test_FN, test_FP, test_TP = assignSample_trainClassifier(numIter)\n",
    "\n",
    "    #print(\"itemID --- FUNCTION = \", str(numIter))\n",
    "    # create retrain set and retrain classifier\n",
    "    createRetrainSet(gf1Smm_train_dataF, gf1Smm_reserve_dataF, gf1Smm_test_dataF, gf1Smm_test_ID, gf1Smm_test_OOD, topGroup1, topGroup2, topGroup3, topGroup4, gf1SmmX_reserve, gf1Smmy_reserve, gf1SmmX_test, gf1Smmy_test, Sen_gf1Smm_train, Spe_gf1Smm_train, Acc_gf1Smm_train, Pre_gf1Smm_train, F1_gf1Smm_train, train_TN, train_FN, train_FP, train_TP, test_TN, test_FN, test_FP, test_TP, numIter)\n"
   ]
  },
  {
   "cell_type": "code",
   "execution_count": 616,
   "id": "c7f0440c",
   "metadata": {},
   "outputs": [],
   "source": [
    "#  COMPUTE COUNTS, PERFORMANCE, KLD\n",
    "# SHow counts and Performance indicators\n",
    "\n",
    "len_exp = len(df_CM[\"Method\"].unique())\n",
    "experiments = df_CM[\"Method\"].unique()\n",
    "\n",
    "\n",
    "for j in range (1, len_exp+1):\n",
    "    experimentID = experiments[j-1]\n",
    "                \n",
    "    print(\"~~~~~~~~~~~~~~~~~~~~~~~~~~~~~~~~~~~~~~~~~~~\")\n",
    "    getCounts(df_Counts, experimentID)\n",
    "    getPerformance(df_CM, experimentID)\n",
    "    getOoDScoreRange(df_OodRange, experimentID)\n",
    "    \n",
    "\n",
    "    # Initialize KLD arrays\n",
    "    kl_divergenceALL_T_T1 = []\n",
    "    kl_divergenceALL_RT_T2 = []\n",
    "    kl_featuresALL_T_T1 = []\n",
    "    kl_featuresALL_RT_T2 = []\n",
    "\n",
    "    # Compute average for KLD features\n",
    "    # 'Experiment1_0' - is the original training/testing -- to compare all experiments with\n",
    "    kl_divergenceALL_T_T1, kl_divergenceALL_RT_T2, kl_featuresALL_T_T1, kl_featuresALL_RT_T2 = avgKLDbyFeature('Experiment1_0', experimentID, \"All\")\n",
    "    kl_divergenceALL_T_T1_ood, kl_divergenceALL_RT_T2_ood, kl_featuresALL_T_T1_ood, kl_featuresALL_RT_T2_ood = avgKLDbyFeature('Experiment1_0', experimentID, \"OOD\")\n",
    "\n",
    "    # KLD Cumulative Graph\n",
    "    KLD_cummulativeGraph(kl_divergenceALL_T_T1, kl_divergenceALL_RT_T2, kl_featuresALL_T_T1, kl_featuresALL_RT_T2)\n",
    "\n",
    "    #KLD CI\n",
    "    getKLDRange(experimentID, \"All\")\n",
    "    getKLDRange(experimentID, \"OOD\")\n",
    "    \n",
    "    print(\" \")\n",
    "    print(\" \")\n"
   ]
  },
  {
   "cell_type": "markdown",
   "id": "8edae694",
   "metadata": {},
   "source": [
    "#### Significant Test - 2-tail (if Difference is Significant)"
   ]
  },
  {
   "cell_type": "code",
   "execution_count": 617,
   "id": "65760c21",
   "metadata": {},
   "outputs": [
    {
     "name": "stdout",
     "output_type": "stream",
     "text": [
      "Test - Satt. Sig.\n",
      "ACC - Test-Baseline and Test 10: p_value=nan - Different\n",
      "ACC - Test-Baseline and Test 20: p_value=nan - Different\n",
      "ACC - Test-Baseline and Test 30: p_value=nan - Different\n",
      "ACC - Test-Baseline and Test 40: p_value=nan - Different\n"
     ]
    }
   ],
   "source": [
    "Acc_test0 = df_CM.where((df_CM.Method== \"Experiment1_0\")).dropna()['Acc_test']\n",
    "Acc_test1 = df_CM.where((df_CM.Method== \"Experiment1_1\")).dropna()['Acc_test']\n",
    "Acc_test2 = df_CM.where((df_CM.Method== \"Experiment1_2\")).dropna()['Acc_test']\n",
    "Acc_test3 = df_CM.where((df_CM.Method== \"Experiment1_3\")).dropna()['Acc_test']\n",
    "Acc_test4 = df_CM.where((df_CM.Method== \"Experiment1_4\")).dropna()['Acc_test']\n",
    "\n",
    "\n",
    "stat1, p_value1 = stats.ttest_ind(Acc_test0, Acc_test1)\n",
    "sigDesc1 = sigPval(p_value1)\n",
    "stat2, p_value2 = stats.ttest_ind(Acc_test0, Acc_test2)\n",
    "sigDesc2 = sigPval(p_value2)\n",
    "stat3, p_value3 = stats.ttest_ind(Acc_test0, Acc_test3)\n",
    "sigDesc3 = sigPval(p_value3)\n",
    "stat4, p_value4 = stats.ttest_ind(Acc_test0, Acc_test4)\n",
    "sigDesc4 = sigPval(p_value4)\n",
    "\n",
    "print(\"Test - Satt. Sig.\")\n",
    "print('ACC - Test-Baseline and Test 10: p_value=%.4f - %s' % (p_value1, sigDesc1))\n",
    "print('ACC - Test-Baseline and Test 20: p_value=%.4f - %s' % (p_value2, sigDesc2))\n",
    "print('ACC - Test-Baseline and Test 30: p_value=%.4f - %s' % (p_value3, sigDesc3))\n",
    "print('ACC - Test-Baseline and Test 40: p_value=%.4f - %s' % (p_value4, sigDesc4))"
   ]
  },
  {
   "cell_type": "markdown",
   "id": "7939572f",
   "metadata": {},
   "source": [
    "#### Significant Test - 1-tail -- TRAIN and TEST -- (if Difference is sig. more than what you are comparing it with)"
   ]
  },
  {
   "cell_type": "code",
   "execution_count": 618,
   "id": "3d148590",
   "metadata": {},
   "outputs": [
    {
     "name": "stdout",
     "output_type": "stream",
     "text": [
      "TEST\n",
      "Test 1, 2, 3, 4 > Test 0 --- Sat. Sig. Greater?\n",
      "ACC - Test 0 and Test 1: p_value=nan - Different\n",
      "ACC - Test 0 and Test 2: p_value=nan - Different\n",
      "ACC - Test 0 and Test 3: p_value=nan - Different\n",
      " \n",
      "Test 1<2<3<4  --- Sat. Sig. Greater?\n",
      "ACC - Test 1 & 2: p_value=nan - Different\n",
      "ACC - Test 2 & 2: p_value=nan - Different\n"
     ]
    }
   ],
   "source": [
    "# TEST\n",
    "Acc_test0 = df_CM.where((df_CM.Method== \"Experiment1_0\")).dropna()['Acc_test']\n",
    "Acc_test1 = df_CM.where((df_CM.Method== \"Experiment1_1\")).dropna()['Acc_test']\n",
    "Acc_test2 = df_CM.where((df_CM.Method== \"Experiment1_2\")).dropna()['Acc_test']\n",
    "Acc_test3 = df_CM.where((df_CM.Method== \"Experiment1_3\")).dropna()['Acc_test']\n",
    "\n",
    "# test0 with all others\n",
    "#ttest_1samp\n",
    "stat1, p_value1 = stats.ttest_ind(Acc_test0, Acc_test1, alternative='less')\n",
    "sigDesc1 = sigPval(p_value1)\n",
    "stat2, p_value2 = stats.ttest_ind(Acc_test0, Acc_test2, alternative='less')\n",
    "sigDesc2 = sigPval(p_value2)\n",
    "stat3, p_value3 = stats.ttest_ind(Acc_test0, Acc_test3, alternative='less')\n",
    "sigDesc3 = sigPval(p_value3)\n",
    "\n",
    "# between tests 1, 2, 3, 4\n",
    "stat5, p_value5 = stats.ttest_ind(Acc_test1, Acc_test2, alternative='less')  # 1 & 2\n",
    "sigDesc5 = sigPval(p_value5)\n",
    "stat6, p_value6 = stats.ttest_ind(Acc_test2, Acc_test3, alternative='less')  # 2 & 3\n",
    "sigDesc6 = sigPval(p_value6)\n",
    "\n",
    "\n",
    "print(\"TEST\")\n",
    "print(\"Test 1, 2, 3, 4 > Test 0 --- Sat. Sig. Greater?\")\n",
    "print('ACC - Test 0 and Test 1: p_value=%.4f - %s' % (p_value1, sigDesc1))\n",
    "print('ACC - Test 0 and Test 2: p_value=%.4f - %s' % (p_value2, sigDesc2))\n",
    "print('ACC - Test 0 and Test 3: p_value=%.4f - %s' % (p_value3, sigDesc3))\n",
    "\n",
    "print(\" \")\n",
    "print(\"Test 1<2<3<4  --- Sat. Sig. Greater?\")\n",
    "print('ACC - Test 1 & 2: p_value=%.4f - %s' % (p_value5, sigDesc5))\n",
    "print('ACC - Test 2 & 2: p_value=%.4f - %s' % (p_value6, sigDesc6))"
   ]
  },
  {
   "cell_type": "code",
   "execution_count": 619,
   "id": "5d210a67",
   "metadata": {},
   "outputs": [
    {
     "name": "stdout",
     "output_type": "stream",
     "text": [
      "TRAIN\n",
      "Retrain 1, 2, 3, 4 > Train 0 --- Sat. Sig. Greater?\n",
      "ACC - Train 0 and Retrain 1: p_value=nan - Different\n",
      "ACC - Train 0 and Retrain 2: p_value=nan - Different\n",
      "ACC - Train 0 and Retrain 3: p_value=nan - Different\n",
      " \n",
      "Retrain 1<2<3<4  --- Sat. Sig. Greater?\n",
      "ACC - Retrain 1 & 2: p_value=nan - Different\n",
      "ACC - Retrain 2 & 2: p_value=nan - Different\n"
     ]
    }
   ],
   "source": [
    "# TRAIN\n",
    "Acc_train0 = df_CM.where((df_CM.Method== \"Experiment1_0\")).dropna()['Acc_train']\n",
    "Acc_train1 = df_CM.where((df_CM.Method== \"Experiment1_1\")).dropna()['Acc_retrain']\n",
    "Acc_train2 = df_CM.where((df_CM.Method== \"Experiment1_2\")).dropna()['Acc_retrain']\n",
    "Acc_train3 = df_CM.where((df_CM.Method== \"Experiment1_3\")).dropna()['Acc_retrain']\n",
    "\n",
    "# train0 with all others\n",
    "stat1, p_value1 = stats.ttest_ind(Acc_train0, Acc_train1, alternative='greater')\n",
    "sigDesc1 = sigPval(p_value1)\n",
    "stat2, p_value2 = stats.ttest_ind(Acc_train0, Acc_train2, alternative='greater')\n",
    "sigDesc2 = sigPval(p_value2)\n",
    "stat3, p_value3 = stats.ttest_ind(Acc_train0, Acc_train3, alternative='greater')\n",
    "sigDesc3 = sigPval(p_value3)\n",
    "\n",
    "# between train 1, 2, 3, 4\n",
    "stat5, p_value5 = stats.ttest_ind(Acc_train1, Acc_train2, alternative='greater')  # 1 & 2\n",
    "sigDesc5 = sigPval(p_value5)\n",
    "stat6, p_value6 = stats.ttest_ind(Acc_train2, Acc_train3, alternative='greater')  # 2 & 3\n",
    "sigDesc6 = sigPval(p_value6)\n",
    "\n",
    "\n",
    "print(\"TRAIN\")\n",
    "print(\"Retrain 1, 2, 3, 4 > Train 0 --- Sat. Sig. Greater?\")\n",
    "print('ACC - Train 0 and Retrain 1: p_value=%.4f - %s' % (p_value1, sigDesc1))\n",
    "print('ACC - Train 0 and Retrain 2: p_value=%.4f - %s' % (p_value2, sigDesc2))\n",
    "print('ACC - Train 0 and Retrain 3: p_value=%.4f - %s' % (p_value3, sigDesc3))\n",
    "\n",
    "print(\" \")\n",
    "print(\"Retrain 1<2<3<4  --- Sat. Sig. Greater?\")\n",
    "print('ACC - Retrain 1 & 2: p_value=%.4f - %s' % (p_value5, sigDesc5))\n",
    "print('ACC - Retrain 2 & 2: p_value=%.4f - %s' % (p_value6, sigDesc6))"
   ]
  },
  {
   "cell_type": "code",
   "execution_count": 620,
   "id": "3122d2c1",
   "metadata": {},
   "outputs": [
    {
     "name": "stdout",
     "output_type": "stream",
     "text": [
      "TRAIN\n",
      "Retrain 1, 2, 3, 4 > Train 0 --- Sat. Sig. Greater?\n",
      "kld - Train 0 and Retrain 1: p_value=nan - Different\n",
      "kld - Train 0 and Retrain 2: p_value=nan - Different\n",
      "kld - Train 0 and Retrain 3: p_value=nan - Different\n",
      " \n",
      "Retrain 1<2<3<4  --- Sat. Sig. Greater?\n",
      "kld - Retrain 1 & 2: p_value=nan - Different\n",
      "kld - Retrain 2 & 2: p_value=nan - Different\n"
     ]
    }
   ],
   "source": [
    "# KLD - All samples\n",
    "kld_train0 = df_KLD.where((df_KLD['Method'] == \"Experiment1_0\") & (df_KLD['Types'] == \"All\")).dropna()['KLD_t_t']\n",
    "kld_train1 = df_KLD.where((df_KLD['Method'] == \"Experiment1_1\") & (df_KLD['Types'] == \"All\")).dropna()['KLD_rt_t']\n",
    "kld_train2 = df_KLD.where((df_KLD['Method'] == \"Experiment1_2\") & (df_KLD['Types'] == \"All\")).dropna()['KLD_rt_t']\n",
    "kld_train3 = df_KLD.where((df_KLD['Method'] == \"Experiment1_3\") & (df_KLD['Types'] == \"All\")).dropna()['KLD_rt_t']\n",
    "\n",
    "# train0 with all others\n",
    "stat1, p_value1 = stats.ttest_ind(kld_train0, kld_train1, alternative='greater')\n",
    "sigDesc1 = sigPval(p_value1)\n",
    "stat2, p_value2 = stats.ttest_ind(kld_train0, kld_train2, alternative='greater')\n",
    "sigDesc2 = sigPval(p_value2)\n",
    "stat3, p_value3 = stats.ttest_ind(kld_train0, kld_train3, alternative='greater')\n",
    "sigDesc3 = sigPval(p_value3)\n",
    "\n",
    "# between train 1, 2, 3, 4\n",
    "stat5, p_value5 = stats.ttest_ind(kld_train1, kld_train2, alternative='greater')  # 1 & 2\n",
    "sigDesc5 = sigPval(p_value5)\n",
    "stat6, p_value6 = stats.ttest_ind(kld_train2, kld_train3, alternative='greater')  # 2 & 3\n",
    "sigDesc6 = sigPval(p_value6)\n",
    "\n",
    "\n",
    "print(\"TRAIN\")\n",
    "print(\"Retrain 1, 2, 3, 4 > Train 0 --- Sat. Sig. Greater?\")\n",
    "print('kld - Train 0 and Retrain 1: p_value=%.4f - %s' % (p_value1, sigDesc1))\n",
    "print('kld - Train 0 and Retrain 2: p_value=%.4f - %s' % (p_value2, sigDesc2))\n",
    "print('kld - Train 0 and Retrain 3: p_value=%.4f - %s' % (p_value3, sigDesc3))\n",
    "\n",
    "\n",
    "print(\" \")\n",
    "print(\"Retrain 1<2<3<4  --- Sat. Sig. Greater?\")\n",
    "print('kld - Retrain 1 & 2: p_value=%.4f - %s' % (p_value5, sigDesc5))\n",
    "print('kld - Retrain 2 & 2: p_value=%.4f - %s' % (p_value6, sigDesc6))"
   ]
  },
  {
   "cell_type": "code",
   "execution_count": 621,
   "id": "b16d74c8",
   "metadata": {},
   "outputs": [
    {
     "name": "stdout",
     "output_type": "stream",
     "text": [
      "TRAIN\n",
      "Retrain 1, 2, 3, 4 > Train 0 --- Sat. Sig. Greater?\n",
      "kld - Train 0 and Retrain 1: p_value=nan - Different\n",
      "kld - Train 0 and Retrain 2: p_value=nan - Different\n",
      "kld - Train 0 and Retrain 3: p_value=nan - Different\n",
      " \n",
      "Retrain 1<2<3<4  --- Sat. Sig. Greater?\n",
      "kld - Retrain 1 & 2: p_value=nan - Different\n",
      "kld - Retrain 2 & 2: p_value=nan - Different\n"
     ]
    }
   ],
   "source": [
    "# KLD - All samples\n",
    "kld_train0 = df_KLD.where((df_KLD['Method'] == \"Experiment1_0\") & (df_KLD['Types'] == \"OOD\")).dropna()['KLD_t_t']\n",
    "kld_train1 = df_KLD.where((df_KLD['Method'] == \"Experiment1_1\") & (df_KLD['Types'] == \"OOD\")).dropna()['KLD_rt_t']\n",
    "kld_train2 = df_KLD.where((df_KLD['Method'] == \"Experiment1_2\") & (df_KLD['Types'] == \"OOD\")).dropna()['KLD_rt_t']\n",
    "kld_train3 = df_KLD.where((df_KLD['Method'] == \"Experiment1_3\") & (df_KLD['Types'] == \"OOD\")).dropna()['KLD_rt_t']\n",
    "\n",
    "# train0 with all others\n",
    "stat1, p_value1 = stats.ttest_ind(kld_train0, kld_train1, alternative='greater')\n",
    "sigDesc1 = sigPval(p_value1)\n",
    "stat2, p_value2 = stats.ttest_ind(kld_train0, kld_train2, alternative='greater')\n",
    "sigDesc2 = sigPval(p_value2)\n",
    "stat3, p_value3 = stats.ttest_ind(kld_train0, kld_train3, alternative='greater')\n",
    "sigDesc3 = sigPval(p_value3)\n",
    "\n",
    "# between train 1, 2, 3, 4\n",
    "stat5, p_value5 = stats.ttest_ind(kld_train1, kld_train2, alternative='greater')  # 1 & 2\n",
    "sigDesc5 = sigPval(p_value5)\n",
    "stat6, p_value6 = stats.ttest_ind(kld_train2, kld_train3, alternative='greater')  # 2 & 3\n",
    "sigDesc6 = sigPval(p_value6)\n",
    "\n",
    "\n",
    "print(\"TRAIN\")\n",
    "print(\"Retrain 1, 2, 3, 4 > Train 0 --- Sat. Sig. Greater?\")\n",
    "print('kld - Train 0 and Retrain 1: p_value=%.4f - %s' % (p_value1, sigDesc1))\n",
    "print('kld - Train 0 and Retrain 2: p_value=%.4f - %s' % (p_value2, sigDesc2))\n",
    "print('kld - Train 0 and Retrain 3: p_value=%.4f - %s' % (p_value3, sigDesc3))\n",
    "\n",
    "\n",
    "print(\" \")\n",
    "print(\"Retrain 1<2<3<4  --- Sat. Sig. Greater?\")\n",
    "print('kld - Retrain 1 & 2: p_value=%.4f - %s' % (p_value5, sigDesc5))\n",
    "print('kld - Retrain 2 & 2: p_value=%.4f - %s' % (p_value6, sigDesc6))"
   ]
  },
  {
   "cell_type": "code",
   "execution_count": null,
   "id": "3433fdf1",
   "metadata": {},
   "outputs": [],
   "source": []
  },
  {
   "cell_type": "code",
   "execution_count": null,
   "id": "30cbe9c4",
   "metadata": {},
   "outputs": [],
   "source": []
  },
  {
   "cell_type": "code",
   "execution_count": null,
   "id": "670b5f19",
   "metadata": {},
   "outputs": [],
   "source": []
  },
  {
   "cell_type": "code",
   "execution_count": null,
   "id": "67247be9",
   "metadata": {},
   "outputs": [],
   "source": []
  },
  {
   "cell_type": "code",
   "execution_count": null,
   "id": "0cf4ef5d",
   "metadata": {},
   "outputs": [],
   "source": []
  },
  {
   "cell_type": "markdown",
   "id": "25c2b1ce",
   "metadata": {},
   "source": [
    "### CORR for other DF"
   ]
  },
  {
   "cell_type": "code",
   "execution_count": 622,
   "id": "632efb3b",
   "metadata": {},
   "outputs": [
    {
     "data": {
      "text/plain": [
       "SignificanceResult(statistic=0.6694394071049384, pvalue=4.387073095712372e-187)"
      ]
     },
     "execution_count": 622,
     "metadata": {},
     "output_type": "execute_result"
    }
   ],
   "source": [
    "stats.pointbiserialr(data_io.SuperscribedDiameter, data_io.d_Malignancy)"
   ]
  },
  {
   "cell_type": "code",
   "execution_count": 623,
   "id": "4fd2e078",
   "metadata": {},
   "outputs": [
    {
     "data": {
      "text/plain": [
       "SignificanceResult(statistic=-0.39651909525433354, pvalue=3.409373007040407e-55)"
      ]
     },
     "execution_count": 623,
     "metadata": {},
     "output_type": "execute_result"
    }
   ],
   "source": [
    "stats.pointbiserialr(data_io.Solidity, data_io.d_Malignancy)"
   ]
  },
  {
   "cell_type": "code",
   "execution_count": 624,
   "id": "43f06b1c",
   "metadata": {},
   "outputs": [
    {
     "data": {
      "text/plain": [
       "SignificanceResult(statistic=0.2418831093010564, pvalue=1.5432583828144017e-20)"
      ]
     },
     "execution_count": 624,
     "metadata": {},
     "output_type": "execute_result"
    }
   ],
   "source": [
    "stats.pointbiserialr(data_io.SecondMoment, data_io.d_Malignancy)"
   ]
  },
  {
   "cell_type": "code",
   "execution_count": 625,
   "id": "3aa4efab",
   "metadata": {},
   "outputs": [
    {
     "data": {
      "text/plain": [
       "SignificanceResult(statistic=0.4727867777713897, pvalue=9.517425523983278e-81)"
      ]
     },
     "execution_count": 625,
     "metadata": {},
     "output_type": "execute_result"
    }
   ],
   "source": [
    "stats.pointbiserialr(data_io.Roughness, data_io.d_Malignancy)"
   ]
  },
  {
   "cell_type": "code",
   "execution_count": 626,
   "id": "c508b565",
   "metadata": {},
   "outputs": [
    {
     "data": {
      "text/plain": [
       "SignificanceResult(statistic=-0.030909288028194693, pvalue=0.2421065626722282)"
      ]
     },
     "execution_count": 626,
     "metadata": {},
     "output_type": "execute_result"
    }
   ],
   "source": [
    "stats.pointbiserialr(data_io.MinIntensity, data_io.d_Malignancy)"
   ]
  },
  {
   "cell_type": "code",
   "execution_count": 627,
   "id": "e256091e",
   "metadata": {},
   "outputs": [
    {
     "data": {
      "text/plain": [
       "SignificanceResult(statistic=-0.1421340556202794, pvalue=6.476173273838955e-08)"
      ]
     },
     "execution_count": 627,
     "metadata": {},
     "output_type": "execute_result"
    }
   ],
   "source": [
    "stats.pointbiserialr(data_io.MaxIntensity, data_io.d_Malignancy)"
   ]
  },
  {
   "cell_type": "code",
   "execution_count": 628,
   "id": "adb6eb3f",
   "metadata": {},
   "outputs": [
    {
     "data": {
      "text/plain": [
       "SignificanceResult(statistic=0.06109317234149694, pvalue=0.02068792359987916)"
      ]
     },
     "execution_count": 628,
     "metadata": {},
     "output_type": "execute_result"
    }
   ],
   "source": [
    "stats.pointbiserialr(data_io.MeanIntensity, data_io.d_Malignancy)"
   ]
  },
  {
   "cell_type": "code",
   "execution_count": 629,
   "id": "aa8a7c02",
   "metadata": {},
   "outputs": [
    {
     "data": {
      "text/plain": [
       "SignificanceResult(statistic=-0.21700473732184575, pvalue=9.600680575982954e-17)"
      ]
     },
     "execution_count": 629,
     "metadata": {},
     "output_type": "execute_result"
    }
   ],
   "source": [
    "stats.pointbiserialr(data_io.SDIntensity, data_io.d_Malignancy)"
   ]
  },
  {
   "cell_type": "code",
   "execution_count": 630,
   "id": "3a85ba98",
   "metadata": {},
   "outputs": [
    {
     "data": {
      "text/plain": [
       "SignificanceResult(statistic=-0.049667529913081036, pvalue=0.060061758479014626)"
      ]
     },
     "execution_count": 630,
     "metadata": {},
     "output_type": "execute_result"
    }
   ],
   "source": [
    "stats.pointbiserialr(data_io.MinIntensityBG, data_io.d_Malignancy)"
   ]
  },
  {
   "cell_type": "code",
   "execution_count": 631,
   "id": "e715fb0c",
   "metadata": {},
   "outputs": [
    {
     "data": {
      "text/plain": [
       "SignificanceResult(statistic=0.19025443951055604, pvalue=3.736985798444754e-13)"
      ]
     },
     "execution_count": 631,
     "metadata": {},
     "output_type": "execute_result"
    }
   ],
   "source": [
    "stats.pointbiserialr(data_io.MaxIntensityBG, data_io.d_Malignancy)"
   ]
  },
  {
   "cell_type": "code",
   "execution_count": 632,
   "id": "1ade645b",
   "metadata": {},
   "outputs": [
    {
     "data": {
      "text/plain": [
       "SignificanceResult(statistic=-0.008704143448629919, pvalue=0.7419070380140917)"
      ]
     },
     "execution_count": 632,
     "metadata": {},
     "output_type": "execute_result"
    }
   ],
   "source": [
    "stats.pointbiserialr(data_io.MeanIntensityBG, data_io.d_Malignancy)"
   ]
  },
  {
   "cell_type": "code",
   "execution_count": 633,
   "id": "f7a4b61a",
   "metadata": {},
   "outputs": [
    {
     "data": {
      "text/plain": [
       "SignificanceResult(statistic=0.03409074547050523, pvalue=0.19697978196453914)"
      ]
     },
     "execution_count": 633,
     "metadata": {},
     "output_type": "execute_result"
    }
   ],
   "source": [
    "stats.pointbiserialr(data_io.SDIntensityBG, data_io.d_Malignancy)"
   ]
  },
  {
   "cell_type": "code",
   "execution_count": 634,
   "id": "acdac6ee",
   "metadata": {},
   "outputs": [
    {
     "data": {
      "text/plain": [
       "SignificanceResult(statistic=0.0956442450871911, pvalue=0.0002866957104403703)"
      ]
     },
     "execution_count": 634,
     "metadata": {},
     "output_type": "execute_result"
    }
   ],
   "source": [
    "stats.pointbiserialr(data_io.IntensityDifference, data_io.d_Malignancy)"
   ]
  },
  {
   "cell_type": "code",
   "execution_count": 635,
   "id": "7f3a5f55",
   "metadata": {},
   "outputs": [
    {
     "data": {
      "text/plain": [
       "SignificanceResult(statistic=0.09495050612697967, pvalue=0.00031747653428701103)"
      ]
     },
     "execution_count": 635,
     "metadata": {},
     "output_type": "execute_result"
    }
   ],
   "source": [
    "stats.pointbiserialr(data_io.markov1, data_io.d_Malignancy)"
   ]
  },
  {
   "cell_type": "code",
   "execution_count": 636,
   "id": "42e5ae42",
   "metadata": {},
   "outputs": [
    {
     "data": {
      "text/plain": [
       "SignificanceResult(statistic=0.16098377036773423, pvalue=8.739610140067063e-10)"
      ]
     },
     "execution_count": 636,
     "metadata": {},
     "output_type": "execute_result"
    }
   ],
   "source": [
    "stats.pointbiserialr(data_io.markov2, data_io.d_Malignancy)"
   ]
  },
  {
   "cell_type": "code",
   "execution_count": 637,
   "id": "1d1043b3",
   "metadata": {},
   "outputs": [
    {
     "data": {
      "text/plain": [
       "SignificanceResult(statistic=0.09526593860193068, pvalue=0.0003031164867345404)"
      ]
     },
     "execution_count": 637,
     "metadata": {},
     "output_type": "execute_result"
    }
   ],
   "source": [
    "stats.pointbiserialr(data_io.markov3, data_io.d_Malignancy)"
   ]
  },
  {
   "cell_type": "code",
   "execution_count": 638,
   "id": "8593ad92",
   "metadata": {},
   "outputs": [
    {
     "data": {
      "text/plain": [
       "SignificanceResult(statistic=0.09010492900056451, pvalue=0.0006352820068022941)"
      ]
     },
     "execution_count": 638,
     "metadata": {},
     "output_type": "execute_result"
    }
   ],
   "source": [
    "stats.pointbiserialr(data_io.markov4, data_io.d_Malignancy)"
   ]
  },
  {
   "cell_type": "code",
   "execution_count": 639,
   "id": "83f80a41",
   "metadata": {},
   "outputs": [
    {
     "data": {
      "text/plain": [
       "SignificanceResult(statistic=-0.026337803644764766, pvalue=0.31892560707182555)"
      ]
     },
     "execution_count": 639,
     "metadata": {},
     "output_type": "execute_result"
    }
   ],
   "source": [
    "stats.pointbiserialr(data_io.markov5, data_io.d_Malignancy)"
   ]
  },
  {
   "cell_type": "code",
   "execution_count": 640,
   "id": "acfbc9e1",
   "metadata": {},
   "outputs": [
    {
     "data": {
      "text/plain": [
       "SignificanceResult(statistic=-0.48669098421469353, pvalue=3.775571830549513e-86)"
      ]
     },
     "execution_count": 640,
     "metadata": {},
     "output_type": "execute_result"
    }
   ],
   "source": [
    "stats.pointbiserialr(data_io.gabormean_0_1, data_io.d_Malignancy)"
   ]
  },
  {
   "cell_type": "code",
   "execution_count": 641,
   "id": "9ba8238a",
   "metadata": {},
   "outputs": [
    {
     "data": {
      "text/plain": [
       "SignificanceResult(statistic=-0.4483668070078783, pvalue=7.617192901346296e-72)"
      ]
     },
     "execution_count": 641,
     "metadata": {},
     "output_type": "execute_result"
    }
   ],
   "source": [
    "stats.pointbiserialr(data_io.gaborSD_0_1, data_io.d_Malignancy)"
   ]
  },
  {
   "cell_type": "code",
   "execution_count": 642,
   "id": "e7dd4679",
   "metadata": {},
   "outputs": [
    {
     "data": {
      "text/plain": [
       "SignificanceResult(statistic=0.08713333588158821, pvalue=0.0009566043679909747)"
      ]
     },
     "execution_count": 642,
     "metadata": {},
     "output_type": "execute_result"
    }
   ],
   "source": [
    "stats.pointbiserialr(data_io.gabormean_0_2, data_io.d_Malignancy)"
   ]
  },
  {
   "cell_type": "code",
   "execution_count": 643,
   "id": "df50c838",
   "metadata": {},
   "outputs": [
    {
     "data": {
      "text/plain": [
       "SignificanceResult(statistic=-0.43026158308871665, pvalue=1.0714637071430337e-65)"
      ]
     },
     "execution_count": 643,
     "metadata": {},
     "output_type": "execute_result"
    }
   ],
   "source": [
    "stats.pointbiserialr(data_io.gabormean_1_0, data_io.d_Malignancy)"
   ]
  },
  {
   "cell_type": "code",
   "execution_count": 644,
   "id": "1c09ff51",
   "metadata": {},
   "outputs": [
    {
     "data": {
      "text/plain": [
       "SignificanceResult(statistic=-0.4151860558536508, pvalue=7.436867268634218e-61)"
      ]
     },
     "execution_count": 644,
     "metadata": {},
     "output_type": "execute_result"
    }
   ],
   "source": [
    "stats.pointbiserialr(data_io.gaborSD_1_0, data_io.d_Malignancy)"
   ]
  },
  {
   "cell_type": "code",
   "execution_count": 645,
   "id": "35a1a0e9",
   "metadata": {},
   "outputs": [
    {
     "data": {
      "text/plain": [
       "SignificanceResult(statistic=-0.45266280665915243, pvalue=2.3308356830237725e-73)"
      ]
     },
     "execution_count": 645,
     "metadata": {},
     "output_type": "execute_result"
    }
   ],
   "source": [
    "stats.pointbiserialr(data_io.gabormean_1_1, data_io.d_Malignancy)"
   ]
  },
  {
   "cell_type": "code",
   "execution_count": 646,
   "id": "99092887",
   "metadata": {},
   "outputs": [
    {
     "data": {
      "text/plain": [
       "SignificanceResult(statistic=-0.43522266286846034, pvalue=2.4111314125838498e-67)"
      ]
     },
     "execution_count": 646,
     "metadata": {},
     "output_type": "execute_result"
    }
   ],
   "source": [
    "stats.pointbiserialr(data_io.gaborSD_1_1, data_io.d_Malignancy)"
   ]
  },
  {
   "cell_type": "code",
   "execution_count": 647,
   "id": "4da9eb05",
   "metadata": {},
   "outputs": [
    {
     "data": {
      "text/plain": [
       "SignificanceResult(statistic=-0.3906669315438247, pvalue=1.714665776053195e-53)"
      ]
     },
     "execution_count": 647,
     "metadata": {},
     "output_type": "execute_result"
    }
   ],
   "source": [
    "stats.pointbiserialr(data_io.gaborSD_1_2, data_io.d_Malignancy)"
   ]
  },
  {
   "cell_type": "code",
   "execution_count": 648,
   "id": "a16721ad",
   "metadata": {},
   "outputs": [
    {
     "data": {
      "text/plain": [
       "SignificanceResult(statistic=-0.4575677720642514, pvalue=4.091270762034826e-75)"
      ]
     },
     "execution_count": 648,
     "metadata": {},
     "output_type": "execute_result"
    }
   ],
   "source": [
    "stats.pointbiserialr(data_io.gaborSD_2_0, data_io.d_Malignancy)"
   ]
  },
  {
   "cell_type": "code",
   "execution_count": 649,
   "id": "83d9fe80",
   "metadata": {},
   "outputs": [
    {
     "data": {
      "text/plain": [
       "SignificanceResult(statistic=-0.4969868210519439, pvalue=2.591345704235361e-90)"
      ]
     },
     "execution_count": 649,
     "metadata": {},
     "output_type": "execute_result"
    }
   ],
   "source": [
    "stats.pointbiserialr(data_io.gaborSD_2_1, data_io.d_Malignancy)"
   ]
  },
  {
   "cell_type": "code",
   "execution_count": 650,
   "id": "cc533836",
   "metadata": {},
   "outputs": [
    {
     "data": {
      "text/plain": [
       "SignificanceResult(statistic=0.4785905980046777, pvalue=5.67678855986767e-83)"
      ]
     },
     "execution_count": 650,
     "metadata": {},
     "output_type": "execute_result"
    }
   ],
   "source": [
    "stats.pointbiserialr(data_io.Homogeneity, data_io.d_Malignancy)"
   ]
  },
  {
   "cell_type": "code",
   "execution_count": 651,
   "id": "c2badea8",
   "metadata": {},
   "outputs": [
    {
     "data": {
      "text/plain": [
       "SignificanceResult(statistic=0.08701254240362413, pvalue=0.0009724037563758263)"
      ]
     },
     "execution_count": 651,
     "metadata": {},
     "output_type": "execute_result"
    }
   ],
   "source": [
    "stats.pointbiserialr(data_io.gabormean_2_2, data_io.d_Malignancy)"
   ]
  },
  {
   "cell_type": "code",
   "execution_count": 652,
   "id": "1e740954",
   "metadata": {},
   "outputs": [
    {
     "data": {
      "text/plain": [
       "SignificanceResult(statistic=0.4373713620637461, pvalue=4.570879875243741e-68)"
      ]
     },
     "execution_count": 652,
     "metadata": {},
     "output_type": "execute_result"
    }
   ],
   "source": [
    "stats.pointbiserialr(data_io.gaborSD_2_2, data_io.d_Malignancy)"
   ]
  },
  {
   "cell_type": "code",
   "execution_count": 653,
   "id": "e9bd9df6",
   "metadata": {},
   "outputs": [
    {
     "data": {
      "text/plain": [
       "SignificanceResult(statistic=-0.3447049235417227, pvalue=2.8182524970095837e-41)"
      ]
     },
     "execution_count": 653,
     "metadata": {},
     "output_type": "execute_result"
    }
   ],
   "source": [
    "stats.pointbiserialr(data_io.gaborSD_3_0, data_io.d_Malignancy)"
   ]
  },
  {
   "cell_type": "code",
   "execution_count": 654,
   "id": "7b25bdc5",
   "metadata": {},
   "outputs": [
    {
     "data": {
      "text/plain": [
       "SignificanceResult(statistic=-0.4709978434702907, pvalue=4.5244364961322646e-80)"
      ]
     },
     "execution_count": 654,
     "metadata": {},
     "output_type": "execute_result"
    }
   ],
   "source": [
    "stats.pointbiserialr(data_io.gabormean_3_1, data_io.d_Malignancy)"
   ]
  },
  {
   "cell_type": "code",
   "execution_count": 655,
   "id": "0e18eec8",
   "metadata": {},
   "outputs": [
    {
     "data": {
      "text/plain": [
       "SignificanceResult(statistic=-0.35913948596149253, pvalue=6.703924749663645e-45)"
      ]
     },
     "execution_count": 655,
     "metadata": {},
     "output_type": "execute_result"
    }
   ],
   "source": [
    "stats.pointbiserialr(data_io.gaborSD_3_1, data_io.d_Malignancy)"
   ]
  },
  {
   "cell_type": "code",
   "execution_count": 656,
   "id": "7ecf51f8",
   "metadata": {},
   "outputs": [
    {
     "data": {
      "text/plain": [
       "SignificanceResult(statistic=-0.312963714823161, pvalue=5.916301304814273e-34)"
      ]
     },
     "execution_count": 656,
     "metadata": {},
     "output_type": "execute_result"
    }
   ],
   "source": [
    "stats.pointbiserialr(data_io.gaborSD_3_2, data_io.d_Malignancy)"
   ]
  },
  {
   "cell_type": "code",
   "execution_count": 657,
   "id": "f0c4dffe",
   "metadata": {},
   "outputs": [
    {
     "data": {
      "text/plain": [
       "SignificanceResult(statistic=-0.31350534229637705, pvalue=4.511491668545722e-34)"
      ]
     },
     "execution_count": 657,
     "metadata": {},
     "output_type": "execute_result"
    }
   ],
   "source": [
    "stats.pointbiserialr(data_io.Contrast, data_io.d_Malignancy)"
   ]
  },
  {
   "cell_type": "code",
   "execution_count": 658,
   "id": "c5e3626f",
   "metadata": {},
   "outputs": [
    {
     "data": {
      "text/plain": [
       "SignificanceResult(statistic=0.4854433190241809, pvalue=1.1801050033267291e-85)"
      ]
     },
     "execution_count": 658,
     "metadata": {},
     "output_type": "execute_result"
    }
   ],
   "source": [
    "stats.pointbiserialr(data_io.Correlation, data_io.d_Malignancy)"
   ]
  },
  {
   "cell_type": "code",
   "execution_count": 659,
   "id": "9479299f",
   "metadata": {},
   "outputs": [
    {
     "data": {
      "text/plain": [
       "SignificanceResult(statistic=0.42654082950935535, pvalue=1.7695551074969252e-64)"
      ]
     },
     "execution_count": 659,
     "metadata": {},
     "output_type": "execute_result"
    }
   ],
   "source": [
    "stats.pointbiserialr(data_io.Inversevariance, data_io.d_Malignancy)"
   ]
  },
  {
   "cell_type": "code",
   "execution_count": 660,
   "id": "20788f66",
   "metadata": {},
   "outputs": [
    {
     "data": {
      "text/plain": [
       "SignificanceResult(statistic=0.026317365303783286, pvalue=0.3193014202598064)"
      ]
     },
     "execution_count": 660,
     "metadata": {},
     "output_type": "execute_result"
    }
   ],
   "source": [
    "stats.pointbiserialr(data_io.Sumaverage, data_io.d_Malignancy)"
   ]
  },
  {
   "cell_type": "code",
   "execution_count": 661,
   "id": "f282ddb1",
   "metadata": {},
   "outputs": [
    {
     "data": {
      "text/plain": [
       "SignificanceResult(statistic=-0.1892487011065253, pvalue=4.987237198310526e-13)"
      ]
     },
     "execution_count": 661,
     "metadata": {},
     "output_type": "execute_result"
    }
   ],
   "source": [
    "stats.pointbiserialr(data_io.Variance, data_io.d_Malignancy)"
   ]
  },
  {
   "cell_type": "code",
   "execution_count": 662,
   "id": "9f01b677",
   "metadata": {},
   "outputs": [
    {
     "name": "stdout",
     "output_type": "stream",
     "text": [
      "Training time: 0.3861727714538574 seconds\n",
      "CPU Usage: 6.5 %\n"
     ]
    },
    {
     "ename": "FileNotFoundError",
     "evalue": "[Errno 2] No such file or directory: 'nvidia-smi'",
     "output_type": "error",
     "traceback": [
      "\u001b[0;31m---------------------------------------------------------------------------\u001b[0m",
      "\u001b[0;31mFileNotFoundError\u001b[0m                         Traceback (most recent call last)",
      "Cell \u001b[0;32mIn[662], line 10\u001b[0m\n\u001b[1;32m      7\u001b[0m \u001b[38;5;28mprint\u001b[39m(\u001b[38;5;124m\"\u001b[39m\u001b[38;5;124mCPU Usage:\u001b[39m\u001b[38;5;124m\"\u001b[39m, cpu_usage, \u001b[38;5;124m\"\u001b[39m\u001b[38;5;124m%\u001b[39m\u001b[38;5;124m\"\u001b[39m)\n\u001b[1;32m      9\u001b[0m \u001b[38;5;66;03m# Measure GPU usage\u001b[39;00m\n\u001b[0;32m---> 10\u001b[0m gpu_usage \u001b[38;5;241m=\u001b[39m \u001b[43mmeasure_gpu_usage\u001b[49m\u001b[43m(\u001b[49m\u001b[43m)\u001b[49m\n\u001b[1;32m     11\u001b[0m \u001b[38;5;28mprint\u001b[39m(\u001b[38;5;124m\"\u001b[39m\u001b[38;5;124mGPU Usage:\u001b[39m\u001b[38;5;124m\"\u001b[39m, gpu_usage, \u001b[38;5;124m\"\u001b[39m\u001b[38;5;124m%\u001b[39m\u001b[38;5;124m\"\u001b[39m)\n",
      "Cell \u001b[0;32mIn[545], line 44\u001b[0m, in \u001b[0;36mmeasure_gpu_usage\u001b[0;34m()\u001b[0m\n\u001b[1;32m     42\u001b[0m \u001b[38;5;28;01mdef\u001b[39;00m \u001b[38;5;21mmeasure_gpu_usage\u001b[39m():\n\u001b[1;32m     43\u001b[0m     \u001b[38;5;66;03m# Run nvidia-smi command to get GPU usage\u001b[39;00m\n\u001b[0;32m---> 44\u001b[0m     result \u001b[38;5;241m=\u001b[39m \u001b[43msubprocess\u001b[49m\u001b[38;5;241;43m.\u001b[39;49m\u001b[43mrun\u001b[49m\u001b[43m(\u001b[49m\u001b[43m[\u001b[49m\u001b[38;5;124;43m'\u001b[39;49m\u001b[38;5;124;43mnvidia-smi\u001b[39;49m\u001b[38;5;124;43m'\u001b[39;49m\u001b[43m,\u001b[49m\u001b[43m \u001b[49m\u001b[38;5;124;43m'\u001b[39;49m\u001b[38;5;124;43m--query-gpu=utilization.gpu\u001b[39;49m\u001b[38;5;124;43m'\u001b[39;49m\u001b[43m,\u001b[49m\u001b[43m \u001b[49m\u001b[38;5;124;43m'\u001b[39;49m\u001b[38;5;124;43m--format=csv,nounits,noheader\u001b[39;49m\u001b[38;5;124;43m'\u001b[39;49m\u001b[43m]\u001b[49m\u001b[43m,\u001b[49m\u001b[43m \u001b[49m\u001b[43mstdout\u001b[49m\u001b[38;5;241;43m=\u001b[39;49m\u001b[43msubprocess\u001b[49m\u001b[38;5;241;43m.\u001b[39;49m\u001b[43mPIPE\u001b[49m\u001b[43m)\u001b[49m\n\u001b[1;32m     45\u001b[0m     gpu_usage_str \u001b[38;5;241m=\u001b[39m result\u001b[38;5;241m.\u001b[39mstdout\u001b[38;5;241m.\u001b[39mdecode(\u001b[38;5;124m'\u001b[39m\u001b[38;5;124mutf-8\u001b[39m\u001b[38;5;124m'\u001b[39m)\u001b[38;5;241m.\u001b[39mstrip()\n\u001b[1;32m     46\u001b[0m     gpu_usage \u001b[38;5;241m=\u001b[39m \u001b[38;5;28mint\u001b[39m(gpu_usage_str)\n",
      "File \u001b[0;32m/Library/Frameworks/Python.framework/Versions/3.12/lib/python3.12/subprocess.py:548\u001b[0m, in \u001b[0;36mrun\u001b[0;34m(input, capture_output, timeout, check, *popenargs, **kwargs)\u001b[0m\n\u001b[1;32m    545\u001b[0m     kwargs[\u001b[38;5;124m'\u001b[39m\u001b[38;5;124mstdout\u001b[39m\u001b[38;5;124m'\u001b[39m] \u001b[38;5;241m=\u001b[39m PIPE\n\u001b[1;32m    546\u001b[0m     kwargs[\u001b[38;5;124m'\u001b[39m\u001b[38;5;124mstderr\u001b[39m\u001b[38;5;124m'\u001b[39m] \u001b[38;5;241m=\u001b[39m PIPE\n\u001b[0;32m--> 548\u001b[0m \u001b[38;5;28;01mwith\u001b[39;00m \u001b[43mPopen\u001b[49m\u001b[43m(\u001b[49m\u001b[38;5;241;43m*\u001b[39;49m\u001b[43mpopenargs\u001b[49m\u001b[43m,\u001b[49m\u001b[43m \u001b[49m\u001b[38;5;241;43m*\u001b[39;49m\u001b[38;5;241;43m*\u001b[39;49m\u001b[43mkwargs\u001b[49m\u001b[43m)\u001b[49m \u001b[38;5;28;01mas\u001b[39;00m process:\n\u001b[1;32m    549\u001b[0m     \u001b[38;5;28;01mtry\u001b[39;00m:\n\u001b[1;32m    550\u001b[0m         stdout, stderr \u001b[38;5;241m=\u001b[39m process\u001b[38;5;241m.\u001b[39mcommunicate(\u001b[38;5;28minput\u001b[39m, timeout\u001b[38;5;241m=\u001b[39mtimeout)\n",
      "File \u001b[0;32m/Library/Frameworks/Python.framework/Versions/3.12/lib/python3.12/subprocess.py:1026\u001b[0m, in \u001b[0;36mPopen.__init__\u001b[0;34m(self, args, bufsize, executable, stdin, stdout, stderr, preexec_fn, close_fds, shell, cwd, env, universal_newlines, startupinfo, creationflags, restore_signals, start_new_session, pass_fds, user, group, extra_groups, encoding, errors, text, umask, pipesize, process_group)\u001b[0m\n\u001b[1;32m   1022\u001b[0m         \u001b[38;5;28;01mif\u001b[39;00m \u001b[38;5;28mself\u001b[39m\u001b[38;5;241m.\u001b[39mtext_mode:\n\u001b[1;32m   1023\u001b[0m             \u001b[38;5;28mself\u001b[39m\u001b[38;5;241m.\u001b[39mstderr \u001b[38;5;241m=\u001b[39m io\u001b[38;5;241m.\u001b[39mTextIOWrapper(\u001b[38;5;28mself\u001b[39m\u001b[38;5;241m.\u001b[39mstderr,\n\u001b[1;32m   1024\u001b[0m                     encoding\u001b[38;5;241m=\u001b[39mencoding, errors\u001b[38;5;241m=\u001b[39merrors)\n\u001b[0;32m-> 1026\u001b[0m     \u001b[38;5;28;43mself\u001b[39;49m\u001b[38;5;241;43m.\u001b[39;49m\u001b[43m_execute_child\u001b[49m\u001b[43m(\u001b[49m\u001b[43margs\u001b[49m\u001b[43m,\u001b[49m\u001b[43m \u001b[49m\u001b[43mexecutable\u001b[49m\u001b[43m,\u001b[49m\u001b[43m \u001b[49m\u001b[43mpreexec_fn\u001b[49m\u001b[43m,\u001b[49m\u001b[43m \u001b[49m\u001b[43mclose_fds\u001b[49m\u001b[43m,\u001b[49m\n\u001b[1;32m   1027\u001b[0m \u001b[43m                        \u001b[49m\u001b[43mpass_fds\u001b[49m\u001b[43m,\u001b[49m\u001b[43m \u001b[49m\u001b[43mcwd\u001b[49m\u001b[43m,\u001b[49m\u001b[43m \u001b[49m\u001b[43menv\u001b[49m\u001b[43m,\u001b[49m\n\u001b[1;32m   1028\u001b[0m \u001b[43m                        \u001b[49m\u001b[43mstartupinfo\u001b[49m\u001b[43m,\u001b[49m\u001b[43m \u001b[49m\u001b[43mcreationflags\u001b[49m\u001b[43m,\u001b[49m\u001b[43m \u001b[49m\u001b[43mshell\u001b[49m\u001b[43m,\u001b[49m\n\u001b[1;32m   1029\u001b[0m \u001b[43m                        \u001b[49m\u001b[43mp2cread\u001b[49m\u001b[43m,\u001b[49m\u001b[43m \u001b[49m\u001b[43mp2cwrite\u001b[49m\u001b[43m,\u001b[49m\n\u001b[1;32m   1030\u001b[0m \u001b[43m                        \u001b[49m\u001b[43mc2pread\u001b[49m\u001b[43m,\u001b[49m\u001b[43m \u001b[49m\u001b[43mc2pwrite\u001b[49m\u001b[43m,\u001b[49m\n\u001b[1;32m   1031\u001b[0m \u001b[43m                        \u001b[49m\u001b[43merrread\u001b[49m\u001b[43m,\u001b[49m\u001b[43m \u001b[49m\u001b[43merrwrite\u001b[49m\u001b[43m,\u001b[49m\n\u001b[1;32m   1032\u001b[0m \u001b[43m                        \u001b[49m\u001b[43mrestore_signals\u001b[49m\u001b[43m,\u001b[49m\n\u001b[1;32m   1033\u001b[0m \u001b[43m                        \u001b[49m\u001b[43mgid\u001b[49m\u001b[43m,\u001b[49m\u001b[43m \u001b[49m\u001b[43mgids\u001b[49m\u001b[43m,\u001b[49m\u001b[43m \u001b[49m\u001b[43muid\u001b[49m\u001b[43m,\u001b[49m\u001b[43m \u001b[49m\u001b[43mumask\u001b[49m\u001b[43m,\u001b[49m\n\u001b[1;32m   1034\u001b[0m \u001b[43m                        \u001b[49m\u001b[43mstart_new_session\u001b[49m\u001b[43m,\u001b[49m\u001b[43m \u001b[49m\u001b[43mprocess_group\u001b[49m\u001b[43m)\u001b[49m\n\u001b[1;32m   1035\u001b[0m \u001b[38;5;28;01mexcept\u001b[39;00m:\n\u001b[1;32m   1036\u001b[0m     \u001b[38;5;66;03m# Cleanup if the child failed starting.\u001b[39;00m\n\u001b[1;32m   1037\u001b[0m     \u001b[38;5;28;01mfor\u001b[39;00m f \u001b[38;5;129;01min\u001b[39;00m \u001b[38;5;28mfilter\u001b[39m(\u001b[38;5;28;01mNone\u001b[39;00m, (\u001b[38;5;28mself\u001b[39m\u001b[38;5;241m.\u001b[39mstdin, \u001b[38;5;28mself\u001b[39m\u001b[38;5;241m.\u001b[39mstdout, \u001b[38;5;28mself\u001b[39m\u001b[38;5;241m.\u001b[39mstderr)):\n",
      "File \u001b[0;32m/Library/Frameworks/Python.framework/Versions/3.12/lib/python3.12/subprocess.py:1953\u001b[0m, in \u001b[0;36mPopen._execute_child\u001b[0;34m(self, args, executable, preexec_fn, close_fds, pass_fds, cwd, env, startupinfo, creationflags, shell, p2cread, p2cwrite, c2pread, c2pwrite, errread, errwrite, restore_signals, gid, gids, uid, umask, start_new_session, process_group)\u001b[0m\n\u001b[1;32m   1951\u001b[0m     err_msg \u001b[38;5;241m=\u001b[39m os\u001b[38;5;241m.\u001b[39mstrerror(errno_num)\n\u001b[1;32m   1952\u001b[0m \u001b[38;5;28;01mif\u001b[39;00m err_filename \u001b[38;5;129;01mis\u001b[39;00m \u001b[38;5;129;01mnot\u001b[39;00m \u001b[38;5;28;01mNone\u001b[39;00m:\n\u001b[0;32m-> 1953\u001b[0m     \u001b[38;5;28;01mraise\u001b[39;00m child_exception_type(errno_num, err_msg, err_filename)\n\u001b[1;32m   1954\u001b[0m \u001b[38;5;28;01melse\u001b[39;00m:\n\u001b[1;32m   1955\u001b[0m     \u001b[38;5;28;01mraise\u001b[39;00m child_exception_type(errno_num, err_msg)\n",
      "\u001b[0;31mFileNotFoundError\u001b[0m: [Errno 2] No such file or directory: 'nvidia-smi'"
     ]
    }
   ],
   "source": [
    "# Train the Random Forest model and measure time taken\n",
    "model, training_time = train_random_forest(X, y)\n",
    "print(\"Training time:\", training_time, \"seconds\")\n",
    "\n",
    "# Measure CPU usage\n",
    "cpu_usage = psutil.cpu_percent()\n",
    "print(\"CPU Usage:\", cpu_usage, \"%\")\n",
    "\n",
    "# Measure GPU usage\n",
    "gpu_usage = measure_gpu_usage()\n",
    "print(\"GPU Usage:\", gpu_usage, \"%\")"
   ]
  }
 ],
 "metadata": {
  "kernelspec": {
   "display_name": "Python 3 (ipykernel)",
   "language": "python",
   "name": "python3"
  },
  "language_info": {
   "codemirror_mode": {
    "name": "ipython",
    "version": 3
   },
   "file_extension": ".py",
   "mimetype": "text/x-python",
   "name": "python",
   "nbconvert_exporter": "python",
   "pygments_lexer": "ipython3",
   "version": "3.12.2"
  }
 },
 "nbformat": 4,
 "nbformat_minor": 5
}
