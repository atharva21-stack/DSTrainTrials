{
  "cells": [
    {
      "cell_type": "markdown",
      "id": "5d7ae5ca",
      "metadata": {
        "id": "5d7ae5ca"
      },
      "source": [
        "### RF - Cost/Impurity = log loss (cross entropy) + wCE + cost = class weights = IR, 1.5\n",
        "<br>\n",
        "<b><font color = 'blue' > Exp: A3 ---- Easy to Hard - Full, High, Low, Only One agreements - Top G% </font></b>\n",
        "<br> cost = IR = min count /maj count -- provided as class weights\n",
        "\n",
        "### NOTE: Selected Features only"
      ]
    },
    {
      "cell_type": "markdown",
      "id": "559e0a1d",
      "metadata": {
        "id": "559e0a1d"
      },
      "source": [
        "<b>Note: </b> <br>\n",
        "Tabular data stored        - data <br>\n",
        "Image data, not normalized - all_images <br>\n",
        "All nodule IDs             - all_noduleId <br>\n",
        "Image data normalized      - all_normalized_image <br>"
      ]
    },
    {
      "cell_type": "code",
      "execution_count": 66,
      "id": "c36216dd",
      "metadata": {
        "id": "c36216dd"
      },
      "outputs": [],
      "source": [
        "# Import Libaries\n",
        "import numpy as np\n",
        "import pandas as pd\n",
        "import os\n",
        "import statistics\n",
        "from matplotlib import pyplot as plt\n",
        "import os\n",
        "from os import path\n",
        "from matplotlib.ticker import MultipleLocator\n",
        "import seaborn as sns\n",
        "from scipy.stats import f_oneway\n",
        "from scipy.stats import ttest_ind\n",
        "import scipy.stats as stats\n",
        "import matplotlib.ticker as ticker\n",
        "from scipy.stats import levene\n",
        "import math\n",
        "import time\n",
        "import psutil\n",
        "import GPUtil\n",
        "\n",
        "import warnings\n",
        "\n",
        "warnings.filterwarnings('ignore')\n"
      ]
    },
    {
      "cell_type": "code",
      "execution_count": 67,
      "id": "9ff3f5f8",
      "metadata": {
        "id": "9ff3f5f8"
      },
      "outputs": [],
      "source": [
        "start_time = time.process_time()\n",
        "# Read CSV data\n",
        "data = pd.read_csv(\"MaxSlices_newMode_Manuf_Int.csv\", index_col = 0)\n",
        "\n",
        "# Print data\n",
        "data.head(5)\n",
        "\n",
        "# Define the directory path\n",
        "directory = './_SubsetsCreated/RF/RF_New_FHLOne_Agr'\n",
        "\n",
        "# Create the directory if it doesn't exist\n",
        "os.makedirs(directory, exist_ok=True)\n",
        "\n"
      ]
    },
    {
      "cell_type": "code",
      "execution_count": 68,
      "id": "654d4ea3",
      "metadata": {
        "colab": {
          "base_uri": "https://localhost:8080/",
          "height": 455
        },
        "id": "654d4ea3",
        "outputId": "392d9970-0adb-4749-b98a-7af406f73d62"
      },
      "outputs": [
        {
          "output_type": "execute_result",
          "data": {
            "text/plain": [
              "       Malignancy\n",
              "MY_ID            \n",
              "1               5\n",
              "2               5\n",
              "3               5\n",
              "4               4\n",
              "5               4\n",
              "...           ...\n",
              "2683            4\n",
              "2684            2\n",
              "2685            2\n",
              "2686            5\n",
              "2687            2\n",
              "\n",
              "[2687 rows x 1 columns]"
            ],
            "text/html": [
              "\n",
              "  <div id=\"df-910db299-c15e-43db-8b67-3c70424b899c\" class=\"colab-df-container\">\n",
              "    <div>\n",
              "<style scoped>\n",
              "    .dataframe tbody tr th:only-of-type {\n",
              "        vertical-align: middle;\n",
              "    }\n",
              "\n",
              "    .dataframe tbody tr th {\n",
              "        vertical-align: top;\n",
              "    }\n",
              "\n",
              "    .dataframe thead th {\n",
              "        text-align: right;\n",
              "    }\n",
              "</style>\n",
              "<table border=\"1\" class=\"dataframe\">\n",
              "  <thead>\n",
              "    <tr style=\"text-align: right;\">\n",
              "      <th></th>\n",
              "      <th>Malignancy</th>\n",
              "    </tr>\n",
              "    <tr>\n",
              "      <th>MY_ID</th>\n",
              "      <th></th>\n",
              "    </tr>\n",
              "  </thead>\n",
              "  <tbody>\n",
              "    <tr>\n",
              "      <th>1</th>\n",
              "      <td>5</td>\n",
              "    </tr>\n",
              "    <tr>\n",
              "      <th>2</th>\n",
              "      <td>5</td>\n",
              "    </tr>\n",
              "    <tr>\n",
              "      <th>3</th>\n",
              "      <td>5</td>\n",
              "    </tr>\n",
              "    <tr>\n",
              "      <th>4</th>\n",
              "      <td>4</td>\n",
              "    </tr>\n",
              "    <tr>\n",
              "      <th>5</th>\n",
              "      <td>4</td>\n",
              "    </tr>\n",
              "    <tr>\n",
              "      <th>...</th>\n",
              "      <td>...</td>\n",
              "    </tr>\n",
              "    <tr>\n",
              "      <th>2683</th>\n",
              "      <td>4</td>\n",
              "    </tr>\n",
              "    <tr>\n",
              "      <th>2684</th>\n",
              "      <td>2</td>\n",
              "    </tr>\n",
              "    <tr>\n",
              "      <th>2685</th>\n",
              "      <td>2</td>\n",
              "    </tr>\n",
              "    <tr>\n",
              "      <th>2686</th>\n",
              "      <td>5</td>\n",
              "    </tr>\n",
              "    <tr>\n",
              "      <th>2687</th>\n",
              "      <td>2</td>\n",
              "    </tr>\n",
              "  </tbody>\n",
              "</table>\n",
              "<p>2687 rows × 1 columns</p>\n",
              "</div>\n",
              "    <div class=\"colab-df-buttons\">\n",
              "\n",
              "  <div class=\"colab-df-container\">\n",
              "    <button class=\"colab-df-convert\" onclick=\"convertToInteractive('df-910db299-c15e-43db-8b67-3c70424b899c')\"\n",
              "            title=\"Convert this dataframe to an interactive table.\"\n",
              "            style=\"display:none;\">\n",
              "\n",
              "  <svg xmlns=\"http://www.w3.org/2000/svg\" height=\"24px\" viewBox=\"0 -960 960 960\">\n",
              "    <path d=\"M120-120v-720h720v720H120Zm60-500h600v-160H180v160Zm220 220h160v-160H400v160Zm0 220h160v-160H400v160ZM180-400h160v-160H180v160Zm440 0h160v-160H620v160ZM180-180h160v-160H180v160Zm440 0h160v-160H620v160Z\"/>\n",
              "  </svg>\n",
              "    </button>\n",
              "\n",
              "  <style>\n",
              "    .colab-df-container {\n",
              "      display:flex;\n",
              "      gap: 12px;\n",
              "    }\n",
              "\n",
              "    .colab-df-convert {\n",
              "      background-color: #E8F0FE;\n",
              "      border: none;\n",
              "      border-radius: 50%;\n",
              "      cursor: pointer;\n",
              "      display: none;\n",
              "      fill: #1967D2;\n",
              "      height: 32px;\n",
              "      padding: 0 0 0 0;\n",
              "      width: 32px;\n",
              "    }\n",
              "\n",
              "    .colab-df-convert:hover {\n",
              "      background-color: #E2EBFA;\n",
              "      box-shadow: 0px 1px 2px rgba(60, 64, 67, 0.3), 0px 1px 3px 1px rgba(60, 64, 67, 0.15);\n",
              "      fill: #174EA6;\n",
              "    }\n",
              "\n",
              "    .colab-df-buttons div {\n",
              "      margin-bottom: 4px;\n",
              "    }\n",
              "\n",
              "    [theme=dark] .colab-df-convert {\n",
              "      background-color: #3B4455;\n",
              "      fill: #D2E3FC;\n",
              "    }\n",
              "\n",
              "    [theme=dark] .colab-df-convert:hover {\n",
              "      background-color: #434B5C;\n",
              "      box-shadow: 0px 1px 3px 1px rgba(0, 0, 0, 0.15);\n",
              "      filter: drop-shadow(0px 1px 2px rgba(0, 0, 0, 0.3));\n",
              "      fill: #FFFFFF;\n",
              "    }\n",
              "  </style>\n",
              "\n",
              "    <script>\n",
              "      const buttonEl =\n",
              "        document.querySelector('#df-910db299-c15e-43db-8b67-3c70424b899c button.colab-df-convert');\n",
              "      buttonEl.style.display =\n",
              "        google.colab.kernel.accessAllowed ? 'block' : 'none';\n",
              "\n",
              "      async function convertToInteractive(key) {\n",
              "        const element = document.querySelector('#df-910db299-c15e-43db-8b67-3c70424b899c');\n",
              "        const dataTable =\n",
              "          await google.colab.kernel.invokeFunction('convertToInteractive',\n",
              "                                                    [key], {});\n",
              "        if (!dataTable) return;\n",
              "\n",
              "        const docLinkHtml = 'Like what you see? Visit the ' +\n",
              "          '<a target=\"_blank\" href=https://colab.research.google.com/notebooks/data_table.ipynb>data table notebook</a>'\n",
              "          + ' to learn more about interactive tables.';\n",
              "        element.innerHTML = '';\n",
              "        dataTable['output_type'] = 'display_data';\n",
              "        await google.colab.output.renderOutput(dataTable, element);\n",
              "        const docLink = document.createElement('div');\n",
              "        docLink.innerHTML = docLinkHtml;\n",
              "        element.appendChild(docLink);\n",
              "      }\n",
              "    </script>\n",
              "  </div>\n",
              "\n",
              "\n",
              "<div id=\"df-b3a90afb-8b4e-474b-aed3-224d318b03ff\">\n",
              "  <button class=\"colab-df-quickchart\" onclick=\"quickchart('df-b3a90afb-8b4e-474b-aed3-224d318b03ff')\"\n",
              "            title=\"Suggest charts\"\n",
              "            style=\"display:none;\">\n",
              "\n",
              "<svg xmlns=\"http://www.w3.org/2000/svg\" height=\"24px\"viewBox=\"0 0 24 24\"\n",
              "     width=\"24px\">\n",
              "    <g>\n",
              "        <path d=\"M19 3H5c-1.1 0-2 .9-2 2v14c0 1.1.9 2 2 2h14c1.1 0 2-.9 2-2V5c0-1.1-.9-2-2-2zM9 17H7v-7h2v7zm4 0h-2V7h2v10zm4 0h-2v-4h2v4z\"/>\n",
              "    </g>\n",
              "</svg>\n",
              "  </button>\n",
              "\n",
              "<style>\n",
              "  .colab-df-quickchart {\n",
              "      --bg-color: #E8F0FE;\n",
              "      --fill-color: #1967D2;\n",
              "      --hover-bg-color: #E2EBFA;\n",
              "      --hover-fill-color: #174EA6;\n",
              "      --disabled-fill-color: #AAA;\n",
              "      --disabled-bg-color: #DDD;\n",
              "  }\n",
              "\n",
              "  [theme=dark] .colab-df-quickchart {\n",
              "      --bg-color: #3B4455;\n",
              "      --fill-color: #D2E3FC;\n",
              "      --hover-bg-color: #434B5C;\n",
              "      --hover-fill-color: #FFFFFF;\n",
              "      --disabled-bg-color: #3B4455;\n",
              "      --disabled-fill-color: #666;\n",
              "  }\n",
              "\n",
              "  .colab-df-quickchart {\n",
              "    background-color: var(--bg-color);\n",
              "    border: none;\n",
              "    border-radius: 50%;\n",
              "    cursor: pointer;\n",
              "    display: none;\n",
              "    fill: var(--fill-color);\n",
              "    height: 32px;\n",
              "    padding: 0;\n",
              "    width: 32px;\n",
              "  }\n",
              "\n",
              "  .colab-df-quickchart:hover {\n",
              "    background-color: var(--hover-bg-color);\n",
              "    box-shadow: 0 1px 2px rgba(60, 64, 67, 0.3), 0 1px 3px 1px rgba(60, 64, 67, 0.15);\n",
              "    fill: var(--button-hover-fill-color);\n",
              "  }\n",
              "\n",
              "  .colab-df-quickchart-complete:disabled,\n",
              "  .colab-df-quickchart-complete:disabled:hover {\n",
              "    background-color: var(--disabled-bg-color);\n",
              "    fill: var(--disabled-fill-color);\n",
              "    box-shadow: none;\n",
              "  }\n",
              "\n",
              "  .colab-df-spinner {\n",
              "    border: 2px solid var(--fill-color);\n",
              "    border-color: transparent;\n",
              "    border-bottom-color: var(--fill-color);\n",
              "    animation:\n",
              "      spin 1s steps(1) infinite;\n",
              "  }\n",
              "\n",
              "  @keyframes spin {\n",
              "    0% {\n",
              "      border-color: transparent;\n",
              "      border-bottom-color: var(--fill-color);\n",
              "      border-left-color: var(--fill-color);\n",
              "    }\n",
              "    20% {\n",
              "      border-color: transparent;\n",
              "      border-left-color: var(--fill-color);\n",
              "      border-top-color: var(--fill-color);\n",
              "    }\n",
              "    30% {\n",
              "      border-color: transparent;\n",
              "      border-left-color: var(--fill-color);\n",
              "      border-top-color: var(--fill-color);\n",
              "      border-right-color: var(--fill-color);\n",
              "    }\n",
              "    40% {\n",
              "      border-color: transparent;\n",
              "      border-right-color: var(--fill-color);\n",
              "      border-top-color: var(--fill-color);\n",
              "    }\n",
              "    60% {\n",
              "      border-color: transparent;\n",
              "      border-right-color: var(--fill-color);\n",
              "    }\n",
              "    80% {\n",
              "      border-color: transparent;\n",
              "      border-right-color: var(--fill-color);\n",
              "      border-bottom-color: var(--fill-color);\n",
              "    }\n",
              "    90% {\n",
              "      border-color: transparent;\n",
              "      border-bottom-color: var(--fill-color);\n",
              "    }\n",
              "  }\n",
              "</style>\n",
              "\n",
              "  <script>\n",
              "    async function quickchart(key) {\n",
              "      const quickchartButtonEl =\n",
              "        document.querySelector('#' + key + ' button');\n",
              "      quickchartButtonEl.disabled = true;  // To prevent multiple clicks.\n",
              "      quickchartButtonEl.classList.add('colab-df-spinner');\n",
              "      try {\n",
              "        const charts = await google.colab.kernel.invokeFunction(\n",
              "            'suggestCharts', [key], {});\n",
              "      } catch (error) {\n",
              "        console.error('Error during call to suggestCharts:', error);\n",
              "      }\n",
              "      quickchartButtonEl.classList.remove('colab-df-spinner');\n",
              "      quickchartButtonEl.classList.add('colab-df-quickchart-complete');\n",
              "    }\n",
              "    (() => {\n",
              "      let quickchartButtonEl =\n",
              "        document.querySelector('#df-b3a90afb-8b4e-474b-aed3-224d318b03ff button');\n",
              "      quickchartButtonEl.style.display =\n",
              "        google.colab.kernel.accessAllowed ? 'block' : 'none';\n",
              "    })();\n",
              "  </script>\n",
              "</div>\n",
              "\n",
              "    </div>\n",
              "  </div>\n"
            ],
            "application/vnd.google.colaboratory.intrinsic+json": {
              "type": "dataframe",
              "summary": "{\n  \"name\": \"data\",\n  \"rows\": 2687,\n  \"fields\": [\n    {\n      \"column\": \"MY_ID\",\n      \"properties\": {\n        \"dtype\": \"number\",\n        \"std\": 775,\n        \"min\": 1,\n        \"max\": 2687,\n        \"num_unique_values\": 2687,\n        \"samples\": [\n          656,\n          863,\n          366\n        ],\n        \"semantic_type\": \"\",\n        \"description\": \"\"\n      }\n    },\n    {\n      \"column\": \"Malignancy\",\n      \"properties\": {\n        \"dtype\": \"number\",\n        \"std\": 1,\n        \"min\": 1,\n        \"max\": 5,\n        \"num_unique_values\": 5,\n        \"samples\": [\n          4,\n          2,\n          1\n        ],\n        \"semantic_type\": \"\",\n        \"description\": \"\"\n      }\n    }\n  ]\n}"
            }
          },
          "metadata": {},
          "execution_count": 68
        }
      ],
      "source": [
        "# Malignancy\n",
        "data.iloc[:, [8]]"
      ]
    },
    {
      "cell_type": "code",
      "execution_count": 69,
      "id": "b1522ae8",
      "metadata": {
        "colab": {
          "base_uri": "https://localhost:8080/"
        },
        "id": "b1522ae8",
        "outputId": "29cbfd5f-f88c-409b-bfd4-01d512df0a95"
      },
      "outputs": [
        {
          "output_type": "stream",
          "name": "stdout",
          "text": [
            "2687\n",
            "(2687, 136)\n",
            "(2680, 136)\n",
            "(2680, 136)\n"
          ]
        }
      ],
      "source": [
        "# remove observations for which text version of the images do not exist\n",
        "# nodules : 309, 1212, 1281, 1459, 1712, 2507, 2596\n",
        "\n",
        "# before removal\n",
        "print(len(data))\n",
        "print(data.shape)\n",
        "\n",
        "dfx = data.loc[(data[\"noduleID\"] != 309) & (data[\"noduleID\"] != 1212) & (data[\"noduleID\"] != 1281) & (data[\"noduleID\"] != 1459) & (data[\"noduleID\"] != 1712) & (data[\"noduleID\"] != 2507) & (data[\"noduleID\"] != 2596)]\n",
        "print(dfx.shape)\n",
        "data = dfx\n",
        "print(data.shape)"
      ]
    },
    {
      "cell_type": "code",
      "execution_count": 70,
      "id": "bd780c78",
      "metadata": {
        "colab": {
          "base_uri": "https://localhost:8080/"
        },
        "id": "bd780c78",
        "outputId": "46c6db5f-d424-42ec-879d-4742de148257"
      },
      "outputs": [
        {
          "output_type": "stream",
          "name": "stdout",
          "text": [
            "2680\n",
            "(2680, 136)\n",
            "(1488, 136)\n",
            "(1488, 136)\n"
          ]
        }
      ],
      "source": [
        "print(len(data))\n",
        "print(data.shape)\n",
        "\n",
        "dmx = data.loc[(data[\"d_MalignancyDesc\"] != 'Indeterminant')]\n",
        "print(dmx.shape)\n",
        "data = dmx\n",
        "print(data.shape)"
      ]
    },
    {
      "cell_type": "code",
      "execution_count": 71,
      "id": "44524132",
      "metadata": {
        "colab": {
          "base_uri": "https://localhost:8080/"
        },
        "id": "44524132",
        "outputId": "d4a88555-ce3c-4239-c25a-6b5a042d6aaf"
      },
      "outputs": [
        {
          "output_type": "stream",
          "name": "stdout",
          "text": [
            "335\n",
            "562\n",
            "356\n",
            "235\n",
            "897\n",
            "591\n"
          ]
        }
      ],
      "source": [
        "print(data['Malignancy'].value_counts()[1])\n",
        "print(data['Malignancy'].value_counts()[2])\n",
        "print(data['Malignancy'].value_counts()[4])\n",
        "print(data['Malignancy'].value_counts()[5])\n",
        "\n",
        "print(data['d_MalignancyDesc'].value_counts()['Benign'])\n",
        "print(data['d_MalignancyDesc'].value_counts()['Malignant'])\n",
        "#print(data['d_MalignancyDesc'].value_counts()['Indeterminant'])"
      ]
    },
    {
      "cell_type": "markdown",
      "id": "15836663",
      "metadata": {
        "id": "15836663"
      },
      "source": [
        "## Common Section"
      ]
    },
    {
      "cell_type": "code",
      "execution_count": 72,
      "id": "67e1d4ce",
      "metadata": {
        "colab": {
          "base_uri": "https://localhost:8080/"
        },
        "id": "67e1d4ce",
        "outputId": "3c1f09e1-5ed2-4281-c876-f70f9b480080"
      },
      "outputs": [
        {
          "output_type": "stream",
          "name": "stdout",
          "text": [
            "(934, 136)\n",
            "(321, 136)\n",
            "(100, 136)\n",
            "(133, 136)\n"
          ]
        }
      ],
      "source": [
        "# Manufacture types = GE MEDICAL SYSTEMS (1623), SIEMENS (586), TOSHIBA (191), Philips (287) - before removing\n",
        "# Manufacture types = GE MEDICAL SYSTEMS (1623), SIEMENS (580), TOSHIBA (191), Philips (286) - after removing\n",
        "Manuf_GE = data[data['Manufacturer']== \"GE Medical Systems\"]\n",
        "Manuf_S = data[data['Manufacturer']== \"Siemens\"]\n",
        "Manuf_T = data[data['Manufacturer']== \"Toshiba\"]\n",
        "Manuf_P = data[data['Manufacturer']== \"Philips\"]\n",
        "\n",
        "# Print data counts\n",
        "print(Manuf_GE.shape)\n",
        "print(Manuf_S.shape)\n",
        "print(Manuf_T.shape)\n",
        "print(Manuf_P.shape)"
      ]
    },
    {
      "cell_type": "markdown",
      "id": "fec26cc9",
      "metadata": {
        "id": "fec26cc9"
      },
      "source": [
        "## Functions"
      ]
    },
    {
      "cell_type": "code",
      "source": [
        "def monitor_cpu_utilization():\n",
        "    cpu_utilization = psutil.cpu_percent()\n",
        "    print(f\"CPU Utilization: {cpu_utilization}%\")\n",
        "\n",
        "def monitor_gpu_utilization():\n",
        "    gpus = GPUtil.getGPUs()\n",
        "    for gpu in gpus:\n",
        "        print(f\"GPU {gpu.id}: Utilization {gpu.load * 100}%\")"
      ],
      "metadata": {
        "id": "H5m_87rMM6sQ"
      },
      "id": "H5m_87rMM6sQ",
      "execution_count": null,
      "outputs": []
    },
    {
      "cell_type": "code",
      "execution_count": 73,
      "id": "b7983aed",
      "metadata": {
        "id": "b7983aed"
      },
      "outputs": [],
      "source": [
        "def compute_mu_std(var_passed):\n",
        "\n",
        "    mean_1 = np.round_(np.mean(var_passed), decimals = 4)\n",
        "    SD_1 = np.round_(np.std(var_passed), decimals = 4)\n",
        "    #mean_std = \"Mu = \" + str(mean_1) + \", Std = \" + str(SD_1)\n",
        "    return mean_1, SD_1"
      ]
    },
    {
      "cell_type": "code",
      "execution_count": 74,
      "id": "4c648945",
      "metadata": {
        "id": "4c648945"
      },
      "outputs": [],
      "source": [
        "# Global Normalization -- Normalize all images using global values for max = 4095 and min = -2048\n",
        "def NormImg(orig_array, new_min = 0, new_max = 255, orig_max = 4095, orig_min = -2048, set_to_int = True):\n",
        "    new_var = orig_array.copy()\n",
        "    #print(new_var)\n",
        "    nu = new_var - orig_min\n",
        "    de = orig_max - orig_min\n",
        "    mul= new_max - new_min\n",
        "    new_var = (nu/de) * mul\n",
        "\n",
        "    if set_to_int:\n",
        "        return new_var.astype('uint8')\n",
        "    return new_var"
      ]
    },
    {
      "cell_type": "code",
      "execution_count": 75,
      "id": "bd2b6570",
      "metadata": {
        "id": "bd2b6570"
      },
      "outputs": [],
      "source": [
        "# Local Normalization -- Normalize all images using each image's max and min\n",
        "def getNormed(this_array, this_min = 0, this_max = 255, set_to_int = True):\n",
        "    new_var = this_array.copy()\n",
        "    rat = (this_max - this_min)/(new_var.max() - new_var.min())\n",
        "    new_var = new_var * rat\n",
        "    new_var -= new_var.min()\n",
        "    new_var += this_min\n",
        "\n",
        "    if set_to_int:\n",
        "        return new_var.astype('uint8')\n",
        "    return new_var"
      ]
    },
    {
      "cell_type": "code",
      "execution_count": 76,
      "id": "85bfc98f",
      "metadata": {
        "id": "85bfc98f"
      },
      "outputs": [],
      "source": [
        "def int_byManuf(manuf_array):\n",
        "\n",
        "    for i in range(0, len(manuf_array)):\n",
        "        nodule = manuf_array.iloc[i, 9]\n",
        "        noduleS = str(nodule)\n",
        "        indexPos = all_noduleId.index(noduleS)\n",
        "        intensity_manuf = all_images[indexPos]\n",
        "\n",
        "    return intensity_manuf"
      ]
    },
    {
      "cell_type": "code",
      "execution_count": 77,
      "id": "8007a4a6",
      "metadata": {
        "id": "8007a4a6"
      },
      "outputs": [],
      "source": [
        "# T-TEST - decision\n",
        "\n",
        "def sigPval(p_value):\n",
        "\n",
        "    if (p_value > 0.05):\n",
        "        resultDesc = 'Same'\n",
        "    else:\n",
        "        resultDesc = 'Different'\n",
        "\n",
        "    return resultDesc"
      ]
    },
    {
      "cell_type": "code",
      "execution_count": 78,
      "id": "d5502a80",
      "metadata": {
        "id": "d5502a80"
      },
      "outputs": [],
      "source": [
        "# Fisher-TEST - decision\n",
        "\n",
        "# Null (H0): There is no association between gender and voting. They are independent.\n",
        "# Alternative (HA): A relationship between gender and voting exists in the population\n",
        "\n",
        "def sigFisherPval(p_value):\n",
        "\n",
        "    if (p_value > 0.05):\n",
        "        resultDesc = 'No Association'\n",
        "    else:\n",
        "        resultDesc = 'Association'\n",
        "\n",
        "    return resultDesc"
      ]
    },
    {
      "cell_type": "code",
      "execution_count": 79,
      "id": "46bcba6d",
      "metadata": {
        "id": "46bcba6d"
      },
      "outputs": [],
      "source": [
        "def tetrachoricCorr(data_new):\n",
        "\n",
        "    a = data_new[0][0]\n",
        "    b = data_new[1][0]\n",
        "    c = data_new[0][1]\n",
        "    d = data_new[1][1]\n",
        "\n",
        "    a1 = math.sqrt(a*d/b/c)\n",
        "    a2 = 1 + a1\n",
        "    a3 = math.pi / a2\n",
        "    tCorr = math.cos(a3)\n",
        "    return tCorr"
      ]
    },
    {
      "cell_type": "code",
      "execution_count": 80,
      "id": "e0340f80",
      "metadata": {
        "id": "e0340f80"
      },
      "outputs": [],
      "source": [
        "def computeCorr_binaryToBinary (x, y):\n",
        "\n",
        "    data_new = pd.crosstab(x, y).round(0)\n",
        "\n",
        "    # Fisher Test\n",
        "    # stat1 is the odd's ratio\n",
        "    stat1, p_value1 = stats.fisher_exact(data_new)\n",
        "    sigDesc1 = sigFisherPval(p_value1)\n",
        "\n",
        "    #tetrachoric Correlation\n",
        "    tCorr = tetrachoricCorr(data_new)\n",
        "\n",
        "    return tCorr"
      ]
    },
    {
      "cell_type": "code",
      "execution_count": 81,
      "id": "0c5c5b0f",
      "metadata": {
        "id": "0c5c5b0f"
      },
      "outputs": [],
      "source": [
        "# CROSS ENTROPY LOSS\n",
        "\n",
        "# https://towardsdatascience.com/intuition-behind-log-loss-score-4e0c9979680a\n",
        "def logLoss(act, predProb):\n",
        "\n",
        "    act_lnProb     = act * np.log(predProb)\n",
        "    act_lnDiffProb = (1-act) * (np.log(1 - (predProb)))\n",
        "    log_loss  = -(act_lnProb  + act_lnDiffProb)\n",
        "    return log_loss"
      ]
    },
    {
      "cell_type": "code",
      "execution_count": 82,
      "id": "d29a458f",
      "metadata": {
        "id": "d29a458f"
      },
      "outputs": [],
      "source": [
        "# WEIGHTED CROSS ENTROPY LOSS\n",
        "\n",
        "def wighted_logLoss(act, predProb, w0, w1):\n",
        "\n",
        "    wtact_lnProb     = w0 * (act * np.log(predProb))                  # first part\n",
        "    wtact_lnDiffProb = w1 * ((1-act) * (np.log(1 - (predProb))))      # second part\n",
        "    wtlog_loss       = -(wtact_lnProb  + wtact_lnDiffProb)\n",
        "    return wtlog_loss"
      ]
    },
    {
      "cell_type": "code",
      "execution_count": 83,
      "id": "3ab332e3",
      "metadata": {
        "id": "3ab332e3"
      },
      "outputs": [],
      "source": [
        "# computeate 95% confidence interval and mean - for performance indicators\n",
        "\n",
        "def compute_avg_CI (input_df):\n",
        "\n",
        "    ci= st.t.interval(alpha=0.95, df=len(input_df)-1,\n",
        "                  loc=np.mean(input_df),\n",
        "                  scale=st.sem(input_df)),1\n",
        "    avg = round(np.mean(input_df),1)\n",
        "    lcl = round((ci[0][0]),1)\n",
        "    ucl = round((ci[0][1]),1)\n",
        "    ciRange = str(\"(\") + str(lcl) + str(\", \") + str(ucl) + str(\")\")\n",
        "    return avg, ciRange\n"
      ]
    },
    {
      "cell_type": "code",
      "execution_count": 84,
      "id": "2e8cd798",
      "metadata": {
        "id": "2e8cd798"
      },
      "outputs": [],
      "source": [
        "# Generate confusion matrix and compute Sen, Spe, Acc, Pre, F1S\n",
        "# pass observed/actual y and predicted y\n",
        "\n",
        "def confMatrixResults (yTrain, yPred):\n",
        "\n",
        "    cmat = confusion_matrix(yTrain, yPred)\n",
        "    TN = (cmat[0][0])\n",
        "    FN = (cmat[1][0])\n",
        "    FP = (cmat[0][1])\n",
        "    TP = (cmat[1][1])\n",
        "\n",
        "    Sen = (TP/(TP+FN))\n",
        "    Spe = TN / (TN + FP)\n",
        "    Acc = (TP + TN) / (TP + TN + FP + FN)\n",
        "    Pre = TP / (TP + FP)\n",
        "    F1S = (2 * Pre * Sen)/(Pre + Sen)\n",
        "\n",
        "    Sen = round((Sen*100),2)\n",
        "    Spe = round((Spe*100),2)\n",
        "    Acc = round((Acc*100),2)\n",
        "\n",
        "    Pre = round((Pre*100),2)\n",
        "    F1S =  round((F1S*100),2)\n",
        "\n",
        "    return Sen, Spe, Acc, Pre, F1S, TN, FN, FP, TP"
      ]
    },
    {
      "cell_type": "code",
      "execution_count": 85,
      "id": "bdd193fc",
      "metadata": {
        "id": "bdd193fc"
      },
      "outputs": [],
      "source": [
        "# COUNTS: Print counts for training, reserve, test sets\n",
        "def getCounts(df_Counts, experimentID):\n",
        "    nOOD_trainD  = df_Counts.where((df_Counts.Method== experimentID)).dropna()['trainSet_nOOD']\n",
        "    OOD_trainD   = df_Counts.where((df_Counts.Method== experimentID)).dropna()['trainSet_OOD']\n",
        "    nOOD_reserveD  = df_Counts.where((df_Counts.Method== experimentID)).dropna()['reserveSet_nOOD']\n",
        "    nOOD_testD     = df_Counts.where((df_Counts.Method== experimentID)).dropna()['testSet_nOOD']\n",
        "    OOD_reserveD   = df_Counts.where((df_Counts.Method== experimentID)).dropna()['reserveSet_OOD']\n",
        "    OOD_testD      = df_Counts.where((df_Counts.Method== experimentID)).dropna()['testSet_OOD']\n",
        "    nOODRetrainD   = df_Counts.where((df_Counts.Method== experimentID)).dropna()['retrainSet_nOOD']\n",
        "    OOD_RetrainD   = df_Counts.where((df_Counts.Method== experimentID)).dropna()['retrainSet_OOD']\n",
        "\n",
        "    nOOD_trainD_Avg, nOOD_trainD_CI   = compute_avg_CI (nOOD_trainD)\n",
        "    OOD_trainD_Avg, OOD_trainD_CI     = compute_avg_CI (OOD_trainD)\n",
        "    nOOD_reserveD_Avg, nOOD_reserveD_CI = compute_avg_CI (nOOD_reserveD)\n",
        "    nOOD_testD_Avg, nOOD_testD_CI       = compute_avg_CI (nOOD_testD)\n",
        "    OOD_reserveD_Avg, OOD_reserveD_CI   = compute_avg_CI (OOD_reserveD)\n",
        "    OOD_testD_Avg, OOD_testD_CI        = compute_avg_CI (OOD_testD)\n",
        "    nOODRetrainD_Avg, nOODRetrainDl_CI = compute_avg_CI (nOODRetrainD)\n",
        "    OOD_RetrainD_Avg, OOD_RetrainD_CI  = compute_avg_CI (OOD_RetrainD)\n",
        "\n",
        "    print('COUNTS: ', str(experimentID))\n",
        "    print('Train   - ID   =%f' % (nOOD_trainD_Avg))\n",
        "    print('Train   - OoD  =%f' % (OOD_trainD_Avg))\n",
        "    print('reserve - ID   =%f' % (nOOD_reserveD_Avg))\n",
        "    print('reserve - OoD  =%f' % (OOD_reserveD_Avg))\n",
        "    print('Test    - ID   =%f' % (nOOD_testD_Avg))\n",
        "    print('Test    - OoD  =%f' % (OOD_testD_Avg))\n",
        "    print('Retrain - ID   =%f' % (nOODRetrainD_Avg))\n",
        "    print('Retrain - OoD  =%f' % (OOD_RetrainD_Avg))"
      ]
    },
    {
      "cell_type": "code",
      "execution_count": 86,
      "id": "725fd4a8",
      "metadata": {
        "id": "725fd4a8"
      },
      "outputs": [],
      "source": [
        "# COMPUTE PERFORMANCES: create subsets to compute avg and CI\n",
        "\n",
        "def getPerformance(df_CM, experimentID):\n",
        "\n",
        "    Sen_trainD = df_CM.where((df_CM.Method== experimentID)).dropna()['Sen_train']\n",
        "    Spe_trainD = df_CM.where((df_CM.Method== experimentID)).dropna()['Spe_train']\n",
        "    Acc_trainD = df_CM.where((df_CM.Method== experimentID)).dropna()['Acc_train']\n",
        "    Pre_trainD = df_CM.where((df_CM.Method== experimentID)).dropna()['Pre_train']\n",
        "    F1_trainD  = df_CM.where((df_CM.Method== experimentID)).dropna()['F1_train']\n",
        "\n",
        "    Sen_retrainD = df_CM.where((df_CM.Method== experimentID)).dropna()['Sen_retrain']\n",
        "    Spe_retrainD = df_CM.where((df_CM.Method== experimentID)).dropna()['Spe_retrain']\n",
        "    Acc_retrainD = df_CM.where((df_CM.Method== experimentID)).dropna()['Acc_retrain']\n",
        "    Pre_retrainD = df_CM.where((df_CM.Method== experimentID)).dropna()['Pre_retrain']\n",
        "    F1_retrainD  = df_CM.where((df_CM.Method== experimentID)).dropna()['F1_retrain']\n",
        "\n",
        "    Sen_testD = df_CM.where((df_CM.Method== experimentID)).dropna()['Sen_test']\n",
        "    Spe_testD = df_CM.where((df_CM.Method== experimentID)).dropna()['Spe_test']\n",
        "    Acc_testD = df_CM.where((df_CM.Method== experimentID)).dropna()['Acc_test']\n",
        "    Pre_testD = df_CM.where((df_CM.Method== experimentID)).dropna()['Pre_test']\n",
        "    F1_testD  = df_CM.where((df_CM.Method== experimentID)).dropna()['F1_test']\n",
        "\n",
        "\n",
        "    TP_trainD = df_CM.where((df_CM.Method== experimentID)).dropna()['train_TP']\n",
        "    TN_trainD = df_CM.where((df_CM.Method== experimentID)).dropna()['train_TN']\n",
        "    FP_trainD = df_CM.where((df_CM.Method== experimentID)).dropna()['train_FP']\n",
        "    FN_trainD = df_CM.where((df_CM.Method== experimentID)).dropna()['train_FN']\n",
        "    TP_retrainD = df_CM.where((df_CM.Method== experimentID)).dropna()['retrain_TP']\n",
        "    TN_retrainD = df_CM.where((df_CM.Method== experimentID)).dropna()['retrain_TN']\n",
        "    FP_retrainD = df_CM.where((df_CM.Method== experimentID)).dropna()['retrain_FP']\n",
        "    FN_retrainD = df_CM.where((df_CM.Method== experimentID)).dropna()['retrain_FN']\n",
        "    TP_testD = df_CM.where((df_CM.Method== experimentID)).dropna()['test_TP']\n",
        "    TN_testD = df_CM.where((df_CM.Method== experimentID)).dropna()['test_TN']\n",
        "    FP_testD = df_CM.where((df_CM.Method== experimentID)).dropna()['test_FP']\n",
        "    FN_testD = df_CM.where((df_CM.Method== experimentID)).dropna()['test_FN']\n",
        "\n",
        "\n",
        "\n",
        "    # Step-3: compute avg and CI\n",
        "    Sen_Train_Avg, Sen_Train_CI = compute_avg_CI (Sen_trainD)\n",
        "    Spe_Train_Avg, Spe_Train_CI = compute_avg_CI (Spe_trainD)\n",
        "    Acc_Train_Avg, Acc_Train_CI = compute_avg_CI (Acc_trainD)\n",
        "    Pre_Train_Avg, Pre_Train_CI = compute_avg_CI (Pre_trainD)\n",
        "    F1_Train_Avg, F1_Train_CI   = compute_avg_CI (F1_trainD)\n",
        "\n",
        "    Sen_retrain_Avg, Sen_retrain_CI = compute_avg_CI (Sen_retrainD)\n",
        "    Spe_retrain_Avg, Spe_retrain_CI = compute_avg_CI (Spe_retrainD)\n",
        "    Acc_retrain_Avg, Acc_retrain_CI = compute_avg_CI (Acc_retrainD)\n",
        "    Pre_retrain_Avg, Pre_retrain_CI = compute_avg_CI (Pre_retrainD)\n",
        "    F1_retrain_Avg, F1_retrain_CI   = compute_avg_CI (F1_retrainD)\n",
        "\n",
        "    Sen_test_Avg, Sen_test_CI = compute_avg_CI (Sen_testD)\n",
        "    Spe_test_Avg, Spe_test_CI = compute_avg_CI (Spe_testD)\n",
        "    Acc_test_Avg, Acc_test_CI = compute_avg_CI (Acc_testD)\n",
        "    Pre_test_Avg, Pre_test_CI = compute_avg_CI (Pre_testD)\n",
        "    F1_test_Avg, F1_test_CI   = compute_avg_CI (F1_testD)\n",
        "\n",
        "\n",
        "    train_TP,  train_TP_ci = compute_avg_CI (TP_trainD)\n",
        "    train_TN,  train_TN_ci = compute_avg_CI (TN_trainD)\n",
        "    train_FP,  train_FP_ci = compute_avg_CI (FP_trainD)\n",
        "    train_FN,  train_FN_ci = compute_avg_CI (FN_trainD)\n",
        "    retrain_TP,  retrain_TP_ci = compute_avg_CI (TP_retrainD)\n",
        "    retrain_TN,  retrain_TN_ci = compute_avg_CI (TN_retrainD)\n",
        "    retrain_FP,  retrain_FP_ci = compute_avg_CI (FP_retrainD)\n",
        "    retrain_FN,  retrain_FN_ci = compute_avg_CI (FN_retrainD)\n",
        "    test_TP,  test_TP_ci = compute_avg_CI (TP_testD)\n",
        "    test_TN,  test_TN_ci = compute_avg_CI (TN_testD)\n",
        "    test_FP,  test_FP_ci = compute_avg_CI (FP_testD)\n",
        "    test_FN,  test_FN_ci = compute_avg_CI (FN_testD)\n",
        "\n",
        "\n",
        "\n",
        "\n",
        "    # Step-4: print avg and CI\n",
        "    print('-------------------------------')\n",
        "    print('PERFORMANCE:', str(experimentID))\n",
        "    print('Training')\n",
        "    print('Sen = ', str(Sen_Train_Avg), str(Sen_Train_CI))\n",
        "    print('Spe = ', str(Spe_Train_Avg), str(Spe_Train_CI))\n",
        "    print('Acc = ', str(Acc_Train_Avg), str(Acc_Train_CI))\n",
        "    # print('P = ', str(Pre_Train_Avg), str(Pre_Train_CI))\n",
        "    # print('F1 = ', str(F1_Train_Avg), str(F1_Train_CI))\n",
        "    print('--------------------------')\n",
        "\n",
        "    print('Retraining')\n",
        "    print('Sen = ', str(Sen_retrain_Avg), str(Sen_retrain_CI))\n",
        "    print('Spe = ', str(Spe_retrain_Avg), str(Spe_retrain_CI))\n",
        "    print('Acc = ', str(Acc_retrain_Avg), str(Acc_retrain_CI))\n",
        "    # print('P = ', str(Pre_retrain_Avg), str(Pre_retrain_CI))\n",
        "    # print('F1 = ', str(F1_retrain_Avg), str(F1_retrain_CI))\n",
        "    print('--------------------------')\n",
        "\n",
        "    print('Test')\n",
        "    print('Sen = ', str(Sen_test_Avg), str(Sen_test_CI))\n",
        "    print('Spe = ', str(Spe_test_Avg), str(Spe_test_CI))\n",
        "    print('Acc = ', str(Acc_test_Avg), str(Acc_test_CI))\n",
        "    # print('P = ', str(Pre_test_Avg), str(Pre_test_CI))\n",
        "    # print('F1 = ', str(F1_test_Avg), str(F1_test_CI))\n",
        "\n",
        "\n",
        "    print('--------------------------')\n",
        "    print('Classification Results')\n",
        "    print('Train : TP , TN, FP, FN = ', str(train_TP), str(train_TN), str(train_FP), str(train_FN))\n",
        "    print('Retrain : TP , TN, FP, FN = ', str(retrain_TP), str(retrain_TN), str(retrain_FP), str(retrain_FN))\n",
        "    print('Test : TP , TN, FP, FN = ', str(test_TP), str(test_TN), str(test_FP), str(test_FN))"
      ]
    },
    {
      "cell_type": "code",
      "execution_count": 87,
      "id": "f23ebab6",
      "metadata": {
        "id": "f23ebab6"
      },
      "outputs": [],
      "source": [
        "# OoD Score Range for ID and OoD Samples\n",
        "def getOoDScoreRange(df_OodRange, experimentID):\n",
        "    Train_ID    = df_OodRange.loc[(df_OodRange[\"Method\"] == experimentID) & (df_OodRange[\"TType\"] == \"Train\") & (df_OodRange[\"SampleType\"] == \"ID\")]\n",
        "    Retrain_ID  = df_OodRange.loc[(df_OodRange[\"Method\"] == experimentID) & (df_OodRange[\"TType\"] == \"Retrain\") & (df_OodRange[\"SampleType\"] == \"ID\")]\n",
        "    Retrain_OOD = df_OodRange.loc[(df_OodRange[\"Method\"] == experimentID) & (df_OodRange[\"TType\"] == \"Retrain\") & (df_OodRange[\"SampleType\"] == \"OOD\")]\n",
        "    Test_ID     = df_OodRange.loc[(df_OodRange[\"Method\"] == experimentID) & (df_OodRange[\"TType\"] == \"Test\") & (df_OodRange[\"SampleType\"] == \"ID\")]\n",
        "    Test_OOD    = df_OodRange.loc[(df_OodRange[\"Method\"] == experimentID) & (df_OodRange[\"TType\"] == \"Test\") & (df_OodRange[\"SampleType\"] == \"OOD\")]\n",
        "\n",
        "\n",
        "    print(\"------------------------------\")\n",
        "    print(\"OoD Score Range\")\n",
        "    print(experimentID)\n",
        "    print(\"Train ID   : \", Train_ID['MinOodScore'].min(), Train_ID['MaxOodScore'].max())\n",
        "    print(\"Retrain ID : \", Retrain_ID['MinOodScore'].min(), Retrain_ID['MaxOodScore'].max())\n",
        "    print(\"Retrain OOD: \", Retrain_OOD['MinOodScore'].min(), Retrain_OOD['MaxOodScore'].max())\n",
        "    print(\"Test ID    : \", Test_ID['MinOodScore'].min(), Test_ID['MaxOodScore'].max())\n",
        "    print(\"Test OOD   : \", Test_OOD['MinOodScore'].min(), Test_OOD['MaxOodScore'].max())\n",
        "\n"
      ]
    },
    {
      "cell_type": "code",
      "execution_count": 88,
      "id": "495543e2",
      "metadata": {
        "id": "495543e2"
      },
      "outputs": [],
      "source": [
        "def getKLDRange(experimentID, C):\n",
        "\n",
        "    expKLD_sumByFeatureTT = []\n",
        "    expKLD_sumByFeatureRT = []\n",
        "\n",
        "    maxLength = (df_KLD[\"Iter_ID\"]).max()\n",
        "\n",
        "    for j in range (1, maxLength+1):\n",
        "\n",
        "        expKLD_sumTT = df_KLD.loc[((df_KLD[\"Iter_ID\"] == j) & (df_KLD[\"Method\"] == experimentID) & (df_KLD[\"Types\"] == C)), 'KLD_t_t'].sum()\n",
        "        expKLD_sumByFeatureTT.append(expKLD_sumTT)\n",
        "\n",
        "        expKLD_sumRT = df_KLD.loc[((df_KLD[\"Iter_ID\"] == j) & (df_KLD[\"Method\"] == experimentID) & (df_KLD[\"Types\"] == C)), 'KLD_rt_t'].sum()\n",
        "        expKLD_sumByFeatureRT.append(expKLD_sumRT)\n",
        "\n",
        "\n",
        "    expKLD_avgTT,  expKLD_ciTT = compute_avg_CI (expKLD_sumByFeatureTT)\n",
        "    expKLD_avgRT,  expKLD_ciRT = compute_avg_CI (expKLD_sumByFeatureRT)\n",
        "    print('---------------------------')\n",
        "    print('KLD - ', C , '-----------------------')\n",
        "    print(\"Train-Test\", str(expKLD_avgTT), str(expKLD_ciTT))\n",
        "    print(\"Retrain-Test\", str(expKLD_avgRT), str(expKLD_ciRT))"
      ]
    },
    {
      "cell_type": "code",
      "execution_count": 89,
      "id": "feead22b",
      "metadata": {
        "id": "feead22b"
      },
      "outputs": [],
      "source": [
        "# KLD Functions\n",
        "\n",
        "def KL_Continious(data_1, data_2):\n",
        "    # Epsilon is used here to avoid conditional code for checking that neither P nor Q is equal to 0. \"\"\"\n",
        "    epsilon = 0.00001\n",
        "\n",
        "    # binn the continious value to be able to compute probabilities\n",
        "    # https://www.geeksforgeeks.org/how-to-calculate-and-plot-a-cumulative-distribution-function-with-matplotlib-in-python/\n",
        "    count1, bins_count1 = np.histogram(data_1, bins=50)\n",
        "    count2, bins_count2 = np.histogram(data_2, bins=50)\n",
        "\n",
        "    # compute probability - number of itemts in the bin/total\n",
        "    P = count1/np.sum(count1)\n",
        "    Q = count2/np.sum(count2)\n",
        "\n",
        "    # You may want to instead make copies to avoid changing the np arrays.\n",
        "    P = P+epsilon\n",
        "    Q = Q+epsilon\n",
        "\n",
        "    divergence = round(np.sum(P*np.log(P/Q)),4)\n",
        "    return divergence\n",
        "\n",
        "\n",
        "# for discrete and categorical\n",
        "def KL_binary(data_1, data_2):\n",
        "    # Epsilon is used here to avoid conditional code for checking that neither P nor Q is equal to 0. \"\"\"\n",
        "    epsilon = 0.00001\n",
        "\n",
        "    # bin the binary varibale to 2 bins value to be able to compute probabilities\n",
        "    # https://www.geeksforgeeks.org/how-to-calculate-and-plot-a-cumulative-distribution-function-with-matplotlib-in-python/\n",
        "    count1, bins_count1 = np.histogram(data_1, bins=2)\n",
        "    count2, bins_count2 = np.histogram(data_2, bins=2)\n",
        "\n",
        "    # compute probability - number of itemts in the bin/total\n",
        "    P = count1/np.sum(count1)\n",
        "    Q = count2/np.sum(count2)\n",
        "\n",
        "    # You may want to instead make copies to avoid changing the np arrays.\n",
        "    P = P+epsilon\n",
        "    Q = Q+epsilon\n",
        "\n",
        "    divergence = round(np.sum(P*np.log(P/Q)),4)\n",
        "    return divergence\n",
        "\n",
        "\n",
        "# to create sns.count plots for binary variables\n",
        "def createDF(f1, f2, f3, f4, ds1, ds2, ds3, ds4, var):\n",
        "\n",
        "    df1 = pd.DataFrame(columns=['MainType', 'Type', var])\n",
        "    df2 = pd.DataFrame(columns=['MainType', 'Type', var])\n",
        "    df3 = pd.DataFrame(columns=['MainType', 'Type', var])\n",
        "    df4 = pd.DataFrame(columns=['MainType', 'Type', var])\n",
        "\n",
        "    for i in range (0, len(ds1)):\n",
        "        df1['MainType'] = 'Train and Test'\n",
        "        df1['Type'] = 'Train'\n",
        "        df1[var] = f1\n",
        "\n",
        "    for i in range (0, len(ds2)):\n",
        "        df2['MainType'] = 'Train and Test'\n",
        "        df2['Type'] = 'Test'\n",
        "        df2[var] = f2\n",
        "\n",
        "    frames = [df1, df2]\n",
        "    df1 = pd.concat(frames)\n",
        "\n",
        "    for i in range (0, len(ds3)):\n",
        "        df3['MainType'] = 'Retrain and Test'\n",
        "        df3['Type'] = 'Retrain'\n",
        "        df3[var] = f3\n",
        "\n",
        "    for i in range (0, len(ds4)):\n",
        "        df4['MainType'] = 'Retrain and Test'\n",
        "        df4['Type'] = 'Test'\n",
        "        df4[var] = f4\n",
        "\n",
        "    frames = [df3, df4]\n",
        "    df2 = pd.concat(frames)\n",
        "\n",
        "    return df1, df2\n",
        "\n",
        "\n",
        "# KLD - computation for cumulative graphs\n",
        "# continious\n",
        "def create_KLD_datasetC(T, T1, RT, T2, feature, numIter, experimentID, C ):\n",
        "\n",
        "    global df_KLD\n",
        "\n",
        "    result_KL12 = KL_Continious(T, T1)\n",
        "    result_KL34 = KL_Continious(RT, T2)\n",
        "    diff = round(result_KL12 - result_KL34,4)\n",
        "\n",
        "    df_KLD = df_KLD.append({'Iter_ID': numIter , 'Method': experimentID,\n",
        "                            'Features': feature , 'KLD_t_t': result_KL12 , 'KLD_rt_t': result_KL34,\n",
        "                            'Types': C}, ignore_index=True)\n",
        "\n",
        "    print(experimentID, C, result_KL34)\n",
        "\n",
        "    return result_KL12, result_KL34\n",
        "\n",
        "\n",
        "# binary\n",
        "def create_KLD_datasetB(T, T1, RT, T2, feature, numIter, experimentID, C ):\n",
        "\n",
        "    global df_KLD\n",
        "\n",
        "    result_KL12 = KL_binary(T, T1)\n",
        "    result_KL34 = KL_binary(RT, T2)\n",
        "    diff = round(result_KL12 - result_KL34,4)\n",
        "\n",
        "    df_KLD = df_KLD.append({'Iter_ID': numIter , 'Method': experimentID,\n",
        "                            'Features': feature , 'KLD_t_t': result_KL12 , 'KLD_rt_t': result_KL34,\n",
        "                            'Types': C}, ignore_index=True)\n",
        "\n",
        "\n",
        "    print(experimentID, C, result_KL34)\n",
        "\n",
        "    #return result_KL12, result_KL34\n",
        "\n",
        "\n",
        "\n",
        "def KLD_cummValues(numIter, experimentID, gf1Smm_train_dataF, gf1Smm_reserve_dataF, gf1Smm_retrain_dataF, gf1Smm_test_dataF, C):\n",
        "    # KLD Cumulative graph\n",
        "\n",
        "\n",
        "    create_KLD_datasetC(gf1Smm_train_dataF.ConvexArea, gf1Smm_reserve_dataF.ConvexArea,\n",
        "       gf1Smm_retrain_dataF.ConvexArea, gf1Smm_test_dataF.ConvexArea, 'ConvexArea', numIter, experimentID, C)\n",
        "\n",
        "    create_KLD_datasetC(gf1Smm_train_dataF.Perimeter, gf1Smm_reserve_dataF.Perimeter,\n",
        "       gf1Smm_retrain_dataF.Perimeter, gf1Smm_test_dataF.Perimeter, 'Perimeter', numIter, experimentID, C)\n",
        "\n",
        "    create_KLD_datasetC(gf1Smm_train_dataF.EquivDiameter, gf1Smm_reserve_dataF.EquivDiameter,\n",
        "       gf1Smm_retrain_dataF.EquivDiameter, gf1Smm_test_dataF.EquivDiameter, 'EquivDiameter', numIter, experimentID, C)\n",
        "\n",
        "    create_KLD_datasetC(gf1Smm_train_dataF.MajorAxisLength, gf1Smm_reserve_dataF.MajorAxisLength,\n",
        "       gf1Smm_retrain_dataF.MajorAxisLength, gf1Smm_test_dataF.MajorAxisLength, 'MajorAxisLength', numIter, experimentID, C)\n",
        "\n",
        "    create_KLD_datasetC(gf1Smm_train_dataF.MinorAxisLength, gf1Smm_reserve_dataF.MinorAxisLength,\n",
        "       gf1Smm_retrain_dataF.MinorAxisLength, gf1Smm_test_dataF.MinorAxisLength, 'MinorAxisLength', numIter, experimentID, C)\n",
        "\n",
        "    create_KLD_datasetC(gf1Smm_train_dataF.Elongation, gf1Smm_reserve_dataF.Elongation,\n",
        "       gf1Smm_retrain_dataF.Elongation, gf1Smm_test_dataF.Elongation, 'Elongation', numIter, experimentID, C)\n",
        "\n",
        "    create_KLD_datasetC(gf1Smm_train_dataF.Compactness, gf1Smm_reserve_dataF.Compactness,\n",
        "       gf1Smm_retrain_dataF.Compactness, gf1Smm_test_dataF.Compactness, 'Compactness', numIter, experimentID, C)\n",
        "\n",
        "    create_KLD_datasetC(gf1Smm_train_dataF.Eccentricity, gf1Smm_reserve_dataF.Eccentricity,\n",
        "       gf1Smm_retrain_dataF.Eccentricity, gf1Smm_test_dataF.Eccentricity, 'Eccentricity', numIter, experimentID, C)\n",
        "\n",
        "    create_KLD_datasetC(gf1Smm_train_dataF.Solidity, gf1Smm_reserve_dataF.Solidity,\n",
        "       gf1Smm_retrain_dataF.Solidity, gf1Smm_test_dataF.Solidity, 'Solidity', numIter, experimentID, C)\n",
        "\n",
        "    create_KLD_datasetC(gf1Smm_train_dataF.Extent, gf1Smm_reserve_dataF.Extent,\n",
        "       gf1Smm_retrain_dataF.Extent, gf1Smm_test_dataF.Extent, 'Extent', numIter, experimentID, C)\n",
        "\n",
        "    create_KLD_datasetC(gf1Smm_train_dataF.Circularity, gf1Smm_reserve_dataF.Circularity,\n",
        "       gf1Smm_retrain_dataF.Circularity, gf1Smm_test_dataF.Circularity, 'Circularity', numIter, experimentID, C)\n",
        "\n",
        "    create_KLD_datasetC(gf1Smm_train_dataF.x_3rdordermoment, gf1Smm_reserve_dataF.x_3rdordermoment,\n",
        "       gf1Smm_retrain_dataF.x_3rdordermoment, gf1Smm_test_dataF.x_3rdordermoment, 'x_3rdordermoment', numIter, experimentID, C)\n",
        "\n",
        "    create_KLD_datasetC(gf1Smm_train_dataF.Clustertendency, gf1Smm_reserve_dataF.Clustertendency,\n",
        "       gf1Smm_retrain_dataF.Clustertendency, gf1Smm_test_dataF.Clustertendency, 'Clustertendency', numIter, experimentID, C)\n",
        "\n",
        "    create_KLD_datasetC(gf1Smm_train_dataF.MaxProbability, gf1Smm_reserve_dataF.MaxProbability,\n",
        "       gf1Smm_retrain_dataF.MaxProbability, gf1Smm_test_dataF.MaxProbability, 'MaxProbability', numIter, experimentID, C)\n",
        "\n",
        "    create_KLD_datasetC(gf1Smm_train_dataF.Entropy, gf1Smm_reserve_dataF.Entropy,\n",
        "       gf1Smm_retrain_dataF.Entropy, gf1Smm_test_dataF.Entropy, 'Entropy', numIter, experimentID, C)\n",
        "\n",
        "    create_KLD_datasetC(gf1Smm_train_dataF.ConvexPerimeter, gf1Smm_reserve_dataF.ConvexPerimeter,\n",
        "       gf1Smm_retrain_dataF.ConvexPerimeter, gf1Smm_test_dataF.ConvexPerimeter, 'ConvexPerimeter', numIter, experimentID, C)\n",
        "\n",
        "    create_KLD_datasetC(gf1Smm_train_dataF.Energy, gf1Smm_reserve_dataF.Energy,\n",
        "       gf1Smm_retrain_dataF.Energy, gf1Smm_test_dataF.Energy, 'Energy', numIter, experimentID, C)\n",
        "\n",
        "    create_KLD_datasetC(gf1Smm_train_dataF.RadialDistanceSD, gf1Smm_reserve_dataF.RadialDistanceSD,\n",
        "       gf1Smm_retrain_dataF.RadialDistanceSD, gf1Smm_test_dataF.RadialDistanceSD, 'RadialDistanceSD', numIter, experimentID, C)\n",
        "\n",
        "    create_KLD_datasetC(gf1Smm_train_dataF.gabormean_2_0, gf1Smm_reserve_dataF.gabormean_2_0,\n",
        "       gf1Smm_retrain_dataF.gabormean_2_0, gf1Smm_test_dataF.gabormean_2_0, 'gabormean_2_0', numIter, experimentID, C)\n",
        "\n",
        "    create_KLD_datasetC(gf1Smm_train_dataF.gabormean_2_1, gf1Smm_reserve_dataF.gabormean_2_1,\n",
        "       gf1Smm_retrain_dataF.gabormean_2_1, gf1Smm_test_dataF.gabormean_2_1, 'gabormean_2_1', numIter, experimentID, C)\n",
        "\n",
        "    create_KLD_datasetC(gf1Smm_train_dataF.gabormean_0_0, gf1Smm_reserve_dataF.gabormean_0_0,\n",
        "       gf1Smm_retrain_dataF.gabormean_0_0, gf1Smm_test_dataF.gabormean_0_0, 'gabormean_0_0', numIter, experimentID, C)\n",
        "\n",
        "    create_KLD_datasetC(gf1Smm_train_dataF.gabormean_3_2, gf1Smm_reserve_dataF.gabormean_3_2,\n",
        "       gf1Smm_retrain_dataF.gabormean_3_2, gf1Smm_test_dataF.gabormean_3_2, 'gabormean_3_2', numIter, experimentID, C)\n",
        "\n",
        "    create_KLD_datasetC(gf1Smm_train_dataF.gabormean_3_0, gf1Smm_reserve_dataF.gabormean_3_0,\n",
        "       gf1Smm_retrain_dataF.gabormean_3_0, gf1Smm_test_dataF.gabormean_3_0, 'gabormean_3_0', numIter, experimentID, C)\n",
        "\n",
        "    create_KLD_datasetB(gf1Smm_train_dataF.dSpic2_5, gf1Smm_reserve_dataF.dSpic2_5,\n",
        "       gf1Smm_retrain_dataF.dSpic2_5, gf1Smm_test_dataF.dSpic2_5, 'dSpic2_5', numIter, experimentID, C)\n",
        "\n",
        "    create_KLD_datasetB(gf1Smm_train_dataF.dLob2_5, gf1Smm_reserve_dataF.dLob2_5,\n",
        "       gf1Smm_retrain_dataF.dLob2_5, gf1Smm_test_dataF.dLob2_5, 'dLob2_5', numIter, experimentID, C)\n",
        "\n",
        "    create_KLD_datasetB(gf1Smm_train_dataF.dCal3, gf1Smm_reserve_dataF.dCal3,\n",
        "       gf1Smm_retrain_dataF.dCal3, gf1Smm_test_dataF.dCal3, 'dCal3', numIter, experimentID, C)\n",
        "\n",
        "    create_KLD_datasetB(gf1Smm_train_dataF.dSubtl1_3, gf1Smm_reserve_dataF.dSubtl1_3,\n",
        "       gf1Smm_retrain_dataF.dSubtl1_3, gf1Smm_test_dataF.dSubtl1_3, 'dSubtl1_3', numIter, experimentID, C)\n",
        "\n",
        "    create_KLD_datasetB(gf1Smm_train_dataF.dIstru1, gf1Smm_reserve_dataF.dIstru1,\n",
        "       gf1Smm_retrain_dataF.dIstru1, gf1Smm_test_dataF.dIstru1, 'dIstru1', numIter, experimentID, C)\n",
        "\n",
        "    create_KLD_datasetB(gf1Smm_train_dataF.dManuf_GE, gf1Smm_reserve_dataF.dManuf_GE,\n",
        "       gf1Smm_retrain_dataF.dManuf_GE, gf1Smm_test_dataF.dManuf_GE, 'dManuf_GE', numIter, experimentID, C)\n",
        "\n",
        "    create_KLD_datasetB(gf1Smm_train_dataF.dManuf_S, gf1Smm_reserve_dataF.dManuf_S,\n",
        "       gf1Smm_retrain_dataF.dManuf_S, gf1Smm_test_dataF.dManuf_S, 'dManuf_S', numIter, experimentID, C)\n",
        "\n",
        "    create_KLD_datasetB(gf1Smm_train_dataF.dManuf_P, gf1Smm_reserve_dataF.dManuf_P,\n",
        "       gf1Smm_retrain_dataF.dManuf_P, gf1Smm_test_dataF.dManuf_P, 'dManuf_P', numIter, experimentID, C)\n",
        "\n",
        "\n",
        "    #return (kl_divergenceALL_T_T1, kl_divergenceALL_RT_T2, kl_featuresALL_T_T1, kl_featuresALL_RT_T2)\n",
        "\n",
        "\n",
        "\n",
        "\n",
        "def avgKLDbyFeature(experimentID_orig, experimentID, C):\n",
        "\n",
        "    feature = ['ConvexArea', 'Perimeter', 'EquivDiameter', 'MajorAxisLength', 'MinorAxisLength', 'Elongation',\n",
        "    'Compactness', 'Eccentricity', 'Solidity', 'Extent', 'Circularity', 'x_3rdordermoment', 'Clustertendency',\n",
        "    'MaxProbability', 'Entropy', 'ConvexPerimeter', 'Energy', 'RadialDistanceSD', 'gabormean_2_0', 'gabormean_2_1',\n",
        "    'gabormean_0_0', 'gabormean_3_2', 'gabormean_3_0', 'dSpic2_5', 'dLob2_5', 'dCal3', 'dSubtl1_3', 'dIstru1',\n",
        "    'dManuf_GE', 'dManuf_S', 'dManuf_P']\n",
        "\n",
        "\n",
        "    for i in range (len(feature)):\n",
        "\n",
        "        KLD_tt = df_KLD.where((df_KLD.Method== experimentID_orig) & (df_KLD.Features == feature[i]) & (df_KLD.Types == C)).dropna()['KLD_t_t']\n",
        "        KLD_rtt  = df_KLD.where((df_KLD.Method== experimentID) & (df_KLD.Features == feature[i]) & (df_KLD.Types == C)).dropna()['KLD_rt_t']\n",
        "\n",
        "        avg_tt = round(np.mean(KLD_tt),4)\n",
        "        avg2_rtt = round(np.mean(KLD_rtt),4)\n",
        "\n",
        "        kl_divergenceALL_T_T1.append(avg_tt)\n",
        "        kl_divergenceALL_RT_T2.append(avg2_rtt)\n",
        "        kl_featuresALL_T_T1.append(feature[i])\n",
        "        kl_featuresALL_RT_T2.append(feature[i])\n",
        "\n",
        "    return (kl_divergenceALL_T_T1, kl_divergenceALL_RT_T2, kl_featuresALL_T_T1, kl_featuresALL_RT_T2)\n",
        "\n",
        "\n",
        "\n",
        "def KLD_cummulativeGraph(kl_divergenceALL_T_T1, kl_divergenceALL_RT_T2, kl_featuresALL_T_T1, kl_featuresALL_RT_T2):\n",
        "\n",
        "    tot_kl_divergence_T_T1 = round(np.sum(kl_divergenceALL_T_T1),1)\n",
        "    tot_kl_divergence_RT_T2 = round(np.sum(kl_divergenceALL_RT_T2),1)\n",
        "    klTitle = 'KL Divergence -  Train/Test= ' + str(tot_kl_divergence_T_T1) + ' vs. Retrain/Test= ' + str(tot_kl_divergence_RT_T2)\n",
        "\n",
        "\n",
        "    plt.figure(figsize=(16, 5))\n",
        "    plt.scatter(kl_featuresALL_T_T1, kl_divergenceALL_T_T1, s=35, c='red', label ='Train/Test')\n",
        "    plt.scatter(kl_featuresALL_RT_T2, kl_divergenceALL_RT_T2, s=35, c='blue', label ='Retrain/Test')\n",
        "    plt.xlabel(\"Features\", fontsize = 13, fontweight='bold')\n",
        "    plt.ylabel(\"KL Divergence\", fontsize = 13, fontweight='bold' )\n",
        "    plt.xticks(kl_featuresALL_T_T1,rotation=90)\n",
        "    plt.tick_params(axis='both', which='major', labelsize=12)\n",
        "    plt.title(klTitle, fontsize = 16, fontweight='bold')\n",
        "    plt.ylim(-1, 10)\n",
        "    plt.legend(fontsize=\"14\")\n",
        "    plt.grid()\n",
        "    plt.show()\n",
        ""
      ]
    },
    {
      "cell_type": "code",
      "execution_count": 90,
      "id": "ecec64e7",
      "metadata": {
        "id": "ecec64e7"
      },
      "outputs": [],
      "source": [
        "def vizHist(x1, x2, l1, l2):\n",
        "    fig, axes = plt.subplots(1, 2, figsize=(12,2.5), sharey=True, sharex=True, dpi=100)\n",
        "    sns.distplot(x1, bins=100, color=\"blue\", ax=axes[0],  axlabel=l1)\n",
        "    sns.distplot(x2, bins=100, color=\"red\", ax=axes[1],  axlabel=l2)\n",
        "    plt.xlim(0, 5)\n",
        "    plt.ylim(0, 5)\n",
        "\n",
        "def vizHist2(x1, x2, l1, l2):\n",
        "    fig, axes = plt.subplots(1, 2, figsize=(12,2.5), sharey=True, sharex=True, dpi=100)\n",
        "    sns.distplot(x1, bins=100, color=\"blue\", ax=axes[0],  axlabel=l1, kde = False)\n",
        "    sns.distplot(x2, bins=100, color=\"red\", ax=axes[1],  axlabel=l2, kde = False)\n",
        "    plt.xlim(0, 5)\n",
        "    plt.ylim(0, 180)"
      ]
    },
    {
      "cell_type": "code",
      "execution_count": 91,
      "id": "0491794b",
      "metadata": {
        "id": "0491794b"
      },
      "outputs": [],
      "source": [
        "# Get terminal node (leaf) count\n",
        "\n",
        "def getLeafCount(rf_classifier, outfile):\n",
        "    estimator = rf_classifier.estimators_[3]\n",
        "    y_label = data_io['d_Malignancy'].astype(str)\n",
        "    y_labelF = y_label.values.tolist()\n",
        "\n",
        "    export_graphviz(estimator, out_file= outfile,\n",
        "                    feature_names = cols,\n",
        "                    class_names = y_labelF,\n",
        "                    rounded = True, proportion = False,\n",
        "                    precision = 2, filled = True)\n",
        "\n",
        "    # Convert to png using system command (requires Graphviz)\n",
        "    #dot_path = 'C:/Users/mgulasin/Anaconda3/Lib/site-packages/graphviz/dot.py'\n",
        "    check_call(['dot', '-Tpng', 'tree0.dot', '-o', 'tree0.png', '-Gdpi=600'])"
      ]
    },
    {
      "cell_type": "markdown",
      "id": "0a3d75e4",
      "metadata": {
        "id": "0a3d75e4"
      },
      "source": [
        "### Create Dummy Variables"
      ]
    },
    {
      "cell_type": "code",
      "execution_count": 92,
      "id": "b2e916cf",
      "metadata": {
        "id": "b2e916cf"
      },
      "outputs": [],
      "source": [
        "# Calcification (has balnk obs) = 1Popcorn, 2Laminated, 3Solid, 4Non-central, 5Central, 6Absent (set as base) | null gets zero\n",
        "# new mode field for calcification did not include 1,2\n",
        "data[\"dCal1\"] = 0\n",
        "data[\"dCal2\"] = 0\n",
        "data[\"dCal3\"] = 0\n",
        "data[\"dCal4\"] = 0\n",
        "data[\"dCal5\"] = 0\n",
        "data.loc[data[\"Calcification\"] == 1, \"dCal1\"] = 1\n",
        "data.loc[data[\"Calcification\"] == 2, \"dCal2\"] = 1\n",
        "data.loc[data[\"Calcification\"] == 3, \"dCal3\"] = 1\n",
        "data.loc[data[\"Calcification\"] == 4, \"dCal4\"] = 1\n",
        "data.loc[data[\"Calcification\"] == 5, \"dCal5\"] = 1\n",
        "\n",
        "# Internal (has balnk obs) = 1Soft tissue, 2Fluid, 3Fat, 4Air (set as base) | null also gets zero\n",
        "data[\"dIstru1\"] = 0\n",
        "data[\"dIstru2\"] = 0\n",
        "data[\"dIstru3\"] = 0\n",
        "data.loc[data[\"InternalStructure\"] == 1, \"dIstru1\"] = 1\n",
        "data.loc[data[\"InternalStructure\"] == 2, \"dIstru2\"] = 1\n",
        "data.loc[data[\"InternalStructure\"] == 3, \"dIstru3\"] = 1\n",
        "\n",
        "# Lobulation = 1None (set as base), 2,3,4, 5Marked --> 1None (set as base), 2-5 (lobulation)\n",
        "# Using Amal's convension --> from Spiculation field for lobulation --> 1-noLob, 2-5 lobulated\n",
        "data[\"dLob2_5\"] = 0\n",
        "data.loc[data[\"Lobulation\"] == 2, \"dLob2_5\"] = 1\n",
        "data.loc[data[\"Lobulation\"] == 3, \"dLob2_5\"] = 1\n",
        "data.loc[data[\"Lobulation\"] == 4, \"dLob2_5\"] = 1\n",
        "data.loc[data[\"Lobulation\"] == 5, \"dLob2_5\"] = 1\n",
        "\n",
        "# Spiculation = 1None (set as base), 2,3,4, 5Marked --> 1None (set as base), 2-5 (spiculated)\n",
        "# Using Amal's convension --> for Spiculation field --> 1-noSpic, 2-5 spiculated\n",
        "data[\"dSpic2_5\"] = 0\n",
        "data.loc[data[\"Spiculation\"] == 2, \"dSpic2_5\"] = 1\n",
        "data.loc[data[\"Spiculation\"] == 3, \"dSpic2_5\"] = 1\n",
        "data.loc[data[\"Spiculation\"] == 4, \"dSpic2_5\"] = 1\n",
        "data.loc[data[\"Spiculation\"] == 5, \"dSpic2_5\"] = 1\n",
        "\n",
        "# Margin = 1Poorly defined (set as base), 2,3,4, 5Sharp --> 1Poorly defined (set as base), 2-5 (sparp)\n",
        "data[\"dMargin2_5\"] = 0\n",
        "data.loc[data[\"Margin\"] == 2, \"dMargin2_5\"] = 1\n",
        "data.loc[data[\"Margin\"] == 3, \"dMargin2_5\"] = 1\n",
        "data.loc[data[\"Margin\"] == 4, \"dMargin2_5\"] = 1\n",
        "data.loc[data[\"Margin\"] == 5, \"dMargin2_5\"] = 1\n",
        "\n",
        "#Sphericity = 1Linear, 3Ovoid,5Round --> 1Linear, 2-4Oviod, 5round (set as base)\n",
        "data[\"dSpher1\"] = 0\n",
        "data[\"dSpher2_4\"] = 0\n",
        "data.loc[data[\"Sphericity\"] == 1, \"dSpher1\"] = 1\n",
        "data.loc[data[\"Sphericity\"] == 2, \"dSpher2_4\"] = 1\n",
        "data.loc[data[\"Sphericity\"] == 3, \"dSpher2_4\"] = 1\n",
        "data.loc[data[\"Sphericity\"] == 4, \"dSpher2_4\"] = 1\n",
        "\n",
        "# Subtlety = 1Extremely subtle, 2Moderately subtle, 3Fairly subtle, 4Moderately Obvious, 5Obvious (set as base)\n",
        "#                --> 1-3Subtle, 4-5Obvious(base)\n",
        "data[\"dSubtl1_3\"] = 0\n",
        "data.loc[data[\"Subtlety\"] == 1, \"dSubtl1_3\"] = 1\n",
        "data.loc[data[\"Subtlety\"] == 2, \"dSubtl1_3\"] = 1\n",
        "data.loc[data[\"Subtlety\"] == 3, \"dSubtl1_3\"] = 1\n",
        "\n",
        "# Texture= 1Non-solid, 3Part solid (mixed), 5Solid --> 1-4Notsolid(set as base), 5Solid\n",
        "data[\"dTexture5\"] = 0\n",
        "data.loc[data[\"Texture\"] == 5, \"dTexture5\"] = 1\n",
        "\n",
        "# Manufacturer Name:  GE Medical Systems, Siemens, Toshiba, Philips --> GE, Siemens, Philips, Toshiba (coded as 0)\n",
        "data[\"dManuf_GE\"] = 0\n",
        "data[\"dManuf_S\"] = 0\n",
        "data[\"dManuf_P\"] = 0\n",
        "data.loc[data[\"Manufacturer\"] == \"GE Medical Systems\", \"dManuf_GE\"] = 1\n",
        "data.loc[data[\"Manufacturer\"] == \"Siemens\", \"dManuf_S\"] = 1\n",
        "data.loc[data[\"Manufacturer\"] == \"Philips\", \"dManuf_P\"] = 1\n"
      ]
    },
    {
      "cell_type": "markdown",
      "id": "2e28cfae",
      "metadata": {
        "id": "2e28cfae"
      },
      "source": [
        "data - latest working dataset w/out outlier removal\n",
        "data_io - latest dataset without outliers (extreem outliers >= |10|)\n",
        "            --> NoduleID = 67, 426"
      ]
    },
    {
      "cell_type": "code",
      "execution_count": 93,
      "id": "2227701c",
      "metadata": {
        "colab": {
          "base_uri": "https://localhost:8080/"
        },
        "id": "2227701c",
        "outputId": "f847e19a-8eb6-4e79-b319-1bd40c67dd0d"
      },
      "outputs": [
        {
          "output_type": "stream",
          "name": "stdout",
          "text": [
            "1488\n",
            "(1488, 154)\n",
            "(1486, 154)\n"
          ]
        }
      ],
      "source": [
        "# before removal\n",
        "print(len(data))\n",
        "print(data.shape)\n",
        "\n",
        "# remove extreme outliers\n",
        "data_io = data.loc[(data[\"noduleID\"] != 67) & (data[\"noduleID\"] != 426)]\n",
        "\n",
        "print(data_io.shape)\n",
        "# Now you can save the file\n",
        "data_io.to_csv('./_SubsetsCreated/RF/RF_New_FHLOne_Agr/OOD_BaselineC_Start_logloss.csv')"
      ]
    },
    {
      "cell_type": "code",
      "execution_count": 94,
      "id": "716e0c3d",
      "metadata": {
        "colab": {
          "base_uri": "https://localhost:8080/"
        },
        "id": "716e0c3d",
        "outputId": "b6d41194-6f84-44f4-c3cb-40b2bc0c46ee"
      },
      "outputs": [
        {
          "output_type": "stream",
          "name": "stdout",
          "text": [
            "591\n",
            "897\n",
            "--------------\n",
            "591\n",
            "895\n"
          ]
        }
      ],
      "source": [
        "# Counts - before outlier removal\n",
        "print(data['d_Malignancy'].value_counts()[1]) # Malignant\n",
        "print(data['d_Malignancy'].value_counts()[0]) # Benign\n",
        "print('--------------')\n",
        "\n",
        "# Counts - after outlier removal\n",
        "print(data_io['d_Malignancy'].value_counts()[1]) # Malignant\n",
        "print(data_io['d_Malignancy'].value_counts()[0]) # Benign"
      ]
    },
    {
      "cell_type": "markdown",
      "id": "fba2a2e2",
      "metadata": {
        "id": "fba2a2e2"
      },
      "source": [
        "#### Select based on Agreements"
      ]
    },
    {
      "cell_type": "code",
      "execution_count": 95,
      "id": "e1178d8f",
      "metadata": {
        "colab": {
          "base_uri": "https://localhost:8080/"
        },
        "id": "e1178d8f",
        "outputId": "6a0c0ffb-3219-4dee-eb54-912039e48432"
      },
      "outputs": [
        {
          "output_type": "execute_result",
          "data": {
            "text/plain": [
              "(1486, 154)"
            ]
          },
          "metadata": {},
          "execution_count": 95
        }
      ],
      "source": [
        "data_io.shape"
      ]
    },
    {
      "cell_type": "code",
      "execution_count": 96,
      "id": "fd247d0c",
      "metadata": {
        "colab": {
          "base_uri": "https://localhost:8080/"
        },
        "id": "fd247d0c",
        "outputId": "16c96e9c-5657-4376-830a-f958eb8b10dc"
      },
      "outputs": [
        {
          "output_type": "execute_result",
          "data": {
            "text/plain": [
              "array(['High', 'Only One', 'Low', 'No Rating', 'Full'], dtype=object)"
            ]
          },
          "metadata": {},
          "execution_count": 96
        }
      ],
      "source": [
        "data_io[\"Agreement_Desc\"].unique()"
      ]
    },
    {
      "cell_type": "code",
      "execution_count": 97,
      "id": "405a9c7b",
      "metadata": {
        "colab": {
          "base_uri": "https://localhost:8080/"
        },
        "id": "405a9c7b",
        "outputId": "e12f8757-29ee-479a-927d-cceab52b116e"
      },
      "outputs": [
        {
          "output_type": "execute_result",
          "data": {
            "text/plain": [
              "(1403, 154)"
            ]
          },
          "metadata": {},
          "execution_count": 97
        }
      ],
      "source": [
        "# ALL Agreements - 'Full', 'High', 'Low', 'Only One'\n",
        "data_io = data_io.loc[(data_io[\"Agreement_Desc\"] == 'Full') | (data_io[\"Agreement_Desc\"] ==  'High') | (data_io[\"Agreement_Desc\"] == 'Low') | (data_io[\"Agreement_Desc\"] ==  'Only One')]\n",
        "data_io.shape"
      ]
    },
    {
      "cell_type": "markdown",
      "id": "83e2a5e5",
      "metadata": {
        "id": "83e2a5e5"
      },
      "source": [
        "# Correlation"
      ]
    },
    {
      "cell_type": "markdown",
      "id": "339ee50a",
      "metadata": {
        "id": "339ee50a"
      },
      "source": [
        "### (1) Point-biserial Correlation - Binary vs Continious features"
      ]
    },
    {
      "cell_type": "code",
      "execution_count": 98,
      "id": "a274f75c",
      "metadata": {
        "colab": {
          "base_uri": "https://localhost:8080/"
        },
        "id": "a274f75c",
        "outputId": "e22f8f2b-6873-4ff7-ba46-c174d238bfe8"
      },
      "outputs": [
        {
          "output_type": "execute_result",
          "data": {
            "text/plain": [
              "SignificanceResult(statistic=0.6019039299201717, pvalue=4.8745590832140145e-139)"
            ]
          },
          "metadata": {},
          "execution_count": 98
        }
      ],
      "source": [
        "stats.pointbiserialr(data_io.ConvexArea, data_io.d_Malignancy)"
      ]
    },
    {
      "cell_type": "code",
      "execution_count": 99,
      "id": "84872ca8",
      "metadata": {
        "colab": {
          "base_uri": "https://localhost:8080/"
        },
        "id": "84872ca8",
        "outputId": "83bb23f6-befe-4d3a-e62a-3b5610e3fa41"
      },
      "outputs": [
        {
          "output_type": "execute_result",
          "data": {
            "text/plain": [
              "SignificanceResult(statistic=0.6473701215313297, pvalue=1.889394379121407e-167)"
            ]
          },
          "metadata": {},
          "execution_count": 99
        }
      ],
      "source": [
        "stats.pointbiserialr(data_io.Perimeter, data_io.d_Malignancy)"
      ]
    },
    {
      "cell_type": "code",
      "execution_count": 100,
      "id": "87ebef6e",
      "metadata": {
        "colab": {
          "base_uri": "https://localhost:8080/"
        },
        "id": "87ebef6e",
        "outputId": "d69c20a8-64fc-4b4a-9aa6-df07ee767719"
      },
      "outputs": [
        {
          "output_type": "execute_result",
          "data": {
            "text/plain": [
              "SignificanceResult(statistic=0.6948933617151853, pvalue=7.227970072253842e-203)"
            ]
          },
          "metadata": {},
          "execution_count": 100
        }
      ],
      "source": [
        "stats.pointbiserialr(data_io.EquivDiameter, data_io.d_Malignancy)"
      ]
    },
    {
      "cell_type": "code",
      "execution_count": 101,
      "id": "b999d8f9",
      "metadata": {
        "colab": {
          "base_uri": "https://localhost:8080/"
        },
        "id": "b999d8f9",
        "outputId": "7206ae84-e746-4f69-b418-f139233e6d9f"
      },
      "outputs": [
        {
          "output_type": "execute_result",
          "data": {
            "text/plain": [
              "SignificanceResult(statistic=0.6769310445415507, pvalue=1.0763206803677157e-188)"
            ]
          },
          "metadata": {},
          "execution_count": 101
        }
      ],
      "source": [
        "stats.pointbiserialr(data_io.MajorAxisLength, data_io.d_Malignancy)"
      ]
    },
    {
      "cell_type": "code",
      "execution_count": 102,
      "id": "46a6b6c8",
      "metadata": {
        "colab": {
          "base_uri": "https://localhost:8080/"
        },
        "id": "46a6b6c8",
        "outputId": "6af09eaf-b5e5-46cd-a1d0-cb4e32e0161c"
      },
      "outputs": [
        {
          "output_type": "execute_result",
          "data": {
            "text/plain": [
              "SignificanceResult(statistic=0.6800043893745313, pvalue=4.7764601290519865e-191)"
            ]
          },
          "metadata": {},
          "execution_count": 102
        }
      ],
      "source": [
        "stats.pointbiserialr(data_io.MinorAxisLength, data_io.d_Malignancy)"
      ]
    },
    {
      "cell_type": "code",
      "execution_count": 103,
      "id": "b9c90812",
      "metadata": {
        "colab": {
          "base_uri": "https://localhost:8080/"
        },
        "id": "b9c90812",
        "outputId": "ea9ed80c-375a-469d-d5d7-38242eaadb4f"
      },
      "outputs": [
        {
          "output_type": "execute_result",
          "data": {
            "text/plain": [
              "SignificanceResult(statistic=0.13524328276437214, pvalue=3.6836082490334806e-07)"
            ]
          },
          "metadata": {},
          "execution_count": 103
        }
      ],
      "source": [
        "stats.pointbiserialr(data_io.Elongation, data_io.d_Malignancy)"
      ]
    },
    {
      "cell_type": "code",
      "execution_count": 104,
      "id": "bf64d09b",
      "metadata": {
        "colab": {
          "base_uri": "https://localhost:8080/"
        },
        "id": "bf64d09b",
        "outputId": "f9360ecf-7ebf-4677-9c3d-6c630cdde230"
      },
      "outputs": [
        {
          "output_type": "execute_result",
          "data": {
            "text/plain": [
              "SignificanceResult(statistic=0.33330368792200427, pvalue=9.501290089749664e-38)"
            ]
          },
          "metadata": {},
          "execution_count": 104
        }
      ],
      "source": [
        "stats.pointbiserialr(data_io.Compactness, data_io.d_Malignancy)"
      ]
    },
    {
      "cell_type": "code",
      "execution_count": 105,
      "id": "6f8707d9",
      "metadata": {
        "colab": {
          "base_uri": "https://localhost:8080/"
        },
        "id": "6f8707d9",
        "outputId": "627f81a1-ede2-46ec-cd0b-6253669804fe"
      },
      "outputs": [
        {
          "output_type": "execute_result",
          "data": {
            "text/plain": [
              "SignificanceResult(statistic=0.11795107853652119, pvalue=9.441507163620358e-06)"
            ]
          },
          "metadata": {},
          "execution_count": 105
        }
      ],
      "source": [
        "stats.pointbiserialr(data_io.Eccentricity, data_io.d_Malignancy)"
      ]
    },
    {
      "cell_type": "code",
      "execution_count": 106,
      "id": "f04385c6",
      "metadata": {
        "colab": {
          "base_uri": "https://localhost:8080/"
        },
        "id": "f04385c6",
        "outputId": "ad519ba5-c722-4b00-e827-f2f57eb7c8a7"
      },
      "outputs": [
        {
          "output_type": "execute_result",
          "data": {
            "text/plain": [
              "SignificanceResult(statistic=-0.4094544934934757, pvalue=7.729761249758833e-58)"
            ]
          },
          "metadata": {},
          "execution_count": 106
        }
      ],
      "source": [
        "stats.pointbiserialr(data_io.Solidity, data_io.d_Malignancy)"
      ]
    },
    {
      "cell_type": "code",
      "execution_count": 107,
      "id": "bfec94cb",
      "metadata": {
        "colab": {
          "base_uri": "https://localhost:8080/"
        },
        "id": "bfec94cb",
        "outputId": "d3809c48-ce26-43b4-cb96-727c51bc590a"
      },
      "outputs": [
        {
          "output_type": "execute_result",
          "data": {
            "text/plain": [
              "SignificanceResult(statistic=-0.29088347709891177, pvalue=9.240444534256451e-29)"
            ]
          },
          "metadata": {},
          "execution_count": 107
        }
      ],
      "source": [
        "stats.pointbiserialr(data_io.Extent, data_io.d_Malignancy)"
      ]
    },
    {
      "cell_type": "code",
      "execution_count": 108,
      "id": "5d541e9a",
      "metadata": {
        "colab": {
          "base_uri": "https://localhost:8080/"
        },
        "id": "5d541e9a",
        "outputId": "57f0e190-a562-470e-cc53-85371963147e"
      },
      "outputs": [
        {
          "output_type": "execute_result",
          "data": {
            "text/plain": [
              "SignificanceResult(statistic=-0.33786359226168355, pvalue=8.36997991091242e-39)"
            ]
          },
          "metadata": {},
          "execution_count": 108
        }
      ],
      "source": [
        "stats.pointbiserialr(data_io.Circularity, data_io.d_Malignancy)"
      ]
    },
    {
      "cell_type": "code",
      "execution_count": 109,
      "id": "64ecee9a",
      "metadata": {
        "colab": {
          "base_uri": "https://localhost:8080/"
        },
        "id": "64ecee9a",
        "outputId": "703a964a-c690-4fc9-d8bd-4bb739aa2a99"
      },
      "outputs": [
        {
          "output_type": "execute_result",
          "data": {
            "text/plain": [
              "SignificanceResult(statistic=-0.1818810681717391, pvalue=6.70015207983172e-12)"
            ]
          },
          "metadata": {},
          "execution_count": 109
        }
      ],
      "source": [
        "stats.pointbiserialr(data_io.x_3rdordermoment, data_io.d_Malignancy)"
      ]
    },
    {
      "cell_type": "code",
      "execution_count": 110,
      "id": "7dcaed5e",
      "metadata": {
        "colab": {
          "base_uri": "https://localhost:8080/"
        },
        "id": "7dcaed5e",
        "outputId": "e3e36b5c-9367-4b1e-ac71-17a5b54d6ebe"
      },
      "outputs": [
        {
          "output_type": "execute_result",
          "data": {
            "text/plain": [
              "SignificanceResult(statistic=-0.17424009058442977, pvalue=4.99931083118558e-11)"
            ]
          },
          "metadata": {},
          "execution_count": 110
        }
      ],
      "source": [
        "stats.pointbiserialr(data_io.Clustertendency, data_io.d_Malignancy)"
      ]
    },
    {
      "cell_type": "code",
      "execution_count": 111,
      "id": "bc731fb6",
      "metadata": {
        "colab": {
          "base_uri": "https://localhost:8080/"
        },
        "id": "bc731fb6",
        "outputId": "bb3eda78-9b40-4c4c-a49f-ae2c8bebf71a"
      },
      "outputs": [
        {
          "output_type": "execute_result",
          "data": {
            "text/plain": [
              "SignificanceResult(statistic=-0.500262520064431, pvalue=1.005553520934487e-89)"
            ]
          },
          "metadata": {},
          "execution_count": 111
        }
      ],
      "source": [
        "stats.pointbiserialr(data_io.MaxProbability, data_io.d_Malignancy)"
      ]
    },
    {
      "cell_type": "code",
      "execution_count": 112,
      "id": "fcc52ffe",
      "metadata": {
        "colab": {
          "base_uri": "https://localhost:8080/"
        },
        "id": "fcc52ffe",
        "outputId": "dcc1d636-39bb-448d-c58f-7706cf4fbc05"
      },
      "outputs": [
        {
          "output_type": "execute_result",
          "data": {
            "text/plain": [
              "SignificanceResult(statistic=0.7234080583362175, pvalue=1.1679980442113209e-227)"
            ]
          },
          "metadata": {},
          "execution_count": 112
        }
      ],
      "source": [
        "stats.pointbiserialr(data_io.Entropy, data_io.d_Malignancy)"
      ]
    },
    {
      "cell_type": "code",
      "execution_count": 113,
      "id": "dabe15fe",
      "metadata": {
        "colab": {
          "base_uri": "https://localhost:8080/"
        },
        "id": "dabe15fe",
        "outputId": "576c7c2c-0ba2-441c-92d6-9aa91c91b0d0"
      },
      "outputs": [
        {
          "output_type": "execute_result",
          "data": {
            "text/plain": [
              "SignificanceResult(statistic=0.6844385166253159, pvalue=1.7105461186270188e-194)"
            ]
          },
          "metadata": {},
          "execution_count": 113
        }
      ],
      "source": [
        "stats.pointbiserialr(data_io.ConvexPerimeter, data_io.d_Malignancy)"
      ]
    },
    {
      "cell_type": "code",
      "execution_count": 114,
      "id": "e00e4467",
      "metadata": {
        "colab": {
          "base_uri": "https://localhost:8080/"
        },
        "id": "e00e4467",
        "outputId": "16bf3d23-7fc2-44f3-cac3-c8d0aa40336f"
      },
      "outputs": [
        {
          "output_type": "execute_result",
          "data": {
            "text/plain": [
              "SignificanceResult(statistic=-0.5536905389057898, pvalue=1.6054969058245592e-113)"
            ]
          },
          "metadata": {},
          "execution_count": 114
        }
      ],
      "source": [
        "stats.pointbiserialr(data_io.Energy, data_io.d_Malignancy)"
      ]
    },
    {
      "cell_type": "code",
      "execution_count": 115,
      "id": "932e3773",
      "metadata": {
        "colab": {
          "base_uri": "https://localhost:8080/"
        },
        "id": "932e3773",
        "outputId": "0862dace-e6b6-47cf-e68e-3c56b0876634"
      },
      "outputs": [
        {
          "output_type": "execute_result",
          "data": {
            "text/plain": [
              "SignificanceResult(statistic=0.5198966742636472, pvalue=5.5926096680917625e-98)"
            ]
          },
          "metadata": {},
          "execution_count": 115
        }
      ],
      "source": [
        "stats.pointbiserialr(data_io.RadialDistanceSD, data_io.d_Malignancy)"
      ]
    },
    {
      "cell_type": "code",
      "execution_count": 116,
      "id": "12419f8f",
      "metadata": {
        "colab": {
          "base_uri": "https://localhost:8080/"
        },
        "id": "12419f8f",
        "outputId": "f5e28fea-3e1d-4a81-d233-e3607aaeada4"
      },
      "outputs": [
        {
          "output_type": "execute_result",
          "data": {
            "text/plain": [
              "SignificanceResult(statistic=-0.5022567890316544, pvalue=1.5429222149815552e-90)"
            ]
          },
          "metadata": {},
          "execution_count": 116
        }
      ],
      "source": [
        "stats.pointbiserialr(data_io.gabormean_2_0, data_io.d_Malignancy)"
      ]
    },
    {
      "cell_type": "code",
      "execution_count": 117,
      "id": "25c45a57",
      "metadata": {
        "colab": {
          "base_uri": "https://localhost:8080/"
        },
        "id": "25c45a57",
        "outputId": "7408a957-2d02-4961-910a-5d7ab6701a09"
      },
      "outputs": [
        {
          "output_type": "execute_result",
          "data": {
            "text/plain": [
              "SignificanceResult(statistic=-0.5028404076207276, pvalue=8.893824872984823e-91)"
            ]
          },
          "metadata": {},
          "execution_count": 117
        }
      ],
      "source": [
        "stats.pointbiserialr(data_io.gabormean_2_1, data_io.d_Malignancy)"
      ]
    },
    {
      "cell_type": "code",
      "execution_count": 118,
      "id": "f61625d7",
      "metadata": {
        "colab": {
          "base_uri": "https://localhost:8080/"
        },
        "id": "f61625d7",
        "outputId": "fa64727e-0b65-45f2-cc41-d69d5241bca4"
      },
      "outputs": [
        {
          "output_type": "execute_result",
          "data": {
            "text/plain": [
              "SignificanceResult(statistic=-0.49093736236897484, pvalue=5.472659583507441e-86)"
            ]
          },
          "metadata": {},
          "execution_count": 118
        }
      ],
      "source": [
        "stats.pointbiserialr(data_io.gabormean_0_0, data_io.d_Malignancy)"
      ]
    },
    {
      "cell_type": "code",
      "execution_count": 119,
      "id": "43508158",
      "metadata": {
        "colab": {
          "base_uri": "https://localhost:8080/"
        },
        "id": "43508158",
        "outputId": "3655d42b-3b20-48c5-9fef-f90198341e4f"
      },
      "outputs": [
        {
          "output_type": "execute_result",
          "data": {
            "text/plain": [
              "SignificanceResult(statistic=-0.49019550490969915, pvalue=1.0726574274960894e-85)"
            ]
          },
          "metadata": {},
          "execution_count": 119
        }
      ],
      "source": [
        "stats.pointbiserialr(data_io.gabormean_3_2, data_io.d_Malignancy)"
      ]
    },
    {
      "cell_type": "code",
      "execution_count": 120,
      "id": "7c19af99",
      "metadata": {
        "colab": {
          "base_uri": "https://localhost:8080/"
        },
        "id": "7c19af99",
        "outputId": "7dbabe6f-33d0-45dd-d4fa-82b49b12b123"
      },
      "outputs": [
        {
          "output_type": "execute_result",
          "data": {
            "text/plain": [
              "SignificanceResult(statistic=-0.48559993921715183, pvalue=6.683251522871468e-84)"
            ]
          },
          "metadata": {},
          "execution_count": 120
        }
      ],
      "source": [
        "stats.pointbiserialr(data_io.gabormean_3_0, data_io.d_Malignancy)"
      ]
    },
    {
      "cell_type": "markdown",
      "id": "29cf5361",
      "metadata": {
        "id": "29cf5361"
      },
      "source": [
        "### (2) Tetrachoric Correlation - Binary vs Binary Features"
      ]
    },
    {
      "cell_type": "code",
      "execution_count": 121,
      "id": "e68c5332",
      "metadata": {
        "colab": {
          "base_uri": "https://localhost:8080/"
        },
        "id": "e68c5332",
        "outputId": "6472d21d-a407-45b2-cd38-f60af85c820a"
      },
      "outputs": [
        {
          "output_type": "execute_result",
          "data": {
            "text/plain": [
              "0.7867842567061627"
            ]
          },
          "metadata": {},
          "execution_count": 121
        }
      ],
      "source": [
        "dSpic2_5 = computeCorr_binaryToBinary(data_io.d_Malignancy, data_io.dSpic2_5)\n",
        "dSpic2_5"
      ]
    },
    {
      "cell_type": "code",
      "execution_count": 122,
      "id": "17e046db",
      "metadata": {
        "colab": {
          "base_uri": "https://localhost:8080/"
        },
        "id": "17e046db",
        "outputId": "b64bb8b8-f2a4-454c-dd97-c647b38dea54"
      },
      "outputs": [
        {
          "output_type": "execute_result",
          "data": {
            "text/plain": [
              "0.7614810959090996"
            ]
          },
          "metadata": {},
          "execution_count": 122
        }
      ],
      "source": [
        "dLob2_5 = computeCorr_binaryToBinary(data_io.d_Malignancy, data_io.dLob2_5)\n",
        "dLob2_5"
      ]
    },
    {
      "cell_type": "code",
      "execution_count": 123,
      "id": "11b67ca7",
      "metadata": {
        "colab": {
          "base_uri": "https://localhost:8080/"
        },
        "id": "11b67ca7",
        "outputId": "40ad81b4-277f-4022-8265-d560d918d5d3"
      },
      "outputs": [
        {
          "output_type": "execute_result",
          "data": {
            "text/plain": [
              "-0.9795394854355479"
            ]
          },
          "metadata": {},
          "execution_count": 123
        }
      ],
      "source": [
        "dCal3 = computeCorr_binaryToBinary(data_io.d_Malignancy, data_io.dCal3)\n",
        "dCal3"
      ]
    },
    {
      "cell_type": "code",
      "execution_count": 124,
      "id": "36458ec2",
      "metadata": {
        "colab": {
          "base_uri": "https://localhost:8080/"
        },
        "id": "36458ec2",
        "outputId": "fb7b1646-c4ee-4aa9-e537-05b56da0bd76"
      },
      "outputs": [
        {
          "output_type": "execute_result",
          "data": {
            "text/plain": [
              "-0.6911971750732193"
            ]
          },
          "metadata": {},
          "execution_count": 124
        }
      ],
      "source": [
        "dSubtl1_3 = computeCorr_binaryToBinary(data_io.d_Malignancy, data_io.dSubtl1_3)\n",
        "dSubtl1_3"
      ]
    },
    {
      "cell_type": "code",
      "execution_count": 125,
      "id": "dff914a2",
      "metadata": {
        "colab": {
          "base_uri": "https://localhost:8080/"
        },
        "id": "dff914a2",
        "outputId": "020552df-2716-4e22-c03a-ec4561a297a7"
      },
      "outputs": [
        {
          "output_type": "execute_result",
          "data": {
            "text/plain": [
              "-0.6906585938781017"
            ]
          },
          "metadata": {},
          "execution_count": 125
        }
      ],
      "source": [
        "dIstru1 = computeCorr_binaryToBinary(data_io.d_Malignancy, data_io.dIstru1)\n",
        "dIstru1"
      ]
    },
    {
      "cell_type": "code",
      "execution_count": 126,
      "id": "a3035989",
      "metadata": {
        "colab": {
          "base_uri": "https://localhost:8080/"
        },
        "id": "a3035989",
        "outputId": "b84fb38a-e23e-4143-ca36-65f31dba9b40"
      },
      "outputs": [
        {
          "output_type": "execute_result",
          "data": {
            "text/plain": [
              "0.12324362220921331"
            ]
          },
          "metadata": {},
          "execution_count": 126
        }
      ],
      "source": [
        "dManuf_GE = computeCorr_binaryToBinary(data_io.d_Malignancy, data_io.dManuf_GE)\n",
        "dManuf_GE"
      ]
    },
    {
      "cell_type": "code",
      "execution_count": 127,
      "id": "60db46fb",
      "metadata": {
        "colab": {
          "base_uri": "https://localhost:8080/"
        },
        "id": "60db46fb",
        "outputId": "60ee8bdd-8aec-4ffb-84de-0e5a99f9c27d"
      },
      "outputs": [
        {
          "output_type": "execute_result",
          "data": {
            "text/plain": [
              "-0.18384514949284386"
            ]
          },
          "metadata": {},
          "execution_count": 127
        }
      ],
      "source": [
        "dManuf_S = computeCorr_binaryToBinary(data_io.d_Malignancy, data_io.dManuf_S)\n",
        "dManuf_S"
      ]
    },
    {
      "cell_type": "code",
      "execution_count": 128,
      "id": "ed3c1fc5",
      "metadata": {
        "colab": {
          "base_uri": "https://localhost:8080/"
        },
        "id": "ed3c1fc5",
        "outputId": "83ec2f5a-fbb4-4ebe-a02b-9b10a0ff7946"
      },
      "outputs": [
        {
          "output_type": "execute_result",
          "data": {
            "text/plain": [
              "0.09632421125051661"
            ]
          },
          "metadata": {},
          "execution_count": 128
        }
      ],
      "source": [
        "dManuf_P = computeCorr_binaryToBinary(data_io.d_Malignancy, data_io.dManuf_P)\n",
        "dManuf_P"
      ]
    },
    {
      "cell_type": "code",
      "source": [
        "pip3 install jenkspy"
      ],
      "metadata": {
        "colab": {
          "base_uri": "https://localhost:8080/"
        },
        "id": "M4KMQ9toqPsG",
        "outputId": "aadcdf60-04a4-4a7e-dce6-95cf1123db1d"
      },
      "id": "M4KMQ9toqPsG",
      "execution_count": 129,
      "outputs": [
        {
          "output_type": "stream",
          "name": "stdout",
          "text": [
            "Requirement already satisfied: jenkspy in /usr/local/lib/python3.10/dist-packages (0.4.0)\n",
            "Requirement already satisfied: numpy in /usr/local/lib/python3.10/dist-packages (from jenkspy) (1.25.2)\n"
          ]
        }
      ]
    },
    {
      "cell_type": "markdown",
      "id": "4aa18ffe",
      "metadata": {
        "id": "4aa18ffe"
      },
      "source": [
        "# Random Forest - Bagging (Bootstrap)"
      ]
    },
    {
      "cell_type": "markdown",
      "id": "9bfb3bdd",
      "metadata": {
        "id": "9bfb3bdd"
      },
      "source": [
        "Uses Weighted Cross Entropy"
      ]
    },
    {
      "cell_type": "code",
      "execution_count": 130,
      "id": "c66ca45a",
      "metadata": {
        "id": "c66ca45a"
      },
      "outputs": [],
      "source": [
        "# Libraries\n",
        "from sklearn.ensemble import RandomForestClassifier\n",
        "from sklearn.model_selection import GridSearchCV\n",
        "from sklearn.tree import plot_tree\n",
        "\n",
        "from sklearn.metrics import precision_recall_curve\n",
        "\n",
        "from sklearn.utils import shuffle\n",
        "from sklearn.metrics import confusion_matrix\n",
        "import scipy.stats as st\n",
        "\n",
        "from sklearn.model_selection import train_test_split\n",
        "\n",
        "#!pip install jenkspy\n",
        "import jenkspy\n",
        "\n",
        "# viz\n",
        "import seaborn as sns"
      ]
    },
    {
      "cell_type": "code",
      "execution_count": 131,
      "id": "ae0e26b9",
      "metadata": {
        "id": "ae0e26b9"
      },
      "outputs": [],
      "source": [
        "#---------------------------------------------------------------------------------------\n",
        "# PART-1: Create Variable List\n",
        "#---------------------------------------------------------------------------------------\n",
        "\n",
        "# DV: Malignancy (Ratings 4,5) vs Benign (Ratings 1,2)\n",
        "\n",
        "#IV:\n",
        "#   Design Features: (#15)\n",
        "#      Size: Area, ConvexArea, Perimeter, ConvexPerimeter, EquivDiameter, MajorAxisLength, MinorAxisLength\n",
        "#      Shape: Elongation, Eccentricity, Extent, Circularity, Compactness, Solidity, RadialDistanceSD, Roughness\n",
        "\n",
        "#   Semantic Feature: (#1)\n",
        "#      Spiculation: 1 = None (coded as 0), 2-5 = Spiculated (coded as 1)\n",
        "#      [dummy variable]\n",
        "\n",
        "#   Imaging Modality related Feature: (#3)\n",
        "#      Manufacturer name: GE, Siemens, Philips, Toshiba (coded as 0)\n",
        "#      [dummy variables]\n",
        "\n",
        "# Area, ConvexArea, Perimeter, ConvexPerimeter, EquivDiameter, MajorAxisLength, MinorAxisLength, Elongation,\n",
        "# Eccentricity, Extent, Circularity, Compactness, Solidity, RadialDistanceSD, Roughness\n",
        "\n",
        "\n",
        "cols=['ConvexArea', 'Perimeter', 'EquivDiameter', 'MajorAxisLength', 'MinorAxisLength', 'Elongation', 'Compactness',\n",
        "      'Eccentricity', 'Solidity', 'Extent', 'Circularity', 'x_3rdordermoment', 'Clustertendency', 'MaxProbability',\n",
        "      'Entropy', 'ConvexPerimeter', 'Energy', 'RadialDistanceSD', 'gabormean_2_0', 'gabormean_2_1',\n",
        "      'gabormean_0_0', 'gabormean_3_2', 'gabormean_3_0', 'dSpic2_5', 'dLob2_5', 'dCal3', 'dSubtl1_3', 'dIstru1',\n",
        "      'dManuf_GE', 'dManuf_S', 'dManuf_P']\n",
        "\n",
        "\n",
        "X=data_io[cols]\n",
        "y=data_io['d_Malignancy']"
      ]
    },
    {
      "cell_type": "code",
      "execution_count": 132,
      "id": "9f4f41ad",
      "metadata": {
        "colab": {
          "base_uri": "https://localhost:8080/",
          "height": 145
        },
        "id": "9f4f41ad",
        "outputId": "d98de1e9-3700-4b8c-ff0b-1a6d7046c57f"
      },
      "outputs": [
        {
          "output_type": "stream",
          "name": "stdout",
          "text": [
            "Fitting 4 folds for each of 3240 candidates, totalling 12960 fits\n"
          ]
        },
        {
          "output_type": "execute_result",
          "data": {
            "text/plain": [
              "RandomForestClassifier(class_weight={0: 0.6052631578947368, 1: 2},\n",
              "                       criterion='log_loss', max_depth=5, max_features=None,\n",
              "                       max_leaf_nodes=6, min_samples_leaf=5, n_estimators=10,\n",
              "                       n_jobs=-1, random_state=42)"
            ],
            "text/html": [
              "<style>#sk-container-id-1 {color: black;background-color: white;}#sk-container-id-1 pre{padding: 0;}#sk-container-id-1 div.sk-toggleable {background-color: white;}#sk-container-id-1 label.sk-toggleable__label {cursor: pointer;display: block;width: 100%;margin-bottom: 0;padding: 0.3em;box-sizing: border-box;text-align: center;}#sk-container-id-1 label.sk-toggleable__label-arrow:before {content: \"▸\";float: left;margin-right: 0.25em;color: #696969;}#sk-container-id-1 label.sk-toggleable__label-arrow:hover:before {color: black;}#sk-container-id-1 div.sk-estimator:hover label.sk-toggleable__label-arrow:before {color: black;}#sk-container-id-1 div.sk-toggleable__content {max-height: 0;max-width: 0;overflow: hidden;text-align: left;background-color: #f0f8ff;}#sk-container-id-1 div.sk-toggleable__content pre {margin: 0.2em;color: black;border-radius: 0.25em;background-color: #f0f8ff;}#sk-container-id-1 input.sk-toggleable__control:checked~div.sk-toggleable__content {max-height: 200px;max-width: 100%;overflow: auto;}#sk-container-id-1 input.sk-toggleable__control:checked~label.sk-toggleable__label-arrow:before {content: \"▾\";}#sk-container-id-1 div.sk-estimator input.sk-toggleable__control:checked~label.sk-toggleable__label {background-color: #d4ebff;}#sk-container-id-1 div.sk-label input.sk-toggleable__control:checked~label.sk-toggleable__label {background-color: #d4ebff;}#sk-container-id-1 input.sk-hidden--visually {border: 0;clip: rect(1px 1px 1px 1px);clip: rect(1px, 1px, 1px, 1px);height: 1px;margin: -1px;overflow: hidden;padding: 0;position: absolute;width: 1px;}#sk-container-id-1 div.sk-estimator {font-family: monospace;background-color: #f0f8ff;border: 1px dotted black;border-radius: 0.25em;box-sizing: border-box;margin-bottom: 0.5em;}#sk-container-id-1 div.sk-estimator:hover {background-color: #d4ebff;}#sk-container-id-1 div.sk-parallel-item::after {content: \"\";width: 100%;border-bottom: 1px solid gray;flex-grow: 1;}#sk-container-id-1 div.sk-label:hover label.sk-toggleable__label {background-color: #d4ebff;}#sk-container-id-1 div.sk-serial::before {content: \"\";position: absolute;border-left: 1px solid gray;box-sizing: border-box;top: 0;bottom: 0;left: 50%;z-index: 0;}#sk-container-id-1 div.sk-serial {display: flex;flex-direction: column;align-items: center;background-color: white;padding-right: 0.2em;padding-left: 0.2em;position: relative;}#sk-container-id-1 div.sk-item {position: relative;z-index: 1;}#sk-container-id-1 div.sk-parallel {display: flex;align-items: stretch;justify-content: center;background-color: white;position: relative;}#sk-container-id-1 div.sk-item::before, #sk-container-id-1 div.sk-parallel-item::before {content: \"\";position: absolute;border-left: 1px solid gray;box-sizing: border-box;top: 0;bottom: 0;left: 50%;z-index: -1;}#sk-container-id-1 div.sk-parallel-item {display: flex;flex-direction: column;z-index: 1;position: relative;background-color: white;}#sk-container-id-1 div.sk-parallel-item:first-child::after {align-self: flex-end;width: 50%;}#sk-container-id-1 div.sk-parallel-item:last-child::after {align-self: flex-start;width: 50%;}#sk-container-id-1 div.sk-parallel-item:only-child::after {width: 0;}#sk-container-id-1 div.sk-dashed-wrapped {border: 1px dashed gray;margin: 0 0.4em 0.5em 0.4em;box-sizing: border-box;padding-bottom: 0.4em;background-color: white;}#sk-container-id-1 div.sk-label label {font-family: monospace;font-weight: bold;display: inline-block;line-height: 1.2em;}#sk-container-id-1 div.sk-label-container {text-align: center;}#sk-container-id-1 div.sk-container {/* jupyter's `normalize.less` sets `[hidden] { display: none; }` but bootstrap.min.css set `[hidden] { display: none !important; }` so we also need the `!important` here to be able to override the default hidden behavior on the sphinx rendered scikit-learn.org. See: https://github.com/scikit-learn/scikit-learn/issues/21755 */display: inline-block !important;position: relative;}#sk-container-id-1 div.sk-text-repr-fallback {display: none;}</style><div id=\"sk-container-id-1\" class=\"sk-top-container\"><div class=\"sk-text-repr-fallback\"><pre>RandomForestClassifier(class_weight={0: 0.6052631578947368, 1: 2},\n",
              "                       criterion=&#x27;log_loss&#x27;, max_depth=5, max_features=None,\n",
              "                       max_leaf_nodes=6, min_samples_leaf=5, n_estimators=10,\n",
              "                       n_jobs=-1, random_state=42)</pre><b>In a Jupyter environment, please rerun this cell to show the HTML representation or trust the notebook. <br />On GitHub, the HTML representation is unable to render, please try loading this page with nbviewer.org.</b></div><div class=\"sk-container\" hidden><div class=\"sk-item\"><div class=\"sk-estimator sk-toggleable\"><input class=\"sk-toggleable__control sk-hidden--visually\" id=\"sk-estimator-id-1\" type=\"checkbox\" checked><label for=\"sk-estimator-id-1\" class=\"sk-toggleable__label sk-toggleable__label-arrow\">RandomForestClassifier</label><div class=\"sk-toggleable__content\"><pre>RandomForestClassifier(class_weight={0: 0.6052631578947368, 1: 2},\n",
              "                       criterion=&#x27;log_loss&#x27;, max_depth=5, max_features=None,\n",
              "                       max_leaf_nodes=6, min_samples_leaf=5, n_estimators=10,\n",
              "                       n_jobs=-1, random_state=42)</pre></div></div></div></div></div>"
            ]
          },
          "metadata": {},
          "execution_count": 132
        }
      ],
      "source": [
        "#---------------------------------------------------------------------------------------\n",
        "# PART-2: Tunable Parameters\n",
        "#---------------------------------------------------------------------------------------\n",
        "# https://scikit-learn.org/stable/modules/generated/sklearn.ensemble.RandomForestClassifier.html\n",
        "\n",
        "# max_depth: The number of splits that each decision tree is allowed to make. default: max_depth=None\n",
        "# n_estimators: Number of trees the algorithm builds before averaging the predictions. default: n_estimators=100\n",
        "# mini_sample_leaf: Determines the minimum number of leaves required to split an internal node. min_sample_split = 2 (this means every node has 2 subnodes)\n",
        "# criterion: How to split the node in each tree? (Entropy/Gini impurity (default gini)/Log Loss)\n",
        "# max_features: Maximum number of features RF considers splitting a node. max_features=\"sqrt\" [available: [\"sqrt\", \"log2\", None}]\n",
        "# max_leaf_nodes: Maximum leaf nodes in each tree. default: max_leaf_nodes = None\n",
        "# max_sample: determines how much of the dataset is given to each individual tree. default: max_sample = None; (this means data.shape[0] is taken)\n",
        "# cv : cross-validation\n",
        "\n",
        "# cost: for class weights\n",
        "mCountA = len(data_io[data_io['d_Malignancy']== 1])\n",
        "bCountA = len(data_io[data_io['d_Malignancy']== 0])\n",
        "IR      = mCountA/bCountA\n",
        "\n",
        "\n",
        "rf = RandomForestClassifier(random_state=42, n_jobs=-1,  class_weight = {0: IR, 1: 2}, bootstrap=True)\n",
        "params = {\n",
        "           'max_depth': [2,3,5,10,20],\n",
        "           'n_estimators': [10,25,30,50,100,200],\n",
        "           'min_samples_leaf': [5,10,20,50,100,200],\n",
        "           'criterion' : ['log_loss'],\n",
        "           #'criterion' : ['gini', 'log_loss', 'entropy'],\n",
        "           'max_features': ['sqrt', 'log2', None],\n",
        "           'max_leaf_nodes': [2,3,5,6,8,10]\n",
        "          }\n",
        "\n",
        "\n",
        "# Instantiate the grid search model\n",
        "grid_search = GridSearchCV(estimator=rf,\n",
        "                           param_grid=params,\n",
        "                           cv = 4,\n",
        "                           n_jobs=-1, verbose=1, scoring=\"accuracy\")\n",
        "\n",
        "grid_search.fit(X, y)\n",
        "\n",
        "best_score_ = grid_search.best_score_\n",
        "best_score_\n",
        "rf_best = grid_search.best_estimator_\n",
        "rf_best\n",
        "\n",
        ""
      ]
    },
    {
      "cell_type": "code",
      "execution_count": 1,
      "id": "f5e63450",
      "metadata": {
        "colab": {
          "base_uri": "https://localhost:8080/",
          "height": 144
        },
        "id": "f5e63450",
        "outputId": "18724e36-046c-48f8-a485-120bcc3e5dfd"
      },
      "outputs": [
        {
          "output_type": "error",
          "ename": "NameError",
          "evalue": "name 'best_score_' is not defined",
          "traceback": [
            "\u001b[0;31m---------------------------------------------------------------------------\u001b[0m",
            "\u001b[0;31mNameError\u001b[0m                                 Traceback (most recent call last)",
            "\u001b[0;32m<ipython-input-1-1c25f2db1629>\u001b[0m in \u001b[0;36m<cell line: 1>\u001b[0;34m()\u001b[0m\n\u001b[0;32m----> 1\u001b[0;31m \u001b[0mbest_score_\u001b[0m\u001b[0;34m\u001b[0m\u001b[0;34m\u001b[0m\u001b[0m\n\u001b[0m",
            "\u001b[0;31mNameError\u001b[0m: name 'best_score_' is not defined"
          ]
        }
      ],
      "source": [
        "best_score_"
      ]
    },
    {
      "cell_type": "code",
      "execution_count": null,
      "id": "573d5411",
      "metadata": {
        "id": "573d5411"
      },
      "outputs": [],
      "source": [
        "# Visualize\n",
        "plt.figure(figsize=(80,40))\n",
        "plot_tree(rf_best.estimators_[5], feature_names = X.columns,class_names=['Malignant', \"Benign\"],filled=True);"
      ]
    },
    {
      "cell_type": "code",
      "execution_count": 135,
      "id": "3909a9b7",
      "metadata": {
        "id": "3909a9b7"
      },
      "outputs": [],
      "source": [
        "# Feature importance\n",
        "rf_best.feature_importances_\n",
        "\n",
        "imp_df = pd.DataFrame({ \"Varname\": X.columns,\n",
        "                        \"Imp\": rf_best.feature_importances_\n",
        "                       })\n",
        "imp_df.sort_values(by=\"Imp\", ascending=False)\n",
        "\n",
        "imp_df.to_csv('./_SubsetsCreated/RF/RF_New_FHLOne_Agr/FeatureImportance_SelectedFeatures_logloss.csv')"
      ]
    },
    {
      "cell_type": "code",
      "execution_count": 135,
      "id": "9637bb54",
      "metadata": {
        "id": "9637bb54"
      },
      "outputs": [],
      "source": []
    },
    {
      "cell_type": "code",
      "execution_count": 136,
      "id": "aa595c4a",
      "metadata": {
        "colab": {
          "base_uri": "https://localhost:8080/"
        },
        "id": "aa595c4a",
        "outputId": "be1fa025-7b08-406f-a3d9-54606a813ee6"
      },
      "outputs": [
        {
          "output_type": "stream",
          "name": "stdout",
          "text": [
            "0.7770000000000001\n"
          ]
        }
      ],
      "source": [
        "#-------------------------------------------------------------------------------------------------------\n",
        "# PART-3: Preprocessing : Compute OoD Score and Initial Threshold - Will be used for all experiments\n",
        "#-------------------------------------------------------------------------------------------------------\n",
        "\n",
        "df_f1thresh = pd.DataFrame(columns = ['f1_threshold'])\n",
        "\n",
        "\n",
        "for i in range(1, 30):\n",
        "\n",
        "    # cost: https://fraud-detection-handbook.github.io/fraud-detection-handbook/Chapter_6_ImbalancedLearning/CostSensitive.html\n",
        "    mCountA = len(data_io[data_io['d_Malignancy']== 1])\n",
        "    bCountA = len(data_io[data_io['d_Malignancy']== 0])\n",
        "    IR      = mCountA/bCountA\n",
        "\n",
        "    rf_classifier = RandomForestClassifier(criterion='log_loss', max_depth=10, max_features=None,\n",
        "                                           class_weight = {0:0.5, 1: 2},\n",
        "                                           max_leaf_nodes=3, min_samples_leaf=5, n_estimators=100,\n",
        "                                           n_jobs=-1, random_state=42)\n",
        "\n",
        "\n",
        "    rf_classifier.fit(X, y)\n",
        "\n",
        "    # Compute predicted probability for each sample\n",
        "    data_io['Pred_prob_ALL'] = rf_classifier.predict_proba(data_io[X.columns])[:,1]\n",
        "\n",
        "\n",
        "    # Compute log loss for each sample - Whole dataset - TO IDENTIFY ID vs OoD Samples\n",
        "    data_io[\"Log_Loss_ALL\"] = 0\n",
        "\n",
        "    for i in range(0, len(data_io)):\n",
        "        mCount = len(data_io[data_io['d_Malignancy']== 1])\n",
        "        bCount = len(data_io[data_io['d_Malignancy']== 0])\n",
        "        w0     = (mCount + bCount)/ (2 * bCount)      # benign\n",
        "        w1     = (mCount + bCount)/ (2 * mCount)      # malignant\n",
        "\n",
        "        act = data_io.d_Malignancy\n",
        "        predProb = data_io.Pred_prob_ALL\n",
        "        wtLogLoss = wighted_logLoss(act, predProb, w0, w1)\n",
        "        wtLogLoss = round(wtLogLoss, 6)\n",
        "        data_io['Log_Loss_ALL'] = wtLogLoss\n",
        "\n",
        "\n",
        "    # Create the Precision-Recall curve\n",
        "    precision, recall, thresholds_pr = precision_recall_curve(y, rf_classifier.predict_proba(data_io[X.columns])[:,1])\n",
        "    # Calculate the f-score\n",
        "    fscore = (2 * precision * recall) / (precision + recall)\n",
        "\n",
        "    # Find the optimal threshold\n",
        "    index_pr = np.argmax(fscore)\n",
        "    thresholdOpt_pr = round(thresholds_pr[index_pr], ndigits = 4)\n",
        "\n",
        "    #print(thresholdOpt_pr)\n",
        "    df_f1thresh.loc[len(df_f1thresh)] = thresholdOpt_pr\n",
        "\n",
        "\n",
        "data_io.to_csv('./_SubsetsCreated/RF/RF_New_FHLOne_Agr/data_io_logloss.csv')\n",
        "df_f1thresh.to_csv('./_SubsetsCreated/RF/RF_New_FHLOne_Agr/df_F1_Threshold30T_logloss.csv')\n",
        "\n",
        "avgf1 = df_f1thresh[\"f1_threshold\"].mean()\n",
        "print(avgf1)\n"
      ]
    },
    {
      "cell_type": "code",
      "execution_count": 137,
      "id": "e55b2037",
      "metadata": {
        "id": "e55b2037"
      },
      "outputs": [],
      "source": [
        "# Initial threshold for splitting OOD instances for all experiments\n",
        "#gf1_Threshold = 0.46630000000000027 (PR Curve) without cost - IR\n",
        "\n",
        "#0.77\n",
        "\n",
        "gf1_Threshold = avgf1"
      ]
    },
    {
      "cell_type": "markdown",
      "id": "fbc11753",
      "metadata": {
        "id": "fbc11753"
      },
      "source": [
        "#### Visualize by OoD Score"
      ]
    },
    {
      "cell_type": "code",
      "execution_count": 138,
      "id": "b7f83cdd",
      "metadata": {
        "colab": {
          "base_uri": "https://localhost:8080/",
          "height": 333
        },
        "id": "b7f83cdd",
        "outputId": "ba16fb32-9cef-453e-8b55-25d5b46e8717"
      },
      "outputs": [
        {
          "output_type": "execute_result",
          "data": {
            "text/plain": [
              "Text(0.5, 1.05, 'Histogram for OOD Score - ID vs OoD Samples')"
            ]
          },
          "metadata": {},
          "execution_count": 138
        },
        {
          "output_type": "display_data",
          "data": {
            "text/plain": [
              "<Figure size 1200x250 with 2 Axes>"
            ],
            "image/png": "[encoded data removed]"
          },
          "metadata": {}
        }
      ],
      "source": [
        "x1 = data_io.loc[(data_io[\"Log_Loss_ALL\"] < gf1_Threshold), ['Log_Loss_ALL']]    # ID\n",
        "x2 = data_io.loc[(data_io[\"Log_Loss_ALL\"] >= gf1_Threshold), ['Log_Loss_ALL']]   # OoD\n",
        "\n",
        "\n",
        "# plot\n",
        "fig, axes = plt.subplots(1, 2, figsize=(12,2.5), sharey=True, sharex=True, dpi=100)\n",
        "sns.distplot(x1, color=\"blue\", ax=axes[0], axlabel='ID', kde=True, bins=100)\n",
        "sns.distplot(x2, color=\"red\", ax=axes[1], axlabel='OoD', kde=True, bins=100)\n",
        "plt.xlim(0, 1)\n",
        "plt.ylim(0, 20)\n",
        "\n",
        "\n",
        "plt.suptitle('Histogram for OOD Score - ID vs OoD Samples', y=1.05, size=14)"
      ]
    },
    {
      "cell_type": "code",
      "execution_count": 139,
      "id": "c8c279b4",
      "metadata": {
        "id": "c8c279b4"
      },
      "outputs": [],
      "source": [
        "# x1 = data_io.loc[(data_io[\"Log_Loss_ALL\"] < gf1_Threshold), ['Log_Loss_ALL']]    # ID\n",
        "# vizHist(x1, \"blue\")"
      ]
    },
    {
      "cell_type": "code",
      "execution_count": 140,
      "id": "0464c9cf",
      "metadata": {
        "colab": {
          "base_uri": "https://localhost:8080/",
          "height": 162
        },
        "id": "0464c9cf",
        "outputId": "7577d7e8-9f2a-428a-e66e-4f584bf5de09"
      },
      "outputs": [
        {
          "output_type": "error",
          "ename": "TypeError",
          "evalue": "vizHist() missing 2 required positional arguments: 'l1' and 'l2'",
          "traceback": [
            "\u001b[0;31m---------------------------------------------------------------------------\u001b[0m",
            "\u001b[0;31mTypeError\u001b[0m                                 Traceback (most recent call last)",
            "\u001b[0;32m<ipython-input-140-6169b67a6dec>\u001b[0m in \u001b[0;36m<cell line: 2>\u001b[0;34m()\u001b[0m\n\u001b[1;32m      1\u001b[0m \u001b[0mx2\u001b[0m \u001b[0;34m=\u001b[0m \u001b[0mdata_io\u001b[0m\u001b[0;34m.\u001b[0m\u001b[0mloc\u001b[0m\u001b[0;34m[\u001b[0m\u001b[0;34m(\u001b[0m\u001b[0mdata_io\u001b[0m\u001b[0;34m[\u001b[0m\u001b[0;34m\"Log_Loss_ALL\"\u001b[0m\u001b[0;34m]\u001b[0m \u001b[0;34m>=\u001b[0m \u001b[0mgf1_Threshold\u001b[0m\u001b[0;34m)\u001b[0m\u001b[0;34m,\u001b[0m \u001b[0;34m[\u001b[0m\u001b[0;34m'Log_Loss_ALL'\u001b[0m\u001b[0;34m]\u001b[0m\u001b[0;34m]\u001b[0m   \u001b[0;31m# OoD\u001b[0m\u001b[0;34m\u001b[0m\u001b[0;34m\u001b[0m\u001b[0m\n\u001b[0;32m----> 2\u001b[0;31m \u001b[0mvizHist\u001b[0m\u001b[0;34m(\u001b[0m\u001b[0mx2\u001b[0m\u001b[0;34m,\u001b[0m \u001b[0;34m\"red\"\u001b[0m\u001b[0;34m)\u001b[0m\u001b[0;34m\u001b[0m\u001b[0;34m\u001b[0m\u001b[0m\n\u001b[0m",
            "\u001b[0;31mTypeError\u001b[0m: vizHist() missing 2 required positional arguments: 'l1' and 'l2'"
          ]
        }
      ],
      "source": [
        "x2 = data_io.loc[(data_io[\"Log_Loss_ALL\"] >= gf1_Threshold), ['Log_Loss_ALL']]   # OoD\n",
        "vizHist(x2, \"red\")"
      ]
    },
    {
      "cell_type": "code",
      "execution_count": null,
      "id": "51a1786f",
      "metadata": {
        "id": "51a1786f"
      },
      "outputs": [],
      "source": [
        "x3 = data_io.loc[(data_io[\"Log_Loss_ALL\"] >= 0), ['Log_Loss_ALL']]   # All\n",
        "vizHist(x3, \"green\")"
      ]
    },
    {
      "cell_type": "code",
      "execution_count": null,
      "id": "94cff47c",
      "metadata": {
        "id": "94cff47c"
      },
      "outputs": [],
      "source": [
        "def vizHist(x1, x2, l1, l2):\n",
        "    fig, axes = plt.subplots(1, 2, figsize=(12,2.5), sharey=True, sharex=True, dpi=100)\n",
        "    sns.distplot(x1, bins=100, color=\"blue\", ax=axes[0],  axlabel=l1)\n",
        "    sns.distplot(x2, bins=100, color=\"red\", ax=axes[1],  axlabel=l2)\n",
        "    plt.xlim(0, 5)\n",
        "    plt.ylim(0, 5)\n",
        "\n",
        "x1 = data_io.loc[(data_io[\"Log_Loss_ALL\"] < gf1_Threshold), ['Log_Loss_ALL']]    # ID\n",
        "x2 = data_io.loc[(data_io[\"Log_Loss_ALL\"] >= gf1_Threshold), ['Log_Loss_ALL']]   # OoD\n",
        "vizHist(x1, x2, \"ID\", \"OoD\")"
      ]
    },
    {
      "cell_type": "code",
      "execution_count": null,
      "id": "69327e63",
      "metadata": {
        "id": "69327e63"
      },
      "outputs": [],
      "source": [
        "def vizHist2(x1, x2, l1, l2):\n",
        "    fig, axes = plt.subplots(1, 2, figsize=(12,2.5), sharey=True, sharex=True, dpi=100)\n",
        "    sns.distplot(x1, bins=100, color=\"blue\", ax=axes[0],  axlabel=l1, kde = False)\n",
        "    sns.distplot(x2, bins=100, color=\"red\", ax=axes[1],  axlabel=l2, kde = False)\n",
        "    plt.xlim(0, 5)\n",
        "    plt.ylim(0, 180)\n",
        "\n",
        "x1 = data_io.loc[(data_io[\"Log_Loss_ALL\"] < gf1_Threshold), ['Log_Loss_ALL']]    # ID\n",
        "x2 = data_io.loc[(data_io[\"Log_Loss_ALL\"] >= gf1_Threshold), ['Log_Loss_ALL']]   # OoD\n",
        "vizHist(x1, x2, \"ID\", \"OoD\")"
      ]
    },
    {
      "cell_type": "markdown",
      "id": "149d5e24",
      "metadata": {
        "id": "149d5e24"
      },
      "source": [
        "## Experiments"
      ]
    },
    {
      "cell_type": "code",
      "execution_count": null,
      "id": "1554be9d",
      "metadata": {
        "id": "1554be9d"
      },
      "outputs": [],
      "source": [
        "# confusion matrics results for 30 iterations for all experiments\n",
        "df_CM = pd.DataFrame(columns=['Iter_ID', 'Method', 'Sen_train', 'Spe_train', 'Acc_train', 'Pre_train', 'F1_train',\n",
        "                              'Sen_retrain', 'Spe_retrain', 'Acc_retrain', 'Pre_retrain', 'F1_retrain',\n",
        "                              'Sen_test', 'Spe_test', 'Acc_test', 'Pre_test', 'F1_test',\n",
        "                              'train_TN', 'train_FN', 'train_FP', 'train_TP',\n",
        "                              'retrain_TN', 'retrain_FN', 'retrain_FP', 'retrain_TP',\n",
        "                              'test_TN', 'test_FN', 'test_FP', 'test_TP'])\n",
        "\n",
        "# sampel counts for training, test1idation, test2 and retrain for 30 iterations\n",
        "df_Counts = pd.DataFrame(columns=['Iter_ID', 'Method', 'trainSet_nOOD', 'trainSet_OOD', 'reserveSet_nOOD', 'reserveSet_OOD',\n",
        "                                   'retrainSet_nOOD', 'retrainSet_OOD', 'testSet_nOOD', 'testSet_OOD'])\n",
        "\n",
        "df_KLD = pd.DataFrame(columns=['Iter_ID', 'Method', 'Features', 'KLD_t_t', 'KLD_rt_t', 'Types'])\n",
        "\n",
        "\n",
        "# to identify ood score ranges for ID/OoD samples. ALso capture correctly classified and misclassified\n",
        "# SampleType - ID or OoD.    TType - training, retraining, testing\n",
        "df_OodRange = pd.DataFrame(columns=['Iter_ID', 'Method', 'TType', 'SampleType', 'MinOodScore','MaxOodScore'])\n",
        "\n",
        "# To identify correctly classified and misclassified\n",
        "#df_CMresults = pd.DataFrame(columns=['Iter_ID', 'Method', 'TType', 'TP','TN', 'FP', 'FN'])"
      ]
    },
    {
      "cell_type": "markdown",
      "id": "281b3f61",
      "metadata": {
        "id": "281b3f61"
      },
      "source": [
        "### Baseline - Train - 70% ID, 0% OoD | Test - 30% ID, 30% OoD"
      ]
    },
    {
      "cell_type": "code",
      "execution_count": null,
      "id": "ce7711ff",
      "metadata": {
        "id": "ce7711ff"
      },
      "outputs": [],
      "source": [
        "# This code is for experimenting\n",
        "ID_set = data_io.loc[(data_io[\"Log_Loss_ALL\"] < gf1_Threshold)] # ID samples\n",
        "OoD_set = data_io.loc[(data_io[\"Log_Loss_ALL\"] >= gf1_Threshold)] # OoD samples\n",
        "bins_plt = jenkspy.jenks_breaks(OoD_set['Log_Loss_ALL'], n_classes=3)\n",
        "\n",
        "#topGroup4 = bins_plt[0]  #  lowest value\n",
        "topGroup4 = bins_plt[0]\n",
        "topGroup3 = bins_plt[1]\n",
        "topGroup2 = bins_plt[2]  # Highest value\n",
        "topGroup1 = bins_plt[3]\n",
        "\n",
        "print(topGroup1)\n",
        "print(topGroup2)\n",
        "print(topGroup3)\n",
        "print(topGroup4)\n",
        "\n",
        "print(\"   \")\n",
        "print(OoD_set[\"Log_Loss_ALL\"].max())\n",
        "print(OoD_set[\"Log_Loss_ALL\"].min())"
      ]
    },
    {
      "cell_type": "code",
      "execution_count": null,
      "id": "9ee87f84",
      "metadata": {
        "id": "9ee87f84"
      },
      "outputs": [],
      "source": [
        "# experimentID\n",
        "# total_IDpct - ID samples - split 70 train and 30 test\n",
        "# total_OoDpct - OoD samples - split 70 reserve and 30 test\n",
        "# lcl     - top N% to extract from Reserve to add to retraining based on Ood Score grouping\n",
        "\n",
        "#def assignSample_trainClassifier(experimentID, total_IDpct, total_OoDpct, numIter):\n",
        "\n",
        "def assignSample_trainClassifier(numIter):\n",
        "\n",
        "    #global gf1Smm_train_dataF, gf1Smm_reserve_dataF, gf1Smm_test_dataF, gf1Smm_retrain_dataF\n",
        "\n",
        "    #print(numIter)\n",
        "    #-------------------------------------------------------------------------------------------------------------\n",
        "    # PART-1: CREATE TRAINING, RESERVE and TEST Sets\n",
        "    #-------------------------------------------------------------------------------------------------------------\n",
        "\n",
        "    # STEP-1: Seperate ID and OoD Samples\n",
        "    # Create training and test sets based on thresholded value\n",
        "\n",
        "    data_io['LogLoss_Group'] = ''  # create a grouping field\n",
        "\n",
        "    gf1Smm_ID_set = data_io.loc[(data_io[\"Log_Loss_ALL\"] < gf1_Threshold)] # ID samples\n",
        "    gf1Smm_OoD_set = data_io.loc[(data_io[\"Log_Loss_ALL\"] >= gf1_Threshold)] # OoD samples\n",
        "\n",
        "    # get counts\n",
        "    gf1Smm_ID_set.shape  # -- ID samples\n",
        "    gf1Smm_OoD_set.shape  # -- OoD Samles\n",
        "\n",
        "\n",
        "    # STEP-2: ID Sample allocation for for Training and Testing\n",
        "    # ID Samples: stratify ID samples by malignancy and manufacturer. Train 70% test 30%\n",
        "    gf1Smm_ID_set = shuffle(gf1Smm_ID_set) # shuffle ID samples\n",
        "    #gf1Smm_train_ID, gf1Smm_test_ID = train_test_split(gf1Smm_ID_set, test_size=0.3, stratify=gf1Smm_ID_set[[\"d_MalignancyDesc\", \"Manufacturer\"]])\n",
        "    gf1Smm_train_ID, gf1Smm_test_ID = train_test_split(gf1Smm_ID_set, test_size=0.3, stratify=gf1Smm_ID_set[[\"d_MalignancyDesc\"]])\n",
        "\n",
        "\n",
        "\n",
        "    # STEP-3: OoD Sample allocation for Reserve and Test - gf1Smm_OoD_set is OoD samples\n",
        "    # OoD Samples: Group log loss value to groups for stratification add top G%\n",
        "\n",
        "    #n_plt, bins_plt, patches = plt.hist(gf1Smm_OoD_set.Log_Loss_ALL, bins=4) # BASED ON HISTOGRAM\n",
        "    bins_plt = jenkspy.jenks_breaks(gf1Smm_OoD_set['Log_Loss_ALL'], n_classes=3) # based on natural breaks\n",
        "\n",
        "\n",
        "    # update group based on lower bound\n",
        "    gf1Smm_OoD_set.loc[((gf1Smm_OoD_set[\"Log_Loss_ALL\"] <= bins_plt[1])) , \"LogLoss_Group\"] = bins_plt[0]\n",
        "    gf1Smm_OoD_set.loc[((gf1Smm_OoD_set[\"Log_Loss_ALL\"] >bins_plt[1]) & (gf1Smm_OoD_set[\"Log_Loss_ALL\"] <= bins_plt[2])) , \"LogLoss_Group\"] = bins_plt[1]\n",
        "    gf1Smm_OoD_set.loc[((gf1Smm_OoD_set[\"Log_Loss_ALL\"] >bins_plt[2]) & (gf1Smm_OoD_set[\"Log_Loss_ALL\"] <= bins_plt[3])) , \"LogLoss_Group\"] = bins_plt[2]\n",
        "    gf1Smm_OoD_set.loc[((gf1Smm_OoD_set[\"Log_Loss_ALL\"] >bins_plt[3])) , \"LogLoss_Group\"] = bins_plt[3]\n",
        "\n",
        "    #gf1Smm_OoD_set.to_csv(\"oodreserve.csv\")\n",
        "    topGroup4 = bins_plt[0]  # top group 4 - lowest value\n",
        "    topGroup3 = bins_plt[1]  # top group 3\n",
        "    topGroup2 = bins_plt[2]  # top group 2\n",
        "    topGroup1 = bins_plt[3]  # top group 1 - Highest value\n",
        "\n",
        "\n",
        "    # OoD Samples: stratify OoD samples by malignancy ood score grouping and manufacturer. Train 70% test 30%\n",
        "    gf1Smm_OoD_set = shuffle(gf1Smm_OoD_set) # shuffle ID samples\n",
        "    gf1Smm_reserve_OOD, gf1Smm_test_OOD = train_test_split(gf1Smm_OoD_set, test_size=0.3, stratify=gf1Smm_OoD_set[[\"d_MalignancyDesc\", \"LogLoss_Group\"]])\n",
        "\n",
        "\n",
        "    gf1Smm_train_dataF = gf1Smm_train_ID\n",
        "    gf1Smm_reserve_dataF = gf1Smm_reserve_OOD\n",
        "    gf1Smm_test_dataF = pd.concat([gf1Smm_test_ID, gf1Smm_test_OOD])\n",
        "\n",
        "\n",
        "\n",
        "    #-------------------------------------------------------------------------------------------------------------\n",
        "    # PART-2: TRAIN RF CLASSIFIER\n",
        "    #-------------------------------------------------------------------------------------------------------------\n",
        "\n",
        "    # STEP-1: # Select fields to use based on training set - IMPORTANT\n",
        "\n",
        "    # I/P features: Design Features and SF, Manufacturer - added based on correlation values\n",
        "    cols=['ConvexArea', 'Perimeter', 'EquivDiameter', 'MajorAxisLength', 'MinorAxisLength', 'Elongation', 'Compactness',\n",
        "          'Eccentricity', 'Solidity', 'Extent', 'Circularity', 'x_3rdordermoment', 'Clustertendency', 'MaxProbability',\n",
        "          'Entropy', 'ConvexPerimeter', 'Energy', 'RadialDistanceSD', 'gabormean_2_0', 'gabormean_2_1',\n",
        "          'gabormean_0_0', 'gabormean_3_2', 'gabormean_3_0', 'dSpic2_5', 'dLob2_5', 'dCal3', 'dSubtl1_3', 'dIstru1',\n",
        "          'dManuf_GE', 'dManuf_S', 'dManuf_P']\n",
        "\n",
        "\n",
        "    gf1SmmX_train = gf1Smm_train_dataF[cols]\n",
        "    gf1Smmy_train = gf1Smm_train_dataF['d_Malignancy']\n",
        "\n",
        "    gf1SmmX_reserve = gf1Smm_reserve_dataF[cols]\n",
        "    gf1Smmy_reserve = gf1Smm_reserve_dataF['d_Malignancy']\n",
        "\n",
        "    gf1SmmX_test = gf1Smm_test_dataF[cols]\n",
        "    gf1Smmy_test = gf1Smm_test_dataF['d_Malignancy']\n",
        "\n",
        "\n",
        "    # STEP-2: Train Classifier and fit the classifier\n",
        "\n",
        "    # cost:\n",
        "    mCountA = len(data_io[data_io['d_Malignancy']== 1])\n",
        "    bCountA = len(data_io[data_io['d_Malignancy']== 0])\n",
        "    IR      = mCountA/bCountA\n",
        "\n",
        "    rfExp_classifier = RandomForestClassifier(criterion='log_loss', max_depth=10, max_features=None,\n",
        "                                              class_weight = {0: IR, 1: 1.5},\n",
        "                                               max_leaf_nodes=3, min_samples_leaf=5, n_estimators=100,\n",
        "                                               n_jobs=-1, random_state=42)\n",
        "\n",
        "\n",
        "    rfExp_classifier.fit(gf1SmmX_train, gf1Smmy_train)\n",
        "\n",
        "    # get terminal node\n",
        "    #getLeafCount(rfExp_classifier, 'tree_2kA1_10_0.dot')\n",
        "\n",
        "\n",
        "\n",
        "    #-------------------------------------------------------------------------------------------------------------\n",
        "    # PART-3: EVALUATE TRAINING, TEST PERFORMANCE\n",
        "    #-------------------------------------------------------------------------------------------------------------\n",
        "\n",
        "    # STEP-1: Obtain Threshold using Training set for GMeans method\n",
        "\n",
        "    # calculate roc curves - Thresold based on Training\n",
        "    precision_f1Smm, recall_f1Smm, thresholds_pr_f1Smm = precision_recall_curve(gf1Smmy_train, rfExp_classifier.predict_proba(gf1Smm_train_dataF[gf1SmmX_train.columns])[:,1])\n",
        "\n",
        "    # Calculate the f-score\n",
        "    fscore_f1Smm = (2 * precision_f1Smm * recall_f1Smm) / (precision_f1Smm + recall_f1Smm)\n",
        "\n",
        "    # Find the optimal threshold\n",
        "    index_pr_f1Smm = np.argmax(fscore_f1Smm)\n",
        "    gf1Smm_trainThreshold = round(thresholds_pr_f1Smm[index_pr_f1Smm], ndigits = 4)\n",
        "\n",
        "\n",
        "\n",
        "    # STEP-2: Compute predicted Probabilities - first round (based on training)\n",
        "    gf1Smm_train_dataF['Pred_prob1']   = rfExp_classifier.predict_proba(gf1Smm_train_dataF[gf1SmmX_train.columns])[:,1]\n",
        "    gf1Smm_reserve_dataF['Pred_prob1'] = rfExp_classifier.predict_proba(gf1Smm_reserve_dataF[gf1SmmX_reserve.columns])[:,1]\n",
        "    gf1Smm_test_dataF['Pred_prob1']    = rfExp_classifier.predict_proba(gf1Smm_test_dataF[gf1SmmX_test.columns])[:,1]\n",
        "\n",
        "\n",
        "    # STEP-3: Compute Pred_Y based on the predicted probability and threshold\n",
        "    #         if pred Pred_prob >= threshold, then Pred_Y = 1, else 0\n",
        "\n",
        "    T = gf1Smm_trainThreshold\n",
        "    #print(\"Train Threshold = \", str(T))\n",
        "\n",
        "    # Train - compute Pred_Y\n",
        "    gf1Smm_train_dataF[\"Pred_Y1\"] = 0\n",
        "    gf1Smm_train_dataF.loc[gf1Smm_train_dataF[\"Pred_prob1\"] > T, \"Pred_Y1\"] = 1\n",
        "\n",
        "    # Reserve - compute Pred_Y\n",
        "    gf1Smm_reserve_dataF[\"Pred_Y1\"] = 0\n",
        "    gf1Smm_reserve_dataF.loc[gf1Smm_reserve_dataF[\"Pred_prob1\"] > T, \"Pred_Y1\"] = 1\n",
        "\n",
        "    # Tests - compute Pred_Y\n",
        "    gf1Smm_test_dataF[\"Pred_Y1\"] = 0\n",
        "    gf1Smm_test_dataF.loc[gf1Smm_test_dataF[\"Pred_prob1\"] > T, \"Pred_Y1\"] = 1\n",
        "\n",
        "\n",
        "    # check if the variables were created and populated correctly\n",
        "    gf1Smm_train_dataF[['noduleID', 'd_Malignancy','Pred_prob1', 'Pred_Y1']].head(10)\n",
        "    gf1Smm_reserve_dataF[['noduleID', 'd_Malignancy','Pred_prob1', 'Pred_Y1']].head(10)\n",
        "    gf1Smm_test_dataF[['noduleID', 'd_Malignancy','Pred_prob1', 'Pred_Y1']].head(10)\n",
        "\n",
        "\n",
        "    # Step-4: Confusion matrix for training and test set\n",
        "    # funcation to compute and return values for - training and test performance\n",
        "    Sen_gf1Smm_train, Spe_gf1Smm_train, Acc_gf1Smm_train, Pre_gf1Smm_train, F1_gf1Smm_train, train_TN, train_FN, train_FP, train_TP = confMatrixResults(gf1Smm_train_dataF.d_Malignancy, gf1Smm_train_dataF.Pred_Y1)\n",
        "    Sen_gf1Smm_test, Spe_gf1Smm_test, Acc_gf1Smm_test, Pre_gf1Smm_test, F1_gf1Smm_test, test_TN, test_FN, test_FP, test_TP = confMatrixResults(gf1Smm_test_dataF.d_Malignancy, gf1Smm_test_dataF.Pred_Y1)\n",
        "\n",
        "\n",
        "\n",
        "    # train, reserve, test samples, last 2 for counts\n",
        "    return gf1Smm_train_dataF, gf1Smm_reserve_dataF, gf1Smm_test_dataF, gf1Smm_test_ID, gf1Smm_test_OOD, topGroup1, topGroup2, topGroup3, topGroup4, gf1SmmX_reserve, gf1Smmy_reserve, gf1SmmX_test, gf1Smmy_test, Sen_gf1Smm_train, Spe_gf1Smm_train, Acc_gf1Smm_train, Pre_gf1Smm_train, F1_gf1Smm_train, train_TN, train_FN, train_FP, train_TP, test_TN, test_FN, test_FP, test_TP"
      ]
    },
    {
      "cell_type": "code",
      "execution_count": null,
      "id": "ebd2644b",
      "metadata": {
        "id": "ebd2644b"
      },
      "outputs": [],
      "source": [
        "\n",
        "def createRetrainSet(gf1Smm_train_dataF, gf1Smm_reserve_dataF, gf1Smm_test_dataF, gf1Smm_test_ID, gf1Smm_test_OOD,\n",
        "                      topGroup1, topGroup2, topGroup3, topGroup4, gf1SmmX_reserve, gf1Smmy_reserve, gf1SmmX_test,\n",
        "                      gf1Smmy_test, Sen_gf1Smm_train, Spe_gf1Smm_train, Acc_gf1Smm_train, Pre_gf1Smm_train,\n",
        "                      F1_gf1Smm_train, train_TN, train_FN, train_FP, train_TP, test_TN, test_FN, test_FP, test_TP,\n",
        "                      numIter):\n",
        "\n",
        "    #print(topGroup1, topGroup2, topGroup3, topGroup4)\n",
        "    #print(\"itemID --- createRetrainSet = \", str(numIter))\n",
        "\n",
        "    #-------------------------------------------------------------------------------------------------------------\n",
        "    # PART-4: Create retraining sample and retrain classifier based on OoD Score group\n",
        "    #-------------------------------------------------------------------------------------------------------------\n",
        "\n",
        "    # SETP-1: Extract the OOD Samples from test1 Set Added to Training\n",
        "\n",
        "    # TOP GROUP 0\n",
        "    # Add top group first topGroup1\n",
        "    experimentID = 'Experiment1_0'\n",
        "\n",
        "    gf1Smm_oodSamples_toAdd = gf1Smm_reserve_dataF.loc[gf1Smm_reserve_dataF['Log_Loss_ALL'] < topGroup4] # on OODs\n",
        "    gf1Smm_oodSamples_toAdd.shape\n",
        "    #gf1Smm_reserve_dataF.to_csv(\"reserve.csv\")\n",
        "\n",
        "    # create retraining set\n",
        "    gf1Smm_retrain_dataF = pd.concat([gf1Smm_train_dataF, gf1Smm_oodSamples_toAdd])\n",
        "\n",
        "    # call retrainClassifier\n",
        "    retrainClassifier(gf1Smm_train_dataF, gf1Smm_reserve_dataF, gf1Smm_retrain_dataF, gf1Smm_test_dataF, gf1Smm_test_ID,\n",
        "                      gf1Smm_test_OOD, topGroup1, topGroup2, topGroup3, topGroup4, gf1SmmX_reserve, gf1Smmy_reserve,\n",
        "                      gf1SmmX_test, gf1Smmy_test, Sen_gf1Smm_train, Spe_gf1Smm_train, Acc_gf1Smm_train, Pre_gf1Smm_train,\n",
        "                      F1_gf1Smm_train, train_TN, train_FN, train_FP, train_TP, test_TN, test_FN, test_FP, test_TP,\n",
        "                      experimentID, numIter, gf1Smm_oodSamples_toAdd, 'tree_2kA1_10_x.dot')\n",
        "\n",
        "    # KLD Values\n",
        "    KLD_cummValues(numIter, experimentID, gf1Smm_train_dataF, gf1Smm_reserve_dataF, gf1Smm_retrain_dataF, gf1Smm_test_dataF, \"All\")\n",
        "    KLD_cummValues(numIter, experimentID, gf1Smm_oodSamples_toAdd, gf1Smm_oodSamples_toAdd, gf1Smm_oodSamples_toAdd, gf1Smm_test_OOD, \"OOD\")\n",
        "\n",
        "    # Distribution\n",
        "    x1 = gf1Smm_train_dataF.loc[(gf1Smm_train_dataF[\"Log_Loss_ALL\"] >=0 ), ['Log_Loss_ALL']]    # Train\n",
        "    x2 = gf1Smm_test_dataF.loc[(gf1Smm_test_dataF[\"Log_Loss_ALL\"] >=0 ), ['Log_Loss_ALL']]      # Test\n",
        "    vizHist(x1, x2, \"Train\", \"Test\")\n",
        "    vizHist2(x1, x2, \"Train\", \"Test\")\n",
        "\n",
        "\n",
        "\n",
        "    # TOP GROUP 1\n",
        "    # Add top group first topGroup1\n",
        "    experimentID = 'Experiment1_1'\n",
        "\n",
        "    gf1Smm_oodSamples_toAdd = gf1Smm_reserve_dataF.loc[gf1Smm_reserve_dataF['Log_Loss_ALL'] <= topGroup3]\n",
        "    gf1Smm_oodSamples_toAdd.shape\n",
        "\n",
        "    # create retraining set\n",
        "    gf1Smm_retrain_dataF = pd.concat([gf1Smm_train_dataF, gf1Smm_oodSamples_toAdd])\n",
        "\n",
        "    # call retrainClassifier\n",
        "    retrainClassifier(gf1Smm_train_dataF, gf1Smm_reserve_dataF, gf1Smm_retrain_dataF, gf1Smm_test_dataF, gf1Smm_test_ID,\n",
        "                      gf1Smm_test_OOD, topGroup1, topGroup2, topGroup3, topGroup4, gf1SmmX_reserve, gf1Smmy_reserve,\n",
        "                      gf1SmmX_test, gf1Smmy_test, Sen_gf1Smm_train, Spe_gf1Smm_train, Acc_gf1Smm_train, Pre_gf1Smm_train,\n",
        "                      F1_gf1Smm_train, train_TN, train_FN, train_FP, train_TP, test_TN, test_FN, test_FP, test_TP,\n",
        "                      experimentID, numIter, gf1Smm_oodSamples_toAdd, 'tree_2kA1_10_1.dot')\n",
        "\n",
        "    # KLD Values\n",
        "    KLD_cummValues(numIter, experimentID, gf1Smm_train_dataF, gf1Smm_reserve_dataF, gf1Smm_retrain_dataF, gf1Smm_test_dataF, \"All\")\n",
        "    KLD_cummValues(numIter, experimentID, gf1Smm_oodSamples_toAdd, gf1Smm_oodSamples_toAdd, gf1Smm_oodSamples_toAdd, gf1Smm_test_OOD, \"OOD\")\n",
        "\n",
        "    # Distribution\n",
        "    x1 = gf1Smm_retrain_dataF.loc[(gf1Smm_retrain_dataF[\"Log_Loss_ALL\"] >=0 ), ['Log_Loss_ALL']]    # Retrain\n",
        "    x2 = gf1Smm_test_dataF.loc[(gf1Smm_test_dataF[\"Log_Loss_ALL\"] >=0 ), ['Log_Loss_ALL']]          # Test\n",
        "    vizHist(x1, x2, \"Retrain-1\", \"Test\")\n",
        "    vizHist2(x1, x2, \"Retrain-1\", \"Test\")\n",
        "\n",
        "\n",
        "\n",
        "    # TOP GROUP 2\n",
        "    # Add top group first topGroup2\n",
        "    experimentID = 'Experiment1_2'\n",
        "\n",
        "    gf1Smm_oodSamples_toAdd = gf1Smm_reserve_dataF.loc[gf1Smm_reserve_dataF['Log_Loss_ALL'] <= topGroup2]\n",
        "    gf1Smm_oodSamples_toAdd.shape\n",
        "\n",
        "    # create retraining set\n",
        "    gf1Smm_retrain_dataF = pd.concat([gf1Smm_train_dataF, gf1Smm_oodSamples_toAdd])\n",
        "\n",
        "    # call retrainClassifier\n",
        "    retrainClassifier(gf1Smm_train_dataF, gf1Smm_reserve_dataF, gf1Smm_retrain_dataF, gf1Smm_test_dataF, gf1Smm_test_ID,\n",
        "                      gf1Smm_test_OOD, topGroup1, topGroup2, topGroup3, topGroup4, gf1SmmX_reserve, gf1Smmy_reserve,\n",
        "                      gf1SmmX_test, gf1Smmy_test, Sen_gf1Smm_train, Spe_gf1Smm_train, Acc_gf1Smm_train, Pre_gf1Smm_train,\n",
        "                      F1_gf1Smm_train, train_TN, train_FN, train_FP, train_TP, test_TN, test_FN, test_FP, test_TP,\n",
        "                      experimentID, numIter, gf1Smm_oodSamples_toAdd, 'tree_2kA1_10_2.dot')\n",
        "\n",
        "    # KLD Values\n",
        "    KLD_cummValues(numIter, experimentID, gf1Smm_train_dataF, gf1Smm_reserve_dataF, gf1Smm_retrain_dataF, gf1Smm_test_dataF, \"All\")\n",
        "    KLD_cummValues(numIter, experimentID, gf1Smm_oodSamples_toAdd, gf1Smm_oodSamples_toAdd, gf1Smm_oodSamples_toAdd, gf1Smm_test_OOD, \"OOD\")\n",
        "\n",
        "\n",
        "    # Distribution\n",
        "    x1 = gf1Smm_retrain_dataF.loc[(gf1Smm_retrain_dataF[\"Log_Loss_ALL\"] >=0 ), ['Log_Loss_ALL']]    # Retrain\n",
        "    x2 = gf1Smm_test_dataF.loc[(gf1Smm_test_dataF[\"Log_Loss_ALL\"] >=0 ), ['Log_Loss_ALL']]          # Test\n",
        "    vizHist(x1, x2, \"Retrain-2\", \"Test\")\n",
        "    vizHist2(x1, x2, \"Retrain-2\", \"Test\")\n",
        "\n",
        "\n",
        "\n",
        "    # TOP GROUP 3\n",
        "    # Add top group first topGroup3\n",
        "    experimentID = 'Experiment1_3'\n",
        "\n",
        "    gf1Smm_oodSamples_toAdd = gf1Smm_reserve_dataF.loc[gf1Smm_reserve_dataF['Log_Loss_ALL'] <= topGroup1]\n",
        "    gf1Smm_oodSamples_toAdd.shape\n",
        "\n",
        "    # create retraining set\n",
        "    gf1Smm_retrain_dataF = pd.concat([gf1Smm_train_dataF, gf1Smm_oodSamples_toAdd])\n",
        "\n",
        "    # call retrainClassifier\n",
        "    retrainClassifier(gf1Smm_train_dataF, gf1Smm_reserve_dataF, gf1Smm_retrain_dataF, gf1Smm_test_dataF, gf1Smm_test_ID,\n",
        "                      gf1Smm_test_OOD, topGroup1, topGroup2, topGroup3, topGroup4, gf1SmmX_reserve, gf1Smmy_reserve,\n",
        "                      gf1SmmX_test, gf1Smmy_test, Sen_gf1Smm_train, Spe_gf1Smm_train, Acc_gf1Smm_train, Pre_gf1Smm_train,\n",
        "                      F1_gf1Smm_train, train_TN, train_FN, train_FP, train_TP, test_TN, test_FN, test_FP, test_TP,\n",
        "                      experimentID, numIter, gf1Smm_oodSamples_toAdd, 'tree_2kA1_10_3.dot')\n",
        "\n",
        "    # KLD Values\n",
        "    KLD_cummValues(numIter, experimentID, gf1Smm_train_dataF, gf1Smm_reserve_dataF, gf1Smm_retrain_dataF, gf1Smm_test_dataF, \"All\")\n",
        "    KLD_cummValues(numIter, experimentID, gf1Smm_oodSamples_toAdd, gf1Smm_oodSamples_toAdd, gf1Smm_oodSamples_toAdd, gf1Smm_test_OOD, \"OOD\")\n",
        "\n",
        "\n",
        "    # Distribution\n",
        "    x1 = gf1Smm_retrain_dataF.loc[(gf1Smm_retrain_dataF[\"Log_Loss_ALL\"] >=0 ), ['Log_Loss_ALL']]    # Retrain\n",
        "    x2 = gf1Smm_test_dataF.loc[(gf1Smm_test_dataF[\"Log_Loss_ALL\"] >=0 ), ['Log_Loss_ALL']]          # Test\n",
        "    vizHist(x1, x2, \"Retrain-3\", \"Test\")\n",
        "    vizHist2(x1, x2, \"Retrain-3\", \"Test\")\n",
        ""
      ]
    },
    {
      "cell_type": "code",
      "execution_count": null,
      "id": "b1bf3d01",
      "metadata": {
        "id": "b1bf3d01"
      },
      "outputs": [],
      "source": [
        "\n",
        "def retrainClassifier(gf1Smm_train_dataF, gf1Smm_reserve_dataF, gf1Smm_retrain_dataF, gf1Smm_test_dataF, gf1Smm_test_ID,\n",
        "                      gf1Smm_test_OOD, topGroup1, topGroup2, topGroup3, topGroup4, gf1SmmX_reserve, gf1Smmy_reserve,\n",
        "                      gf1SmmX_test, gf1Smmy_test, Sen_gf1Smm_train, Spe_gf1Smm_train, Acc_gf1Smm_train, Pre_gf1Smm_train,\n",
        "                      F1_gf1Smm_train, train_TN, train_FN, train_FP, train_TP, test_TN, test_FN, test_FP, test_TP,\n",
        "                      experimentID, numIter, gf1Smm_oodSamples_toAdd, tree_fileName):\n",
        "\n",
        "    global df_CM, df_Counts, df_KLD, df_OodRange, df_RetrainOoD\n",
        "\n",
        "\n",
        "    #-------------------------------------------------------------------------------------------------------------\n",
        "    # PART-5: Retraining Classifier\n",
        "    #-------------------------------------------------------------------------------------------------------------\n",
        "\n",
        "    # STEP-1: Fit the model\n",
        "    # set columns for retraining model. Feature list is same as original/full training model\n",
        "\n",
        "    cols=['ConvexArea', 'Perimeter', 'EquivDiameter', 'MajorAxisLength', 'MinorAxisLength', 'Elongation', 'Compactness',\n",
        "          'Eccentricity', 'Solidity', 'Extent', 'Circularity', 'x_3rdordermoment', 'Clustertendency', 'MaxProbability',\n",
        "          'Entropy', 'ConvexPerimeter', 'Energy', 'RadialDistanceSD', 'gabormean_2_0', 'gabormean_2_1',\n",
        "          'gabormean_0_0', 'gabormean_3_2', 'gabormean_3_0', 'dSpic2_5', 'dLob2_5', 'dCal3', 'dSubtl1_3', 'dIstru1',\n",
        "          'dManuf_GE', 'dManuf_S', 'dManuf_P']\n",
        "\n",
        "\n",
        "    gf1SmmX_retrain = gf1Smm_retrain_dataF[cols]\n",
        "    gf1Smmy_retrain = gf1Smm_retrain_dataF['d_Malignancy']\n",
        "\n",
        "\n",
        "\n",
        "    # retrain classifier and fit the classifier\n",
        "\n",
        "    # cost:\n",
        "    mCountA = len(data_io[data_io['d_Malignancy']== 1])\n",
        "    bCountA = len(data_io[data_io['d_Malignancy']== 0])\n",
        "    IR      = mCountA/bCountA\n",
        "\n",
        "    rfExp_reTrain_classifier = RandomForestClassifier(criterion='log_loss', max_depth=10, max_features=None,\n",
        "                                                      class_weight = {0: IR, 1: 1.5},\n",
        "                                                       max_leaf_nodes=3, min_samples_leaf=5, n_estimators=100,\n",
        "                                                       n_jobs=-1, random_state=42)\n",
        "\n",
        "    rfExp_reTrain_classifier.fit(gf1SmmX_retrain, gf1Smmy_retrain)\n",
        "\n",
        "    # get terminal node\n",
        "    #getLeafCount(rfExp_reTrain_classifier, tree_fileName)\n",
        "\n",
        "\n",
        "    # STEP-2: Write Counts for Training, reserve, test Set Counts to dataframe\n",
        "    nOOD_Train  = len(gf1Smm_train_dataF)\n",
        "    OOD_Train   = 0\n",
        "    nOOD_reserve  = 0\n",
        "    OOD_reserve   = len(gf1Smm_reserve_dataF)\n",
        "    nOOD_test  = len(gf1Smm_test_ID)\n",
        "    OOD_test   = len(gf1Smm_test_OOD)\n",
        "    nOODRetrain = nOOD_Train\n",
        "    OOD_Retrain = len(gf1Smm_oodSamples_toAdd)\n",
        "\n",
        "\n",
        "    df_Counts = df_Counts.append({'Iter_ID': numIter , 'Method': experimentID,\n",
        "                                   'trainSet_nOOD': nOOD_Train ,  'trainSet_OOD': OOD_Train,\n",
        "                                   'reserveSet_nOOD': nOOD_reserve , 'reserveSet_OOD': OOD_reserve ,\n",
        "                                   'retrainSet_nOOD': nOODRetrain , 'retrainSet_OOD': OOD_Retrain ,\n",
        "                                   'testSet_nOOD': nOOD_test , 'testSet_OOD': OOD_test }, ignore_index=True)\n",
        "\n",
        "\n",
        "    # Step-3: Get OoD Score ranges for ID and OoD Samples for each experiment\n",
        "    df_OodRange = df_OodRange.append({'Iter_ID': numIter, 'Method': experimentID,\n",
        "                                      'TType': 'Train', 'SampleType': 'ID',\n",
        "                                      'MinOodScore': gf1Smm_train_dataF['Log_Loss_ALL'].min() ,\n",
        "                                      'MaxOodScore': gf1Smm_train_dataF['Log_Loss_ALL'].max() }, ignore_index=True)\n",
        "\n",
        "    df_OodRange = df_OodRange.append({'Iter_ID': numIter, 'Method': experimentID,\n",
        "                                      'TType': 'Retrain', 'SampleType': 'ID',\n",
        "                                      'MinOodScore': gf1Smm_train_dataF['Log_Loss_ALL'].min() ,\n",
        "                                      'MaxOodScore': gf1Smm_train_dataF['Log_Loss_ALL'].max() }, ignore_index=True)\n",
        "\n",
        "    df_OodRange = df_OodRange.append({'Iter_ID': numIter, 'Method': experimentID,\n",
        "                                      'TType': 'Retrain', 'SampleType': 'OOD',\n",
        "                                      'MinOodScore': gf1Smm_oodSamples_toAdd['Log_Loss_ALL'].min() ,\n",
        "                                      'MaxOodScore': gf1Smm_oodSamples_toAdd['Log_Loss_ALL'].max() }, ignore_index=True)\n",
        "\n",
        "    df_OodRange = df_OodRange.append({'Iter_ID': numIter, 'Method': experimentID,\n",
        "                                      'TType': 'Test', 'SampleType': 'ID',\n",
        "                                      'MinOodScore': gf1Smm_test_ID['Log_Loss_ALL'].min() ,\n",
        "                                      'MaxOodScore': gf1Smm_test_ID['Log_Loss_ALL'].max() }, ignore_index=True)\n",
        "\n",
        "    df_OodRange = df_OodRange.append({'Iter_ID': numIter, 'Method': experimentID,\n",
        "                                      'TType': 'Test', 'SampleType': 'OOD',\n",
        "                                      'MinOodScore': gf1Smm_test_OOD['Log_Loss_ALL'].min() ,\n",
        "                                      'MaxOodScore': gf1Smm_test_OOD['Log_Loss_ALL'].max() }, ignore_index=True)\n",
        "\n",
        "\n",
        "    #-------------------------------------------------------------------------------------------------------------\n",
        "    # PART-6: Retraining Classifier - Compute performance on retraining and test sets\n",
        "    #-------------------------------------------------------------------------------------------------------------\n",
        "\n",
        "    # STEP-1: Compute predicted probabilities\n",
        "\n",
        "    gf1Smm_retrain_dataF['Pred_prob2'] = rfExp_reTrain_classifier.predict_proba(gf1Smm_retrain_dataF[gf1SmmX_retrain.columns])[:,1]\n",
        "    gf1Smm_reserve_dataF['Pred_prob2'] = rfExp_reTrain_classifier.predict_proba(gf1Smm_reserve_dataF[gf1SmmX_reserve.columns])[:,1]\n",
        "    gf1Smm_test_dataF['Pred_prob2'] = rfExp_reTrain_classifier.predict_proba(gf1Smm_test_dataF[gf1SmmX_test.columns])[:,1]\n",
        "\n",
        "    # calculate roc curves - Thresold based on Training\n",
        "    precision_retrainf1Smm, recall_retrainf1Smm, thresholds_pr_retrainf1Smm = precision_recall_curve(gf1Smmy_retrain, rfExp_reTrain_classifier.predict_proba(gf1Smm_retrain_dataF[gf1SmmX_retrain.columns])[:,1])\n",
        "\n",
        "    # Calculate the f-score\n",
        "    fscore_retrainf1Smm = (2 * precision_retrainf1Smm * recall_retrainf1Smm) / (precision_retrainf1Smm + recall_retrainf1Smm)\n",
        "\n",
        "    # Find the optimal threshold\n",
        "    index_pr_retrainf1Smm = np.argmax(fscore_retrainf1Smm)\n",
        "    gf1Smm_retrainThreshold = round(thresholds_pr_retrainf1Smm[index_pr_retrainf1Smm], ndigits = 4)\n",
        "\n",
        "\n",
        "\n",
        "    T_new = gf1Smm_retrainThreshold\n",
        "    #print(\"Retrain Threshold = \", str(T_new), \" for \", str(experimentID))\n",
        "\n",
        "\n",
        "    # Step-2: Retrain - compute Pred_Y\n",
        "    gf1Smm_retrain_dataF[\"Pred_Y2\"] = 0\n",
        "    gf1Smm_retrain_dataF.loc[gf1Smm_retrain_dataF[\"Pred_prob2\"] > T_new, \"Pred_Y2\"] = 1\n",
        "\n",
        "    # test - compute Pred_Y\n",
        "    gf1Smm_test_dataF[\"Pred_Y2\"] = 0\n",
        "    gf1Smm_test_dataF.loc[gf1Smm_test_dataF[\"Pred_prob2\"] > T_new, \"Pred_Y2\"] = 1\n",
        "\n",
        "\n",
        "    # Reserve - compute Pred_Y --- DONE FOR Reserve SO THAT COLUMNS ARE IN THE SAME ORDER FOR ALL 3 SETS\n",
        "    gf1Smm_reserve_dataF[\"Pred_Y2\"] = 0\n",
        "    gf1Smm_reserve_dataF.loc[gf1Smm_reserve_dataF[\"Pred_prob2\"] > T_new, \"Pred_Y2\"] = 1\n",
        "\n",
        "\n",
        "    # Export to excel for checking misclassifications\n",
        "#     myPath = \"./_SubsetsCreated/RF/RF_New_FHLOne_Agr/Train_\" + str(experimentID) + \"_logloss.csv\"\n",
        "#     gf1Smm_train_dataF.to_csv(myPath)\n",
        "#     myPath = \"./_SubsetsCreated/RF/RF_New_FHLOne_Agr/Retrain_\" + str(experimentID) + \"_logloss.csv\"\n",
        "#     gf1Smm_retrain_dataF.to_csv(myPath)\n",
        "#     myPath = \"./_SubsetsCreated/RF/RF_New_FHLOne_Agr/Test_\" + str(experimentID) + \"_logloss.csv\"\n",
        "#     gf1Smm_test_dataF.to_csv(myPath)\n",
        "\n",
        "\n",
        "    # Step-3: Confusion matrix for retraining and test2 set\n",
        "    # funcation to compute and return test1ues  retrain and test2\n",
        "    Sen_gf1Smm_retrain, Spe_gf1Smm_retrain, Acc_gf1Smm_retrain, Pre_gf1Smm_retrain, F1_gf1Smm_retrain,  retrain_TN, retrain_FN, retrain_FP, retrain_TP  = confMatrixResults(gf1Smm_retrain_dataF.d_Malignancy, gf1Smm_retrain_dataF.Pred_Y2)\n",
        "    Sen_gf1Smm_test, Spe_gf1Smm_test, Acc_gf1Smm_test, Pre_gf1Smm_test, F1_gf1Smm_test, test_TN, test_FN, test_FP, test_TP  = confMatrixResults(gf1Smm_test_dataF.d_Malignancy, gf1Smm_test_dataF.Pred_Y2)\n",
        "\n",
        "\n",
        "    #-------------------------------------------------------------------------------------------------------------\n",
        "    # PART-7: Write all performance indicators to dataframe. Compute Average and CI\n",
        "    #         Note: only step-1 variable list needs to be changed\n",
        "    #-------------------------------------------------------------------------------------------------------------\n",
        "\n",
        "    # Step-1: write results to dataframe\n",
        "    df_CM = df_CM.append({'Iter_ID': numIter , 'Method': experimentID,\n",
        "                              'Sen_train': Sen_gf1Smm_train , 'Spe_train': Spe_gf1Smm_train , 'Acc_train': Acc_gf1Smm_train ,\n",
        "                              'Pre_train': Pre_gf1Smm_train , 'F1_train': F1_gf1Smm_train,\n",
        "                              'Sen_retrain': Sen_gf1Smm_retrain , 'Spe_retrain': Spe_gf1Smm_retrain , 'Acc_retrain': Acc_gf1Smm_retrain ,\n",
        "                              'Pre_retrain': Pre_gf1Smm_retrain , 'F1_retrain' : F1_gf1Smm_retrain,\n",
        "                              'Sen_test': Sen_gf1Smm_test , 'Spe_test': Spe_gf1Smm_test , 'Acc_test': Acc_gf1Smm_test ,\n",
        "                              'Pre_test': Pre_gf1Smm_test , 'F1_test': F1_gf1Smm_test,\n",
        "                              'train_TN' : train_TN, 'train_FN': train_FN, 'train_FP': train_FP, 'train_TP': train_TP,\n",
        "                              'retrain_TN': retrain_TN, 'retrain_FN':retrain_FN, 'retrain_FP':retrain_FP, 'retrain_TP': retrain_TP,\n",
        "                              'test_TN': test_TN, 'test_FN': test_FN, 'test_FP': test_FP, 'test_TP': test_TP }, ignore_index=True)\n",
        "\n",
        "\n",
        "    #return gf1Smm_retrain_dataF"
      ]
    },
    {
      "cell_type": "code",
      "execution_count": null,
      "id": "5f8730b3",
      "metadata": {
        "id": "5f8730b3"
      },
      "outputs": [],
      "source": [
        "# Initialize KLD arrays\n",
        "kl_divergenceALL_T_T1 = []\n",
        "kl_divergenceALL_RT_T2 = []\n",
        "kl_featuresALL_T_T1 = []\n",
        "kl_featuresALL_RT_T2 = []\n",
        "\n",
        "for i in range(1, 31):\n",
        "    numIter = i\n",
        "    # tran classifier\n",
        "    gf1Smm_train_dataF, gf1Smm_reserve_dataF, gf1Smm_test_dataF, gf1Smm_test_ID, gf1Smm_test_OOD, topGroup1, topGroup2, topGroup3, topGroup4, gf1SmmX_reserve, gf1Smmy_reserve, gf1SmmX_test, gf1Smmy_test, Sen_gf1Smm_train, Spe_gf1Smm_train, Acc_gf1Smm_train, Pre_gf1Smm_train, F1_gf1Smm_train, train_TN, train_FN, train_FP, train_TP, test_TN, test_FN, test_FP, test_TP = assignSample_trainClassifier(numIter)\n",
        "\n",
        "    #print(\"itemID --- FUNCTION = \", str(numIter))\n",
        "    # create retrain set and retrain classifier\n",
        "    createRetrainSet(gf1Smm_train_dataF, gf1Smm_reserve_dataF, gf1Smm_test_dataF, gf1Smm_test_ID, gf1Smm_test_OOD, topGroup1, topGroup2, topGroup3, topGroup4, gf1SmmX_reserve, gf1Smmy_reserve, gf1SmmX_test, gf1Smmy_test, Sen_gf1Smm_train, Spe_gf1Smm_train, Acc_gf1Smm_train, Pre_gf1Smm_train, F1_gf1Smm_train, train_TN, train_FN, train_FP, train_TP, test_TN, test_FN, test_FP, test_TP, numIter)\n"
      ]
    },
    {
      "cell_type": "code",
      "execution_count": null,
      "id": "c7f0440c",
      "metadata": {
        "id": "c7f0440c"
      },
      "outputs": [],
      "source": [
        "#  COMPUTE COUNTS, PERFORMANCE, KLD\n",
        "# SHow counts and Performance indicators\n",
        "\n",
        "len_exp = len(df_CM[\"Method\"].unique())\n",
        "experiments = df_CM[\"Method\"].unique()\n",
        "\n",
        "\n",
        "for j in range (1, len_exp+1):\n",
        "    experimentID = experiments[j-1]\n",
        "\n",
        "    print(\"~~~~~~~~~~~~~~~~~~~~~~~~~~~~~~~~~~~~~~~~~~~\")\n",
        "    getCounts(df_Counts, experimentID)\n",
        "    getPerformance(df_CM, experimentID)\n",
        "    getOoDScoreRange(df_OodRange, experimentID)\n",
        "\n",
        "\n",
        "    # Initialize KLD arrays\n",
        "    kl_divergenceALL_T_T1 = []\n",
        "    kl_divergenceALL_RT_T2 = []\n",
        "    kl_featuresALL_T_T1 = []\n",
        "    kl_featuresALL_RT_T2 = []\n",
        "\n",
        "    # Compute average for KLD features\n",
        "    # 'Experiment1_0' - is the original training/testing -- to compare all experiments with\n",
        "    kl_divergenceALL_T_T1, kl_divergenceALL_RT_T2, kl_featuresALL_T_T1, kl_featuresALL_RT_T2 = avgKLDbyFeature('Experiment1_0', experimentID, \"All\")\n",
        "    kl_divergenceALL_T_T1_ood, kl_divergenceALL_RT_T2_ood, kl_featuresALL_T_T1_ood, kl_featuresALL_RT_T2_ood = avgKLDbyFeature('Experiment1_0', experimentID, \"OOD\")\n",
        "\n",
        "    # KLD Cumulative Graph\n",
        "    KLD_cummulativeGraph(kl_divergenceALL_T_T1, kl_divergenceALL_RT_T2, kl_featuresALL_T_T1, kl_featuresALL_RT_T2)\n",
        "\n",
        "    #KLD CI\n",
        "    getKLDRange(experimentID, \"All\")\n",
        "    getKLDRange(experimentID, \"OOD\")\n",
        "\n",
        "    print(\" \")\n",
        "    print(\" \")\n"
      ]
    },
    {
      "cell_type": "markdown",
      "id": "8edae694",
      "metadata": {
        "id": "8edae694"
      },
      "source": [
        "#### Significant Test - 2-tail (if Difference is Significant)"
      ]
    },
    {
      "cell_type": "code",
      "execution_count": null,
      "id": "65760c21",
      "metadata": {
        "id": "65760c21"
      },
      "outputs": [],
      "source": [
        "Acc_test0 = df_CM.where((df_CM.Method== \"Experiment1_0\")).dropna()['Acc_test']\n",
        "Acc_test1 = df_CM.where((df_CM.Method== \"Experiment1_1\")).dropna()['Acc_test']\n",
        "Acc_test2 = df_CM.where((df_CM.Method== \"Experiment1_2\")).dropna()['Acc_test']\n",
        "Acc_test3 = df_CM.where((df_CM.Method== \"Experiment1_3\")).dropna()['Acc_test']\n",
        "Acc_test4 = df_CM.where((df_CM.Method== \"Experiment1_4\")).dropna()['Acc_test']\n",
        "\n",
        "\n",
        "stat1, p_value1 = stats.ttest_ind(Acc_test0, Acc_test1)\n",
        "sigDesc1 = sigPval(p_value1)\n",
        "stat2, p_value2 = stats.ttest_ind(Acc_test0, Acc_test2)\n",
        "sigDesc2 = sigPval(p_value2)\n",
        "stat3, p_value3 = stats.ttest_ind(Acc_test0, Acc_test3)\n",
        "sigDesc3 = sigPval(p_value3)\n",
        "stat4, p_value4 = stats.ttest_ind(Acc_test0, Acc_test4)\n",
        "sigDesc4 = sigPval(p_value4)\n",
        "\n",
        "print(\"Test - Satt. Sig.\")\n",
        "print('ACC - Test-Baseline and Test 10: p_value=%.4f - %s' % (p_value1, sigDesc1))\n",
        "print('ACC - Test-Baseline and Test 20: p_value=%.4f - %s' % (p_value2, sigDesc2))\n",
        "print('ACC - Test-Baseline and Test 30: p_value=%.4f - %s' % (p_value3, sigDesc3))\n",
        "print('ACC - Test-Baseline and Test 40: p_value=%.4f - %s' % (p_value4, sigDesc4))"
      ]
    },
    {
      "cell_type": "markdown",
      "id": "7939572f",
      "metadata": {
        "id": "7939572f"
      },
      "source": [
        "#### Significant Test - 1-tail -- TRAIN and TEST -- (if Difference is sig. more than what you are comparing it with)"
      ]
    },
    {
      "cell_type": "code",
      "execution_count": null,
      "id": "3d148590",
      "metadata": {
        "id": "3d148590"
      },
      "outputs": [],
      "source": [
        "# TEST\n",
        "Acc_test0 = df_CM.where((df_CM.Method== \"Experiment1_0\")).dropna()['Acc_test']\n",
        "Acc_test1 = df_CM.where((df_CM.Method== \"Experiment1_1\")).dropna()['Acc_test']\n",
        "Acc_test2 = df_CM.where((df_CM.Method== \"Experiment1_2\")).dropna()['Acc_test']\n",
        "Acc_test3 = df_CM.where((df_CM.Method== \"Experiment1_3\")).dropna()['Acc_test']\n",
        "\n",
        "# test0 with all others\n",
        "#ttest_1samp\n",
        "stat1, p_value1 = stats.ttest_ind(Acc_test0, Acc_test1, alternative='less')\n",
        "sigDesc1 = sigPval(p_value1)\n",
        "stat2, p_value2 = stats.ttest_ind(Acc_test0, Acc_test2, alternative='less')\n",
        "sigDesc2 = sigPval(p_value2)\n",
        "stat3, p_value3 = stats.ttest_ind(Acc_test0, Acc_test3, alternative='less')\n",
        "sigDesc3 = sigPval(p_value3)\n",
        "\n",
        "# between tests 1, 2, 3, 4\n",
        "stat5, p_value5 = stats.ttest_ind(Acc_test1, Acc_test2, alternative='less')  # 1 & 2\n",
        "sigDesc5 = sigPval(p_value5)\n",
        "stat6, p_value6 = stats.ttest_ind(Acc_test2, Acc_test3, alternative='less')  # 2 & 3\n",
        "sigDesc6 = sigPval(p_value6)\n",
        "\n",
        "\n",
        "print(\"TEST\")\n",
        "print(\"Test 1, 2, 3, 4 > Test 0 --- Sat. Sig. Greater?\")\n",
        "print('ACC - Test 0 and Test 1: p_value=%.4f - %s' % (p_value1, sigDesc1))\n",
        "print('ACC - Test 0 and Test 2: p_value=%.4f - %s' % (p_value2, sigDesc2))\n",
        "print('ACC - Test 0 and Test 3: p_value=%.4f - %s' % (p_value3, sigDesc3))\n",
        "\n",
        "print(\" \")\n",
        "print(\"Test 1<2<3<4  --- Sat. Sig. Greater?\")\n",
        "print('ACC - Test 1 & 2: p_value=%.4f - %s' % (p_value5, sigDesc5))\n",
        "print('ACC - Test 2 & 2: p_value=%.4f - %s' % (p_value6, sigDesc6))"
      ]
    },
    {
      "cell_type": "code",
      "execution_count": null,
      "id": "5d210a67",
      "metadata": {
        "id": "5d210a67"
      },
      "outputs": [],
      "source": [
        "# TRAIN\n",
        "Acc_train0 = df_CM.where((df_CM.Method== \"Experiment1_0\")).dropna()['Acc_train']\n",
        "Acc_train1 = df_CM.where((df_CM.Method== \"Experiment1_1\")).dropna()['Acc_retrain']\n",
        "Acc_train2 = df_CM.where((df_CM.Method== \"Experiment1_2\")).dropna()['Acc_retrain']\n",
        "Acc_train3 = df_CM.where((df_CM.Method== \"Experiment1_3\")).dropna()['Acc_retrain']\n",
        "\n",
        "# train0 with all others\n",
        "stat1, p_value1 = stats.ttest_ind(Acc_train0, Acc_train1, alternative='greater')\n",
        "sigDesc1 = sigPval(p_value1)\n",
        "stat2, p_value2 = stats.ttest_ind(Acc_train0, Acc_train2, alternative='greater')\n",
        "sigDesc2 = sigPval(p_value2)\n",
        "stat3, p_value3 = stats.ttest_ind(Acc_train0, Acc_train3, alternative='greater')\n",
        "sigDesc3 = sigPval(p_value3)\n",
        "\n",
        "# between train 1, 2, 3, 4\n",
        "stat5, p_value5 = stats.ttest_ind(Acc_train1, Acc_train2, alternative='greater')  # 1 & 2\n",
        "sigDesc5 = sigPval(p_value5)\n",
        "stat6, p_value6 = stats.ttest_ind(Acc_train2, Acc_train3, alternative='greater')  # 2 & 3\n",
        "sigDesc6 = sigPval(p_value6)\n",
        "\n",
        "\n",
        "print(\"TRAIN\")\n",
        "print(\"Retrain 1, 2, 3, 4 > Train 0 --- Sat. Sig. Greater?\")\n",
        "print('ACC - Train 0 and Retrain 1: p_value=%.4f - %s' % (p_value1, sigDesc1))\n",
        "print('ACC - Train 0 and Retrain 2: p_value=%.4f - %s' % (p_value2, sigDesc2))\n",
        "print('ACC - Train 0 and Retrain 3: p_value=%.4f - %s' % (p_value3, sigDesc3))\n",
        "\n",
        "print(\" \")\n",
        "print(\"Retrain 1<2<3<4  --- Sat. Sig. Greater?\")\n",
        "print('ACC - Retrain 1 & 2: p_value=%.4f - %s' % (p_value5, sigDesc5))\n",
        "print('ACC - Retrain 2 & 2: p_value=%.4f - %s' % (p_value6, sigDesc6))"
      ]
    },
    {
      "cell_type": "code",
      "execution_count": null,
      "id": "3122d2c1",
      "metadata": {
        "id": "3122d2c1"
      },
      "outputs": [],
      "source": [
        "# KLD - All samples\n",
        "kld_train0 = df_KLD.where((df_KLD['Method'] == \"Experiment1_0\") & (df_KLD['Types'] == \"All\")).dropna()['KLD_t_t']\n",
        "kld_train1 = df_KLD.where((df_KLD['Method'] == \"Experiment1_1\") & (df_KLD['Types'] == \"All\")).dropna()['KLD_rt_t']\n",
        "kld_train2 = df_KLD.where((df_KLD['Method'] == \"Experiment1_2\") & (df_KLD['Types'] == \"All\")).dropna()['KLD_rt_t']\n",
        "kld_train3 = df_KLD.where((df_KLD['Method'] == \"Experiment1_3\") & (df_KLD['Types'] == \"All\")).dropna()['KLD_rt_t']\n",
        "\n",
        "# train0 with all others\n",
        "stat1, p_value1 = stats.ttest_ind(kld_train0, kld_train1, alternative='greater')\n",
        "sigDesc1 = sigPval(p_value1)\n",
        "stat2, p_value2 = stats.ttest_ind(kld_train0, kld_train2, alternative='greater')\n",
        "sigDesc2 = sigPval(p_value2)\n",
        "stat3, p_value3 = stats.ttest_ind(kld_train0, kld_train3, alternative='greater')\n",
        "sigDesc3 = sigPval(p_value3)\n",
        "\n",
        "# between train 1, 2, 3, 4\n",
        "stat5, p_value5 = stats.ttest_ind(kld_train1, kld_train2, alternative='greater')  # 1 & 2\n",
        "sigDesc5 = sigPval(p_value5)\n",
        "stat6, p_value6 = stats.ttest_ind(kld_train2, kld_train3, alternative='greater')  # 2 & 3\n",
        "sigDesc6 = sigPval(p_value6)\n",
        "\n",
        "\n",
        "print(\"TRAIN\")\n",
        "print(\"Retrain 1, 2, 3, 4 > Train 0 --- Sat. Sig. Greater?\")\n",
        "print('kld - Train 0 and Retrain 1: p_value=%.4f - %s' % (p_value1, sigDesc1))\n",
        "print('kld - Train 0 and Retrain 2: p_value=%.4f - %s' % (p_value2, sigDesc2))\n",
        "print('kld - Train 0 and Retrain 3: p_value=%.4f - %s' % (p_value3, sigDesc3))\n",
        "\n",
        "\n",
        "print(\" \")\n",
        "print(\"Retrain 1<2<3<4  --- Sat. Sig. Greater?\")\n",
        "print('kld - Retrain 1 & 2: p_value=%.4f - %s' % (p_value5, sigDesc5))\n",
        "print('kld - Retrain 2 & 2: p_value=%.4f - %s' % (p_value6, sigDesc6))"
      ]
    },
    {
      "cell_type": "code",
      "execution_count": null,
      "id": "b16d74c8",
      "metadata": {
        "id": "b16d74c8"
      },
      "outputs": [],
      "source": [
        "# KLD - All samples\n",
        "kld_train0 = df_KLD.where((df_KLD['Method'] == \"Experiment1_0\") & (df_KLD['Types'] == \"OOD\")).dropna()['KLD_t_t']\n",
        "kld_train1 = df_KLD.where((df_KLD['Method'] == \"Experiment1_1\") & (df_KLD['Types'] == \"OOD\")).dropna()['KLD_rt_t']\n",
        "kld_train2 = df_KLD.where((df_KLD['Method'] == \"Experiment1_2\") & (df_KLD['Types'] == \"OOD\")).dropna()['KLD_rt_t']\n",
        "kld_train3 = df_KLD.where((df_KLD['Method'] == \"Experiment1_3\") & (df_KLD['Types'] == \"OOD\")).dropna()['KLD_rt_t']\n",
        "\n",
        "# train0 with all others\n",
        "stat1, p_value1 = stats.ttest_ind(kld_train0, kld_train1, alternative='greater')\n",
        "sigDesc1 = sigPval(p_value1)\n",
        "stat2, p_value2 = stats.ttest_ind(kld_train0, kld_train2, alternative='greater')\n",
        "sigDesc2 = sigPval(p_value2)\n",
        "stat3, p_value3 = stats.ttest_ind(kld_train0, kld_train3, alternative='greater')\n",
        "sigDesc3 = sigPval(p_value3)\n",
        "\n",
        "# between train 1, 2, 3, 4\n",
        "stat5, p_value5 = stats.ttest_ind(kld_train1, kld_train2, alternative='greater')  # 1 & 2\n",
        "sigDesc5 = sigPval(p_value5)\n",
        "stat6, p_value6 = stats.ttest_ind(kld_train2, kld_train3, alternative='greater')  # 2 & 3\n",
        "sigDesc6 = sigPval(p_value6)\n",
        "\n",
        "\n",
        "print(\"TRAIN\")\n",
        "print(\"Retrain 1, 2, 3, 4 > Train 0 --- Sat. Sig. Greater?\")\n",
        "print('kld - Train 0 and Retrain 1: p_value=%.4f - %s' % (p_value1, sigDesc1))\n",
        "print('kld - Train 0 and Retrain 2: p_value=%.4f - %s' % (p_value2, sigDesc2))\n",
        "print('kld - Train 0 and Retrain 3: p_value=%.4f - %s' % (p_value3, sigDesc3))\n",
        "\n",
        "\n",
        "print(\" \")\n",
        "print(\"Retrain 1<2<3<4  --- Sat. Sig. Greater?\")\n",
        "print('kld - Retrain 1 & 2: p_value=%.4f - %s' % (p_value5, sigDesc5))\n",
        "print('kld - Retrain 2 & 2: p_value=%.4f - %s' % (p_value6, sigDesc6))"
      ]
    },
    {
      "cell_type": "code",
      "execution_count": null,
      "id": "3433fdf1",
      "metadata": {
        "id": "3433fdf1"
      },
      "outputs": [],
      "source": []
    },
    {
      "cell_type": "code",
      "execution_count": null,
      "id": "30cbe9c4",
      "metadata": {
        "id": "30cbe9c4"
      },
      "outputs": [],
      "source": []
    },
    {
      "cell_type": "code",
      "execution_count": null,
      "id": "670b5f19",
      "metadata": {
        "id": "670b5f19"
      },
      "outputs": [],
      "source": []
    },
    {
      "cell_type": "code",
      "execution_count": null,
      "id": "67247be9",
      "metadata": {
        "id": "67247be9"
      },
      "outputs": [],
      "source": []
    },
    {
      "cell_type": "code",
      "execution_count": null,
      "id": "0cf4ef5d",
      "metadata": {
        "id": "0cf4ef5d"
      },
      "outputs": [],
      "source": []
    },
    {
      "cell_type": "markdown",
      "id": "25c2b1ce",
      "metadata": {
        "id": "25c2b1ce"
      },
      "source": [
        "### CORR for other DF"
      ]
    },
    {
      "cell_type": "code",
      "execution_count": null,
      "id": "632efb3b",
      "metadata": {
        "id": "632efb3b"
      },
      "outputs": [],
      "source": [
        "stats.pointbiserialr(data_io.SuperscribedDiameter, data_io.d_Malignancy)"
      ]
    },
    {
      "cell_type": "code",
      "execution_count": null,
      "id": "4fd2e078",
      "metadata": {
        "id": "4fd2e078"
      },
      "outputs": [],
      "source": [
        "stats.pointbiserialr(data_io.Solidity, data_io.d_Malignancy)"
      ]
    },
    {
      "cell_type": "code",
      "execution_count": null,
      "id": "43f06b1c",
      "metadata": {
        "id": "43f06b1c"
      },
      "outputs": [],
      "source": [
        "stats.pointbiserialr(data_io.SecondMoment, data_io.d_Malignancy)"
      ]
    },
    {
      "cell_type": "code",
      "execution_count": null,
      "id": "3aa4efab",
      "metadata": {
        "id": "3aa4efab"
      },
      "outputs": [],
      "source": [
        "stats.pointbiserialr(data_io.Roughness, data_io.d_Malignancy)"
      ]
    },
    {
      "cell_type": "code",
      "execution_count": null,
      "id": "c508b565",
      "metadata": {
        "id": "c508b565"
      },
      "outputs": [],
      "source": [
        "stats.pointbiserialr(data_io.MinIntensity, data_io.d_Malignancy)"
      ]
    },
    {
      "cell_type": "code",
      "execution_count": null,
      "id": "e256091e",
      "metadata": {
        "id": "e256091e"
      },
      "outputs": [],
      "source": [
        "stats.pointbiserialr(data_io.MaxIntensity, data_io.d_Malignancy)"
      ]
    },
    {
      "cell_type": "code",
      "execution_count": null,
      "id": "adb6eb3f",
      "metadata": {
        "id": "adb6eb3f"
      },
      "outputs": [],
      "source": [
        "stats.pointbiserialr(data_io.MeanIntensity, data_io.d_Malignancy)"
      ]
    },
    {
      "cell_type": "code",
      "execution_count": null,
      "id": "aa8a7c02",
      "metadata": {
        "id": "aa8a7c02"
      },
      "outputs": [],
      "source": [
        "stats.pointbiserialr(data_io.SDIntensity, data_io.d_Malignancy)"
      ]
    },
    {
      "cell_type": "code",
      "execution_count": null,
      "id": "3a85ba98",
      "metadata": {
        "id": "3a85ba98"
      },
      "outputs": [],
      "source": [
        "stats.pointbiserialr(data_io.MinIntensityBG, data_io.d_Malignancy)"
      ]
    },
    {
      "cell_type": "code",
      "execution_count": null,
      "id": "e715fb0c",
      "metadata": {
        "id": "e715fb0c"
      },
      "outputs": [],
      "source": [
        "stats.pointbiserialr(data_io.MaxIntensityBG, data_io.d_Malignancy)"
      ]
    },
    {
      "cell_type": "code",
      "execution_count": null,
      "id": "1ade645b",
      "metadata": {
        "id": "1ade645b"
      },
      "outputs": [],
      "source": [
        "stats.pointbiserialr(data_io.MeanIntensityBG, data_io.d_Malignancy)"
      ]
    },
    {
      "cell_type": "code",
      "execution_count": null,
      "id": "f7a4b61a",
      "metadata": {
        "id": "f7a4b61a"
      },
      "outputs": [],
      "source": [
        "stats.pointbiserialr(data_io.SDIntensityBG, data_io.d_Malignancy)"
      ]
    },
    {
      "cell_type": "code",
      "execution_count": null,
      "id": "acdac6ee",
      "metadata": {
        "id": "acdac6ee"
      },
      "outputs": [],
      "source": [
        "stats.pointbiserialr(data_io.IntensityDifference, data_io.d_Malignancy)"
      ]
    },
    {
      "cell_type": "code",
      "execution_count": null,
      "id": "7f3a5f55",
      "metadata": {
        "id": "7f3a5f55"
      },
      "outputs": [],
      "source": [
        "stats.pointbiserialr(data_io.markov1, data_io.d_Malignancy)"
      ]
    },
    {
      "cell_type": "code",
      "execution_count": null,
      "id": "42e5ae42",
      "metadata": {
        "id": "42e5ae42"
      },
      "outputs": [],
      "source": [
        "stats.pointbiserialr(data_io.markov2, data_io.d_Malignancy)"
      ]
    },
    {
      "cell_type": "code",
      "execution_count": null,
      "id": "1d1043b3",
      "metadata": {
        "id": "1d1043b3"
      },
      "outputs": [],
      "source": [
        "stats.pointbiserialr(data_io.markov3, data_io.d_Malignancy)"
      ]
    },
    {
      "cell_type": "code",
      "execution_count": null,
      "id": "8593ad92",
      "metadata": {
        "id": "8593ad92"
      },
      "outputs": [],
      "source": [
        "stats.pointbiserialr(data_io.markov4, data_io.d_Malignancy)"
      ]
    },
    {
      "cell_type": "code",
      "execution_count": null,
      "id": "83f80a41",
      "metadata": {
        "id": "83f80a41"
      },
      "outputs": [],
      "source": [
        "stats.pointbiserialr(data_io.markov5, data_io.d_Malignancy)"
      ]
    },
    {
      "cell_type": "code",
      "execution_count": null,
      "id": "acfbc9e1",
      "metadata": {
        "id": "acfbc9e1"
      },
      "outputs": [],
      "source": [
        "stats.pointbiserialr(data_io.gabormean_0_1, data_io.d_Malignancy)"
      ]
    },
    {
      "cell_type": "code",
      "execution_count": null,
      "id": "9ba8238a",
      "metadata": {
        "id": "9ba8238a"
      },
      "outputs": [],
      "source": [
        "stats.pointbiserialr(data_io.gaborSD_0_1, data_io.d_Malignancy)"
      ]
    },
    {
      "cell_type": "code",
      "execution_count": null,
      "id": "e7dd4679",
      "metadata": {
        "id": "e7dd4679"
      },
      "outputs": [],
      "source": [
        "stats.pointbiserialr(data_io.gabormean_0_2, data_io.d_Malignancy)"
      ]
    },
    {
      "cell_type": "code",
      "execution_count": null,
      "id": "df50c838",
      "metadata": {
        "id": "df50c838"
      },
      "outputs": [],
      "source": [
        "stats.pointbiserialr(data_io.gabormean_1_0, data_io.d_Malignancy)"
      ]
    },
    {
      "cell_type": "code",
      "execution_count": null,
      "id": "1c09ff51",
      "metadata": {
        "id": "1c09ff51"
      },
      "outputs": [],
      "source": [
        "stats.pointbiserialr(data_io.gaborSD_1_0, data_io.d_Malignancy)"
      ]
    },
    {
      "cell_type": "code",
      "execution_count": null,
      "id": "35a1a0e9",
      "metadata": {
        "id": "35a1a0e9"
      },
      "outputs": [],
      "source": [
        "stats.pointbiserialr(data_io.gabormean_1_1, data_io.d_Malignancy)"
      ]
    },
    {
      "cell_type": "code",
      "execution_count": null,
      "id": "99092887",
      "metadata": {
        "id": "99092887"
      },
      "outputs": [],
      "source": [
        "stats.pointbiserialr(data_io.gaborSD_1_1, data_io.d_Malignancy)"
      ]
    },
    {
      "cell_type": "code",
      "execution_count": null,
      "id": "4da9eb05",
      "metadata": {
        "id": "4da9eb05"
      },
      "outputs": [],
      "source": [
        "stats.pointbiserialr(data_io.gaborSD_1_2, data_io.d_Malignancy)"
      ]
    },
    {
      "cell_type": "code",
      "execution_count": null,
      "id": "a16721ad",
      "metadata": {
        "id": "a16721ad"
      },
      "outputs": [],
      "source": [
        "stats.pointbiserialr(data_io.gaborSD_2_0, data_io.d_Malignancy)"
      ]
    },
    {
      "cell_type": "code",
      "execution_count": null,
      "id": "83d9fe80",
      "metadata": {
        "id": "83d9fe80"
      },
      "outputs": [],
      "source": [
        "stats.pointbiserialr(data_io.gaborSD_2_1, data_io.d_Malignancy)"
      ]
    },
    {
      "cell_type": "code",
      "execution_count": null,
      "id": "cc533836",
      "metadata": {
        "id": "cc533836"
      },
      "outputs": [],
      "source": [
        "stats.pointbiserialr(data_io.Homogeneity, data_io.d_Malignancy)"
      ]
    },
    {
      "cell_type": "code",
      "execution_count": null,
      "id": "c2badea8",
      "metadata": {
        "id": "c2badea8"
      },
      "outputs": [],
      "source": [
        "stats.pointbiserialr(data_io.gabormean_2_2, data_io.d_Malignancy)"
      ]
    },
    {
      "cell_type": "code",
      "execution_count": null,
      "id": "1e740954",
      "metadata": {
        "id": "1e740954"
      },
      "outputs": [],
      "source": [
        "stats.pointbiserialr(data_io.gaborSD_2_2, data_io.d_Malignancy)"
      ]
    },
    {
      "cell_type": "code",
      "execution_count": null,
      "id": "e9bd9df6",
      "metadata": {
        "id": "e9bd9df6"
      },
      "outputs": [],
      "source": [
        "stats.pointbiserialr(data_io.gaborSD_3_0, data_io.d_Malignancy)"
      ]
    },
    {
      "cell_type": "code",
      "execution_count": null,
      "id": "7b25bdc5",
      "metadata": {
        "id": "7b25bdc5"
      },
      "outputs": [],
      "source": [
        "stats.pointbiserialr(data_io.gabormean_3_1, data_io.d_Malignancy)"
      ]
    },
    {
      "cell_type": "code",
      "execution_count": null,
      "id": "0e18eec8",
      "metadata": {
        "id": "0e18eec8"
      },
      "outputs": [],
      "source": [
        "stats.pointbiserialr(data_io.gaborSD_3_1, data_io.d_Malignancy)"
      ]
    },
    {
      "cell_type": "code",
      "execution_count": null,
      "id": "7ecf51f8",
      "metadata": {
        "id": "7ecf51f8"
      },
      "outputs": [],
      "source": [
        "stats.pointbiserialr(data_io.gaborSD_3_2, data_io.d_Malignancy)"
      ]
    },
    {
      "cell_type": "code",
      "execution_count": null,
      "id": "f0c4dffe",
      "metadata": {
        "id": "f0c4dffe"
      },
      "outputs": [],
      "source": [
        "stats.pointbiserialr(data_io.Contrast, data_io.d_Malignancy)"
      ]
    },
    {
      "cell_type": "code",
      "execution_count": null,
      "id": "c5e3626f",
      "metadata": {
        "id": "c5e3626f"
      },
      "outputs": [],
      "source": [
        "stats.pointbiserialr(data_io.Correlation, data_io.d_Malignancy)"
      ]
    },
    {
      "cell_type": "code",
      "execution_count": null,
      "id": "9479299f",
      "metadata": {
        "id": "9479299f"
      },
      "outputs": [],
      "source": [
        "stats.pointbiserialr(data_io.Inversevariance, data_io.d_Malignancy)"
      ]
    },
    {
      "cell_type": "code",
      "execution_count": null,
      "id": "20788f66",
      "metadata": {
        "id": "20788f66"
      },
      "outputs": [],
      "source": [
        "stats.pointbiserialr(data_io.Sumaverage, data_io.d_Malignancy)"
      ]
    },
    {
      "cell_type": "code",
      "execution_count": null,
      "id": "f282ddb1",
      "metadata": {
        "id": "f282ddb1"
      },
      "outputs": [],
      "source": [
        "stats.pointbiserialr(data_io.Variance, data_io.d_Malignancy)"
      ]
    },
    {
      "cell_type": "code",
      "execution_count": null,
      "id": "9f01b677",
      "metadata": {
        "id": "9f01b677"
      },
      "outputs": [],
      "source": [
        "end_time = time.process_time()\n",
        "elapsed_time = end_time - start_time\n",
        "print(f\"Time taken: {elapsed_time:.2f} seconds\")\n",
        "\n",
        "monitor_cpu_utilization()\n",
        "monitor_gpu_utilization()"
      ]
    }
  ],
  "metadata": {
    "kernelspec": {
      "display_name": "Python 3 (ipykernel)",
      "language": "python",
      "name": "python3"
    },
    "language_info": {
      "codemirror_mode": {
        "name": "ipython",
        "version": 3
      },
      "file_extension": ".py",
      "mimetype": "text/x-python",
      "name": "python",
      "nbconvert_exporter": "python",
      "pygments_lexer": "ipython3",
      "version": "3.12.2"
    },
    "colab": {
      "provenance": []
    }
  },
  "nbformat": 4,
  "nbformat_minor": 5
}
